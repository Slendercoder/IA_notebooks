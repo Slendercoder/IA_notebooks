{
 "cells": [
  {
   "cell_type": "markdown",
   "metadata": {
    "colab_type": "text",
    "id": "TpmFfXsQ0dYI"
   },
   "source": [
    "## Quiz 2: Funciones heurísticas para el 8-puzzle\n",
    "\n",
    "Adaptado de Russell and Norvig (2016), sec. 3.6."
   ]
  },
  {
   "cell_type": "markdown",
   "metadata": {
    "colab_type": "text",
    "id": "S4x5lJfd0dYM"
   },
   "source": [
    "### 8-puzzle\n",
    "\n",
    "El siguiente problema se conoce como el 8-puzzle. En un tablero $3\\times 3$ se ponen ocho fichas, cada una con un número del 1 al 8, dejando un espacio vacío. Partiendo de una configuración aleatoria, el objetivo es encontrar una secuencia de desplazamientos de fichas al espacio vacío, una a la vez, hasta llegar a un tablero ordenado, como se muestra en la siguiente figura:\n",
    "\n",
    "\n",
    "<img src=\"./imagenes/8-puzzle.png\" width=\"300\">"
   ]
  },
  {
   "cell_type": "markdown",
   "metadata": {
    "colab_type": "text",
    "id": "vL49lY0r0dYP"
   },
   "source": [
    "**Ejercicio 1:**\n",
    "\n",
    "Proporcione la descripción formal del problema:\n",
    "\n",
    "* **Estado inicial**: \n",
    "\n",
    "* **Posibles acciones**: \n",
    "\n",
    "* **Función de transiciones**: \n",
    "\n",
    "* **Prueba de satisfacción del objetivo**: \n",
    "\n",
    "* **Función de costo**: "
   ]
  },
  {
   "cell_type": "markdown",
   "metadata": {},
   "source": [
    "----"
   ]
  },
  {
   "cell_type": "markdown",
   "metadata": {
    "colab_type": "text",
    "id": "ESao4G9n0dYP"
   },
   "source": [
    "\n",
    "**Implementación del problema**\n",
    "\n",
    "Implementaremos el problema del 8-puzzle."
   ]
  },
  {
   "cell_type": "code",
   "execution_count": 29,
   "metadata": {
    "colab": {},
    "colab_type": "code",
    "id": "73kSrhUo0dYQ"
   },
   "outputs": [],
   "source": [
    "import matplotlib.pyplot as plt\n",
    "import matplotlib.patches as patches\n",
    "from matplotlib.offsetbox import AnnotationBbox, OffsetImage\n",
    "import numpy as np\n",
    "from random import choice\n",
    "import copy\n",
    "\n",
    "%matplotlib inline"
   ]
  },
  {
   "cell_type": "code",
   "execution_count": 49,
   "metadata": {
    "colab": {},
    "colab_type": "code",
    "id": "p9AyvGbc0dYV"
   },
   "outputs": [],
   "source": [
    "class ocho_puzzle:\n",
    "    \n",
    "    def estado_inicial(self):\n",
    "        estado = list(np.random.choice(9, 9, replace=False))\n",
    "        estado = np.reshape(estado, (3,3))\n",
    "        return estado\n",
    "    \n",
    "    def acciones_aplicables(self, estado):\n",
    "        # Devuelve una lista de fichas que es posible mover\n",
    "        # y en qué dirección\n",
    "        # Input: estado, que es una np.matrix(8x8)\n",
    "        # Output: lista de parejas ((x1,y1), (x2,y2))\n",
    "        # Es decir, la ficha en la posición (x1,y1) puede moverse a (x2,y2)\n",
    "        y, x = np.where(estado == 0)\n",
    "        y = y[0]\n",
    "        x = x[0]\n",
    "        if x == 0:\n",
    "            if y == 0:\n",
    "                return [((x + 1, y), (x, y)), \n",
    "                        ((x, y + 1), (x, y))\n",
    "                       ]\n",
    "            elif y == 2:\n",
    "                return [((x + 1, y), (x, y)), \n",
    "                        ((x, y - 1), (x, y))\n",
    "                       ]\n",
    "            else:\n",
    "                return [((x + 1, y), (x, y)), \n",
    "                        ((x, y + 1), (x, y)),\n",
    "                        ((x, y - 1), (x, y))\n",
    "                       ]\n",
    "        if x == 2:\n",
    "            if y == 0:\n",
    "                return [((x - 1, y), (x, y)), \n",
    "                        ((x, y + 1), (x, y))\n",
    "                       ]\n",
    "            elif y == 2:\n",
    "                return [((x - 1, y), (x, y)), \n",
    "                        ((x, y - 1), (x, y))\n",
    "                       ]\n",
    "            else:\n",
    "                return [((x - 1, y), (x, y)), \n",
    "                        ((x, y + 1), (x, y)),\n",
    "                        ((x, y - 1), (x, y))\n",
    "                       ]\n",
    "        else:\n",
    "            if y == 0:\n",
    "                return [((x - 1, y), (x, y)),\n",
    "                        ((x + 1, y), (x, y)),\n",
    "                        ((x, y + 1), (x, y))\n",
    "                       ]\n",
    "            elif y == 2:\n",
    "                return [((x - 1, y), (x, y)),\n",
    "                        ((x + 1, y), (x, y)),\n",
    "                        ((x, y - 1), (x, y))\n",
    "                       ]\n",
    "            else:\n",
    "                return [((x - 1, y), (x, y)), \n",
    "                        ((x + 1, y), (x, y)),\n",
    "                        ((x, y + 1), (x, y)),\n",
    "                        ((x, y - 1), (x, y))\n",
    "                       ]\n",
    "\n",
    "    def transicion(self, estado, indices):\n",
    "        # Devuelve el tablero moviendo la ficha en indice\n",
    "        # Input: estado, que es una np.matrix(8x8)\n",
    "        #        indice, de la forma ((x1,y1), (x2,y2))\n",
    "        # Output: estado, que es una np.matrix(8x8)\n",
    "        \n",
    "        s = copy.deepcopy(estado)\n",
    "        x1, y1 = indices[0]\n",
    "        x2, y2 = indices[1]\n",
    "        s[y2, x2] = estado[y1, x1]\n",
    "        s[y1, x1] = 0\n",
    "        return s\n",
    "    \n",
    "    def test_objetivo(self, estado):\n",
    "        # Devuelve True/False dependiendo si el estado\n",
    "        # resuelve el problema\n",
    "        # Input: estado, que es una np.matrix(8x8)\n",
    "        # Output: True/False\n",
    "        k = list(np.reshape(estado, (9,1)))\n",
    "        k = [x[0] for x in k]\n",
    "        return (k == range(9))\n",
    "        \n",
    "    def costo(self, estado, accion):\n",
    "        return 1"
   ]
  },
  {
   "cell_type": "markdown",
   "metadata": {
    "colab_type": "text",
    "id": "ym7uBBHr0dYe"
   },
   "source": [
    "### Árboles de búsqueda"
   ]
  },
  {
   "cell_type": "markdown",
   "metadata": {
    "colab_type": "text",
    "id": "g-vBVxFj0dYf"
   },
   "source": [
    "Una vez definido el espacio de estados del problema, realizamos la búsqueda de una solución mediante un árbol de búsqueda. Recuerde que estamos considerando que una solución es una secuencia de acciones, que en nuestro caso resultará en una secuencia de posiciones en donde poner cada una de las ocho damas.\n",
    "\n",
    "La intuición detrás de la construcción del árbol de búsqueda es suficientemente clara. Comenzamos con la raíz del árbol, la cual es el estado inicial del problema. Las aristas del árbol serán las acciones aplicables y los nodos los estados que se obtienen al realizar la correspondiente acción. Así pues, una solución será la rama que conduce desde la raíz hasta uno de los nodos que sea un estado objetivo del problema.\n",
    "\n",
    "![](./imagenes/arbol.png)\n",
    "\n",
    "El siguiente es el pseudocódigo del método de construcción del árbol, el cual explicaremos con un poco más de detalle a continuación:\n",
    "\n",
    "<img src=\"./imagenes/tree_search.png\" width=\"400px\"/>\n",
    "\n",
    "El método itera sobre la *frontera*, la cual consiste en los nodos que vamos a ir expandiendo para formar el árbol. Iremos analizando la frontera de manera iterativa hasta que se cumpla una de dos condiciones: la frontera es el conjunto vacío, en cuyo caso el problema no tiene solución; o el nodo sobre el cual se está trabajando es un estado objetivo, en cuyo caso la solución será la rama que va desde la raíz hasta el estado objetivo (observe que no está garantizado que este método siempre termine, debido a la posibilidad de caminos redundantes, ver ejercicio 4). \n",
    "\n",
    "En cualquier iteración, lo primero que debemos hacer es seleccionar un nodo `s` dentro de la frontera (sobre el método de selección volveremos más adelante; por el momento podemos asumir que se selecciona aleatoriamente). Retiramos a `s` de la frontera y revisamos si es un estado objetivo. Si sí, regresamos la solución; si no, debemos encontrar las acciones aplicables desde `s` y luego expandir la frontera con los estados que se obtienen a partir de las acciones aplicables.\n",
    "\n",
    "Observe que no hemos dicho nada acerca de cómo seleccionar el nodo que se va a expandir. Esta elección es lo que constituirá la *estratégia de búsqueda*, sobre la cual volveremos más adelante."
   ]
  },
  {
   "cell_type": "markdown",
   "metadata": {
    "colab_type": "text",
    "id": "c568WQRP0dYv"
   },
   "source": [
    "**Implementación de los árboles**"
   ]
  },
  {
   "cell_type": "code",
   "execution_count": 6,
   "metadata": {
    "colab": {},
    "colab_type": "code",
    "id": "x6tDfxY10dYg"
   },
   "outputs": [],
   "source": [
    "class nodo:\n",
    "    \n",
    "    # Clase para crear los nodos\n",
    "    \n",
    "    def __init__(self, estado, madre, accion, costo):\n",
    "        self.estado = estado\n",
    "        self.madre = madre\n",
    "        self.accion = accion\n",
    "        self.costo = costo\n",
    "        \n",
    "def nodo_hijo(problema, madre, accion):\n",
    "    \n",
    "    # Función para crear un nuevo nodo\n",
    "    # Input: problema, que es un objeto de clase ocho_reinas\n",
    "    #        madre, que es un nodo,\n",
    "    #        accion, que es una acción que da lugar al estado del nuevo nodo\n",
    "    # Output: nodo\n",
    "\n",
    "    return nodo(problema.transicion(madre.estado, accion),\n",
    "                madre,\n",
    "                accion,\n",
    "                costo = madre.costo + problema.costo(madre.estado, accion)\n",
    "               )"
   ]
  },
  {
   "cell_type": "code",
   "execution_count": 7,
   "metadata": {
    "colab": {},
    "colab_type": "code",
    "id": "Ag4i7XTQ0dYk",
    "outputId": "beac631a-6a24-45fc-a168-f45272817293"
   },
   "outputs": [
    {
     "data": {
      "text/plain": [
       "<matplotlib.axes._subplots.AxesSubplot at 0x112449dc0>"
      ]
     },
     "execution_count": 7,
     "metadata": {},
     "output_type": "execute_result"
    },
    {
     "data": {
      "image/png": "[encoded data removed]",
      "text/plain": [
       "<Figure size 432x288 with 1 Axes>"
      ]
     },
     "metadata": {
      "needs_background": "light"
     },
     "output_type": "display_data"
    }
   ],
   "source": [
    "# Ejemplo de creación de un nuevo nodo a partir de la raíz\n",
    "raiz = nodo(problema.estado_inicial(), None, None, 0)\n",
    "acciones = problema.acciones_aplicables(raiz.estado)\n",
    "a = choice(acciones)\n",
    "n1 = nodo_hijo(problema, raiz, a)\n",
    "problema.pintar_estado(n1.estado)"
   ]
  },
  {
   "cell_type": "markdown",
   "metadata": {},
   "source": [
    "**Ejercicio 2:**\n",
    "\n",
    "Implemente la función `solucion`, la cual toma un nodo `n` y devuelve la secuencia de acciones que va desde la raíz hasta `n`."
   ]
  },
  {
   "cell_type": "markdown",
   "metadata": {},
   "source": [
    "**Respuesta:**\n",
    "\n",
    "Una posible implementación es la siguiente:"
   ]
  },
  {
   "cell_type": "code",
   "execution_count": 8,
   "metadata": {},
   "outputs": [],
   "source": [
    "def solucion(n):\n",
    "    \n",
    "    # Devuelve la secuencia de estados que va desde la raíz\n",
    "    # hasta el nodo n\n",
    "    # Input: n, nodo\n",
    "    # Output: l, lista de acciones\n",
    "    \n",
    "    acciones_invertidas = []\n",
    "    m = copy.deepcopy(n)\n",
    "    while m.madre != None:\n",
    "        acciones_invertidas.append(m.accion)\n",
    "        m = m.madre\n",
    "    \n",
    "    num_acciones = len(acciones_invertidas)\n",
    "    acciones = []\n",
    "    for i in range(1, num_acciones + 1):\n",
    "        acciones.append(acciones_invertidas[num_acciones - i])\n",
    "    \n",
    "    return acciones"
   ]
  },
  {
   "cell_type": "markdown",
   "metadata": {},
   "source": [
    "---"
   ]
  },
  {
   "cell_type": "markdown",
   "metadata": {},
   "source": [
    "**Ejercicio 3:**\n",
    "\n",
    "Use una lista como la variable *frontera* e implemente la función `tree_search` para resolver el problema de las ocho damas.\n",
    "\n",
    "***Importante:*** Limíte la cantidad de hijos generados por un nodo a sólo 3."
   ]
  },
  {
   "cell_type": "markdown",
   "metadata": {},
   "source": [
    "**Respuesta:**\n",
    "\n",
    "Una posible implementación es la siguiente:"
   ]
  },
  {
   "cell_type": "code",
   "execution_count": 9,
   "metadata": {},
   "outputs": [],
   "source": [
    "def tree_search(problema):\n",
    "    \n",
    "    # Función de búsqueda mediante la construcción\n",
    "    # del arbol de búsqueda de manera aleatoria\n",
    "    \n",
    "    raiz = nodo(problema.estado_inicial(), None, None, 0)\n",
    "    \n",
    "    frontera = [raiz]\n",
    "    \n",
    "    while len(frontera) > 0:\n",
    "        # print(\"len(frontera)\", len(frontera))\n",
    "        n = choice(frontera) # Seleccionamos un nodo aleatorio\n",
    "        # print(\"*****************\")\n",
    "        # print(n.estado)\n",
    "        frontera.remove(n)\n",
    "        if problema.test_objetivo(n.estado):\n",
    "            return n\n",
    "        else:\n",
    "            acciones = problema.acciones_aplicables(n.estado)\n",
    "            # Limitamos las acciones aplicables a aquellas\n",
    "            # que están en la columna siguiente a la última dama\n",
    "            acciones_por_columna = [a for a in acciones if a[0]==n.estado.sum()]\n",
    "            # print(\"\\nAcciones posibles:\")\n",
    "            # print(acciones_por_columna)\n",
    "            for a in acciones_por_columna[:3]: # Solo tomamos las 3 primeras acciones\n",
    "                N = nodo_hijo(problema, n, a)\n",
    "                # print(\"Nodo a incluir:\")\n",
    "                # print(N.estado)\n",
    "                if N not in frontera:\n",
    "                    frontera.append(N)\n",
    "    \n",
    "    return None"
   ]
  },
  {
   "cell_type": "code",
   "execution_count": 10,
   "metadata": {},
   "outputs": [
    {
     "data": {
      "image/png": "[encoded data removed]",
      "text/plain": [
       "<Figure size 432x288 with 1 Axes>"
      ]
     },
     "metadata": {
      "needs_background": "light"
     },
     "output_type": "display_data"
    }
   ],
   "source": [
    "l = tree_search(problema)\n",
    "if l: \n",
    "    problema.pintar_estado(l.estado)"
   ]
  },
  {
   "cell_type": "markdown",
   "metadata": {},
   "source": [
    "---"
   ]
  },
  {
   "cell_type": "markdown",
   "metadata": {
    "colab_type": "text",
    "id": "7KKT2A0G0dYu"
   },
   "source": [
    "**Ejercicio 4:**\n",
    "\n",
    "Leer en el texto guía la discusión sobre caminos redundantes y el algoritmo `graph_search` (sección 3.3, págs. 76-77)."
   ]
  },
  {
   "cell_type": "markdown",
   "metadata": {},
   "source": [
    "---"
   ]
  },
  {
   "cell_type": "markdown",
   "metadata": {
    "colab_type": "text",
    "id": "UgFieF2s0dY2"
   },
   "source": [
    "### Estrategias de búsqueda\n",
    "\n",
    "Las estrategias que consideraremos aquí son algunas de las llamadas *estrategias ciegas* o *estrategias desinformadas*, las cuales consideran todas las acciones posibles en cualquier estado. A este tipo de estrategias se le opone el tipo de estrategias llamadas *estrategias informadas* o *heurísticas*, las cuales usan conocimiento específico del problema, más allá de su definición, para buscar soluciones de manera más eficiente.\n",
    "\n",
    "Las dos estrategias ciegas que consideraremos son la *breadth-first* y *depth-first*. Observe que distintas estrategias tienen asociada una complejidad distinta, la cual también es importante examinar."
   ]
  },
  {
   "cell_type": "markdown",
   "metadata": {
    "colab_type": "text",
    "id": "88SthCKr0dY3"
   },
   "source": [
    "**Breadth-first search**\n",
    "\n",
    "Lo que define a una estrategia de búsqueda de la forma *breadth-first* es que, después de expandir la raíz, se expanden primero todos sus hijos antes de expandir cualquier nieto, y así sucesivamente. En otras palabras, se expande la raíz, luego el primer nivel, luego el segundo, etc.\n",
    "\n",
    "Implementar esta estrategia es fácil cuando se usa la variable `frontera` como una lista en python. En lugar de seleccionar un nodo aleatorio, se selecciona el primer nodo de la lista (`frontera[0]`). Observe que al expandir un nodo se agregan sus hijos a la lista mediante `append`, entonces los nodos de menor altura siempre van quedando al comienzo de la lista y los de mayor altura al final de esta.\n",
    "\n",
    "El siguiente es el pseudo código que implementa esta estrategia, sobre el cual debemos hacer un par de aclaraciones:\n",
    "\n",
    "<img src=\"./imagenes/breadth_first_search.png\" width=\"450px\"/>\n",
    "\n",
    "La primera aclaración es que se ha modificado el lugar en el cual se determina si el nodo es un estado objetivo. Observe que se hace esta prueba justo después de crear el estado inicial, y luego también antes de incluir un nodo en la frontera. La razón de esta modificación es por eficiencia, toda vez que este procedimiento permite ahorrarse la generación de un nivel completo de nodos.\n",
    "\n",
    "La segunda es que se está usando un conjunto llamado `explored`, el cual guarda la información de cuáles nodos ya han sido creados en el árbol. Esta es la manera de evitar caminos redundantes (ver ejercicio 4).\n",
    "\n",
    "La presente estrategia de búsqueda garantiza que, si la solución existe, esta será encontrada en algún momento. Además, se encontrará la solución de menor altura en el árbol.\n",
    "\n",
    "Las malas noticias es que su complejidad computacional es muy grande. Consideremos primero la siguiente notación:\n",
    "\n",
    "* Sea $b$ la cantidad máxima de acciones posibles con respecto a cualquier estado. Observe que $b$ corresponde a la cantidad máxima de nodos que se incluirán en la frontera al expandir un nodo.\n",
    "\n",
    "* Sea $d$ la altura del primer nodo que contenga un estado solución del problema.\n",
    "\n",
    "Observe que en la primera iteración se generan $b$ nodos a partir de la raíz, luego $b$ nodos por cada uno de estos primeros $b$ nodos, y así, de tal manera que en la altura $d$ se generan $b^d$ nodos. Bajo la convención de medir el tiempo de ejecución del algoritmo solo en términos de la cantidad de nodos generados, se tiene que la complejidad de la estrategia `breadth-first` es $b + b^2 + b^3 + \\ldots + b^d = O(b^d)$.\n",
    "\n",
    "Si medimos la cantidad de memoria requerida solo en términos de cuántos nodos debemos guardar en un instante dado, entonces debemos considerar que la `frontera` se expande con $b^n$ nodos en cada nivel. Por lo tanto, la complejidad con respecto a la memoria para obtener una solución con altura $d$ es también $O(b^d)$.\n",
    "\n",
    "La siguiente tabla es muy ilustrativa del problema:\n",
    "\n",
    "<img src=\"./imagenes/tabla_breadht_first.png\" width=\"500px\"/>\n",
    "\n",
    "Observe que esta estimación determina que, para resolver el problema de las ocho reinas (altura 8) se requerirían 2 minutos y **103 gigabytes** de memoria (el estimado debe ser más alto, toda  vez que la tabla está pensada para un $b$ de 10, mientras que el problema de las ocho reinas tiene un $b$ de 63)."
   ]
  },
  {
   "cell_type": "markdown",
   "metadata": {},
   "source": [
    "**Ejercicio 5:**\n",
    "\n",
    "Implemente la función `breadth_first_search`.\n",
    "\n",
    "***Importante:*** Limíte la cantidad de hijos generados por un nodo a solo 3!"
   ]
  },
  {
   "cell_type": "markdown",
   "metadata": {},
   "source": [
    "**Respuesta:**\n",
    "\n",
    "Una posible solución es la siguiente:"
   ]
  },
  {
   "cell_type": "code",
   "execution_count": 13,
   "metadata": {},
   "outputs": [],
   "source": [
    "def breadth_first_search(problema):\n",
    "    \n",
    "    # Función de búsqueda mediante la construcción\n",
    "    # del arbol en breadth-first\n",
    "    \n",
    "    raiz = nodo(problema.estado_inicial(), None, None, 0)\n",
    "    \n",
    "    if problema.test_objetivo(raiz.estado):\n",
    "            return raiz\n",
    "    else:\n",
    "        frontera = [raiz]\n",
    "        explored = []\n",
    "    \n",
    "    while len(frontera) > 0:\n",
    "        # print(\"len(frontera)\", len(frontera))\n",
    "        n = frontera[0] # Seleccionamos el nodo con menor altura\n",
    "        # print(\"*****************\")\n",
    "        # print(n.estado)\n",
    "        frontera.remove(n)\n",
    "        explored.append(n)\n",
    "        acciones = problema.acciones_aplicables(n.estado)\n",
    "        # Limitamos las acciones aplicables a aquellas\n",
    "        # que están en la columna siguiente a la última dama\n",
    "        acciones_por_columna = [a for a in acciones if a[0]==n.estado.sum()]\n",
    "        # print(\"\\nAcciones posibles:\")\n",
    "        # print(acciones_por_columna)\n",
    "        for a in acciones_por_columna[:3]: # Solo tomamos las 3 primeras acciones\n",
    "            N = nodo_hijo(problema, n, a)\n",
    "            if problema.test_objetivo(N.estado):\n",
    "                return N\n",
    "            elif (N not in frontera) and (N not in explored):                \n",
    "                # print(\"Nodo a incluir:\")\n",
    "                # print(N.estado)\n",
    "                frontera.append(N)\n",
    "    \n",
    "    return None"
   ]
  },
  {
   "cell_type": "code",
   "execution_count": 14,
   "metadata": {},
   "outputs": [
    {
     "data": {
      "image/png": "[encoded data removed]",
      "text/plain": [
       "<Figure size 432x288 with 1 Axes>"
      ]
     },
     "metadata": {
      "needs_background": "light"
     },
     "output_type": "display_data"
    }
   ],
   "source": [
    "l = breadth_first_search(problema)\n",
    "if l:\n",
    "    problema.pintar_estado(l.estado)"
   ]
  },
  {
   "cell_type": "markdown",
   "metadata": {},
   "source": [
    "---"
   ]
  },
  {
   "cell_type": "markdown",
   "metadata": {
    "colab_type": "text",
    "id": "bdjQNvbG0dY4"
   },
   "source": [
    "**Depth-limited search**\n",
    "\n",
    "A diferencia del anterior método de búsqueda, el *depth-first* siempre expande el nodo de mayor altura en la `frontera`. En el siguiente ejemplo, el método está recorriendo la rama de más a la izquierda antes de considerar nodos en otras ramas:\n",
    "\n",
    "![](./imagenes/tree_depth_first_search.png)\n",
    "\n",
    "A pesar de que podríamos implementar este método usando el código anterior, pero en donde el nodo a explorar no es el primero sino el último, de manera que se seleccione uno de los nodos de mayor altura, es más usual implementar *depth-first* de manera recursiva.\n",
    "\n",
    "Antes de ver los detalles de esta implementación, observe que es muy importante evitar el problema de los caminos redundantes. Es posible usar el conjunto `explored`, como en la implementación del método de la sección anterior, pero lo más usual es considerar una búsqueda recursiva estableciendo de antemano una profundidad máxima de recursiones.\n",
    "\n",
    "El pseudo código del algoritmo es el siguiente:\n",
    "\n",
    "<img src=\"./imagenes/depth_limited_search.png\" width=\"450px\"/>\n",
    "\n",
    "La desventaja principal de este método es que es posible explorar muchísimos nodos antes de encontrar una solución que está a muy poca altura en una rama que tarda en ser explorada. Por ejemplo, este sería el caso si en el árbol anterior la solución fuera el nodo `C`, toda vez que el algoritmo exploraría primero todos los nodos de las ramas izquierdas. Esto pone al método en una complejidad $O(b^m)$, donde $m$ es la máxima altura del árbol. \n",
    "\n",
    "No obstante, esta es una consideración sobre la peor situación posible, la cual debemos sopesar frente a la ventaja principal del método, a saber, un uso muchísimo más eficiente de la memoria. En efecto, sólo es necesario mantener en memoria a los hijos asociados a una sola rama del árbol, y es posible ir eliminando nodos tan pronto nos encontremos con un callejón sin salida (un nodo sin acciones aplicables). Esto pone la complejidad en memoria en el orden $O(bm)$; muchísmo menor que el $O(b^d)$ del método de la sección anterior."
   ]
  },
  {
   "cell_type": "markdown",
   "metadata": {
    "colab_type": "text",
    "id": "a0jRiPtK0dY3"
   },
   "source": [
    "**Ejercicio 6:**\n",
    "\n",
    "Implemente la función `depth_limited_search`."
   ]
  },
  {
   "cell_type": "markdown",
   "metadata": {},
   "source": [
    "**Respuesta:**\n",
    "\n",
    "Una posible solución es la siguiente:"
   ]
  },
  {
   "cell_type": "code",
   "execution_count": 17,
   "metadata": {},
   "outputs": [],
   "source": [
    "def depth_limited_search(problema, limite):\n",
    "    \n",
    "    # Función de búsqueda que apela al algoritmo\n",
    "    # recursive_DLS\n",
    "    \n",
    "    raiz = nodo(problema.estado_inicial(), None, None, 0)\n",
    "    \n",
    "    return recursive_DLS(raiz, problema, limite)\n",
    "\n",
    "def recursive_DLS(n, problema, limite):\n",
    "    \n",
    "    # Función recursiva que recorre el árbol de\n",
    "    # forma depth-limited.\n",
    "\n",
    "    if problema.test_objetivo(n.estado):\n",
    "            return n\n",
    "    elif limite == 0:\n",
    "        return \"Cutoff\"\n",
    "    else:\n",
    "        cutoff = False\n",
    "        acciones = problema.acciones_aplicables(n.estado)\n",
    "        for a in acciones:\n",
    "            N = nodo_hijo(problema, n, a)\n",
    "            resultado = recursive_DLS(N, problema, limite - 1)\n",
    "            if resultado == \"Cutoff\":\n",
    "                cutoff = True\n",
    "            elif resultado != None:\n",
    "                return resultado\n",
    "        \n",
    "        if cutoff:\n",
    "            return \"Cutoff\"\n",
    "        else:\n",
    "            return None"
   ]
  },
  {
   "cell_type": "code",
   "execution_count": 21,
   "metadata": {},
   "outputs": [
    {
     "data": {
      "image/png": "[encoded data removed]",
      "text/plain": [
       "<Figure size 432x288 with 1 Axes>"
      ]
     },
     "metadata": {
      "needs_background": "light"
     },
     "output_type": "display_data"
    }
   ],
   "source": [
    "l = depth_limited_search(problema, 8)\n",
    "if l:\n",
    "    if l == \"Cutoff\":\n",
    "        print(l)\n",
    "    else:\n",
    "        problema.pintar_estado(l.estado)"
   ]
  },
  {
   "cell_type": "markdown",
   "metadata": {},
   "source": [
    "**Ejercicio 7:**\n",
    "\n",
    "Lea la explicación sobre el *iterative deepening depth-first search*, en la sección 3.4.5 del texto guía, págs. 88-90."
   ]
  },
  {
   "cell_type": "markdown",
   "metadata": {},
   "source": [
    "---"
   ]
  },
  {
   "cell_type": "markdown",
   "metadata": {},
   "source": [
    "### En este notebook usted aprendió\n",
    "\n",
    "* Cómo definir formalmente un problema e implementarlo en python.\n",
    "\n",
    "* En qué consiste un árbol de búsqueda y cómo implementarlo en python.\n",
    "\n",
    "* Cómo realizar una búsqueda mediante los métodos *breadth-first* y *depth-limited* e implementarlos en python."
   ]
  }
 ],
 "metadata": {
  "colab": {
   "name": "arboles_busqueda.ipynb",
   "provenance": []
  },
  "kernelspec": {
   "display_name": "Python 3",
   "language": "python",
   "name": "python3"
  },
  "language_info": {
   "codemirror_mode": {
    "name": "ipython",
    "version": 3
   },
   "file_extension": ".py",
   "mimetype": "text/x-python",
   "name": "python",
   "nbconvert_exporter": "python",
   "pygments_lexer": "ipython3",
   "version": "3.8.3"
  }
 },
 "nbformat": 4,
 "nbformat_minor": 1
}
