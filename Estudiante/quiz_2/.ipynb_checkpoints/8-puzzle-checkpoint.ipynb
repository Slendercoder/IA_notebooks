{
 "cells": [
  {
   "cell_type": "markdown",
   "metadata": {
    "colab_type": "text",
    "id": "TpmFfXsQ0dYI"
   },
   "source": [
    "## Quiz 2: Funciones heurísticas para el 8-puzzle\n",
    "\n",
    "Adaptado de Russell and Norvig (2016), cap. 3."
   ]
  },
  {
   "cell_type": "markdown",
   "metadata": {
    "colab_type": "text",
    "id": "S4x5lJfd0dYM"
   },
   "source": [
    "### 8-puzzle\n",
    "\n",
    "El siguiente problema se conoce como el 8-puzzle. En un tablero $3\\times 3$ se ponen ocho fichas, cada una con un número del 1 al 8, dejando un espacio vacío. Partiendo de una configuración aleatoria, el objetivo es encontrar una secuencia de desplazamientos de fichas al espacio vacío, una a la vez, hasta llegar a un tablero ordenado, como se muestra en la siguiente figura:\n",
    "\n",
    "\n",
    "<img src=\"./imagenes/8-puzzle.png\" width=\"300\">"
   ]
  },
  {
   "cell_type": "markdown",
   "metadata": {
    "colab_type": "text",
    "id": "vL49lY0r0dYP"
   },
   "source": [
    "**Ejercicio 1:**\n",
    "\n",
    "Proporcione la descripción formal del problema:\n",
    "\n",
    "* **Estado inicial**: \n",
    "\n",
    "* **Posibles acciones**: \n",
    "\n",
    "* **Función de transiciones**: \n",
    "\n",
    "* **Prueba de satisfacción del objetivo**: \n",
    "\n",
    "* **Función de costo**: "
   ]
  },
  {
   "cell_type": "markdown",
   "metadata": {},
   "source": [
    "----"
   ]
  },
  {
   "cell_type": "markdown",
   "metadata": {
    "colab_type": "text",
    "id": "ESao4G9n0dYP"
   },
   "source": [
    "\n",
    "**Implementación del problema**\n",
    "\n",
    "Implementaremos el problema del 8-puzzle."
   ]
  },
  {
   "cell_type": "code",
   "execution_count": 51,
   "metadata": {
    "colab": {},
    "colab_type": "code",
    "id": "73kSrhUo0dYQ"
   },
   "outputs": [],
   "source": [
    "import numpy as np\n",
    "from random import choice\n",
    "import copy\n",
    "\n",
    "%matplotlib inline"
   ]
  },
  {
   "cell_type": "code",
   "execution_count": 52,
   "metadata": {
    "colab": {},
    "colab_type": "code",
    "id": "p9AyvGbc0dYV"
   },
   "outputs": [],
   "source": [
    "class ocho_puzzle:\n",
    "    \n",
    "    def estado_inicial(self):\n",
    "        estado = list(np.random.choice(9, 9, replace=False))\n",
    "        estado = np.reshape(estado, (3,3))\n",
    "        return estado\n",
    "    \n",
    "    def acciones_aplicables(self, estado):\n",
    "        # Devuelve una lista de fichas que es posible mover\n",
    "        # y en qué dirección\n",
    "        # Input: estado, que es una np.matrix(8x8)\n",
    "        # Output: lista de parejas ((x1,y1), (x2,y2))\n",
    "        # Es decir, la ficha en la posición (x1,y1) puede moverse a (x2,y2)\n",
    "        y, x = np.where(estado == 0)\n",
    "        y = y[0]\n",
    "        x = x[0]\n",
    "        if x == 0:\n",
    "            if y == 0:\n",
    "                return [((x + 1, y), (x, y)), \n",
    "                        ((x, y + 1), (x, y))\n",
    "                       ]\n",
    "            elif y == 2:\n",
    "                return [((x + 1, y), (x, y)), \n",
    "                        ((x, y - 1), (x, y))\n",
    "                       ]\n",
    "            else:\n",
    "                return [((x + 1, y), (x, y)), \n",
    "                        ((x, y + 1), (x, y)),\n",
    "                        ((x, y - 1), (x, y))\n",
    "                       ]\n",
    "        if x == 2:\n",
    "            if y == 0:\n",
    "                return [((x - 1, y), (x, y)), \n",
    "                        ((x, y + 1), (x, y))\n",
    "                       ]\n",
    "            elif y == 2:\n",
    "                return [((x - 1, y), (x, y)), \n",
    "                        ((x, y - 1), (x, y))\n",
    "                       ]\n",
    "            else:\n",
    "                return [((x - 1, y), (x, y)), \n",
    "                        ((x, y + 1), (x, y)),\n",
    "                        ((x, y - 1), (x, y))\n",
    "                       ]\n",
    "        else:\n",
    "            if y == 0:\n",
    "                return [((x - 1, y), (x, y)),\n",
    "                        ((x + 1, y), (x, y)),\n",
    "                        ((x, y + 1), (x, y))\n",
    "                       ]\n",
    "            elif y == 2:\n",
    "                return [((x - 1, y), (x, y)),\n",
    "                        ((x + 1, y), (x, y)),\n",
    "                        ((x, y - 1), (x, y))\n",
    "                       ]\n",
    "            else:\n",
    "                return [((x - 1, y), (x, y)), \n",
    "                        ((x + 1, y), (x, y)),\n",
    "                        ((x, y + 1), (x, y)),\n",
    "                        ((x, y - 1), (x, y))\n",
    "                       ]\n",
    "\n",
    "    def transicion(self, estado, indices):\n",
    "        # Devuelve el tablero moviendo la ficha en indice\n",
    "        # Input: estado, que es una np.matrix(8x8)\n",
    "        #        indice, de la forma ((x1,y1), (x2,y2))\n",
    "        # Output: estado, que es una np.matrix(8x8)\n",
    "        \n",
    "        s = copy.deepcopy(estado)\n",
    "        x1, y1 = indices[0]\n",
    "        x2, y2 = indices[1]\n",
    "        s[y2, x2] = estado[y1, x1]\n",
    "        s[y1, x1] = 0\n",
    "        return s\n",
    "    \n",
    "    def test_objetivo(self, estado):\n",
    "        # Devuelve True/False dependiendo si el estado\n",
    "        # resuelve el problema\n",
    "        # Input: estado, que es una np.matrix(8x8)\n",
    "        # Output: True/False\n",
    "        k = list(np.reshape(estado, (9,1)))\n",
    "        k = [x[0] for x in k]\n",
    "        return (k == range(9))\n",
    "        \n",
    "    def costo(self, estado, accion):\n",
    "        return 1"
   ]
  },
  {
   "cell_type": "markdown",
   "metadata": {
    "colab_type": "text",
    "id": "ym7uBBHr0dYe"
   },
   "source": [
    "### Funciones heurísticas\n",
    "\n",
    "Heurística es una palabra que viene del griego εὑρίσκειν, y que significa \"hallar\" o \"inventar\". Una función heurística es una manera de usar conocimiento sobre el problema (*domain knowledge*) para buscar una solución de manera más eficiente que las estrategias no informadas.\n",
    "\n",
    "Para el 8-puzzle se han encontrado dos funciones con muy buenos resultados:\n",
    "\n",
    "- $h_1 = $ número de fichas que no corresponden al orden del estado objetivo.\n",
    "\n",
    "- $h_2 = $ suma de la distancia de cada ficha a su lugar en el estado objetivo, usando la distancia Manhattan, también conocida como la [distancia del taxista](https://es.wikipedia.org/wiki/Geometr%C3%ADa_del_taxista). "
   ]
  },
  {
   "cell_type": "markdown",
   "metadata": {},
   "source": [
    "**Ejercicio 2:**\n",
    "\n",
    "Implemente las dos funciones heurísticas, $h_1$ y $h_2$, para el 8-puzzle. "
   ]
  },
  {
   "cell_type": "markdown",
   "metadata": {},
   "source": [
    "---"
   ]
  },
  {
   "cell_type": "markdown",
   "metadata": {
    "colab_type": "text",
    "id": "7KKT2A0G0dYu"
   },
   "source": [
    "**Ejercicio 3:**\n",
    "\n",
    "Lea la sección 3.5.1 del texto guía e implemente el algoritmo *greedy best-first search*. Use este algoritmo para encontrar una solución al 8-puzzle."
   ]
  },
  {
   "cell_type": "markdown",
   "metadata": {},
   "source": [
    "---"
   ]
  },
  {
   "cell_type": "markdown",
   "metadata": {},
   "source": [
    "### En este notebook usted aprendió\n",
    "\n",
    "* El concepto de función heurística en la búsqueda de soluciones para implementar *domain knowledge*.\n",
    "\n",
    "* Implementar el método de búsqueda *greedy best-first search*."
   ]
  }
 ],
 "metadata": {
  "colab": {
   "name": "arboles_busqueda.ipynb",
   "provenance": []
  },
  "kernelspec": {
   "display_name": "Python 3",
   "language": "python",
   "name": "python3"
  },
  "language_info": {
   "codemirror_mode": {
    "name": "ipython",
    "version": 3
   },
   "file_extension": ".py",
   "mimetype": "text/x-python",
   "name": "python",
   "nbconvert_exporter": "python",
   "pygments_lexer": "ipython3",
   "version": "3.8.3"
  }
 },
 "nbformat": 4,
 "nbformat_minor": 1
}
