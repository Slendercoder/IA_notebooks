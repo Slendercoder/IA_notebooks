{
 "cells": [
  {
   "cell_type": "markdown",
   "metadata": {
    "colab_type": "text",
    "id": "TpmFfXsQ0dYI"
   },
   "source": [
    "## El mundo del Wumpus\n",
    "\n",
    "Adaptado de Russell & Norvig (2016), cap. 7."
   ]
  },
  {
   "cell_type": "markdown",
   "metadata": {
    "colab_type": "text",
    "id": "V3SkDSWJ0dYJ"
   },
   "source": [
    "### Objetivo\n",
    "\n",
    "Continuamos con el enfoque basado en agentes de la Inteligencia Artificial. Ahora usaremos la representación de conocimiento para construir programas de agentes más sofisticados. En este notebook usaremos la lógica proposicional para mantener una base de conocimiento y un estado de creencias que permita a un agente superar el reto de encontrar el oro en la cueva del Wumpus (sin morir en el intento)."
   ]
  },
  {
   "cell_type": "markdown",
   "metadata": {
    "colab_type": "text",
    "id": "5HnQ_gA70dYL"
   },
   "source": [
    "### Secciones\n",
    "\n",
    "Desarrollaremos la explicación de la siguiente manera:\n",
    "\n",
    "1. Presentación del mundo del Wumpus.\n",
    "* Uso de la lógica proposicional para representar conocimiento.\n",
    "* Resolver queries con cláusulas de Horn.\n",
    "* Toma de decisiones y planeación para superar el mundo del Wumpus."
   ]
  },
  {
   "cell_type": "markdown",
   "metadata": {
    "colab_type": "text",
    "id": "S4x5lJfd0dYM"
   },
   "source": [
    "### Problema de ejemplo\n",
    "\n",
    "El siguiente problema se conoce como *El mundo del Wumpus* (Yob, 1975), el cual consiste en una caverna muy oscura, representada por una rejilla de $4\\times 4$ rodeada de muros. El agente puede entrar y salir de la caberna por la casilla (1,1) y puede percibir solamente lo que hay en cada casilla en la que se encuentre. En la cueva hay pozos muy profundos, en los que puede caer y morir. Lo peor de todo es que hay un mounstro, conocido como el Wumpus, el cual se comerá vivo al agente si este entra a su casilla. ¿Por qué el agente entraría a un lugar como este? ¡Porque en alguna casilla de la cueva hay un montón de oro!\n",
    "\n",
    "<img src=\"./imagenes/ejemplo.png\" width=\"250\">"
   ]
  },
  {
   "cell_type": "markdown",
   "metadata": {
    "colab_type": "text",
    "id": "4601LZmB0dYN"
   },
   "source": [
    "El agente puede guiarse por sus sentidos para navegar en la caberna. En cualquier casilla adyacente (no diagonalmente) a un pozo se percibe una brisa; en cualquier casilla adyacente (no diagonalmente) al Wumpus se percibe un hedor; en la casilla donde se encuentra el oro se percibe un brillo. Además, el agente tiene un arco y (lamentablemente) solo una flecha, con la cual puede matar al Wumpus. Cuando se dispare la flecha, esta seguirá en la dirección en que esté mirando el agente hasta golpear un muro o clavarse en el Wumpus, quien morirá arrojando un desgarrador grito \"Aaaaaaarrrrgghhhhh\"."
   ]
  },
  {
   "cell_type": "markdown",
   "metadata": {
    "colab_type": "text",
    "id": "P60dU8Mg0dYO"
   },
   "source": [
    "**Ejercicio 1:**\n",
    "\n",
    "De acuerdo con la formulación de entornos hecha durante la clase, ¿cuáles características considera usted que  tiene el *entorno* en este problema?\n",
    "\n",
    "*Ayuda:* Puede usar el comando `$\\checkmark$` para poner un chulito en la opción que desee marcar. \n",
    "\n",
    "| Opción 1 | Opción 2 |\n",
    "| :---: | :---: |\n",
    "| Completamente observable | $\\checkmark$ Parcialmente observable|\n",
    "| $\\checkmark$ Agente único | Multiagente |\n",
    "| $\\checkmark$ Determinista | Estocástico |\n",
    "| Episódico    | $\\checkmark$ secuencial  |\n",
    "| $\\checkmark$ Estático     | dinámico    |\n",
    "| $\\checkmark$ Discreto     | continuo    |\n",
    "| $\\checkmark$ Conocido     | desconocido |"
   ]
  },
  {
   "cell_type": "markdown",
   "metadata": {},
   "source": [
    "----"
   ]
  },
  {
   "cell_type": "markdown",
   "metadata": {
    "colab_type": "text",
    "id": "vL49lY0r0dYP"
   },
   "source": [
    "La **definición formal del entorno** se hace con base en la definición de las siguientes características:\n",
    "\n",
    "* **Entorno**: Una cueva representada por una rejilla $4\\times 4$ bordeada por muros. El agente siempre comienza en (1, 1) mirando a la derecha. La ubicación del oro y del Wumpus se escogen arbitrariamente de manera uniforme en casillas distintas a la inicial. Cualquier casilla distinta de la inicial puede ser un pozo con probabilidad 0.2.\n",
    "\n",
    "* **Actuadores**: El heroe puede moverse `adelante` por una casilla (no es posible moverse adelante cuando hay un muro), `voltearIzquierda` por 90º, o `voltearDerecha` por 90º. Es posible `agarrar` el oro cuando este está en la casilla ocupada por el heroe. También puede `disparar` la flecha en la dirección en que está mirando, la cual seguirá en linea recta hasta golpear un muro. Finalmente, el agente puede `salir` de la cueva, pero solo desde la casilla inicial.\n",
    "\n",
    "* **Sensores**: El heroe percibe un `hedor` cuando llega a la casilla donde está el Wumpus o cuando llega a una de las casillas adjacentes (diagonalmente). En las casillas adjacentes a un pozo, percibe una `brisa`. En el cuadro donde está el oro, percibe un `brillo`. Cuando se topa con un muro, percibe un `batacazo`. Finalmente, si el Wumpus muere, el heroe percibe un `grito`` desde cualquier casilla.\n",
    "\n",
    "* **Medida de desempeño**: +1000 por salir de la cueva con el oro; -1000 por caer en un pozo o ser comido por el Wumpus; -1 por cada acción y -10 por usar la flecha. El juego termina cuando el heroe muere o sale de la cueva."
   ]
  },
  {
   "cell_type": "markdown",
   "metadata": {
    "colab_type": "text",
    "id": "ESao4G9n0dYP"
   },
   "source": [
    "\n",
    "**Implementación del entorno**\n",
    "\n",
    "Implementaremos el mundo del Wumpus mediante una clase en Python."
   ]
  },
  {
   "cell_type": "code",
   "execution_count": 111,
   "metadata": {
    "colab": {},
    "colab_type": "code",
    "id": "73kSrhUo0dYQ"
   },
   "outputs": [],
   "source": [
    "import matplotlib.pyplot as plt\n",
    "import matplotlib.patches as patches\n",
    "from matplotlib.offsetbox import AnnotationBbox, OffsetImage\n",
    "import numpy as np\n",
    "from random import choice, sample\n",
    "import copy\n",
    "\n",
    "%matplotlib inline\n",
    "\n",
    "def truncar(x):\n",
    "    if x < 0:\n",
    "        return 0\n",
    "    elif x > 3:\n",
    "        return 3\n",
    "    else:\n",
    "        return x\n",
    "\n",
    "def adyacentes(casilla):\n",
    "    x, y = casilla\n",
    "    adyacentes = [\n",
    "        (truncar(x - 1), y), (truncar(x + 1), y),\n",
    "        (x, truncar(y - 1)), (x, truncar(y + 1))\n",
    "    ]\n",
    "#    adyacentes = list(set(adyacentes)) # Eliminamos repeticiones\n",
    "    adyacentes = [c for c in adyacentes if c != casilla]\n",
    "    return adyacentes"
   ]
  },
  {
   "cell_type": "code",
   "execution_count": 135,
   "metadata": {},
   "outputs": [],
   "source": [
    "class wumpus:\n",
    "    \n",
    "    def __init__(self):\n",
    "        casillas = [(x, y) for x in range(4) for y in range(4)]\n",
    "        casillas_sin_inicial = [casilla for casilla in casillas if casilla != (0,0)]\n",
    "        self.wumpus = choice(casillas_sin_inicial)\n",
    "        self.wumpus_vivo = True\n",
    "        self.hedor = adyacentes(self.wumpus)\n",
    "        self.oro = choice(casillas)\n",
    "        self.oro_tomado = False\n",
    "        self.pozos = sample(casillas_sin_inicial, int(len(casillas_sin_inicial)*0.2))\n",
    "        aux = []\n",
    "        for c in self.pozos:\n",
    "            aux += adyacentes(c)\n",
    "        self.brisa = aux\n",
    "        self.heroe = (0, 0)\n",
    "        self.flecha = True\n",
    "        self.direccion = 'este'\n",
    "        self.puntaje = 0\n",
    "        self.juego_activo = True\n",
    "    \n",
    "    def pintar_todo(self):\n",
    "        # Dibuja el tablero correspondiente al estado\n",
    "        fig, axes = plt.subplots(figsize=(8, 8))\n",
    "\n",
    "        # Dibujo el tablero\n",
    "        step = 1./4\n",
    "        offset = 0.001\n",
    "        tangulos = []\n",
    "\n",
    "        # Borde del tablero\n",
    "        tangulos.append(patches.Rectangle((0,0),0.998,0.998,\\\n",
    "                                          facecolor='cornsilk',\\\n",
    "                                         edgecolor='black',\\\n",
    "                                         linewidth=2))\n",
    "\n",
    "        # Creo las líneas del tablero\n",
    "        for j in range(4):\n",
    "            locacion = j * step\n",
    "            # Crea linea horizontal en el rectangulo\n",
    "            tangulos.append(patches.Rectangle(*[(0, locacion), 1, 0.008],\\\n",
    "                    facecolor='black'))\n",
    "            # Crea linea vertical en el rectangulo\n",
    "            tangulos.append(patches.Rectangle(*[(locacion, 0), 0.008, 1],\\\n",
    "                    facecolor='black'))\n",
    "\n",
    "        for t in tangulos:\n",
    "            axes.add_patch(t)\n",
    "\n",
    "        # Cargando imagen del heroe\n",
    "        arr_img_hero = plt.imread(\"./imagenes/hero_\" + self.direccion + \".png\", format='png')\n",
    "        image_hero = OffsetImage(arr_img_hero, zoom=0.3)\n",
    "        image_hero.image.axes = axes\n",
    "\n",
    "        # Cargando imagen del Wumpus\n",
    "        arr_img_wumpus = plt.imread(\"./imagenes/wumpus.png\", format='png')\n",
    "        image_wumpus = OffsetImage(arr_img_wumpus, zoom=0.45)\n",
    "        image_wumpus.image.axes = axes\n",
    "\n",
    "        # Cargando imagen del hedor\n",
    "        arr_img_stench = plt.imread(\"./imagenes/stench.png\", format='png')\n",
    "        image_stench = OffsetImage(arr_img_stench, zoom=0.35)\n",
    "        image_stench.image.axes = axes\n",
    "\n",
    "        # Cargando imagen del oro\n",
    "        arr_img_gold = plt.imread(\"./imagenes/gold.png\", format='png')\n",
    "        image_gold = OffsetImage(arr_img_gold, zoom=0.35)\n",
    "        image_gold.image.axes = axes\n",
    "\n",
    "        # Cargando imagen del pozo\n",
    "        arr_img_pit = plt.imread(\"./imagenes/pit.png\", format='png')\n",
    "        image_pit = OffsetImage(arr_img_pit, zoom=0.35)\n",
    "        image_pit.image.axes = axes\n",
    "\n",
    "        # Cargando imagen de la brisa\n",
    "        arr_img_breeze = plt.imread(\"./imagenes/breeze.png\", format='png')\n",
    "        image_breeze = OffsetImage(arr_img_breeze, zoom=0.35)\n",
    "        image_breeze.image.axes = axes\n",
    "\n",
    "        offsetX = 0.125\n",
    "        offsetY = 0.125\n",
    "\n",
    "        for casilla in self.pozos:\n",
    "            # Pintando un pozo\n",
    "            X, Y = casilla\n",
    "            ab = AnnotationBbox(\n",
    "                image_pit, \n",
    "                [(X*step) + offsetX, (Y*step) + offsetY], \n",
    "                frameon=False)\n",
    "            axes.add_artist(ab)\n",
    "\n",
    "        for casilla in self.hedor:\n",
    "            # Pintando el hedor\n",
    "            X, Y = casilla\n",
    "            ab = AnnotationBbox(\n",
    "                image_stench, \n",
    "                [(X*step) + offsetX, (Y*step) + offsetY - 0.075], \n",
    "                frameon=False)\n",
    "            axes.add_artist(ab)\n",
    "\n",
    "        for casilla in self.brisa:\n",
    "            # Pintando la brisa\n",
    "            X, Y = casilla\n",
    "            ab = AnnotationBbox(\n",
    "                image_breeze, \n",
    "                [(X*step) + offsetX, (Y*step) + offsetY + 0.075], \n",
    "                frameon=False)\n",
    "            axes.add_artist(ab)\n",
    "\n",
    "        \n",
    "        # Pintando el wumpus\n",
    "        X, Y = self.wumpus\n",
    "        ab = AnnotationBbox(\n",
    "            image_wumpus, \n",
    "            [(X*step) + offsetX, (Y*step) + offsetY], \n",
    "            frameon=False)\n",
    "        axes.add_artist(ab)\n",
    "\n",
    "        # Pintando el heroe\n",
    "        X, Y = self.heroe\n",
    "        ab = AnnotationBbox(\n",
    "            image_hero, \n",
    "            [(X*step) + offsetX, (Y*step) + offsetY], \n",
    "            frameon=False)\n",
    "        axes.add_artist(ab)\n",
    "\n",
    "        # Pintando el oro\n",
    "        X, Y = self.oro\n",
    "        ab = AnnotationBbox(\n",
    "            image_gold, \n",
    "            [(X*step) + offsetX, (Y*step) + offsetY], \n",
    "            frameon=False)\n",
    "        axes.add_artist(ab)\n",
    "\n",
    "        axes.axis('off')\n",
    "        return axes\n",
    "        \n",
    "    def pintar_casilla(self, casilla):\n",
    "        if self.juego_activo:\n",
    "            # Dibuja el tablero correspondiente al estado\n",
    "            fig, axes = plt.subplots(figsize=(8, 8))\n",
    "\n",
    "            # Dibujo el tablero\n",
    "            step = 1./4\n",
    "            offset = 0.001\n",
    "            tangulos = []\n",
    "\n",
    "            # Borde del tablero\n",
    "            tangulos.append(patches.Rectangle((0,0),0.998,0.998,\\\n",
    "                                              facecolor='cornsilk',\\\n",
    "                                             edgecolor='black',\\\n",
    "                                             linewidth=2))\n",
    "\n",
    "            # Creo las líneas del tablero\n",
    "            for j in range(4):\n",
    "                locacion = j * step\n",
    "                # Crea linea horizontal en el rectangulo\n",
    "                tangulos.append(patches.Rectangle(*[(0, locacion), 1, 0.008],\\\n",
    "                        facecolor='black'))\n",
    "                # Crea linea vertical en el rectangulo\n",
    "                tangulos.append(patches.Rectangle(*[(locacion, 0), 0.008, 1],\\\n",
    "                        facecolor='black'))\n",
    "\n",
    "            for t in tangulos:\n",
    "                axes.add_patch(t)\n",
    "\n",
    "            # Cargando imagen del heroe\n",
    "            arr_img_hero = plt.imread(\"./imagenes/hero_\" + self.direccion + \".png\", format='png')\n",
    "            image_hero = OffsetImage(arr_img_hero, zoom=0.3)\n",
    "            image_hero.image.axes = axes\n",
    "\n",
    "            # Cargando imagen del Wumpus\n",
    "            arr_img_wumpus = plt.imread(\"./imagenes/wumpus.png\", format='png')\n",
    "            image_wumpus = OffsetImage(arr_img_wumpus, zoom=0.45)\n",
    "            image_wumpus.image.axes = axes\n",
    "\n",
    "            # Cargando imagen del hedor\n",
    "            arr_img_stench = plt.imread(\"./imagenes/stench.png\", format='png')\n",
    "            image_stench = OffsetImage(arr_img_stench, zoom=0.35)\n",
    "            image_stench.image.axes = axes\n",
    "\n",
    "            # Cargando imagen del oro\n",
    "            arr_img_gold = plt.imread(\"./imagenes/gold.png\", format='png')\n",
    "            image_gold = OffsetImage(arr_img_gold, zoom=0.35)\n",
    "            image_gold.image.axes = axes\n",
    "\n",
    "            # Cargando imagen del pozo\n",
    "            arr_img_pit = plt.imread(\"./imagenes/pit.png\", format='png')\n",
    "            image_pit = OffsetImage(arr_img_pit, zoom=0.35)\n",
    "            image_pit.image.axes = axes\n",
    "\n",
    "            # Cargando imagen de la brisa\n",
    "            arr_img_breeze = plt.imread(\"./imagenes/breeze.png\", format='png')\n",
    "            image_breeze = OffsetImage(arr_img_breeze, zoom=0.35)\n",
    "            image_breeze.image.axes = axes\n",
    "\n",
    "            offsetX = 0.125\n",
    "            offsetY = 0.125\n",
    "\n",
    "            if casilla in self.pozos:\n",
    "                # Pintando un pozo\n",
    "                X, Y = casilla\n",
    "                ab = AnnotationBbox(\n",
    "                    image_pit, \n",
    "                    [(X*step) + offsetX, (Y*step) + offsetY], \n",
    "                    frameon=False)\n",
    "                axes.add_artist(ab)\n",
    "\n",
    "            if casilla in self.hedor:\n",
    "                # Pintando el hedor\n",
    "                X, Y = casilla\n",
    "                ab = AnnotationBbox(\n",
    "                    image_stench, \n",
    "                    [(X*step) + offsetX, (Y*step) + offsetY - 0.075], \n",
    "                    frameon=False)\n",
    "                axes.add_artist(ab)\n",
    "\n",
    "            if casilla in self.brisa:\n",
    "                # Pintando la brisa\n",
    "                X, Y = casilla\n",
    "                ab = AnnotationBbox(\n",
    "                    image_breeze, \n",
    "                    [(X*step) + offsetX, (Y*step) + offsetY + 0.075], \n",
    "                    frameon=False)\n",
    "                axes.add_artist(ab)\n",
    "\n",
    "            if casilla == self.wumpus:\n",
    "                # Pintando el wumpus\n",
    "                X, Y = self.wumpus\n",
    "                ab = AnnotationBbox(\n",
    "                    image_wumpus, \n",
    "                    [(X*step) + offsetX, (Y*step) + offsetY], \n",
    "                    frameon=False)\n",
    "                axes.add_artist(ab)\n",
    "\n",
    "            # Pintando el heroe\n",
    "            X, Y = casilla\n",
    "            ab = AnnotationBbox(\n",
    "                image_hero, \n",
    "                [(X*step) + offsetX, (Y*step) + offsetY], \n",
    "                frameon=False)\n",
    "            axes.add_artist(ab)\n",
    "\n",
    "            if casilla == self.oro:\n",
    "                # Pintando el oro\n",
    "                X, Y = self.oro\n",
    "                ab = AnnotationBbox(\n",
    "                    image_gold, \n",
    "                    [(X*step) + offsetX, (Y*step) + offsetY], \n",
    "                    frameon=False)\n",
    "                axes.add_artist(ab)\n",
    "\n",
    "            axes.axis('off')\n",
    "            return axes\n",
    "        else:\n",
    "            return None\n",
    "    \n",
    "    def transicion(self, accion):\n",
    "        if self.juego_activo:\n",
    "            self.puntaje -= 1\n",
    "            if accion == 'agarrar':\n",
    "                if (self.oro == self.heroe) and (self.oro_tomado == False):\n",
    "                    self.puntaje += 1000\n",
    "            elif accion == 'adelante':\n",
    "                x, y = self.heroe \n",
    "                if self.direccion == 'este':\n",
    "                    self.heroe = (truncar(x + 1), y)\n",
    "                if self.direccion == 'oeste':\n",
    "                    self.heroe = (truncar(x - 1), y)\n",
    "                if self.direccion == 'norte':\n",
    "                    self.heroe = (x, truncar(y + 1))\n",
    "                if self.direccion == 'sur':\n",
    "                    self.heroe = (x, truncar(y - 1))\n",
    "            elif accion == 'salir':\n",
    "                if self.heroe == (0, 0):\n",
    "                    self.juego_activo = False\n",
    "                    print(\"¡Juego terminado!\")\n",
    "                    print(\"Puntaje:\", self.puntaje)\n",
    "                    self.pintar_todo()\n",
    "            elif accion == 'voltearIzquierda':\n",
    "                if self.direccion == 'este':\n",
    "                    self.direccion = 'norte'\n",
    "                elif self.direccion == 'oeste':\n",
    "                    self.direccion = 'sur'\n",
    "                elif self.direccion == 'norte':\n",
    "                    self.direccion = 'oeste'\n",
    "                elif self.direccion == 'sur':\n",
    "                    self.direccion = 'este'\n",
    "            elif accion == 'voltearDerecha':\n",
    "                if self.direccion == 'este':\n",
    "                    self.direccion = 'sur'\n",
    "                elif self.direccion == 'oeste':\n",
    "                    self.direccion = 'norte'\n",
    "                elif self.direccion == 'norte':\n",
    "                    self.direccion = 'este'\n",
    "                elif self.direccion == 'sur':\n",
    "                    self.direccion = 'oeste'\n",
    "            else:\n",
    "                print('¡Acción incorrecta!')\n",
    "            if self.heroe in self.pozos:\n",
    "                self.puntaje -= 1000\n",
    "                self.juego_activo = False\n",
    "                print(\"¡Juego terminado!\")\n",
    "                print(\"El héroe a caido en un pozo\")\n",
    "                print(\"Puntaje:\", self.puntaje)\n",
    "                self.pintar_todo()\n",
    "            elif (self.heroe == self.wumpus) and self.wumpus_vivo:\n",
    "                self.puntaje -= 1000\n",
    "                self.juego_activo = False\n",
    "                print(\"¡Juego terminado!\")\n",
    "                print(\"El héroe ha sido devorado por el Wumpus\")\n",
    "                print(\"Puntaje:\", self.puntaje)\n",
    "                self.pintar_todo()\n",
    "        else:\n",
    "            print(\"El juego ha terminado.\")\n"
   ]
  },
  {
   "cell_type": "code",
   "execution_count": 136,
   "metadata": {},
   "outputs": [
    {
     "name": "stdout",
     "output_type": "stream",
     "text": [
      "¡Juego terminado!\n",
      "El héroe a caido en un pozo\n",
      "Puntaje: -1002\n",
      "El juego ha terminado.\n",
      "El juego ha terminado.\n",
      "El juego ha terminado.\n",
      "El juego ha terminado.\n"
     ]
    },
    {
     "data": {
      "image/png": "[encoded data removed]",
      "text/plain": [
       "<Figure size 576x576 with 1 Axes>"
      ]
     },
     "metadata": {
      "needs_background": "light"
     },
     "output_type": "display_data"
    },
    {
     "data": {
      "image/png": "[encoded data removed]",
      "text/plain": [
       "<Figure size 576x576 with 1 Axes>"
      ]
     },
     "metadata": {
      "needs_background": "light"
     },
     "output_type": "display_data"
    }
   ],
   "source": [
    "W = wumpus()\n",
    "W.pintar_casilla(W.heroe)\n",
    "W.transicion('voltearIzquierda')\n",
    "W.transicion('adelante')\n",
    "W.transicion('adelante')\n",
    "W.transicion('voltearDerecha')\n",
    "W.transicion('adelante')\n",
    "W.transicion('adelante')\n",
    "W.pintar_casilla(W.heroe)"
   ]
  },
  {
   "cell_type": "markdown",
   "metadata": {},
   "source": [
    "<img src=\"./imagenes/lp_query.png\" width=\"500\">"
   ]
  },
  {
   "cell_type": "code",
   "execution_count": null,
   "metadata": {
    "colab": {},
    "colab_type": "code",
    "id": "p9AyvGbc0dYV"
   },
   "outputs": [],
   "source": [
    "class lp_query:\n",
    "    \n",
    "    def __init__(self, literal_query, base_conocimiento_lista):\n",
    "\n",
    "        self.query = literal_query\n",
    "    \n",
    "        # Con base en la lista de cláusulas en la base de \n",
    "        # conocimiento, crea un diccionario optimizado para \n",
    "        # la búsqueda\n",
    "        literales = [a for a in base_conocimiento_lista if len(a) == 1]\n",
    "        clausulas = [x for x in base_conocimiento_lista if x not in literales]\n",
    "        clausulas_dicts = {}\n",
    "        for c in clausulas:\n",
    "            indice_conectivo = c.find('>')\n",
    "            antecedente = c[:indice_conectivo]\n",
    "            consecuente = c[indice_conectivo + 1:]\n",
    "            try:\n",
    "                clausulas_dicts[consecuente].append(antecedente)\n",
    "            except:\n",
    "                clausulas_dicts[consecuente] = [antecedente]\n",
    "        self.base_conocimiento = {'literales':literales, 'clausulas':clausulas_dicts}\n",
    "    \n",
    "    def acciones_aplicables(self, estado):\n",
    "        # Devuelve una lista de cláusulas de Horn cuyo consecuente\n",
    "        # es el estado/literal\n",
    "        # Input: estado, que es un literal\n",
    "        # Output: lista de cláusulas de Horn\n",
    "        try: \n",
    "            antecedentes = self.base_conocimiento['clausulas'][a]\n",
    "        except:\n",
    "            antecedentes = []\n",
    "\n",
    "        return antecedentes\n",
    "\n",
    "    def transicion(self, estado, clausulas):\n",
    "        # Incluye las clausulas en la base de conocimiento\n",
    "        # Input: clausulas, que es una lista de cláusulas de Horn\n",
    "        return clausulas.split('Y')\n",
    "    \n",
    "    def test_objetivo(self, estado):\n",
    "        # Devuelve True/False dependiendo si el estado\n",
    "        # contiene solo letras en la base de conocimiento\n",
    "        # Input: estado, que es una lista de literales\n",
    "        # Output: True/False\n",
    "        literales = self.base_conocimiento['literales']\n",
    "        test = [x for x in estado if x not in literales]\n",
    "        return True if len(test) == 0 else False\n",
    "    \n",
    "    def costo(self, estado, accion):\n",
    "        pass"
   ]
  },
  {
   "cell_type": "code",
   "execution_count": null,
   "metadata": {},
   "outputs": [],
   "source": [
    "def ASK(literal, valor:bool, problema):\n",
    "    problema.query = literal\n",
    "    ask = True if (and_or_graph_search(problema) != 'failure') else False\n",
    "    return (ask == valor)\n",
    "\n",
    "def and_or_graph_search(problema):\n",
    "    return or_search(problema.query, problema, [])\n",
    "\n",
    "def or_search(estado, problema, camino):\n",
    "#    print(\"(input or_search) estado:\", estado, \"camino:\", camino)\n",
    "    if problema.test_objetivo(estado):\n",
    "#        print(\"(or_search) \" + str(estado) + \" en base de conocimiento!\")        \n",
    "        return estado\n",
    "    elif estado in camino:\n",
    "#        print(\"(or_search) \" + str(estado) + \" en camino!\")        \n",
    "        return 'failure'\n",
    "    acciones = problema.acciones_aplicables(estado)\n",
    "#    print(\"(or_search) Las opciones para \" + str(estado) + \" son:\", acciones)\n",
    "    if not acciones:\n",
    "#        print(\"(or_search) No hay opciones!\")\n",
    "        return 'failure'\n",
    "    for a in acciones:\n",
    "        plan = and_search(problema.transicion(estado, a), problema, [estado] + camino)\n",
    "#        print(\"(vuelve de and_search) El plan para \" + str(a) + \" es:\", plan)\n",
    "        if plan != 'failure':\n",
    "            return [a] + plan\n",
    "    \n",
    "    return 'failure'\n",
    "\n",
    "def and_search(estados, problema, camino):\n",
    "#    print(\"(input and_search) estados:\", estados, \"camino:\", camino)\n",
    "    planes = []\n",
    "    for s in estados:\n",
    "        plan = or_search(s, problema, camino)\n",
    "#        print(\"(vuelve de or_search) El plan para \" + str(s) + \" es:\", plan)        \n",
    "        if plan == 'failure':\n",
    "#            print(\"(and_search) El plan para \" + str(estados) + \" es:\", plan)        \n",
    "            return 'failure'\n",
    "        \n",
    "        planes += plan\n",
    "\n",
    "#    print(\"(and_search) El plan para \" + str(s) + \" es:\", planes)        \n",
    "    \n",
    "    return planes"
   ]
  },
  {
   "cell_type": "code",
   "execution_count": null,
   "metadata": {},
   "outputs": [],
   "source": [
    "base_inicial = ['p>q', 'lYm>p', 'bYl>m', 'aYp>l', 'aYb>l', 'a', 'b']\n",
    "query = lp_query('q', base_inicial)"
   ]
  },
  {
   "cell_type": "code",
   "execution_count": null,
   "metadata": {},
   "outputs": [],
   "source": [
    "#query.acciones_aplicables('-m')\n",
    "ASK('-m', False, query)"
   ]
  },
  {
   "cell_type": "markdown",
   "metadata": {
    "colab_type": "text",
    "id": "ym7uBBHr0dYe"
   },
   "source": [
    "### Árboles de búsqueda"
   ]
  },
  {
   "cell_type": "markdown",
   "metadata": {
    "colab_type": "text",
    "id": "g-vBVxFj0dYf"
   },
   "source": [
    "Una vez definido el espacio de estados del problema, realizamos la búsqueda de una solución mediante un árbol de búsqueda. Recuerde que estamos considerando que una solución es una secuencia de acciones, que en nuestro caso resultará en una secuencia de posiciones en donde poner cada una de las ocho damas.\n",
    "\n",
    "La intuición detrás de la construcción del árbol de búsqueda es suficientemente clara. Comenzamos con la raíz del árbol, la cual es el estado inicial del problema. Las aristas del árbol serán las acciones aplicables y los nodos los estados que se obtienen al realizar la correspondiente acción. Así pues, una solución será la rama que conduce desde la raíz hasta uno de los nodos que sea un estado objetivo del problema.\n",
    "\n",
    "![](./imagenes/arbol.png)\n",
    "\n",
    "El siguiente es el pseudocódigo del método de construcción del árbol, el cual explicaremos con un poco más de detalle a continuación:\n",
    "\n",
    "<img src=\"./imagenes/tree_search.png\" width=\"400px\"/>\n",
    "\n",
    "El método itera sobre la *frontera*, la cual consiste en los nodos que vamos a ir expandiendo para formar el árbol. Iremos analizando la frontera de manera iterativa hasta que se cumpla una de dos condiciones: la frontera es el conjunto vacío, en cuyo caso el problema no tiene solución; o el nodo sobre el cual se está trabajando es un estado objetivo, en cuyo caso la solución será la rama que va desde la raíz hasta el estado objetivo (observe que no está garantizado que este método siempre termine, debido a la posibilidad de caminos redundantes, ver ejercicio 4). \n",
    "\n",
    "En cualquier iteración, lo primero que debemos hacer es seleccionar un nodo `s` dentro de la frontera (sobre el método de selección volveremos más adelante; por el momento podemos asumir que se selecciona aleatoriamente). Retiramos a `s` de la frontera y revisamos si es un estado objetivo. Si sí, regresamos la solución; si no, debemos encontrar las acciones aplicables desde `s` y luego expandir la frontera con los estados que se obtienen a partir de las acciones aplicables.\n",
    "\n",
    "Observe que no hemos dicho nada acerca de cómo seleccionar el nodo que se va a expandir. Esta elección es lo que constituirá la *estratégia de búsqueda*, sobre la cual volveremos más adelante."
   ]
  },
  {
   "cell_type": "markdown",
   "metadata": {
    "colab_type": "text",
    "id": "c568WQRP0dYv"
   },
   "source": [
    "**Implementación de los árboles**"
   ]
  },
  {
   "cell_type": "code",
   "execution_count": null,
   "metadata": {
    "colab": {},
    "colab_type": "code",
    "id": "x6tDfxY10dYg"
   },
   "outputs": [],
   "source": [
    "class nodo:\n",
    "    \n",
    "    # Clase para crear los nodos\n",
    "    \n",
    "    def __init__(self, estado, madre, accion, costo):\n",
    "        self.estado = estado\n",
    "        self.madre = madre\n",
    "        self.accion = accion\n",
    "        self.costo = costo\n",
    "        \n",
    "def nodo_hijo(problema, madre, accion):\n",
    "    \n",
    "    # Función para crear un nuevo nodo\n",
    "    # Input: problema, que es un objeto de clase ocho_reinas\n",
    "    #        madre, que es un nodo,\n",
    "    #        accion, que es una acción que da lugar al estado del nuevo nodo\n",
    "    # Output: nodo\n",
    "\n",
    "    return nodo(problema.transicion(madre.estado, accion),\n",
    "                madre,\n",
    "                accion,\n",
    "                costo = madre.costo + problema.costo(madre.estado, accion)\n",
    "               )"
   ]
  },
  {
   "cell_type": "code",
   "execution_count": null,
   "metadata": {
    "colab": {},
    "colab_type": "code",
    "id": "Ag4i7XTQ0dYk",
    "outputId": "beac631a-6a24-45fc-a168-f45272817293"
   },
   "outputs": [],
   "source": [
    "# Ejemplo de creación de un nodo a partir de la raíz\n",
    "raiz = nodo(problema.estado_inicial(), None, None, 0)\n",
    "acciones = problema.acciones_aplicables(raiz.estado)\n",
    "a = choice(acciones)\n",
    "n1 = nodo_hijo(problema, raiz, a)\n",
    "acciones = problema.acciones_aplicables(n1.estado)\n",
    "a = choice(acciones)\n",
    "n2 = nodo_hijo(problema, n1, a)\n",
    "problema.pintar_estado(n2.estado)"
   ]
  },
  {
   "cell_type": "markdown",
   "metadata": {},
   "source": [
    "**Ejercicio 2:**\n",
    "\n",
    "Implemente la función `solucion`, la cual toma un nodo `n` y devuelve la secuencia de acciones que va desde la raíz hasta `n`."
   ]
  },
  {
   "cell_type": "markdown",
   "metadata": {},
   "source": [
    "**Respuesta:**\n",
    "\n",
    "Una posible implementación es la siguiente:"
   ]
  },
  {
   "cell_type": "code",
   "execution_count": null,
   "metadata": {},
   "outputs": [],
   "source": [
    "def solucion(n):\n",
    "    \n",
    "    # Devuelve la secuencia de estados que va desde la raíz\n",
    "    # hasta el nodo n\n",
    "    # Input: n, nodo\n",
    "    # Output: l, lista de acciones\n",
    "    \n",
    "    acciones_invertidas = []\n",
    "    m = copy.deepcopy(n)\n",
    "    while m.madre != None:\n",
    "        acciones_invertidas.append(m.accion)\n",
    "        m = m.madre\n",
    "    \n",
    "    num_acciones = len(acciones_invertidas)\n",
    "    acciones = []\n",
    "    for i in range(1, num_acciones + 1):\n",
    "        acciones.append(acciones_invertidas[num_acciones - i])\n",
    "    \n",
    "    return acciones"
   ]
  },
  {
   "cell_type": "markdown",
   "metadata": {},
   "source": [
    "Otra posible implementación usando recursión es la siguiente:"
   ]
  },
  {
   "cell_type": "code",
   "execution_count": null,
   "metadata": {},
   "outputs": [],
   "source": [
    "def obtiene_acciones(n):\n",
    "    if n.madre == None:\n",
    "        return []\n",
    "    else:\n",
    "        return [n.accion] + obtiene_acciones(n.madre)\n",
    "    \n",
    "def solucion(n):\n",
    "    acciones_invertidas = obtiene_acciones(n)\n",
    "    N = len(acciones_invertidas)\n",
    "    return [acciones_invertidas[N - i] for i in range(1, N + 1)]"
   ]
  },
  {
   "cell_type": "code",
   "execution_count": null,
   "metadata": {},
   "outputs": [],
   "source": [
    "solucion(n2)"
   ]
  },
  {
   "cell_type": "markdown",
   "metadata": {},
   "source": [
    "---"
   ]
  },
  {
   "cell_type": "markdown",
   "metadata": {},
   "source": [
    "**Ejercicio 3:**\n",
    "\n",
    "Use una lista como la variable *frontera* e implemente la función `tree_search` para resolver el problema de las ocho damas.\n",
    "\n",
    "***Importante:*** Limíte la cantidad de hijos generados por un nodo a sólo 3."
   ]
  },
  {
   "cell_type": "markdown",
   "metadata": {},
   "source": [
    "**Respuesta:**\n",
    "\n",
    "Una posible implementación es la siguiente:"
   ]
  },
  {
   "cell_type": "code",
   "execution_count": null,
   "metadata": {},
   "outputs": [],
   "source": [
    "def tree_search(problema):\n",
    "    \n",
    "    # Función de búsqueda mediante la construcción\n",
    "    # del arbol de búsqueda de manera aleatoria\n",
    "    \n",
    "    raiz = nodo(problema.estado_inicial(), None, None, 0)\n",
    "    \n",
    "    frontera = [raiz]\n",
    "    \n",
    "    while len(frontera) > 0:\n",
    "        # print(\"len(frontera)\", len(frontera))\n",
    "        n = choice(frontera) # Seleccionamos un nodo aleatorio\n",
    "        # print(\"*****************\")\n",
    "        # print(n.estado)\n",
    "        frontera.remove(n)\n",
    "        if problema.test_objetivo(n.estado):\n",
    "            return n\n",
    "        else:\n",
    "            acciones = problema.acciones_aplicables(n.estado)\n",
    "            # Limitamos las acciones aplicables a aquellas\n",
    "            # que están en la columna siguiente a la última dama\n",
    "            acciones_por_columna = [a for a in acciones if a[0]==n.estado.sum()]\n",
    "            # print(\"\\nAcciones posibles:\")\n",
    "            # print(acciones_por_columna)\n",
    "            for a in acciones_por_columna[:3]: # Solo tomamos las 3 primeras acciones\n",
    "                N = nodo_hijo(problema, n, a)\n",
    "                # print(\"Nodo a incluir:\")\n",
    "                # print(N.estado)\n",
    "                frontera.append(N)\n",
    "    \n",
    "    return None"
   ]
  },
  {
   "cell_type": "code",
   "execution_count": null,
   "metadata": {},
   "outputs": [],
   "source": [
    "l = tree_search(problema)\n",
    "if l: \n",
    "    problema.pintar_estado(l.estado)"
   ]
  },
  {
   "cell_type": "markdown",
   "metadata": {},
   "source": [
    "---"
   ]
  },
  {
   "cell_type": "markdown",
   "metadata": {
    "colab_type": "text",
    "id": "7KKT2A0G0dYu"
   },
   "source": [
    "**Ejercicio 4:**\n",
    "\n",
    "Leer en el texto guía la discusión sobre caminos redundantes y el algoritmo `graph_search` (sección 3.3, págs. 76-77)."
   ]
  },
  {
   "cell_type": "markdown",
   "metadata": {},
   "source": [
    "---"
   ]
  },
  {
   "cell_type": "markdown",
   "metadata": {
    "colab_type": "text",
    "id": "UgFieF2s0dY2"
   },
   "source": [
    "### Estrategias de búsqueda\n",
    "\n",
    "Las estrategias que consideraremos aquí son algunas de las llamadas *estrategias ciegas* o *estrategias desinformadas*, las cuales consideran todas las acciones posibles en cualquier estado. A este tipo de estrategias se le opone el tipo de estrategias llamadas *estrategias informadas* o *heurísticas*, las cuales usan conocimiento específico del problema, más allá de su definición, para buscar soluciones de manera más eficiente.\n",
    "\n",
    "Las dos estrategias ciegas que consideraremos son la *breadth-first* y *depth-first*. Observe que distintas estrategias tienen asociada una complejidad distinta, la cual también es importante examinar."
   ]
  },
  {
   "cell_type": "markdown",
   "metadata": {
    "colab_type": "text",
    "id": "88SthCKr0dY3"
   },
   "source": [
    "**Breadth-first search**\n",
    "\n",
    "Lo que define a una estrategia de búsqueda de la forma *breadth-first* es que, después de expandir la raíz, se expanden primero todos sus hijos antes de expandir cualquier nieto, y así sucesivamente. En otras palabras, se expande la raíz, luego el primer nivel, luego el segundo, etc.\n",
    "\n",
    "Implementar esta estrategia es fácil cuando se usa la variable `frontera` como una lista en python. En lugar de seleccionar un nodo aleatorio, se selecciona el primer nodo de la lista (`frontera[0]`). Observe que al expandir un nodo se agregan sus hijos a la lista mediante `append`, entonces los nodos de menor altura siempre van quedando al comienzo de la lista y los de mayor altura al final de esta.\n",
    "\n",
    "El siguiente es el pseudo código que implementa esta estrategia, sobre el cual debemos hacer un par de aclaraciones:\n",
    "\n",
    "<img src=\"./imagenes/breadth_first_search.png\" width=\"450px\"/>\n",
    "\n",
    "La primera aclaración es que se ha modificado el lugar en el cual se determina si el nodo es un estado objetivo. Observe que se hace esta prueba justo después de crear el estado inicial, y luego también antes de incluir un nodo en la frontera. La razón de esta modificación es por eficiencia, toda vez que este procedimiento permite ahorrarse la generación de un nivel completo de nodos.\n",
    "\n",
    "La segunda es que se está usando un conjunto llamado `explored`, el cual guarda la información de cuáles nodos ya han sido creados en el árbol. Esta es la manera de evitar caminos redundantes (ver ejercicio 4).\n",
    "\n",
    "La presente estrategia de búsqueda garantiza que, si la solución existe, esta será encontrada en algún momento. Además, se encontrará la solución de menor altura en el árbol.\n",
    "\n",
    "Las malas noticias es que su complejidad computacional es muy grande. Consideremos primero la siguiente notación:\n",
    "\n",
    "* Sea $b$ la cantidad máxima de acciones posibles con respecto a cualquier estado. Observe que $b$ corresponde a la cantidad máxima de nodos que se incluirán en la frontera al expandir un nodo.\n",
    "\n",
    "* Sea $d$ la altura del primer nodo que contenga un estado solución del problema.\n",
    "\n",
    "Observe que en la primera iteración se generan $b$ nodos a partir de la raíz, luego $b$ nodos por cada uno de estos primeros $b$ nodos, y así, de tal manera que en la altura $d$ se generan $b^d$ nodos. Bajo la convención de medir el tiempo de ejecución del algoritmo solo en términos de la cantidad de nodos generados, se tiene que la complejidad de la estrategia `breadth-first` es $O(b + b^2 + b^3 + \\ldots + b^d) = O(b^d)$.\n",
    "\n",
    "Si medimos la cantidad de memoria requerida solo en términos de cuántos nodos debemos guardar en un instante dado, entonces debemos considerar que la `frontera` se expande con $b^n$ nodos en cada nivel. Por lo tanto, la complejidad con respecto a la memoria para obtener una solución con altura $d$ es también $O(b^d)$.\n",
    "\n",
    "La siguiente tabla es muy ilustrativa del problema:\n",
    "\n",
    "<img src=\"./imagenes/tabla_breadht_first.png\" width=\"500px\"/>\n",
    "\n",
    "Observe que esta estimación determina que, para resolver el problema de las ocho reinas (altura 8) se requerirían 2 minutos y **103 gigabytes** de memoria (el estimado debe ser más alto, toda  vez que la tabla está pensada para un $b$ de 10, mientras que el problema de las ocho reinas tiene un $b$ promedio un poco más alto)."
   ]
  },
  {
   "cell_type": "markdown",
   "metadata": {},
   "source": [
    "**Ejercicio 5:**\n",
    "\n",
    "Implemente la función `breadth_first_search`.\n",
    "\n",
    "***Importante:*** Limíte la cantidad de hijos generados por un nodo a solo 3!"
   ]
  },
  {
   "cell_type": "markdown",
   "metadata": {},
   "source": [
    "**Respuesta:**\n",
    "\n",
    "Una posible solución es la siguiente:"
   ]
  },
  {
   "cell_type": "code",
   "execution_count": null,
   "metadata": {},
   "outputs": [],
   "source": [
    "def breadth_first_search(problema):\n",
    "    \n",
    "    # Función de búsqueda mediante la construcción\n",
    "    # del arbol en breadth-first\n",
    "    \n",
    "    raiz = nodo(problema.estado_inicial(), None, None, 0)\n",
    "    \n",
    "    if problema.test_objetivo(raiz.estado):\n",
    "            return raiz\n",
    "    else:\n",
    "        frontera = [raiz]\n",
    "        explored = []\n",
    "    \n",
    "    while len(frontera) > 0:\n",
    "        # print(\"len(frontera)\", len(frontera))\n",
    "        n = frontera[0] # Seleccionamos el nodo con menor altura\n",
    "        # print(\"*****************\")\n",
    "        # print(n.estado)\n",
    "        frontera.remove(n)\n",
    "        explored.append(n)\n",
    "        acciones = problema.acciones_aplicables(n.estado)\n",
    "        # Limitamos las acciones aplicables a aquellas\n",
    "        # que están en la columna siguiente a la última dama\n",
    "        acciones_por_columna = [a for a in acciones if a[0]==n.estado.sum()]\n",
    "        # print(\"\\nAcciones posibles:\")\n",
    "        # print(acciones_por_columna)\n",
    "        for a in acciones_por_columna[:3]: # Solo tomamos las 3 primeras acciones\n",
    "            N = nodo_hijo(problema, n, a)\n",
    "            if problema.test_objetivo(N.estado):\n",
    "                return N\n",
    "            elif N not in explored:                \n",
    "                # print(\"Nodo a incluir:\")\n",
    "                # print(N.estado)\n",
    "                frontera.append(N)\n",
    "    \n",
    "    return None"
   ]
  },
  {
   "cell_type": "code",
   "execution_count": null,
   "metadata": {},
   "outputs": [],
   "source": [
    "l = breadth_first_search(problema)\n",
    "if l:\n",
    "    problema.pintar_estado(l.estado)"
   ]
  },
  {
   "cell_type": "markdown",
   "metadata": {},
   "source": [
    "---"
   ]
  },
  {
   "cell_type": "markdown",
   "metadata": {
    "colab_type": "text",
    "id": "bdjQNvbG0dY4"
   },
   "source": [
    "**Depth-limited search**\n",
    "\n",
    "A diferencia del anterior método de búsqueda, el *depth-first* siempre expande el nodo de mayor altura en la `frontera`. En el siguiente ejemplo, el método está recorriendo la rama de más a la izquierda antes de considerar nodos en otras ramas:\n",
    "\n",
    "![](./imagenes/tree_depth_first_search.png)\n",
    "\n",
    "A pesar de que podríamos implementar este método usando el código anterior - en donde el nodo a explorar no es el primero sino el último, de manera que se seleccione uno de los nodos de mayor altura - es más usual implementar *depth-first* de manera recursiva.\n",
    "\n",
    "Antes de ver los detalles de esta implementación, observe que es muy importante evitar el problema de los caminos redundantes. Es posible usar el conjunto `explored`, como en la implementación del método de la sección anterior, pero lo más usual es considerar una búsqueda recursiva estableciendo de antemano una profundidad máxima de recursiones.\n",
    "\n",
    "El pseudo código del algoritmo es el siguiente:\n",
    "\n",
    "<img src=\"./imagenes/depth_limited_search.png\" width=\"450px\"/>\n",
    "\n",
    "La desventaja principal de este método es que es posible explorar muchísimos nodos antes de encontrar una solución que está a muy poca altura en una rama que tarda en ser explorada. Por ejemplo, este sería el caso si en el árbol anterior la solución fuera el nodo `C`, toda vez que el algoritmo exploraría primero todos los nodos de las ramas izquierdas. Esto pone al método en una complejidad $O(b^m)$, donde $m$ es la máxima altura del árbol. \n",
    "\n",
    "No obstante, esta es una consideración sobre la peor situación posible, la cual debemos sopesar frente a la ventaja principal del método, a saber, un uso muchísimo más eficiente de la memoria. En efecto, sólo es necesario mantener en memoria a los hijos asociados a una sola rama del árbol, y es posible ir eliminando nodos tan pronto nos encontremos con un callejón sin salida (un nodo sin acciones aplicables). Esto pone la complejidad en memoria en el orden $O(bm)$; muchísmo menor que el $O(b^d)$ del método de la sección anterior."
   ]
  },
  {
   "cell_type": "markdown",
   "metadata": {
    "colab_type": "text",
    "id": "a0jRiPtK0dY3"
   },
   "source": [
    "**Ejercicio 6:**\n",
    "\n",
    "Implemente la función `depth_limited_search`."
   ]
  },
  {
   "cell_type": "markdown",
   "metadata": {},
   "source": [
    "**Respuesta:**\n",
    "\n",
    "Una posible solución es la siguiente:"
   ]
  },
  {
   "cell_type": "code",
   "execution_count": null,
   "metadata": {},
   "outputs": [],
   "source": [
    "def depth_limited_search(problema, limite):\n",
    "    \n",
    "    # Función de búsqueda que apela al algoritmo\n",
    "    # recursive_DLS\n",
    "    \n",
    "    raiz = nodo(problema.estado_inicial(), None, None, 0)\n",
    "    \n",
    "    return recursive_DLS(raiz, problema, limite)\n",
    "\n",
    "def recursive_DLS(n, problema, limite):\n",
    "    \n",
    "    # Función recursiva que recorre el árbol de\n",
    "    # forma depth-limited.\n",
    "\n",
    "    if problema.test_objetivo(n.estado):\n",
    "            return n\n",
    "    elif limite == 0:\n",
    "        return \"Cutoff\"\n",
    "    else:\n",
    "        cutoff = False\n",
    "        acciones = problema.acciones_aplicables(n.estado)\n",
    "        for a in acciones:\n",
    "            N = nodo_hijo(problema, n, a)\n",
    "            resultado = recursive_DLS(N, problema, limite - 1)\n",
    "            if resultado == \"Cutoff\":\n",
    "                cutoff = True\n",
    "            elif resultado != None:\n",
    "                return resultado\n",
    "        \n",
    "        if cutoff:\n",
    "            return \"Cutoff\"\n",
    "        else:\n",
    "            return None"
   ]
  },
  {
   "cell_type": "code",
   "execution_count": null,
   "metadata": {},
   "outputs": [],
   "source": [
    "l = depth_limited_search(problema, 8)\n",
    "if l:\n",
    "    if l == \"Cutoff\":\n",
    "        print(l)\n",
    "    else:\n",
    "        problema.pintar_estado(l.estado)"
   ]
  },
  {
   "cell_type": "markdown",
   "metadata": {},
   "source": [
    "**Ejercicio 7:**\n",
    "\n",
    "Lea la explicación sobre el *iterative deepening depth-first search*, en la sección 3.4.5 del texto guía, págs. 88-90."
   ]
  },
  {
   "cell_type": "markdown",
   "metadata": {},
   "source": [
    "---"
   ]
  },
  {
   "cell_type": "markdown",
   "metadata": {},
   "source": [
    "### En este notebook usted aprendió\n",
    "\n",
    "* Cómo definir formalmente un problema e implementarlo en python.\n",
    "\n",
    "* En qué consiste un árbol de búsqueda y cómo implementarlo en python.\n",
    "\n",
    "* Cómo realizar una búsqueda mediante los métodos *breadth-first* y *depth-limited* e implementarlos en python."
   ]
  }
 ],
 "metadata": {
  "colab": {
   "name": "arboles_busqueda.ipynb",
   "provenance": []
  },
  "kernelspec": {
   "display_name": "Python 3",
   "language": "python",
   "name": "python3"
  },
  "language_info": {
   "codemirror_mode": {
    "name": "ipython",
    "version": 3
   },
   "file_extension": ".py",
   "mimetype": "text/x-python",
   "name": "python",
   "nbconvert_exporter": "python",
   "pygments_lexer": "ipython3",
   "version": "3.8.3"
  }
 },
 "nbformat": 4,
 "nbformat_minor": 1
}
