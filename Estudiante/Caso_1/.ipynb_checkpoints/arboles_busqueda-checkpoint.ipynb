{
 "cells": [
  {
   "cell_type": "markdown",
   "metadata": {},
   "source": [
    "## Búsqueda en espacio de estados\n",
    "\n",
    "(Adaptado de Russell and Norvig (2016), cap. 3."
   ]
  },
  {
   "cell_type": "markdown",
   "metadata": {},
   "source": [
    "### Objetivo\n",
    "\n",
    "Los problemas de búsqueda de soluciones son los más antiguos en la historia de la inteligencia artificial. Existen muchos métodos, pero aquí nos enfocaremos en la creación de un árbol de estados y estudiaremos algunas estrategias para la búsqueda de una solución en este espacio."
   ]
  },
  {
   "cell_type": "markdown",
   "metadata": {},
   "source": [
    "### Secciones\n",
    "\n",
    "Desarrollaremos la explicación de la siguiente manera:\n",
    "\n",
    "1. Presentación de un problema de ejemplo.\n",
    "* Implementación del problema en Python.\n",
    "* Definición de árboles de búsqueda y su implementación en Python.\n",
    "* Estrategias de búsqueda y su implementación en Python."
   ]
  },
  {
   "attachments": {},
   "cell_type": "markdown",
   "metadata": {},
   "source": [
    "### Problema de ejemplo\n",
    "\n",
    "El siguiente problema se conoce como las *ocho reinas*, que consiste en poner ocho reinas en un tablero de ajerdez de tal manera que ninguna pueda atacar a las demás. \n",
    "\n",
    "En el siguiente tablero hay siete reinas. ¿Es esta una situación admisible? ¿Cuál puede ser una solución al problema?\n",
    "\n",
    "<img src=\"./imagenes/ocho_reinas.png\" width=\"230\">"
   ]
  },
  {
   "cell_type": "markdown",
   "metadata": {},
   "source": [
    "¿Cómo definimos el *entorno*? Este puede representarse como una colección de estados, donde cada uno de ellos representa el tablero con cero o más reinas. Por su parte, las acciones del agente consisten en poner una reina en una casilla vacía del tablero (aunque no todas serán *aplicables*)."
   ]
  },
  {
   "cell_type": "markdown",
   "metadata": {},
   "source": [
    "**Pregunta 1:**\n",
    "\n",
    "De acuerdo a la formulación de entornos hecha durante la clase, ¿cuáles características considera usted que  tiene el *entorno* en este problema?\n",
    "\n",
    "- [X] Completamente observable o Parcialmente observable\n",
    "- Agente único o Multiagente\n",
    "- Determinista o Estocástico\n",
    "- Episódico o secuencial\n",
    "- Estático o dinámico\n",
    "- Discreto o continuo\n",
    "- Conocido o desconocido"
   ]
  },
  {
   "cell_type": "markdown",
   "metadata": {},
   "source": [
    "La **definición formal** del problema se hace con base en la definición de las siguientes características:\n",
    "\n",
    "* **Estado inicial**: Situación del entorno desde la cual el agente comienza a resolver el problema. En nuestro ejemplo, el estado inicial es el tablero vacío.\n",
    "\n",
    "* **Posibles acciones**: Descripción de las posibles acciones del agente en el entorno, dado un estado `s`. Estas acciones se llaman las *acciones aplicables* en `s`. En nuestro problema, dado un estado con $k$ reinas ($k<8$), las acciones aplicables son poner una reina en una de las casillas vacías que no es atacada por ninguna de las otras reinas.\n",
    "\n",
    "* **Función de transiciones**: Descripción del entorno que resulta de la ejecución de una de las acciones del agente. Junto con el estado inicial y las posibles acciones, la función de transiciones define el *espacio de estados* del problema. En nuestro ejemplo, la función toma un tablero con $k$ reinas ($k<8$) y devuelve un tablero con $k+1$ reinas.\n",
    "\n",
    "* **Prueba de satisfacción del objetivo**: Es una prueba que permite determinar si un estado es un *estado objetivo* en el cual se resuelve el problema. Esta prueba puede contener una colección de estados objetivo (para chequear si el estado es uno de ellos) o puede estar dada en términos de una condición explícita que debe cumplir un estado. En nuestro ejemplo, la prueba debe verificar la condición de si un tablero dado contiene ocho reinas en el cual niguna puede atacar a la otra.\n",
    "\n",
    "* **Función de costo**: Determina el costo numérico asociado a cada camino entre estados. En nuestro ejemplo, dicha función no es esencial, pero consideraremos que cada acción tiene el mismo costo, de tal manera que la función de costo es la cantidad de acciones realizadas (siempre devolverá el valor de 8 en cualquier solución). "
   ]
  },
  {
   "cell_type": "markdown",
   "metadata": {},
   "source": [
    "\n",
    "**Implementación del problema**\n",
    "\n",
    "Implementaremos el problema de las ocho reinas mediante una clase en Python."
   ]
  },
  {
   "cell_type": "code",
   "execution_count": 171,
   "metadata": {},
   "outputs": [],
   "source": [
    "import matplotlib.pyplot as plt\n",
    "import matplotlib.patches as patches\n",
    "from matplotlib.offsetbox import AnnotationBbox, OffsetImage\n",
    "import numpy as np\n",
    "from random import choice\n",
    "\n",
    "%matplotlib inline"
   ]
  },
  {
   "cell_type": "code",
   "execution_count": 209,
   "metadata": {},
   "outputs": [],
   "source": [
    "class ocho_reinas:\n",
    "    \n",
    "    def estado_inicial(self):\n",
    "        return np.matrix([[0]*8]*8)\n",
    "    \n",
    "    def pintar_estado(self, estado):\n",
    "        # Dibuja el tablero correspondiente al estado\n",
    "        # Input: estado, que es una 8-lista de 8-listas\n",
    "        fig, axes = plt.subplots()\n",
    "\n",
    "        # Dibujo el tablero\n",
    "        step = 1./8\n",
    "        offset = 0.001\n",
    "        tangulos = []\n",
    "\n",
    "        # Borde del tablero\n",
    "        tangulos.append(patches.Rectangle((0,0),0.998,0.998,\\\n",
    "                                          facecolor='cornsilk',\\\n",
    "                                         edgecolor='black',\\\n",
    "                                         linewidth=2))\n",
    "\n",
    "        # Creo los cuadrados oscuros en el tablero\n",
    "        for i in range(4):\n",
    "            for j in range(4):\n",
    "                tangulos.append(\n",
    "                    patches.Rectangle(\n",
    "                                      (2 * i * step, 2 * j * step), \\\n",
    "                                       step - offset, \\\n",
    "                                       step,\\\n",
    "                                       facecolor='lightslategrey')\\\n",
    "                                       )\n",
    "                tangulos.append(\n",
    "                    patches.Rectangle(\n",
    "                                      (step + 2 * i * step, (2 * j + 1) * step), \\\n",
    "                                       step - offset, \\\n",
    "                                       step,\\\n",
    "                                       facecolor='lightslategrey')\\\n",
    "                                       )\n",
    "\n",
    "        # Creo las líneas del tablero\n",
    "        for j in range(8):\n",
    "            locacion = j * step\n",
    "            # Crea linea horizontal en el rectangulo\n",
    "            tangulos.append(patches.Rectangle(*[(0, locacion), 1, 0.008],\\\n",
    "                    facecolor='black'))\n",
    "            # Crea linea vertical en el rectangulo\n",
    "            tangulos.append(patches.Rectangle(*[(locacion, 0), 0.008, 1],\\\n",
    "                    facecolor='black'))\n",
    "\n",
    "        for t in tangulos:\n",
    "            axes.add_patch(t)\n",
    "\n",
    "        # Cargando imagen de la reina\n",
    "        arr_img = plt.imread(\"./imagenes/reina.png\", format='png')\n",
    "        imagebox = OffsetImage(arr_img, zoom=0.048)\n",
    "        imagebox.image.axes = axes\n",
    "    \n",
    "        offsetX = 0.065\n",
    "        offsetY = 0.065\n",
    "        for i in range(8):\n",
    "            for j in range(8):\n",
    "                if estado[j, i] == 1:\n",
    "                    Y = 6 - i\n",
    "                    X = j - 1\n",
    "                    ab = AnnotationBbox(\n",
    "                        imagebox, \n",
    "                        [(X*step) + offsetX, (Y*step) + offsetY], \n",
    "                        frameon=False)\n",
    "                    axes.add_artist(ab)\n",
    "        \n",
    "        axes.axis('off')\n",
    "#        plt.show()\n",
    "        return axes\n",
    "    \n",
    "    def acciones_aplicables(self, estado):\n",
    "        # Devuelve una lista de parejas que representan\n",
    "        # las casillas vacías en las que es permitido\n",
    "        # poner una reina adicional\n",
    "        # Input: estado, que es una np.matrix(8x8)\n",
    "        # Output: lista de indices (x,y)\n",
    "        indices = [(x, y) for x in range(8) for y in range(8)]\n",
    "        indices_bloqueados = []\n",
    "        for x in range(8):\n",
    "            for y in range(8):\n",
    "                if estado[y, x]==1:\n",
    "                    #print(\"Reina encontrada en\", x, y)\n",
    "                    # Encuentra una reina\n",
    "                    # Elimina la fila\n",
    "                    #print(\"Bloqueando filas...\")\n",
    "                    indices_bloqueados += [(i, y) for i in range(8)]\n",
    "                    # Elimina la columna\n",
    "                    #print(\"Bloqueando columnas...\")\n",
    "                    indices_bloqueados += [(x, i) for i in range(8)]\n",
    "                    # Elimina las diagonales \\\n",
    "                    #print(\"Bloqueando diagonales...\")\n",
    "                    dif = np.abs(x-y)\n",
    "                    offset_x = 0\n",
    "                    offset_y = 0\n",
    "                    for i in range(1, 8 - dif):\n",
    "                        if x < y:\n",
    "                            if (y + i) == 8:\n",
    "                                offset_x = - (x + i)\n",
    "                                offset_y = dif\n",
    "                        elif x > y:\n",
    "                            if (x + i) == 8:\n",
    "                                offset_x = dif\n",
    "                                offset_y = - (y + i)\n",
    "                        xB = (x + i + offset_x) % 8\n",
    "                        yB = (y + i + offset_y) % 8\n",
    "                        #print(\"(\" + str(xB) + \", \" + str(yB) + \")\", end=\"\")\n",
    "                        indices_bloqueados.append((xB, yB))\n",
    "                    # Elimina las transversales /\n",
    "                    #print(\"\\nBloqueando transversales...\")\n",
    "                    dif = np.abs((7-x)-y)\n",
    "                    offset_x = 0\n",
    "                    offset_y = 0\n",
    "                    for i in range(1, 8 - dif):\n",
    "                        xB = (x - i + offset_x) % 8\n",
    "                        yB = (y + i + offset_y) % 8\n",
    "                        #print(\"(\" + str(xB) + \", \" + str(yB) + \")\", end=\"\")\n",
    "                        indices_bloqueados.append((xB, yB))\n",
    "                        if x < y:\n",
    "                            if (y + i) == 8:\n",
    "                                offset_x = 0\n",
    "                                offset_y = 0\n",
    "                        elif x > y:\n",
    "                            if (x - i) == 0:\n",
    "                                offset_x = - dif\n",
    "                                offset_y = - (y + i) - 1\n",
    "                    \n",
    "        \n",
    "        return list(set(indices) - set(indices_bloqueados))\n",
    "\n",
    "    def transicion(self, estado, indices):\n",
    "        # Devuelve el tablero incluyendo una reina en el indice\n",
    "        # Input: estado, que es una np.matrix(8x8)\n",
    "        #        indice, de la forma (x,y)\n",
    "        # Output: estado, que es una np.matrix(8x8)\n",
    "        x = indices[0]\n",
    "        y = indices[1]\n",
    "        estado[y, x] = 1\n",
    "        return estado\n",
    "    \n",
    "    def test_objetivo(self, estado):\n",
    "        # Devuelve True/False dependiendo si el estado\n",
    "        # resuelve el problema\n",
    "        # Input: estado, que es una np.matrix(8x8)\n",
    "        # Output: True/False\n",
    "        # print(\"Determinando si hay exactamente ocho reinas...\")\n",
    "        num_reinas = estado.sum()\n",
    "        if num_reinas != 8:\n",
    "            #print(\"Numero incorrecto de reinas!\")\n",
    "            return False\n",
    "        else:\n",
    "            #print(\"Determinando si las reinas no se atacan...\")\n",
    "            #print(\"Buscando reina por fila...\")\n",
    "            filas = [i[0] for i in estado.sum(axis=1).tolist()]\n",
    "            if any(filas) != 1:\n",
    "                #print(\"Dos reinas en la misma fila!\")\n",
    "                return False\n",
    "            else:\n",
    "                #print(\"Buscando reina por columna...\")\n",
    "                columnas = estado.sum(axis=0).tolist()[0]\n",
    "                if any(columnas) != 1:\n",
    "                    #print(\"Dos reinas en la misma columna!\")\n",
    "                    return False\n",
    "                else:\n",
    "                    for x in range(8):\n",
    "                        for y in range(8):\n",
    "                            if estado[y, x]==1:\n",
    "                                #print(\"Reina encontrada en (\" + str(x) + \", \" + str(y) + \")\")\n",
    "                                #print(\"Buscando otra reina en la misma diagonal...\")\n",
    "                                dif = np.abs(x-y)\n",
    "                                offset_x = 0\n",
    "                                offset_y = 0                                \n",
    "                                for i in range(1, 8 - dif):\n",
    "                                    if x < y:\n",
    "                                        if (y + i) == 8:\n",
    "                                            offset_x = - (x + i)\n",
    "                                            offset_y = dif\n",
    "                                    elif x > y:\n",
    "                                        if (x + i) == 8:\n",
    "                                            offset_x = dif\n",
    "                                            offset_y = - (y + i)\n",
    "                                    xB = (x + i + offset_x) % 8\n",
    "                                    yB = (y + i + offset_y) % 8\n",
    "                                    if estado[yB, xB]==1:\n",
    "                                        #print(\"Dos reinas en la misma diagonal!\")\n",
    "                                        return False\n",
    "            \n",
    "                                #print(\"Buscando otra reina en la misma transversal...\")\n",
    "                                dif = np.abs((7-x)-y)\n",
    "                                offset_x = 0\n",
    "                                offset_y = 0\n",
    "                                for i in range(1, 8 - dif):\n",
    "                                    xB = (x - i + offset_x) % 8\n",
    "                                    yB = (y + i + offset_y) % 8\n",
    "                                    if estado[yB, xB]==1:\n",
    "                                        #print(\"Dos reinas en la misma transversal!\")\n",
    "                                        return False\n",
    "                                    if x < y:\n",
    "                                        if (y + i) == 8:\n",
    "                                            offset_x = 0\n",
    "                                            offset_y = 0\n",
    "                                    elif x > y:\n",
    "                                        if (x - i) == 0:\n",
    "                                            offset_x = - dif\n",
    "                                            offset_y = - (y + i) - 1\n",
    "\n",
    "        return True \n",
    "    \n",
    "    def costo(self, estado, accion):\n",
    "        return 1"
   ]
  },
  {
   "cell_type": "code",
   "execution_count": 218,
   "metadata": {},
   "outputs": [
    {
     "data": {
      "image/png": "[encoded data removed]",
      "text/plain": [
       "<Figure size 432x288 with 1 Axes>"
      ]
     },
     "metadata": {
      "needs_background": "light"
     },
     "output_type": "display_data"
    },
    {
     "name": "stdout",
     "output_type": "stream",
     "text": [
      "Problema solucionado? False\n"
     ]
    }
   ],
   "source": [
    "problema = ocho_reinas()\n",
    "s = problema.estado_inicial()\n",
    "problema.pintar_estado(s)\n",
    "plt.show()\n",
    "print(\"Problema solucionado?\", problema.test_objetivo(s))"
   ]
  },
  {
   "cell_type": "markdown",
   "metadata": {},
   "source": [
    "### Árboles de búsqueda"
   ]
  },
  {
   "cell_type": "markdown",
   "metadata": {},
   "source": [
    "Una vez definido el espacio de estados del problema, realizamos la búsqueda de una solución mediante un árbol de búsqueda. Recuerde que estamos considerando que una solución es una secuencia de acciones, que en nuestro caso resultará en una secuencia de posiciones en donde poner las damas.\n",
    "\n",
    "La intuición detrás de la construcción del árbol de búsqueda es suficientemente intuitiva. Comenzamos con la raíz del árbol, la cual es el estado inicial del problema. Las aristas del árbol serán las acciones aplicables y los nodos los estados que se obtienen al realizar la correspondiente acción. Así pues, una solución será la rama que conduce desde la raíz hasta uno de los nodos que sea un estado objetivo del problema."
   ]
  },
  {
   "cell_type": "markdown",
   "metadata": {},
   "source": [
    "El siguiente es el pseudocódigo del método de construcción del árbol, el cual explicaremos con un poco más de detalle a continuación:\n",
    "\n",
    "![](./imagenes/tree_search.png)\n",
    "\n",
    "El método itera sobre la *frontera*, la cual consiste en los nodos que vamos a ir expandiendo para formar el árbol. Iremos analizamos la frontera de manera iterativa hasta que se cumpla una de dos condiciones: la frontera es el conjunto vacío, en cuyo caso el problema no tiene solución; o el nodo sobre el cual se está trabajando es un estado objetivo, en cuyo caso la solución será la rama que va desde la raíz hasta el estado objetivo. \n",
    "\n",
    "En cualquier iteración, lo primero que debemos hacer es seleccionar un nodo `s` dentro de la frontera (sobre el método de selección volveremos más adelante; por el momento podemos asumir que se selecciona aleatoriamente). Luego debemos revisar si `s` es un estado objetivo. Si sí, regresaremos la solución; si no, debemos encontrar las acciones aplicables desde `s` y luego expandir la frontera con los estados que se obtienen a partir de las acciones aplicables.\n",
    "\n",
    "Observe que no hemos dicho nada acerca de cómo seleccionar un nodo para expandir a continuación. Esta elección es lo que constituirá la *estratégia de búsqueda*, sobre la cual volveremos más adelante."
   ]
  },
  {
   "cell_type": "code",
   "execution_count": 212,
   "metadata": {},
   "outputs": [],
   "source": [
    "class nodo:\n",
    "    \n",
    "    # Clase para crear los nodos\n",
    "    \n",
    "    def __init__(self, estado, madre, accion, costo):\n",
    "        self.estado = estado\n",
    "        self.madre = madre\n",
    "        self.accion = accion\n",
    "        self.costo = costo\n",
    "        \n",
    "def nodo_hijo(problema, madre, accion):\n",
    "    \n",
    "    # Función para crear un nuevo nodo\n",
    "    # Input: problema, que es un objeto de clase ocho_reinas\n",
    "    #        madre, que es un nodo,\n",
    "    #        accion, que es una accion que genera el nodo a partir de la madre\n",
    "    # Output: nodo\n",
    "\n",
    "    return nodo(problema.transicion(madre.estado, accion),\n",
    "                madre,\n",
    "                accion,\n",
    "                costo = madre.costo + problema.costo(madre.estado, accion)\n",
    "               )"
   ]
  },
  {
   "cell_type": "code",
   "execution_count": 213,
   "metadata": {},
   "outputs": [
    {
     "data": {
      "image/png": "[encoded data removed]",
      "text/plain": [
       "<Figure size 432x288 with 1 Axes>"
      ]
     },
     "metadata": {
      "needs_background": "light"
     },
     "output_type": "display_data"
    }
   ],
   "source": [
    "raiz = nodo(problema.estado_inicial(),\n",
    "            None,\n",
    "            None,\n",
    "            0)\n",
    "\n",
    "Accs = problema.acciones_aplicables(raiz.estado)\n",
    "a = choice(Accs)\n",
    "nodo = nodo_hijo(problema,\n",
    "                 raiz,\n",
    "                 a)\n",
    "ax = problema.pintar_estado(nodo.estado)\n",
    "plt.show()"
   ]
  },
  {
   "cell_type": "code",
   "execution_count": 214,
   "metadata": {},
   "outputs": [
    {
     "ename": "AttributeError",
     "evalue": "'AxesSubplot' object has no attribute 'partition'",
     "output_type": "error",
     "traceback": [
      "\u001b[0;31m---------------------------------------------------------------------\u001b[0m",
      "\u001b[0;31mAttributeError\u001b[0m                      Traceback (most recent call last)",
      "\u001b[0;32m<ipython-input-214-909cb0867d2c>\u001b[0m in \u001b[0;36m<module>\u001b[0;34m\u001b[0m\n\u001b[1;32m      9\u001b[0m \u001b[0mA\u001b[0m \u001b[0;34m=\u001b[0m \u001b[0mproblema\u001b[0m\u001b[0;34m.\u001b[0m\u001b[0mpintar_estado\u001b[0m\u001b[0;34m(\u001b[0m\u001b[0mraiz\u001b[0m\u001b[0;34m.\u001b[0m\u001b[0mestado\u001b[0m\u001b[0;34m)\u001b[0m\u001b[0;34m\u001b[0m\u001b[0;34m\u001b[0m\u001b[0m\n\u001b[1;32m     10\u001b[0m \u001b[0mB\u001b[0m \u001b[0;34m=\u001b[0m \u001b[0mproblema\u001b[0m\u001b[0;34m.\u001b[0m\u001b[0mpintar_estado\u001b[0m\u001b[0;34m(\u001b[0m\u001b[0mnodo\u001b[0m\u001b[0;34m.\u001b[0m\u001b[0mestado\u001b[0m\u001b[0;34m)\u001b[0m\u001b[0;34m\u001b[0m\u001b[0;34m\u001b[0m\u001b[0m\n\u001b[0;32m---> 11\u001b[0;31m \u001b[0mg\u001b[0m\u001b[0;34m.\u001b[0m\u001b[0medge\u001b[0m\u001b[0;34m(\u001b[0m\u001b[0mA\u001b[0m\u001b[0;34m,\u001b[0m \u001b[0mB\u001b[0m\u001b[0;34m)\u001b[0m\u001b[0;34m\u001b[0m\u001b[0;34m\u001b[0m\u001b[0m\n\u001b[0m\u001b[1;32m     12\u001b[0m \u001b[0;34m\u001b[0m\u001b[0m\n\u001b[1;32m     13\u001b[0m \u001b[0mg\u001b[0m\u001b[0;34m.\u001b[0m\u001b[0mview\u001b[0m\u001b[0;34m(\u001b[0m\u001b[0;34m)\u001b[0m\u001b[0;34m\u001b[0m\u001b[0;34m\u001b[0m\u001b[0m\n",
      "\u001b[0;32m/usr/local/lib/python3.7/site-packages/graphviz/dot.py\u001b[0m in \u001b[0;36medge\u001b[0;34m(self, tail_name, head_name, label, _attributes, **attrs)\u001b[0m\n\u001b[1;32m    142\u001b[0m             \u001b[0mattrs\u001b[0m\u001b[0;34m:\u001b[0m \u001b[0mAny\u001b[0m \u001b[0madditional\u001b[0m \u001b[0medge\u001b[0m \u001b[0mattributes\u001b[0m \u001b[0;34m(\u001b[0m\u001b[0mmust\u001b[0m \u001b[0mbe\u001b[0m \u001b[0mstrings\u001b[0m\u001b[0;34m)\u001b[0m\u001b[0;34m.\u001b[0m\u001b[0;34m\u001b[0m\u001b[0;34m\u001b[0m\u001b[0m\n\u001b[1;32m    143\u001b[0m         \"\"\"\n\u001b[0;32m--> 144\u001b[0;31m         \u001b[0mtail_name\u001b[0m \u001b[0;34m=\u001b[0m \u001b[0mself\u001b[0m\u001b[0;34m.\u001b[0m\u001b[0m_quote_edge\u001b[0m\u001b[0;34m(\u001b[0m\u001b[0mtail_name\u001b[0m\u001b[0;34m)\u001b[0m\u001b[0;34m\u001b[0m\u001b[0;34m\u001b[0m\u001b[0m\n\u001b[0m\u001b[1;32m    145\u001b[0m         \u001b[0mhead_name\u001b[0m \u001b[0;34m=\u001b[0m \u001b[0mself\u001b[0m\u001b[0;34m.\u001b[0m\u001b[0m_quote_edge\u001b[0m\u001b[0;34m(\u001b[0m\u001b[0mhead_name\u001b[0m\u001b[0;34m)\u001b[0m\u001b[0;34m\u001b[0m\u001b[0;34m\u001b[0m\u001b[0m\n\u001b[1;32m    146\u001b[0m         \u001b[0mattr_list\u001b[0m \u001b[0;34m=\u001b[0m \u001b[0mself\u001b[0m\u001b[0;34m.\u001b[0m\u001b[0m_attr_list\u001b[0m\u001b[0;34m(\u001b[0m\u001b[0mlabel\u001b[0m\u001b[0;34m,\u001b[0m \u001b[0mattrs\u001b[0m\u001b[0;34m,\u001b[0m \u001b[0m_attributes\u001b[0m\u001b[0;34m)\u001b[0m\u001b[0;34m\u001b[0m\u001b[0;34m\u001b[0m\u001b[0m\n",
      "\u001b[0;32m/usr/local/lib/python3.7/site-packages/graphviz/lang.py\u001b[0m in \u001b[0;36mquote_edge\u001b[0;34m(identifier)\u001b[0m\n\u001b[1;32m     89\u001b[0m     \u001b[0;34m'spam:eggs:s'\u001b[0m\u001b[0;34m\u001b[0m\u001b[0;34m\u001b[0m\u001b[0m\n\u001b[1;32m     90\u001b[0m     \"\"\"\n\u001b[0;32m---> 91\u001b[0;31m     \u001b[0mnode\u001b[0m\u001b[0;34m,\u001b[0m \u001b[0m_\u001b[0m\u001b[0;34m,\u001b[0m \u001b[0mrest\u001b[0m \u001b[0;34m=\u001b[0m \u001b[0midentifier\u001b[0m\u001b[0;34m.\u001b[0m\u001b[0mpartition\u001b[0m\u001b[0;34m(\u001b[0m\u001b[0;34m':'\u001b[0m\u001b[0;34m)\u001b[0m\u001b[0;34m\u001b[0m\u001b[0;34m\u001b[0m\u001b[0m\n\u001b[0m\u001b[1;32m     92\u001b[0m     \u001b[0mparts\u001b[0m \u001b[0;34m=\u001b[0m \u001b[0;34m[\u001b[0m\u001b[0mquote\u001b[0m\u001b[0;34m(\u001b[0m\u001b[0mnode\u001b[0m\u001b[0;34m)\u001b[0m\u001b[0;34m]\u001b[0m\u001b[0;34m\u001b[0m\u001b[0;34m\u001b[0m\u001b[0m\n\u001b[1;32m     93\u001b[0m     \u001b[0;32mif\u001b[0m \u001b[0mrest\u001b[0m\u001b[0;34m:\u001b[0m\u001b[0;34m\u001b[0m\u001b[0;34m\u001b[0m\u001b[0m\n",
      "\u001b[0;31mAttributeError\u001b[0m: 'AxesSubplot' object has no attribute 'partition'"
     ]
    },
    {
     "data": {
      "image/png": "[encoded data removed]",
      "text/plain": [
       "<Figure size 432x288 with 1 Axes>"
      ]
     },
     "metadata": {
      "needs_background": "light"
     },
     "output_type": "display_data"
    },
    {
     "data": {
      "image/png": "[encoded data removed]",
      "text/plain": [
       "<Figure size 432x288 with 1 Axes>"
      ]
     },
     "metadata": {
      "needs_background": "light"
     },
     "output_type": "display_data"
    }
   ],
   "source": [
    "from graphviz import Digraph\n",
    "from IPython.display import Image, SVG\n",
    "import pydotplus\n",
    "\n",
    "#dot_data = StringIO()\n",
    "\n",
    "g = Digraph('G', filename='process.gv', engine='sfdp')\n",
    "\n",
    "A = problema.pintar_estado(raiz.estado)\n",
    "B = problema.pintar_estado(nodo.estado)\n",
    "g.edge(A, B)\n",
    "\n",
    "g.view()\n",
    "#graph = pydotplus.graph_from_dot_file('./demo.dot')  \n",
    "\n",
    "#graph = pydotplus.graph_from_dot_data(g)  \n",
    "#Image(graph.create_png())\n",
    "#Image(g.view())\n"
   ]
  },
  {
   "cell_type": "markdown",
   "metadata": {},
   "source": [
    "**Caminos redundantes**"
   ]
  },
  {
   "cell_type": "markdown",
   "metadata": {},
   "source": []
  },
  {
   "cell_type": "markdown",
   "metadata": {},
   "source": [
    "**Implementación de los árboles**"
   ]
  },
  {
   "cell_type": "code",
   "execution_count": null,
   "metadata": {},
   "outputs": [],
   "source": [
    "class nodo:\n",
    "    \n",
    "    def __init__(self, )"
   ]
  },
  {
   "cell_type": "markdown",
   "metadata": {},
   "source": [
    "### Estrategias de búsqueda"
   ]
  },
  {
   "cell_type": "markdown",
   "metadata": {},
   "source": [
    "**Breadth-first**"
   ]
  },
  {
   "cell_type": "markdown",
   "metadata": {},
   "source": [
    "**Uniform-cost**"
   ]
  },
  {
   "cell_type": "markdown",
   "metadata": {},
   "source": [
    "**Depth-first**"
   ]
  }
 ],
 "metadata": {
  "kernelspec": {
   "display_name": "Python 3",
   "language": "python",
   "name": "python3"
  },
  "language_info": {
   "codemirror_mode": {
    "name": "ipython",
    "version": 3
   },
   "file_extension": ".py",
   "mimetype": "text/x-python",
   "name": "python",
   "nbconvert_exporter": "python",
   "pygments_lexer": "ipython3",
   "version": "3.7.7"
  }
 },
 "nbformat": 4,
 "nbformat_minor": 2
}
