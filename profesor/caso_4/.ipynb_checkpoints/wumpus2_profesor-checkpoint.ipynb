{
 "cells": [
  {
   "cell_type": "markdown",
   "metadata": {
    "colab_type": "text",
    "id": "TpmFfXsQ0dYI"
   },
   "source": [
    "## El mundo del Wumpus (2/2)\n",
    "\n",
    "Adaptado de Russell & Norvig (2016), cap. 7."
   ]
  },
  {
   "cell_type": "markdown",
   "metadata": {
    "colab_type": "text",
    "id": "V3SkDSWJ0dYJ"
   },
   "source": [
    "### Objetivo\n",
    "\n",
    "En este notebook completaremos la arquitectura necesaria para construir el programa de agente que permita superar el reto de encontrar el oro en la cueva del Wumpus (sin morir en el intento)."
   ]
  },
  {
   "cell_type": "markdown",
   "metadata": {
    "colab_type": "text",
    "id": "5HnQ_gA70dYL"
   },
   "source": [
    "### Secciones\n",
    "\n",
    "Desarrollaremos la explicación de la siguiente manera:\n",
    "\n",
    "1. Encontrar casillas seguras para transitar.\n",
    "* Diseñar un plan para ir de la casilla actual a una casilla objetivo.\n",
    "* Toma de decisiones y planeación para superar el mundo del Wumpus."
   ]
  },
  {
   "cell_type": "markdown",
   "metadata": {},
   "source": [
    "### Recorderis\n",
    "\n",
    "Todo el código relevante del anterior notebook se puede importar del paquete Wumpus:"
   ]
  },
  {
   "cell_type": "code",
   "execution_count": 1,
   "metadata": {},
   "outputs": [],
   "source": [
    "from Wumpus import *\n",
    "%matplotlib notebook"
   ]
  },
  {
   "cell_type": "markdown",
   "metadata": {},
   "source": [
    "La siguiente tabla puede ser útil para futuras referencias y puede irse completando a medida que se vaya avanzando en la representación:\n",
    "\n",
    "| Información | Número de codificación |\n",
    "| :---: | :---: |\n",
    "| Casilla segura     | 0    |\n",
    "| Casilla con brisa     | 1 |\n",
    "| Casilla con pozo     | 2 |\n",
    "| Casilla con hedor     | 3 |\n",
    "| Casilla con Wumpus vivo    | 4 |"
   ]
  },
  {
   "cell_type": "markdown",
   "metadata": {},
   "source": [
    "Se inicializan los objetos necesarios:"
   ]
  },
  {
   "cell_type": "code",
   "execution_count": 2,
   "metadata": {},
   "outputs": [
    {
     "data": {
      "text/plain": [
       "[None, 'brisa', None, None, None]"
      ]
     },
     "execution_count": 2,
     "metadata": {},
     "output_type": "execute_result"
    }
   ],
   "source": [
    "# Se crea objeto de codificación\n",
    "cods = codigos(4, 4, 5)\n",
    "# Se crean las formulas de representación del mundo\n",
    "lista_formulas = formulas_brisa(cods, 4) \n",
    "lista_formulas += formulas_hedor(cods)\n",
    "lista_formulas += formulas_segura(cods)\n",
    "# Se inicializa la base de conocimiento\n",
    "Base_wumpus = lp_query(lista_formulas, cods)\n",
    "# Base_wumpus.visualizar()\n",
    "# Se inicializa el mundo\n",
    "W = wumpus()\n",
    "# Se percibe la casilla inicial\n",
    "percibir(W)"
   ]
  },
  {
   "cell_type": "markdown",
   "metadata": {},
   "source": [
    "Recuerde que los sensores del agente devuelven información así:\n",
    "\n",
    "[hedor, brisa, brillo, batacazo, grito]"
   ]
  },
  {
   "cell_type": "markdown",
   "metadata": {},
   "source": [
    "## Encontrando casillas seguras para transitar\n",
    "\n",
    "Con base en la información sensorial, pregúntese a sí mismo: \"Mí mismo, ¿qué casillas creo que son seguras?\"\n",
    "\n",
    "El agente puede responder a esta pregunta usando la función `ASK` sobre la casilla presente y las adyacentes. Pero es necesario incluir la información perceptual en la base de conocimiento para poder hacer las inferencias correctas. Para ello, creamos la función `make_percept_sentence`, la cual crea los literales que se van a incluir en la base de conocimiento:"
   ]
  },
  {
   "cell_type": "code",
   "execution_count": 3,
   "metadata": {},
   "outputs": [],
   "source": [
    "def make_percept_sentence(percept, indice, cods):\n",
    "    # Crea una conjuncion de literales para añadir a la base de datos\n",
    "    \n",
    "    literales = ''\n",
    "    x, y = indice\n",
    "    if percept[0] != None:\n",
    "        literales += cods.P(x, y, 3)\n",
    "    else:\n",
    "        literales += '-' + cods.P(x, y, 3)\n",
    "    if percept[1] != None:\n",
    "        literales += 'Y' + cods.P(x, y, 1)\n",
    "    else:\n",
    "        literales += 'Y-' + cods.P(x, y, 1)\n",
    "    return literales"
   ]
  },
  {
   "cell_type": "code",
   "execution_count": 4,
   "metadata": {},
   "outputs": [],
   "source": [
    "datos = make_percept_sentence(percibir(W), W.heroe, cods)\n",
    "TELL(Base_wumpus, datos)\n",
    "# Base_wumpus.visualizar()"
   ]
  },
  {
   "cell_type": "markdown",
   "metadata": {},
   "source": [
    "Preguntamos ahora a la base de conocimiento cuáles de las casillas adyacentes y la actual son seguras:"
   ]
  },
  {
   "cell_type": "code",
   "execution_count": 5,
   "metadata": {},
   "outputs": [
    {
     "name": "stdout",
     "output_type": "stream",
     "text": [
      "Casilla (0, 0) es segura? False\n",
      "Casilla (1, 0) es segura? False\n",
      "Casilla (0, 1) es segura? False\n"
     ]
    }
   ],
   "source": [
    "for casilla in [W.heroe] + adyacentes(W.heroe):\n",
    "    x, y = casilla\n",
    "    objetivo = cods.P(x, y, 0)\n",
    "    print(\"Casilla\", casilla, \"es segura?\", ASK(objetivo, True, Base_wumpus))"
   ]
  },
  {
   "cell_type": "markdown",
   "metadata": {},
   "source": [
    "**Ejercicio 1:**\n",
    "\n",
    "Observe que el agente no cree que la casilla inicial es segura. Complete la función `make_percept_sentence` para incluir los literales que afirman que en la casilla actual no hay un pozo ni está el Wumpus vivo (si los hubiera, el agente estaría muerto)."
   ]
  },
  {
   "cell_type": "markdown",
   "metadata": {},
   "source": [
    "**Respuesta:**\n",
    "\n",
    "Una posible implementación es la siguiente:"
   ]
  },
  {
   "cell_type": "code",
   "execution_count": 6,
   "metadata": {},
   "outputs": [],
   "source": [
    "def make_percept_sentence(percept, indice, cods):\n",
    "    # Crea una conjuncion de literales para añadir a la base de datos\n",
    "    \n",
    "    literales = ''\n",
    "    x, y = indice\n",
    "    if percept[0] != None:\n",
    "        literales += cods.P(x, y, 3)\n",
    "    else:\n",
    "        literales += '-' + cods.P(x, y, 3)\n",
    "    if percept[1] != None:\n",
    "        literales += 'Y' + cods.P(x, y, 1)\n",
    "    else:\n",
    "        literales += 'Y-' + cods.P(x, y, 1)\n",
    "    literales += 'Y-' + cods.P(x, y, 2)\n",
    "    literales += 'Y-' + cods.P(x, y, 4)\n",
    "    return literales"
   ]
  },
  {
   "cell_type": "markdown",
   "metadata": {},
   "source": [
    "---"
   ]
  },
  {
   "cell_type": "markdown",
   "metadata": {},
   "source": [
    "Volvemos a determinar qué casillas son seguras desde el punto de vista del agente. Esta vez, guardamos estos datos en la base de conocimiento:"
   ]
  },
  {
   "cell_type": "code",
   "execution_count": 7,
   "metadata": {},
   "outputs": [
    {
     "name": "stdout",
     "output_type": "stream",
     "text": [
      "Casilla (0, 0) es segura!\n",
      "Casilla (1, 0) NO es segura!\n",
      "Casilla (0, 1) NO es segura!\n",
      "Datos:\n",
      "-Hedor(0, 0)\n",
      "Brisa(0, 0)\n",
      "-Pozo(0, 0)\n",
      "-Wumpus(0, 0)\n",
      "Segura(0, 0)\n"
     ]
    }
   ],
   "source": [
    "datos = make_percept_sentence(percibir(W), W.heroe, cods)\n",
    "TELL(Base_wumpus, datos)\n",
    "for casilla in [W.heroe] + adyacentes(W.heroe):\n",
    "    x, y = casilla\n",
    "    objetivo = cods.P(x, y, 0)\n",
    "    if ASK(objetivo, True, Base_wumpus):\n",
    "        print(\"Casilla\", casilla, \"es segura!\")\n",
    "        TELL(Base_wumpus, cods.P(x, y, 0))\n",
    "    else:\n",
    "        print(\"Casilla\", casilla, \"NO es segura!\")\n",
    "        \n",
    "Base_wumpus.visualizar('datos')  # Opciones de visualizar: 'todo', 'datos', 'reglas'"
   ]
  },
  {
   "cell_type": "markdown",
   "metadata": {},
   "source": [
    "### Planeación de rutas"
   ]
  },
  {
   "cell_type": "markdown",
   "metadata": {},
   "source": [
    "Si ninguna de las casillas adyacentes es segura, el agente está en un aprieto. Puede elegir entre salir de la cueva (y olvidarse del oro) o dar un paso en la oscuridad (y atenerse a las consecuencias!). \n",
    "\n",
    "Antes de considerar el proceso de toma de decisiones, pensemos en que se requiere un plan para moverse desde la casilla actual hasta una casilla objetivo. Poder diseñar estos planes le servirá al agente cuando necesite avanzar a casillas adyacentes, devolverse a la casilla inicial y salir de la cueva, etc.\n",
    "\n",
    "Planear una ruta desde la casilla actual hasta una casilla objetivo a la cual se desea ir es un problema muy similar a los que ya hemos encontrado en sesiones pasadas. Debemos definir un problema `rejilla` y luego usar un algoritmo de búsqueda sobre este.\n",
    "\n",
    "**Importante:** En este punto estamos considerando que la planeación de una ruta consiste en determinar qué casillas debe transitar el agente. Más adelante volveremos sobre el problema de convertir una lista de casillas en la correspondiente lista de acciones que el agente debe ejecutar."
   ]
  },
  {
   "cell_type": "markdown",
   "metadata": {},
   "source": [
    "**Ejercicio 2:**\n",
    "\n",
    "Implemente un código python para definir el problema `rejilla`, el cual debe tener un atributo `estado_inicial` con la información de la posición del agente, un atributo `estado_objetivo` (el cual se inicializa con la casilla inicial), y un atributo `casillas_seguras` con la información de cuáles casillas el agente cree que son seguras. También debe incluir los métodos `acciones_aplicables` (moverse a una casilla adyacente que se cree que es segura), `transicion`, `test_objetivo` y `costo` (donde el costo de cada movimiento es 1)."
   ]
  },
  {
   "cell_type": "markdown",
   "metadata": {},
   "source": [
    "**Respuesta:**\n",
    "\n",
    "Una posible implementación es la siguiente:"
   ]
  },
  {
   "cell_type": "code",
   "execution_count": 11,
   "metadata": {
    "colab": {},
    "colab_type": "code",
    "id": "x6tDfxY10dYg"
   },
   "outputs": [],
   "source": [
    "class rejilla:\n",
    "    \n",
    "    # Problema del tránsito por la rejilla\n",
    "    # desde donde está el héroe hasta una\n",
    "    # casilla objetivo\n",
    "    \n",
    "    def __init__(self, actual, objetivo, seguras):\n",
    "        self.estado_inicial = actual\n",
    "        self.estado_objetivo = objetivo\n",
    "        self.casillas_seguras = seguras\n",
    "    \n",
    "    def acciones_aplicables(self, estado):\n",
    "        return [casilla for casilla in adyacentes(estado) if casilla in self.casillas_seguras]\n",
    "    \n",
    "    def transicion(self, estado, accion):\n",
    "        return accion\n",
    "       \n",
    "    def test_objetivo(self, estado):\n",
    "        return estado == self.estado_objetivo\n",
    "    \n",
    "    def costo(self, estado, accion):\n",
    "        return 1"
   ]
  },
  {
   "cell_type": "code",
   "execution_count": 12,
   "metadata": {
    "colab": {},
    "colab_type": "code",
    "id": "Ag4i7XTQ0dYk",
    "outputId": "beac631a-6a24-45fc-a168-f45272817293"
   },
   "outputs": [
    {
     "name": "stdout",
     "output_type": "stream",
     "text": [
      "Estado inicial: (0, 0)\n",
      "Estado objetivo: (3, 2)\n"
     ]
    }
   ],
   "source": [
    "seguras = [(x, y) for x in range(4) for y in range(4)] # Supongamos que todas las casillas son seguras\n",
    "R = rejilla(W.heroe, (3,2) , seguras)\n",
    "print(\"Estado inicial:\", R.estado_inicial)\n",
    "print(\"Estado objetivo:\", R.estado_objetivo)"
   ]
  },
  {
   "cell_type": "markdown",
   "metadata": {},
   "source": [
    "---"
   ]
  },
  {
   "cell_type": "markdown",
   "metadata": {},
   "source": [
    "**Ejercicio 3:**\n",
    "\n",
    "Una manera muy eficiente de buscar una ruta desde la casilla inicial hasta la casilla objetivo es mediante una función heurística $f$ que resulta de sumar el costo del nodo $g$ con la distancia Manhattan $h$ entre la casilla inicial y la casilla objetivo. En general, a la búsqueda que ordena los nodos en la frontera de acuerdo a esta suma se le conoce como $A^*$-search. Implemente un código python para el algoritmo $A^*$-search."
   ]
  },
  {
   "cell_type": "markdown",
   "metadata": {},
   "source": [
    "**Respuesta:**\n",
    "\n",
    "Una posible implementación es la siguiente:"
   ]
  },
  {
   "cell_type": "code",
   "execution_count": 13,
   "metadata": {},
   "outputs": [],
   "source": [
    "def f(n, indice):\n",
    "    # Distancia Manhattan\n",
    "    # Input: n, nodo de la rejilla\n",
    "    #        indice, casilla como pareja de enteros (x,y)\n",
    "    x1, y1 = n.estado\n",
    "    x2, y2 = indice\n",
    "    return abs(x1 - x2) + abs(y1 - y2) + n.costo\n",
    "\n",
    "def nodo_en_frontera(n, objetivo, frontera):\n",
    "    if f(n, objetivo) not in frontera.keys():\n",
    "        return False\n",
    "    elif n not in frontera[f(n, objetivo)]:\n",
    "        return False\n",
    "    else:\n",
    "        return True"
   ]
  },
  {
   "cell_type": "code",
   "execution_count": 14,
   "metadata": {},
   "outputs": [],
   "source": [
    "def A_star_search(problema):\n",
    "    \n",
    "    raiz = nodo(problema.estado_inicial, None, None, 0)    \n",
    "    objetivo = problema.estado_objetivo\n",
    "    frontera = {f(raiz, objetivo): [raiz]}\n",
    "    explored = []\n",
    "    \n",
    "    while (len(frontera) > 0):\n",
    "        n = choice(frontera[min(frontera.keys())]) \n",
    "        frontera[f(n, objetivo)].remove(n)\n",
    "        if len(frontera[f(n, objetivo)]) == 0:\n",
    "            del frontera[f(n, objetivo)]\n",
    "        explored.append(n.estado)\n",
    "        acciones = problema.acciones_aplicables(n.estado)\n",
    "        for a in acciones:\n",
    "            N = nodo_hijo(problema, n, a)\n",
    "            if problema.test_objetivo(N.estado):\n",
    "                return N\n",
    "            elif (N.estado not in explored) and not nodo_en_frontera(N, objetivo, frontera):                \n",
    "                try:\n",
    "                    frontera[f(N, objetivo)].append(N)\n",
    "                except:\n",
    "                    frontera[f(N, objetivo)] = [N]\n",
    "    \n",
    "    return None"
   ]
  },
  {
   "cell_type": "markdown",
   "metadata": {},
   "source": [
    "Verifique su código planeando una ruta desde la casilla incial a la casilla (3, 2), asumiendo que todas las casillas son seguras."
   ]
  },
  {
   "cell_type": "code",
   "execution_count": 15,
   "metadata": {},
   "outputs": [
    {
     "data": {
      "text/plain": [
       "[(1, 0), (1, 1), (2, 1), (2, 2), (3, 2)]"
      ]
     },
     "execution_count": 15,
     "metadata": {},
     "output_type": "execute_result"
    }
   ],
   "source": [
    "seguras = [(x, y) for x in range(4) for y in range(4)]\n",
    "R = rejilla((0,0), (3,2) , seguras)\n",
    "camino = A_star_search(R)\n",
    "camino = solucion(camino)\n",
    "camino"
   ]
  },
  {
   "cell_type": "markdown",
   "metadata": {},
   "source": [
    "---"
   ]
  },
  {
   "cell_type": "markdown",
   "metadata": {},
   "source": [
    "El siguiente es un sencillo código para transformar la lista de casillas en una lista de acciones que puede ejecutar el agente para transitar las casillas:"
   ]
  },
  {
   "cell_type": "code",
   "execution_count": 16,
   "metadata": {},
   "outputs": [],
   "source": [
    "def voltear(direccion_inicial, direccion_final):\n",
    "    acciones = []\n",
    "    if direccion_inicial == direccion_final:\n",
    "        return acciones\n",
    "    else:\n",
    "        if direccion_final == 'este':\n",
    "            if direccion_inicial == 'norte':\n",
    "                acciones.append('voltearDerecha')\n",
    "            elif direccion_inicial == 'sur':\n",
    "                acciones.append('voltearIzquierda')\n",
    "            elif direccion_inicial == 'oeste':\n",
    "                acciones.append('voltearDerecha')\n",
    "                acciones.append('voltearDerecha')\n",
    "        elif direccion_final == 'norte':\n",
    "            if direccion_inicial == 'este':\n",
    "                acciones.append('voltearIzquierda')\n",
    "            elif direccion_inicial == 'sur':\n",
    "                acciones.append('voltearIzquierda')\n",
    "                acciones.append('voltearIzquierda')\n",
    "            elif direccion_inicial == 'oeste':\n",
    "                acciones.append('voltearDerecha')\n",
    "        elif direccion_final == 'oeste':\n",
    "            if direccion_inicial == 'este':\n",
    "                acciones.append('voltearIzquierda')\n",
    "                acciones.append('voltearIzquierda')\n",
    "            elif direccion_inicial == 'sur':\n",
    "                acciones.append('voltearDerecha')\n",
    "            elif direccion_inicial == 'norte':\n",
    "                acciones.append('voltearIzquierda')\n",
    "        elif direccion_final == 'sur':\n",
    "            if direccion_inicial == 'este':\n",
    "                acciones.append('voltearDerecha')\n",
    "            elif direccion_inicial == 'norte':\n",
    "                acciones.append('voltearDerecha')\n",
    "                acciones.append('voltearDerecha')\n",
    "            elif direccion_inicial == 'oeste':\n",
    "                acciones.append('voltearIzquierda')\n",
    "    return acciones\n",
    "\n",
    "def acciones_camino(camino, direccion):\n",
    "    acciones = []\n",
    "    for i in range(len(camino) - 1):\n",
    "        x1, y1 = camino[i]\n",
    "        x2, y2 = camino[i + 1]\n",
    "        diferencia_x = x2 - x1\n",
    "        diferencia_y = y2 - y1\n",
    "        if (diferencia_x != 0) and (diferencia_y != 0):\n",
    "            print(\"Camino incorrecto!: No debe incluir diagonales.\")\n",
    "            return None\n",
    "        elif diferencia_x > 0:            \n",
    "            acciones += voltear(direccion, 'este')\n",
    "            direccion = 'este'\n",
    "        elif diferencia_x < 0:\n",
    "            acciones += voltear(direccion, 'oeste')\n",
    "            direccion = 'oeste'\n",
    "        elif diferencia_y > 0:            \n",
    "            acciones += voltear(direccion, 'norte')\n",
    "            direccion = 'norte'\n",
    "        elif diferencia_y < 0:\n",
    "            acciones += voltear(direccion, 'sur')\n",
    "            direccion = 'sur'\n",
    "        acciones.append('adelante')\n",
    "    return acciones\n"
   ]
  },
  {
   "cell_type": "code",
   "execution_count": 17,
   "metadata": {},
   "outputs": [
    {
     "data": {
      "text/plain": [
       "[(0, 0), (1, 0), (1, 1), (2, 1), (2, 2), (3, 2)]"
      ]
     },
     "execution_count": 17,
     "metadata": {},
     "output_type": "execute_result"
    }
   ],
   "source": [
    "camino = [(0,0)] + camino\n",
    "camino"
   ]
  },
  {
   "cell_type": "code",
   "execution_count": 18,
   "metadata": {},
   "outputs": [
    {
     "name": "stdout",
     "output_type": "stream",
     "text": [
      "['adelante', 'voltearIzquierda', 'adelante', 'voltearDerecha', 'adelante', 'voltearIzquierda', 'adelante', 'voltearDerecha', 'adelante']\n"
     ]
    }
   ],
   "source": [
    "acciones = acciones_camino(camino, W.direccion)\n",
    "print(acciones)"
   ]
  },
  {
   "cell_type": "markdown",
   "metadata": {},
   "source": [
    "## Toma de decisiones"
   ]
  },
  {
   "cell_type": "code",
   "execution_count": 19,
   "metadata": {},
   "outputs": [],
   "source": [
    "def hybrid_wumpus_agent(percept):\n",
    "    \n",
    "    global W\n",
    "    global Base_wumpus\n",
    "    global cods\n",
    "    global rejilla\n",
    "    global plan\n",
    "    \n",
    "    # Determina la locación y direccion actual\n",
    "    locacion = W.heroe\n",
    "    direccion = W.direccion\n",
    "    # Incluye la información de los sensores en la base de datos\n",
    "    datos = make_percept_sentence(percept, locacion, cods)\n",
    "    TELL(Base_wumpus, datos)\n",
    "    # Razona para determinar qué casillas son seguras\n",
    "    for casilla in [locacion] + adyacentes(locacion):\n",
    "        x, y = casilla\n",
    "        objetivo = cods.P(x, y, 0)\n",
    "        if ASK(objetivo, True, Base_wumpus):\n",
    "            TELL(Base_wumpus, cods.P(x, y, 0))\n",
    "    # Obtiene de la base de datos las casillas seguras\n",
    "    seguras = casillas_seguras(Base_wumpus, cods)\n",
    "    # Planea moverse a una casilla segura\n",
    "    if (len(plan) > 0) and (len(seguras) > 1):\n",
    "        objetivo = choice([casilla for casilla in seguras if casilla!=locacion])\n",
    "        R = rejilla(locacion, objetivo, seguras)\n",
    "        camino = A_star_search(R)\n",
    "        if camino != None:\n",
    "            camino = solucion(camino)\n",
    "        else:\n",
    "            camino = []\n",
    "        plan = acciones_camino([locacion] + camino, direccion)\n",
    "    else:\n",
    "        objetivo = (0,0)\n",
    "        R = rejilla(locacion, objetivo, seguras)\n",
    "        camino = A_star_search(R)\n",
    "        if camino != None:\n",
    "            camino = solucion(camino)\n",
    "        else:\n",
    "            camino = []\n",
    "        print\n",
    "        plan = acciones_camino([locacion] + camino, direccion)\n",
    "        plan += ['salir']\n",
    "    accion = plan.pop(0)\n",
    "    return accion        "
   ]
  },
  {
   "cell_type": "code",
   "execution_count": 20,
   "metadata": {},
   "outputs": [
    {
     "name": "stdout",
     "output_type": "stream",
     "text": [
      "[None, None, None, None, None]\n"
     ]
    }
   ],
   "source": [
    "Base_wumpus = lp_query(lista_formulas, cods)\n",
    "# Base_wumpus.visualizar()\n",
    "# Se inicializa el mundo\n",
    "W = wumpus()\n",
    "plan = []\n",
    "print(percibir(W))"
   ]
  },
  {
   "cell_type": "code",
   "execution_count": 21,
   "metadata": {
    "scrolled": true
   },
   "outputs": [
    {
     "ename": "NameError",
     "evalue": "name 'casillas_seguras' is not defined",
     "output_type": "error",
     "traceback": [
      "\u001b[0;31m---------------------------------------------------------------------------\u001b[0m",
      "\u001b[0;31mNameError\u001b[0m                                 Traceback (most recent call last)",
      "\u001b[0;32m<ipython-input-21-c148e19dda6d>\u001b[0m in \u001b[0;36m<module>\u001b[0;34m\u001b[0m\n\u001b[1;32m      1\u001b[0m \u001b[0;32mwhile\u001b[0m \u001b[0mW\u001b[0m\u001b[0;34m.\u001b[0m\u001b[0mjuego_activo\u001b[0m\u001b[0;34m:\u001b[0m\u001b[0;34m\u001b[0m\u001b[0;34m\u001b[0m\u001b[0m\n\u001b[0;32m----> 2\u001b[0;31m     \u001b[0maccion\u001b[0m \u001b[0;34m=\u001b[0m \u001b[0mhybrid_wumpus_agent\u001b[0m\u001b[0;34m(\u001b[0m\u001b[0mpercibir\u001b[0m\u001b[0;34m(\u001b[0m\u001b[0mW\u001b[0m\u001b[0;34m)\u001b[0m\u001b[0;34m)\u001b[0m\u001b[0;34m\u001b[0m\u001b[0;34m\u001b[0m\u001b[0m\n\u001b[0m\u001b[1;32m      3\u001b[0m     \u001b[0mW\u001b[0m\u001b[0;34m.\u001b[0m\u001b[0mtransicion\u001b[0m\u001b[0;34m(\u001b[0m\u001b[0maccion\u001b[0m\u001b[0;34m)\u001b[0m\u001b[0;34m\u001b[0m\u001b[0;34m\u001b[0m\u001b[0m\n\u001b[1;32m      4\u001b[0m     \u001b[0mW\u001b[0m\u001b[0;34m.\u001b[0m\u001b[0mpintar_casilla\u001b[0m\u001b[0;34m(\u001b[0m\u001b[0;34m)\u001b[0m\u001b[0;34m\u001b[0m\u001b[0;34m\u001b[0m\u001b[0m\n",
      "\u001b[0;32m<ipython-input-19-05d9c7e5902f>\u001b[0m in \u001b[0;36mhybrid_wumpus_agent\u001b[0;34m(percept)\u001b[0m\n\u001b[1;32m     20\u001b[0m             \u001b[0mTELL\u001b[0m\u001b[0;34m(\u001b[0m\u001b[0mBase_wumpus\u001b[0m\u001b[0;34m,\u001b[0m \u001b[0mcods\u001b[0m\u001b[0;34m.\u001b[0m\u001b[0mP\u001b[0m\u001b[0;34m(\u001b[0m\u001b[0mx\u001b[0m\u001b[0;34m,\u001b[0m \u001b[0my\u001b[0m\u001b[0;34m,\u001b[0m \u001b[0;36m0\u001b[0m\u001b[0;34m)\u001b[0m\u001b[0;34m)\u001b[0m\u001b[0;34m\u001b[0m\u001b[0;34m\u001b[0m\u001b[0m\n\u001b[1;32m     21\u001b[0m     \u001b[0;31m# Obtiene de la base de datos las casillas seguras\u001b[0m\u001b[0;34m\u001b[0m\u001b[0;34m\u001b[0m\u001b[0;34m\u001b[0m\u001b[0m\n\u001b[0;32m---> 22\u001b[0;31m     \u001b[0mseguras\u001b[0m \u001b[0;34m=\u001b[0m \u001b[0mcasillas_seguras\u001b[0m\u001b[0;34m(\u001b[0m\u001b[0mBase_wumpus\u001b[0m\u001b[0;34m,\u001b[0m \u001b[0mcods\u001b[0m\u001b[0;34m)\u001b[0m\u001b[0;34m\u001b[0m\u001b[0;34m\u001b[0m\u001b[0m\n\u001b[0m\u001b[1;32m     23\u001b[0m     \u001b[0;31m# Planea moverse a una casilla segura\u001b[0m\u001b[0;34m\u001b[0m\u001b[0;34m\u001b[0m\u001b[0;34m\u001b[0m\u001b[0m\n\u001b[1;32m     24\u001b[0m     \u001b[0;32mif\u001b[0m \u001b[0;34m(\u001b[0m\u001b[0mlen\u001b[0m\u001b[0;34m(\u001b[0m\u001b[0mplan\u001b[0m\u001b[0;34m)\u001b[0m \u001b[0;34m>\u001b[0m \u001b[0;36m0\u001b[0m\u001b[0;34m)\u001b[0m \u001b[0;32mand\u001b[0m \u001b[0;34m(\u001b[0m\u001b[0mlen\u001b[0m\u001b[0;34m(\u001b[0m\u001b[0mseguras\u001b[0m\u001b[0;34m)\u001b[0m \u001b[0;34m>\u001b[0m \u001b[0;36m1\u001b[0m\u001b[0;34m)\u001b[0m\u001b[0;34m:\u001b[0m\u001b[0;34m\u001b[0m\u001b[0;34m\u001b[0m\u001b[0m\n",
      "\u001b[0;31mNameError\u001b[0m: name 'casillas_seguras' is not defined"
     ]
    }
   ],
   "source": [
    "while W.juego_activo:\n",
    "    percept = percibir(W)\n",
    "    accion = hybrid_wumpus_agent(percept)\n",
    "    W.transicion(accion)\n",
    "    W.pintar_casilla()"
   ]
  },
  {
   "cell_type": "markdown",
   "metadata": {
    "colab_type": "text",
    "id": "S4x5lJfd0dYM"
   },
   "source": [
    "<img src=\"./imagenes/hybrid-wumpus-agent.png\" width=\"350\">"
   ]
  },
  {
   "cell_type": "markdown",
   "metadata": {},
   "source": [
    "**Ejercicio 3:**\n",
    "\n",
    "Use una lista como la variable *frontera* e implemente la función `tree_search` para resolver el problema de las ocho damas.\n",
    "\n",
    "***Importante:*** Limíte la cantidad de hijos generados por un nodo a sólo 3."
   ]
  },
  {
   "cell_type": "code",
   "execution_count": null,
   "metadata": {},
   "outputs": [],
   "source": []
  },
  {
   "cell_type": "markdown",
   "metadata": {},
   "source": [
    "**Respuesta:**\n",
    "\n",
    "Una posible implementación es la siguiente:"
   ]
  },
  {
   "cell_type": "code",
   "execution_count": null,
   "metadata": {},
   "outputs": [],
   "source": []
  },
  {
   "cell_type": "markdown",
   "metadata": {},
   "source": [
    "---"
   ]
  },
  {
   "cell_type": "code",
   "execution_count": null,
   "metadata": {},
   "outputs": [],
   "source": [
    "l = A_star_search(R)\n",
    "if l: \n",
    "    print(\"Solución:\", solucion(l))\n",
    "else:\n",
    "    print(\"No hay solución!\")"
   ]
  },
  {
   "cell_type": "markdown",
   "metadata": {},
   "source": [
    "---"
   ]
  },
  {
   "cell_type": "markdown",
   "metadata": {
    "colab_type": "text",
    "id": "7KKT2A0G0dYu"
   },
   "source": [
    "**Ejercicio 4:**\n",
    "\n",
    "Leer en el texto guía la discusión sobre caminos redundantes y el algoritmo `graph_search` (sección 3.3, págs. 76-77)."
   ]
  },
  {
   "cell_type": "markdown",
   "metadata": {},
   "source": [
    "---"
   ]
  },
  {
   "cell_type": "markdown",
   "metadata": {},
   "source": [
    "---"
   ]
  },
  {
   "cell_type": "markdown",
   "metadata": {},
   "source": [
    "### En este notebook usted aprendió\n",
    "\n",
    "* Cómo definir formalmente un problema e implementarlo en python.\n",
    "\n",
    "* En qué consiste un árbol de búsqueda y cómo implementarlo en python.\n",
    "\n",
    "* Cómo realizar una búsqueda mediante los métodos *breadth-first* y *depth-limited* e implementarlos en python."
   ]
  }
 ],
 "metadata": {
  "colab": {
   "name": "arboles_busqueda.ipynb",
   "provenance": []
  },
  "kernelspec": {
   "display_name": "Python 3",
   "language": "python",
   "name": "python3"
  },
  "language_info": {
   "codemirror_mode": {
    "name": "ipython",
    "version": 3
   },
   "file_extension": ".py",
   "mimetype": "text/x-python",
   "name": "python",
   "nbconvert_exporter": "python",
   "pygments_lexer": "ipython3",
   "version": "3.8.3"
  }
 },
 "nbformat": 4,
 "nbformat_minor": 1
}
