{
 "cells": [
  {
   "cell_type": "markdown",
   "metadata": {
    "colab_type": "text",
    "id": "TpmFfXsQ0dYI"
   },
   "source": [
    "## El mundo del Wumpus (2/2)\n",
    "\n",
    "Adaptado de Russell & Norvig (2016), cap. 7."
   ]
  },
  {
   "cell_type": "markdown",
   "metadata": {
    "colab_type": "text",
    "id": "V3SkDSWJ0dYJ"
   },
   "source": [
    "### Objetivo\n",
    "\n",
    "En este notebook completaremos la arquitectura necesaria para construir el programa de agente que permita superar el reto de encontrar el oro en la cueva del Wumpus (sin morir en el intento)."
   ]
  },
  {
   "cell_type": "markdown",
   "metadata": {
    "colab_type": "text",
    "id": "5HnQ_gA70dYL"
   },
   "source": [
    "### Secciones\n",
    "\n",
    "Desarrollaremos la explicación de la siguiente manera:\n",
    "\n",
    "1. Recorderis: Arquitectura de agente basado en conocimiento.\n",
    "* Encontrar las casillas seguras para transitar.\n",
    "* Fluentes y el aspecto dinámico del mundo.\n",
    "* Diseñar un plan para ir de la casilla actual a una casilla objetivo.\n",
    "* Toma de decisiones y planeación para superar el mundo del Wumpus."
   ]
  },
  {
   "cell_type": "markdown",
   "metadata": {},
   "source": [
    "### Recorderis\n",
    "\n",
    "Todo el código relevante del anterior notebook se puede importar del paquete Wumpus:"
   ]
  },
  {
   "cell_type": "code",
   "execution_count": 1,
   "metadata": {},
   "outputs": [],
   "source": [
    "import time\n",
    "from IPython.display import clear_output\n",
    "from Wumpus import *\n",
    "%matplotlib notebook"
   ]
  },
  {
   "cell_type": "markdown",
   "metadata": {},
   "source": [
    "La siguiente tabla puede ser útil para futuras referencias y puede irse completando a medida que se vaya avanzando en la representación:\n",
    "\n",
    "| Información | Número de codificación |\n",
    "| :---: | :---: |\n",
    "| Casilla segura     | 0    |\n",
    "| Casilla con brisa     | 1 |\n",
    "| Casilla con pozo     | 2 |\n",
    "| Casilla con hedor     | 3 |\n",
    "| Casilla con Wumpus vivo    | 4 |\n",
    "| Casilla visitada     | 5 |"
   ]
  },
  {
   "cell_type": "markdown",
   "metadata": {},
   "source": [
    "Se inicializan los objetos necesarios:"
   ]
  },
  {
   "cell_type": "code",
   "execution_count": 2,
   "metadata": {},
   "outputs": [
    {
     "data": {
      "text/plain": [
       "[None, None, None, None, None]"
      ]
     },
     "execution_count": 2,
     "metadata": {},
     "output_type": "execute_result"
    }
   ],
   "source": [
    "# Se crea objeto de codificación\n",
    "cods = codigos(4, 4, 6)\n",
    "# Se crean las formulas de representación del mundo\n",
    "lista_formulas = formulas_brisa(cods) \n",
    "lista_formulas += formulas_hedor(cods)\n",
    "lista_formulas += formulas_segura(cods)\n",
    "# Se inicializa la base de conocimiento\n",
    "Base_wumpus = lp_query(lista_formulas, cods)\n",
    "# Base_wumpus.visualizar()\n",
    "# Se inicializa el mundo\n",
    "W = wumpus()\n",
    "# Se percibe la casilla inicial\n",
    "percibir(W)"
   ]
  },
  {
   "cell_type": "markdown",
   "metadata": {},
   "source": [
    "Recuerde que los sensores del agente devuelven información así:\n",
    "\n",
    "[hedor, brisa, brillo, batacazo, grito]\n",
    "\n",
    "Ahora bien, recordemos también que estamos diseñando un agente basado en conocimiento. Esto quiere decir que las acciones del agente no se deciden con base en la información sensorial. Más bien, esta debe incluirse apropiadamente en la base de conocimiento, pues es desde aquí que se elaboran los planes y se decide cómo actuar.\n",
    "\n",
    "<img src=\"./imagenes/goal-based.png\" width=\"400\">\n",
    "\n",
    "Esto genera un par de tareas para el diseñador, que vamos a considerar a continuación: Tomar la información sensorial y crear las fórmulas para incluir en la base de conocimiento; y considerar el aspecto dinámico del mundo."
   ]
  },
  {
   "cell_type": "markdown",
   "metadata": {},
   "source": [
    "## Encontrando casillas seguras para transitar\n",
    "\n",
    "Con base en la información sensorial, pregúntese a sí mismo: \"Mí mismo, ¿qué casillas creo que son seguras?\". El agente puede responder a esta pregunta usando la función `ASK` sobre la casilla presente y las adyacentes. Pero es necesario incluir la información perceptual en la base de conocimiento para poder hacer las inferencias correctas. Para ello, creamos la función `make_percept_sentence`, la cual crea los literales que se van a incluir en la base de conocimiento:"
   ]
  },
  {
   "cell_type": "code",
   "execution_count": 3,
   "metadata": {},
   "outputs": [],
   "source": [
    "def make_percept_sentence(percept, indice, cods):\n",
    "    # Crea una conjuncion de literales para añadir a la base de datos   \n",
    "    literales = ''\n",
    "    x, y = indice\n",
    "    if percept[0] != None:\n",
    "        literales += cods.P(x, y, 3)\n",
    "    else:\n",
    "        literales += '-' + cods.P(x, y, 3)\n",
    "    if percept[1] != None:\n",
    "        literales += 'Y' + cods.P(x, y, 1)\n",
    "    else:\n",
    "        literales += 'Y-' + cods.P(x, y, 1)\n",
    "    return literales"
   ]
  },
  {
   "cell_type": "code",
   "execution_count": 4,
   "metadata": {},
   "outputs": [
    {
     "name": "stdout",
     "output_type": "stream",
     "text": [
      "Datos:\n",
      "-Hedor(0, 0)\n",
      "-Brisa(0, 0)\n"
     ]
    }
   ],
   "source": [
    "datos = make_percept_sentence(percibir(W), W.heroe, cods)\n",
    "TELL(Base_wumpus, datos)\n",
    "Base_wumpus.visualizar('datos')  # Opciones de visualizar: 'todo' (default), 'datos', 'reglas'"
   ]
  },
  {
   "cell_type": "markdown",
   "metadata": {},
   "source": [
    "Preguntamos ahora a la base de conocimiento cuáles de las casillas adyacentes y la actual son seguras:"
   ]
  },
  {
   "cell_type": "code",
   "execution_count": 5,
   "metadata": {},
   "outputs": [
    {
     "name": "stdout",
     "output_type": "stream",
     "text": [
      "Casilla (0, 0) es segura? False\n",
      "Casilla (1, 0) es segura? True\n",
      "Casilla (0, 1) es segura? True\n"
     ]
    }
   ],
   "source": [
    "for casilla in [W.heroe] + adyacentes(W.heroe):\n",
    "    x, y = casilla\n",
    "    objetivo = cods.P(x, y, 0)\n",
    "    print(\"Casilla\", casilla, \"es segura?\", ASK(objetivo, True, Base_wumpus))"
   ]
  },
  {
   "cell_type": "markdown",
   "metadata": {},
   "source": [
    "**Ejercicio 1:**\n",
    "\n",
    "Observe que el agente no cree que la casilla en la que actualmente se encuentra (a saber, la casilla inicial) es segura. Complete la función `make_percept_sentence` para incluir los literales que afirman que en la casilla actual no hay un pozo ni está el Wumpus vivo (si los hubiera, el agente estaría muerto)."
   ]
  },
  {
   "cell_type": "markdown",
   "metadata": {},
   "source": [
    "**Respuesta:**\n",
    "\n",
    "Una posible implementación es la siguiente:"
   ]
  },
  {
   "cell_type": "code",
   "execution_count": 6,
   "metadata": {},
   "outputs": [],
   "source": [
    "def make_percept_sentence(percept, indice, cods):\n",
    "    # Crea una conjuncion de literales para añadir a la base de datos    \n",
    "    literales = ''\n",
    "    x, y = indice\n",
    "    if percept[0] != None:\n",
    "        literales += cods.P(x, y, 3)\n",
    "    else:\n",
    "        literales += '-' + cods.P(x, y, 3)\n",
    "    if percept[1] != None:\n",
    "        literales += 'Y' + cods.P(x, y, 1)\n",
    "    else:\n",
    "        literales += 'Y-' + cods.P(x, y, 1)\n",
    "    literales += 'Y-' + cods.P(x, y, 2)\n",
    "    literales += 'Y-' + cods.P(x, y, 4)\n",
    "    return literales"
   ]
  },
  {
   "cell_type": "markdown",
   "metadata": {},
   "source": [
    "---"
   ]
  },
  {
   "cell_type": "markdown",
   "metadata": {},
   "source": [
    "Volvemos a determinar qué casillas son seguras desde el punto de vista del agente. Esta vez, guardamos estos datos en la base de conocimiento e incluimos que la casilla actual ha sido visitada:"
   ]
  },
  {
   "cell_type": "code",
   "execution_count": 7,
   "metadata": {},
   "outputs": [
    {
     "name": "stdout",
     "output_type": "stream",
     "text": [
      "Casilla (0, 0) es segura!\n",
      "Casilla (1, 0) es segura!\n",
      "Casilla (0, 1) es segura!\n",
      "Datos:\n",
      "-Hedor(0, 0)\n",
      "-Brisa(0, 0)\n",
      "-Pozo(0, 0)\n",
      "-Wumpus(0, 0)\n",
      "Segura(0, 0)\n",
      "Segura(1, 0)\n",
      "Segura(0, 1)\n",
      "Visitada(0, 0)\n"
     ]
    }
   ],
   "source": [
    "datos = make_percept_sentence(percibir(W), W.heroe, cods)\n",
    "TELL(Base_wumpus, datos)\n",
    "for casilla in [W.heroe] + adyacentes(W.heroe):\n",
    "    x, y = casilla\n",
    "    objetivo = cods.P(x, y, 0)\n",
    "    if ASK(objetivo, True, Base_wumpus):\n",
    "        print(\"Casilla\", casilla, \"es segura!\")\n",
    "        TELL(Base_wumpus, cods.P(x, y, 0))\n",
    "    else:\n",
    "        print(\"Casilla\", casilla, \"NO es segura!\")\n",
    "\n",
    "x, y = W.heroe\n",
    "TELL(Base_wumpus, cods.P(x, y, 5)) # Incluir en base de conocimiento casilla actual visitada\n",
    "Base_wumpus.visualizar('datos')  # Opciones de visualizar: 'todo' (default), 'datos', 'reglas'"
   ]
  },
  {
   "cell_type": "markdown",
   "metadata": {},
   "source": [
    "### Fluentes y el aspecto dinámico del mundo\n",
    "\n",
    "Hasta este punto la base de conocimiento contiene información sobre las reglas concernientes al aspecto estático del mundo, pero es importante considerar el aspecto cambiante de este. Por ejemplo, el hecho de que una casilla brille o no debe manejarse con cuidado, pues es esencialmente distinto al hecho de que en la casilla haya un pozo o una brisa. Estos últimos hechos no cambian de valor de verdad conforme el héroe interactúa con el entorno. No obstante, el hecho de que en una casilla haya brillo cambia cuando el agente agarra el oro, pues en la casilla ya no habrá brillo. Esto genera una dificultad cuando la toma de decisiones se hace con base en la base de conocimiento, como lo consideramos en el presente caso.\n",
    "\n",
    "En efecto, observe que para la toma de decisiones es importante la información de que en la casilla actual hay brillo. Si esta información fuera almacenada como un literal estático, entonces una vez el agente incluya en su base de conocimiento que en la casilla $(x, y)$ hay brillo, siempre considerará que en esa casilla hay brillo. La dificultad con esto es la siguiente. Dado que el héroe entra a la guarida del Wumpus no por masoquismo sino porque desea encontrar el oro, entonces la condición de que en la celda actual haya un brillo tiene prioridad sobre todas las demás circunstancias. Es aquí que el agente sabe que debe toma el oro y planear su ruta de escape para salir de la cueva. Pero entonces, después de ejecutar la acción de agarrar, y a pesar de no percibir el brillo, en su base de conocimiento ya está la información de que en esta casilla hay un brillo. Entonces vuelve a planear agarrar el oro y a diseñar su ruta de escape. De nuevo, ejecuta la acción de agarrar (sin efecto alguno) y vuelve a percibir el entorno. Como en su base de conocimiento ya está la información de que en esta casilla hay un brillo, vuelve a planear agarrar el oro y a diseñar su ruta de escape, y así al infinito.\n",
    "\n",
    "Para solucionar este inconveniente, el hecho de que en una casilla haya brillo debe representarce mediante un *fluente*. Fluente, del latin *fluens* (fluyendo), es una manera \"fancy\" de referirse a letras proposicionales indexadas por un índice temporal. \n",
    "\n",
    "**Codificación de fluentes**\n",
    "\n",
    "Los fluentes requieren de un índice temporal, lo cual implica que debemos crear una codificación que cruce el índice temporal con la información sobre el cual versa la letra proposicional, sin que esta codificación entre en conflicto con la codificación de los hechos estáticos. Para ello, modificamos la clase `codigos` de la siguiente manera:"
   ]
  },
  {
   "cell_type": "code",
   "execution_count": 8,
   "metadata": {},
   "outputs": [],
   "source": [
    "def inicializar(self, Nf, Nc, No, Nt, Nfo):\n",
    "    self.Nf = Nf # Número de filas\n",
    "    self.Nc = Nc # Número de columnas\n",
    "    self.No = No # Número de opciones de información estática\n",
    "    self.Nt = Nt # Número de turnos de los fluentes\n",
    "    self.Nfo = Nfo # Número de opciones de información fluentes\n",
    "\n",
    "def F(self, t, o):\n",
    "    # método para la codificación de fluentes\n",
    "    v = self.codifica(t, o, self.Nt, self.Nfo)\n",
    "    codigo = chr(10000 + v) # NOS ASEGURAMOS DE NO INTERSECTAR LOS ATOMOS ESTATICOS\n",
    "    return codigo\n",
    "\n",
    "def Finv(self, codigo):\n",
    "    # Funcion que codifica un caracter en su respectiva fila f, columna c y objeto o\n",
    "    x = ord(codigo) - 10000\n",
    "    t, o = self.decodifica(x, self.Nt, self.Nfo)\n",
    "    return t, o\n",
    "\n",
    "def imprime_formula(self, fml):\n",
    "    for c in fml:\n",
    "        if c in ['Y', '>', '-']:\n",
    "            print(c, end=\"\")\n",
    "        else:\n",
    "            if ord(c) > 9999:\n",
    "                t, o = self.Finv(c)\n",
    "                if o == 0:\n",
    "                    print(\"Brillo(\" + str(t) + \")\", end=\"\")\n",
    "                elif o == 1:\n",
    "                    print(\"Agarrar(\" + str(t) + \")\", end=\"\")\n",
    "                elif o == 2:\n",
    "                    print(\"TenerFlecha(\" + str(t) + \")\", end=\"\")\n",
    "                elif o == 3:\n",
    "                    print(\"Disparar(\" + str(t) + \")\", end=\"\")\n",
    "                else:\n",
    "                    print(\"FLUENTE(\"  + str(t) + \")\", end=\"\")\n",
    "            else:\n",
    "                x, y, o = self.Pinv(c)\n",
    "                if o == 0:\n",
    "                    print(\"Segura\" + str((x, y)), end=\"\")\n",
    "                elif o == 1:\n",
    "                    print(\"Brisa\" + str((x, y)), end=\"\")\n",
    "                elif o == 2:\n",
    "                    print(\"Pozo\" + str((x, y)), end=\"\")\n",
    "                elif o == 3:\n",
    "                    print(\"Hedor\" + str((x, y)), end=\"\")\n",
    "                elif o == 4:\n",
    "                    print(\"Wumpus\" + str((x, y)), end=\"\")\n",
    "                elif o == 5:\n",
    "                    print(\"Visitada\" + str((x, y)), end=\"\")\n",
    "                else:\n",
    "                    print(\"ESTATICO\" + str((x, y)), end=\"\")\n",
    "\n",
    "# Incluye las funciones como métodos de la clase codigos\n",
    "setattr(codigos,\"__init__\", inicializar)\n",
    "setattr(codigos,\"F\", F)\n",
    "setattr(codigos,\"Finv\", Finv)\n",
    "setattr(codigos,\"imprime_formula\", imprime_formula)"
   ]
  },
  {
   "cell_type": "markdown",
   "metadata": {},
   "source": [
    "La siguiente tabla puede ser útil para futuras referencias y puede irse completando a medida que se vaya avanzando en la representación:\n",
    "\n",
    "| Fluente | Número de codificación |\n",
    "| :---: | :---: |\n",
    "| Brillo     | 0    |\n",
    "| Agarrar     | 1 |\n",
    "| TenerFlecha     | 2 |\n",
    "| Disparar     | 3 |\n",
    "\n",
    "\n",
    "**Axiomas**\n",
    "\n",
    "Además de representar los fluentes, es importante representar cómo las acciones realizadas por el agente los modifican. Podemos escribir el axioma que controla el fluente `Brillo` de un turno al siguiente. Observe que en el siguiente turno hay brillo si, y solo si, en el anterior hay brillo y no se ejecutó la acción `agarrar`:\n",
    "\n",
    "$Brillo(turno + 1) \\leftrightarrow \\Bigl(Brillo(turno) \\wedge \\neg Agarrar(turno) \\Bigr)$\n",
    "\n",
    "Para cumplir con la escritura de fórmulas en forma 'pseudo' cláusulas de Horn, escribimos:"
   ]
  },
  {
   "cell_type": "code",
   "execution_count": 61,
   "metadata": {},
   "outputs": [],
   "source": [
    "# Inicializamos nuevamente el objeto de codificacion\n",
    "#cods = codigos(4, 4, 6, 50, 2) # Permitimos máximo 50 turnos\n",
    "cods = codigos(4, 4, 6, 50, 4) # Permitimos máximo 50 turnos\n",
    "# Inicializamos nuevamente la base de conocimiento con este objeto de codificación\n",
    "Base_wumpus = lp_query(lista_formulas, cods)"
   ]
  },
  {
   "cell_type": "code",
   "execution_count": 31,
   "metadata": {},
   "outputs": [
    {
     "name": "stdout",
     "output_type": "stream",
     "text": [
      "Brillo(0)Y-Agarrar(0)>Brillo(1)\n",
      "-Brillo(0)>-Brillo(1)\n",
      "Agarrar(0)>-Brillo(1)"
     ]
    }
   ],
   "source": [
    "# Axioma del fluente Brillo\n",
    "turno = 0\n",
    "brillo0 = cods.F(turno, 0)\n",
    "brillo1 = cods.F(turno + 1, 0)\n",
    "agarrar0 = cods.F(turno, 1)\n",
    "fml =  brillo0 + \"Y-\" + agarrar0 + \">\" + brillo1\n",
    "cods.imprime_formula(fml)\n",
    "print(\"\")\n",
    "fml = \"-\" + brillo0 + \">-\" + brillo1\n",
    "cods.imprime_formula(fml)\n",
    "print(\"\")\n",
    "fml = agarrar0 + \">-\" + brillo1\n",
    "cods.imprime_formula(fml)"
   ]
  },
  {
   "cell_type": "markdown",
   "metadata": {},
   "source": [
    "**Ejercicio 2:**\n",
    "\n",
    "Un fluente importante es el de tener la flecha o no. Cree un código para generar las fórmulas en 'pseudo' cláusulas de Horn para el axioma que relaciona tener la flecha de un turno al siguiente (no olvide modificar la tabla de codificación y el método `imprime_formula` apropiadamente):\n",
    "\n",
    "$TenerFlecha(turno + 1)\\leftrightarrow \\Bigl(TenerFlecha(turno)\\wedge\\neg Disparar (t)\\Bigr)$"
   ]
  },
  {
   "cell_type": "markdown",
   "metadata": {},
   "source": [
    "**Respuesta:**\n",
    "\n",
    "Una posible implementación es la siguiente:"
   ]
  },
  {
   "cell_type": "code",
   "execution_count": 32,
   "metadata": {},
   "outputs": [
    {
     "name": "stdout",
     "output_type": "stream",
     "text": [
      "TenerFlecha(0)Y-Disparar(0)>TenerFlecha(1)\n",
      "-TenerFlecha(0)>-TenerFlecha(1)\n",
      "Disparar(0)>-TenerFlecha(1)"
     ]
    }
   ],
   "source": [
    "# Axioma del fluente TenerFlecha\n",
    "tenerFlecha0 = cods.F(turno, 2)\n",
    "tenerFlecha1 = cods.F(turno + 1, 2)\n",
    "disparar0 = cods.F(turno, 3)\n",
    "fml = tenerFlecha0 + \"Y-\" + disparar0 + \">\" + tenerFlecha1\n",
    "cods.imprime_formula(fml)\n",
    "print(\"\")\n",
    "fml = \"-\" + tenerFlecha0 + \">-\" + tenerFlecha1\n",
    "cods.imprime_formula(fml)\n",
    "print(\"\")\n",
    "fml = disparar0 + \">-\" + tenerFlecha1\n",
    "cods.imprime_formula(fml)"
   ]
  },
  {
   "cell_type": "markdown",
   "metadata": {},
   "source": [
    "---"
   ]
  },
  {
   "cell_type": "markdown",
   "metadata": {},
   "source": [
    "Finalmente, requerimos una función para generar una fórmula con la acción (y las 'no acciones') del agente en el turno. También requerimos adaptar la función `make_percept_sentence` para incluir el fluente del brillo."
   ]
  },
  {
   "cell_type": "code",
   "execution_count": 56,
   "metadata": {},
   "outputs": [],
   "source": [
    "def make_action_sentence(action, turno, cods):\n",
    "    # Crea una conjuncion de literales para añadir a la base de datos    \n",
    "    literales = ''\n",
    "    if action == 'agarrar':\n",
    "        literales += cods.F(turno, 1)\n",
    "    else:\n",
    "        literales += '-' + cods.F(turno, 1)\n",
    "    if action == 'disparar':\n",
    "        literales += 'Y' + cods.F(turno, 3)\n",
    "    else:\n",
    "        literales += 'Y-' + cods.F(turno, 3)\n",
    "    return literales\n",
    "\n",
    "def make_percept_sentence(percept, indice, turno, cods):\n",
    "    # Crea una conjuncion de literales para añadir a la base de datos   \n",
    "    literales = ''\n",
    "    x, y = indice\n",
    "    if percept[0] != None:\n",
    "        literales += cods.P(x, y, 3)\n",
    "    else:\n",
    "        literales += '-' + cods.P(x, y, 3)\n",
    "    if percept[1] != None:\n",
    "        literales += 'Y' + cods.P(x, y, 1)\n",
    "    else:\n",
    "        literales += 'Y-' + cods.P(x, y, 1)\n",
    "    if percept[2] != None:\n",
    "        literales += 'Y' + cods.F(turno, 0)\n",
    "    else:\n",
    "        literales += 'Y-' + cods.F(turno, 0)        \n",
    "    literales += 'Y-' + cods.P(x, y, 2)\n",
    "    literales += 'Y-' + cods.P(x, y, 4)\n",
    "    return literales"
   ]
  },
  {
   "cell_type": "markdown",
   "metadata": {},
   "source": [
    "**Ejercicio 3:**\n",
    "\n",
    "Pregúntele a la base de conocimiento si hay un brillo en el turno 1. (¿Está bien esta respuesta? ¿Qué faltó hacer aquí?) Pregúntele también si tiene la flecha en el turno 1. (¿Está bien esta respuesta? ¿Qué hay que hacer aquí?) Luego dígale que agarró en el turno 0 y haga nuevamente las preguntas."
   ]
  },
  {
   "cell_type": "markdown",
   "metadata": {},
   "source": [
    "**Respuesta:**\n",
    "\n",
    "Una posible solución es la siguiente:"
   ]
  },
  {
   "cell_type": "code",
   "execution_count": 65,
   "metadata": {},
   "outputs": [],
   "source": [
    "# Inicializamos nuevamente el objeto de codificacion\n",
    "cods = codigos(4, 4, 6, 50, 4) # Permitimos máximo 50 turnos\n",
    "# Inicializamos nuevamente la base de conocimiento con este objeto de codificación\n",
    "Base_wumpus = lp_query(lista_formulas, cods)"
   ]
  },
  {
   "cell_type": "code",
   "execution_count": 66,
   "metadata": {},
   "outputs": [
    {
     "name": "stdout",
     "output_type": "stream",
     "text": [
      "Sabe si Brillo1 es verdadero? False\n",
      "Sabe si tenerFlecha1 es verdadero? False\n",
      "Datos:\n",
      "TenerFlecha(0)\n",
      "-Hedor(0, 0)\n",
      "-Brisa(0, 0)\n",
      "-Brillo(0)\n",
      "-Pozo(0, 0)\n",
      "-Wumpus(0, 0)\n",
      "Agarrar(0)\n",
      "-Disparar(0)\n",
      "Sabe si Brillo1 es verdadero? False\n",
      "Sabe si tenerFlecha1 es verdadero? True\n"
     ]
    }
   ],
   "source": [
    "# Los axiomas no se habían incluido en la base de conocimiento\n",
    "formulas = []\n",
    "# Axioma del fluente Brillo\n",
    "turno = 0\n",
    "brillo0 = cods.F(turno, 0)\n",
    "brillo1 = cods.F(turno + 1, 0)\n",
    "agarrar0 = cods.F(turno, 1)\n",
    "fml =  brillo0 + \"Y-\" + agarrar0 + \">\" + brillo1\n",
    "formulas.append(fml)\n",
    "fml = \"-\" + brillo0 + \">-\" + brillo1\n",
    "formulas.append(fml)\n",
    "fml = agarrar0 + \">-\" + brillo1\n",
    "formulas.append(fml)\n",
    "# Axioma del fluente TenerFlecha\n",
    "tenerFlecha0 = cods.F(turno, 2)\n",
    "tenerFlecha1 = cods.F(turno + 1, 2)\n",
    "disparar0 = cods.F(turno, 3)\n",
    "fml = tenerFlecha0 + \"Y-\" + disparar0 + \">\" + tenerFlecha1\n",
    "formulas.append(fml)\n",
    "fml = \"-\" + tenerFlecha0 + \">-\" + tenerFlecha1\n",
    "formulas.append(fml)\n",
    "fml = disparar0 + \">-\" + tenerFlecha1\n",
    "formulas.append(fml)\n",
    "for fml in formulas:\n",
    "    TELL(Base_wumpus, fml)\n",
    "\n",
    "# Hay que inicializar la base de datos con la información de que se tiene la flecha\n",
    "TELL(Base_wumpus, tenerFlecha0)\n",
    "\n",
    "# Se le informa a la base de conocimiento lo que perciben los sensores\n",
    "datos = make_percept_sentence(percibir(W), W.heroe, 0, cods)\n",
    "TELL(Base_wumpus, datos)\n",
    "#Base_wumpus.visualizar()\n",
    "\n",
    "# Hacemos las preguntas\n",
    "print(\"Sabe si Brillo1 es verdadero?\", ASK(brillo1, True, Base_wumpus))\n",
    "print(\"Sabe si tenerFlecha1 es verdadero?\", ASK(tenerFlecha1, True, Base_wumpus))\n",
    "\n",
    "# Le informamos a la base de conocimiento sobre disparar en el turno 0\n",
    "acciones_ejecutadas = make_action_sentence('agarrar', 0, cods)\n",
    "#print(\"action sentence:\")\n",
    "#cods.imprime_formula(acciones_ejecutadas)\n",
    "TELL(Base_wumpus, acciones_ejecutadas)\n",
    "Base_wumpus.visualizar('datos')\n",
    "\n",
    "# Hacemos las preguntas\n",
    "print(\"Sabe si Brillo1 es verdadero?\", ASK(brillo1, True, Base_wumpus))\n",
    "print(\"Sabe si tenerFlecha1 es verdadero?\", ASK(tenerFlecha1, True, Base_wumpus))"
   ]
  },
  {
   "cell_type": "markdown",
   "metadata": {},
   "source": [
    "---"
   ]
  },
  {
   "cell_type": "markdown",
   "metadata": {},
   "source": [
    "### Planeación de rutas\n",
    "\n",
    "En este punto ya hemos creado los aspectos más importantes del agente basado en conocimiento. Nuestra solución al mundo del Wumpus está casi completa, pero requiere un aspecto muy importante de planeación de rutas. Poder diseñar estos planes le servirá al agente cuando necesite avanzar a casillas adyacentes, devolverse a la casilla inicial y salir de la cueva, etc. Planear una ruta desde la casilla actual hasta una casilla objetivo a la cual se desea ir es un problema muy similar a los que ya hemos encontrado en sesiones pasadas. Debemos definir un problema `rejilla` y luego usar un algoritmo de búsqueda sobre este.\n",
    "\n",
    "**Importante:** En este punto estamos considerando que la planeación de una ruta consiste en determinar qué casillas debe transitar el agente. Más adelante volveremos sobre el problema de convertir una lista de casillas en la correspondiente lista de acciones que el agente debe ejecutar."
   ]
  },
  {
   "cell_type": "markdown",
   "metadata": {},
   "source": [
    "**Ejercicio 4:**\n",
    "\n",
    "Implemente un código python para definir el problema `rejilla`, el cual debe tener un atributo `estado_inicial` con la información de la posición del agente, un atributo `estado_objetivo` (el cual se inicializa con la casilla inicial), y un atributo `casillas_seguras` con la información de cuáles casillas el agente cree que son seguras. También debe incluir los métodos `acciones_aplicables` (moverse a una casilla adyacente que se cree que es segura), `transicion`, `test_objetivo` y `costo` (donde el costo de cada movimiento es 1)."
   ]
  },
  {
   "cell_type": "markdown",
   "metadata": {},
   "source": [
    "**Respuesta:**\n",
    "\n",
    "Una posible implementación es la siguiente:"
   ]
  },
  {
   "cell_type": "code",
   "execution_count": 71,
   "metadata": {
    "colab": {},
    "colab_type": "code",
    "id": "x6tDfxY10dYg"
   },
   "outputs": [],
   "source": [
    "class rejilla:\n",
    "    \n",
    "    # Problema del tránsito por la rejilla\n",
    "    # desde donde está el héroe hasta una\n",
    "    # casilla objetivo\n",
    "    \n",
    "    def __init__(self, actual, objetivo, seguras):\n",
    "        self.estado_inicial = actual\n",
    "        self.estado_objetivo = objetivo\n",
    "        self.casillas_seguras = seguras\n",
    "    \n",
    "    def acciones_aplicables(self, estado):\n",
    "        return [casilla for casilla in adyacentes(estado) if casilla in self.casillas_seguras]\n",
    "    \n",
    "    def transicion(self, estado, accion):\n",
    "        return accion\n",
    "       \n",
    "    def test_objetivo(self, estado):\n",
    "        return estado == self.estado_objetivo\n",
    "    \n",
    "    def costo(self, estado, accion):\n",
    "        return 1"
   ]
  },
  {
   "cell_type": "code",
   "execution_count": 72,
   "metadata": {
    "colab": {},
    "colab_type": "code",
    "id": "Ag4i7XTQ0dYk",
    "outputId": "beac631a-6a24-45fc-a168-f45272817293"
   },
   "outputs": [
    {
     "name": "stdout",
     "output_type": "stream",
     "text": [
      "Estado inicial: (0, 0)\n",
      "Estado objetivo: (3, 2)\n"
     ]
    }
   ],
   "source": [
    "seguras = [(x, y) for x in range(4) for y in range(4)] # Supongamos que todas las casillas son seguras\n",
    "R = rejilla(W.heroe, (3,2) , seguras)\n",
    "print(\"Estado inicial:\", R.estado_inicial)\n",
    "print(\"Estado objetivo:\", R.estado_objetivo)"
   ]
  },
  {
   "cell_type": "markdown",
   "metadata": {},
   "source": [
    "---"
   ]
  },
  {
   "cell_type": "markdown",
   "metadata": {},
   "source": [
    "**Ejercicio 5:**\n",
    "\n",
    "Una manera muy eficiente de buscar una ruta desde la casilla inicial hasta la casilla objetivo es mediante una función heurística $f$ que resulta de sumar el costo del nodo $g$ con la distancia Manhattan $h$ entre la casilla inicial y la casilla objetivo. En general, a la búsqueda que ordena los nodos en la frontera de acuerdo a esta suma se le conoce como $A^*$-search. Implemente un código python para el algoritmo $A^*$-search."
   ]
  },
  {
   "cell_type": "markdown",
   "metadata": {},
   "source": [
    "**Respuesta:**\n",
    "\n",
    "Una posible implementación es la siguiente:"
   ]
  },
  {
   "cell_type": "code",
   "execution_count": 73,
   "metadata": {},
   "outputs": [],
   "source": [
    "def f(n, indice):\n",
    "    # Distancia Manhattan\n",
    "    # Input: n, nodo de la rejilla\n",
    "    #        indice, casilla como pareja de enteros (x,y)\n",
    "    x1, y1 = n.estado\n",
    "    x2, y2 = indice\n",
    "    return abs(x1 - x2) + abs(y1 - y2) + n.costo\n",
    "\n",
    "def nodo_en_frontera(n, objetivo, frontera):\n",
    "    if f(n, objetivo) not in frontera.keys():\n",
    "        return False\n",
    "    elif n not in frontera[f(n, objetivo)]:\n",
    "        return False\n",
    "    else:\n",
    "        return True"
   ]
  },
  {
   "cell_type": "code",
   "execution_count": 74,
   "metadata": {},
   "outputs": [],
   "source": [
    "def A_star_search(problema):\n",
    "    \n",
    "    raiz = nodo(problema.estado_inicial, None, None, 0)    \n",
    "    if problema.test_objetivo(raiz.estado):\n",
    "        return raiz\n",
    "    objetivo = problema.estado_objetivo\n",
    "    frontera = {f(raiz, objetivo): [raiz]}\n",
    "    explored = []\n",
    "    \n",
    "    while (len(frontera) > 0):\n",
    "        n = choice(frontera[min(frontera.keys())]) \n",
    "        frontera[f(n, objetivo)].remove(n)\n",
    "        if len(frontera[f(n, objetivo)]) == 0:\n",
    "            del frontera[f(n, objetivo)]\n",
    "        explored.append(n.estado)\n",
    "        acciones = problema.acciones_aplicables(n.estado)\n",
    "        for a in acciones:\n",
    "            N = nodo_hijo(problema, n, a)\n",
    "            if problema.test_objetivo(N.estado):\n",
    "                return N\n",
    "            elif (N.estado not in explored) and not nodo_en_frontera(N, objetivo, frontera):                \n",
    "                try:\n",
    "                    frontera[f(N, objetivo)].append(N)\n",
    "                except:\n",
    "                    frontera[f(N, objetivo)] = [N]\n",
    "    \n",
    "    return None"
   ]
  },
  {
   "cell_type": "markdown",
   "metadata": {},
   "source": [
    "Verifique su código planeando una ruta desde la casilla incial a la casilla (3, 2), asumiendo que todas las casillas son seguras."
   ]
  },
  {
   "cell_type": "code",
   "execution_count": 75,
   "metadata": {},
   "outputs": [
    {
     "data": {
      "text/plain": [
       "[(0, 1), (0, 2), (1, 2), (2, 2), (3, 2)]"
      ]
     },
     "execution_count": 75,
     "metadata": {},
     "output_type": "execute_result"
    }
   ],
   "source": [
    "seguras = [(x, y) for x in range(4) for y in range(4)]\n",
    "R = rejilla((0,0), (3,2) , seguras)\n",
    "camino = A_star_search(R)\n",
    "camino = solucion(camino)\n",
    "camino"
   ]
  },
  {
   "cell_type": "markdown",
   "metadata": {},
   "source": [
    "---"
   ]
  },
  {
   "cell_type": "markdown",
   "metadata": {},
   "source": [
    "El siguiente es un sencillo código para transformar la lista de casillas en una lista de acciones que puede ejecutar el agente para transitar las casillas:"
   ]
  },
  {
   "cell_type": "code",
   "execution_count": 76,
   "metadata": {},
   "outputs": [],
   "source": [
    "def voltear(direccion_inicial, direccion_final):\n",
    "    acciones = []\n",
    "    if direccion_inicial == direccion_final:\n",
    "        return acciones\n",
    "    else:\n",
    "        if direccion_final == 'este':\n",
    "            if direccion_inicial == 'norte':\n",
    "                acciones.append('voltearDerecha')\n",
    "            elif direccion_inicial == 'sur':\n",
    "                acciones.append('voltearIzquierda')\n",
    "            elif direccion_inicial == 'oeste':\n",
    "                acciones.append('voltearDerecha')\n",
    "                acciones.append('voltearDerecha')\n",
    "        elif direccion_final == 'norte':\n",
    "            if direccion_inicial == 'este':\n",
    "                acciones.append('voltearIzquierda')\n",
    "            elif direccion_inicial == 'sur':\n",
    "                acciones.append('voltearIzquierda')\n",
    "                acciones.append('voltearIzquierda')\n",
    "            elif direccion_inicial == 'oeste':\n",
    "                acciones.append('voltearDerecha')\n",
    "        elif direccion_final == 'oeste':\n",
    "            if direccion_inicial == 'este':\n",
    "                acciones.append('voltearIzquierda')\n",
    "                acciones.append('voltearIzquierda')\n",
    "            elif direccion_inicial == 'sur':\n",
    "                acciones.append('voltearDerecha')\n",
    "            elif direccion_inicial == 'norte':\n",
    "                acciones.append('voltearIzquierda')\n",
    "        elif direccion_final == 'sur':\n",
    "            if direccion_inicial == 'este':\n",
    "                acciones.append('voltearDerecha')\n",
    "            elif direccion_inicial == 'norte':\n",
    "                acciones.append('voltearDerecha')\n",
    "                acciones.append('voltearDerecha')\n",
    "            elif direccion_inicial == 'oeste':\n",
    "                acciones.append('voltearIzquierda')\n",
    "    return acciones\n",
    "\n",
    "def acciones_camino(camino, direccion):\n",
    "    acciones = []\n",
    "    for i in range(len(camino) - 1):\n",
    "        x1, y1 = camino[i]\n",
    "        x2, y2 = camino[i + 1]\n",
    "        diferencia_x = x2 - x1\n",
    "        diferencia_y = y2 - y1\n",
    "        if (diferencia_x != 0) and (diferencia_y != 0):\n",
    "            print(\"Camino incorrecto!: No debe incluir diagonales.\")\n",
    "            return None\n",
    "        elif diferencia_x > 0:            \n",
    "            acciones += voltear(direccion, 'este')\n",
    "            direccion = 'este'\n",
    "        elif diferencia_x < 0:\n",
    "            acciones += voltear(direccion, 'oeste')\n",
    "            direccion = 'oeste'\n",
    "        elif diferencia_y > 0:            \n",
    "            acciones += voltear(direccion, 'norte')\n",
    "            direccion = 'norte'\n",
    "        elif diferencia_y < 0:\n",
    "            acciones += voltear(direccion, 'sur')\n",
    "            direccion = 'sur'\n",
    "        acciones.append('adelante')\n",
    "    return acciones\n"
   ]
  },
  {
   "cell_type": "code",
   "execution_count": 77,
   "metadata": {},
   "outputs": [
    {
     "data": {
      "text/plain": [
       "[(0, 0), (0, 1), (0, 2), (1, 2), (2, 2), (3, 2)]"
      ]
     },
     "execution_count": 77,
     "metadata": {},
     "output_type": "execute_result"
    }
   ],
   "source": [
    "camino = [(0,0)] + camino\n",
    "camino"
   ]
  },
  {
   "cell_type": "code",
   "execution_count": 78,
   "metadata": {},
   "outputs": [
    {
     "name": "stdout",
     "output_type": "stream",
     "text": [
      "['voltearIzquierda', 'adelante', 'adelante', 'voltearDerecha', 'adelante', 'adelante', 'adelante']\n"
     ]
    }
   ],
   "source": [
    "acciones = acciones_camino(camino, W.direccion)\n",
    "print(acciones)"
   ]
  },
  {
   "cell_type": "markdown",
   "metadata": {},
   "source": [
    "## Toma de decisiones"
   ]
  },
  {
   "cell_type": "markdown",
   "metadata": {},
   "source": [
    "Ya tenemos todos los ingredientes para generar un agente mínimamente funcional. Nos falta unirlos mediante una función de toma de decisiones. Esta se realizará mediante la consideración de una jerarquía de situaciones, las cuales llevarán a la creación de una secuencia de acciones (plan) y su ejecución.\n",
    "\n",
    "Por el momento sólo crearemos un agente muy miedoso, que explorará las casillas seguras y, si encuentra el oro, lo toma y sale de la cueva. Si no encuentra el oro en el área segura, no lo pensará dos veces y saldrá de la cueva (con el rabo entre las patas). Observe que este agente aún puede mejorarse de varias maneras.\n",
    "\n",
    "Las siguientes son unas funciones auxiliares útiles para obtener las listas de casillas seguras y visitadas de acuerdo a la información en la base de conocimiento:"
   ]
  },
  {
   "cell_type": "code",
   "execution_count": 79,
   "metadata": {},
   "outputs": [],
   "source": [
    "def casillas_seguras(base, cods):\n",
    "    # Extrae los literales Seguras de la base de datos\n",
    "    seguras = []\n",
    "    for literal in base.base_conocimiento['datos']:\n",
    "        if len(literal) == 1:\n",
    "            if ord(literal) < 9999:\n",
    "                x, y, z = cods.Pinv(literal)\n",
    "                if z == 0:\n",
    "                    seguras.append((x,y))\n",
    "    return seguras\n",
    "\n",
    "def casillas_visitadas(base, cods):\n",
    "    # Extrae los literales Visitadas de la base de datos\n",
    "    visitadas = []\n",
    "    for literal in base.base_conocimiento['datos']:\n",
    "        if len(literal) == 1:\n",
    "            if ord(literal) < 9999:\n",
    "                x, y, z = cods.Pinv(literal)\n",
    "                if z == 5:\n",
    "                    visitadas.append((x,y))\n",
    "    return visitadas"
   ]
  },
  {
   "cell_type": "code",
   "execution_count": 83,
   "metadata": {},
   "outputs": [],
   "source": [
    "def hybrid_wumpus_agent(percept, turno, locacion, direccion):\n",
    "    \n",
    "    global Base_wumpus\n",
    "    global cods\n",
    "    global rejilla\n",
    "    global plan\n",
    "\n",
    "    #print(\"Plan actual:\", plan)\n",
    "    \n",
    "    # Incluye los axiomas de los fluentes para el turno respectivo\n",
    "    # Brillo\n",
    "    fml_lista = [cods.F(turno, 0) + \"Y-\" + cods.F(turno, 1) + \">\" + cods.F(turno + 1, 0)]\n",
    "    fml_lista.append(\"-\" + cods.F(turno, 0) + \">-\" + cods.F(turno + 1, 0))\n",
    "    fml_lista.append(cods.F(turno, 1) + \">-\" + cods.F(turno + 1, 0))\n",
    "    # TenerFlecha\n",
    "    fml_lista.append(cods.F(turno, 2) + \"Y-\" + cods.F(turno, 3) + \">\" + cods.F(turno + 1, 2))\n",
    "    fml_lista.append(\"-\" + cods.F(turno, 2) + \">-\" + cods.F(turno + 1, 2))\n",
    "    fml_lista.append(cods.F(turno, 3) + \">-\" + cods.F(turno + 1, 2))\n",
    "    for fml in fml_lista:\n",
    "        TELL(Base_wumpus, fml)\n",
    "    \n",
    "    # Incluye la información de los sensores en la base de datos\n",
    "    datos = make_percept_sentence(percept, locacion, turno, cods)\n",
    "    TELL(Base_wumpus, datos)\n",
    "    # Razona para determinar cuáles casillas son seguras\n",
    "    for casilla in [locacion] + adyacentes(locacion):\n",
    "        x, y = casilla\n",
    "        objetivo = cods.P(x, y, 0)\n",
    "        if ASK(objetivo, True, Base_wumpus):\n",
    "            TELL(Base_wumpus, cods.P(x, y, 0))\n",
    "\n",
    "    # Incluye la información de que la casilla actual es visitada\n",
    "    x, y = locacion\n",
    "    TELL(Base_wumpus, cods.P(x, y, 5))\n",
    "\n",
    "    # Obtiene las casillas seguras de la base de datos\n",
    "    seguras = casillas_seguras(Base_wumpus, cods)\n",
    "    #print('seguras', seguras)\n",
    "    # Obtiene las casillas visitadas de la base de datos\n",
    "    visitadas = casillas_visitadas(Base_wumpus, cods)\n",
    "    #print('visitadas', visitadas)\n",
    "    # Calcula las casillas seguras no visitadas\n",
    "    seguras_no_visitadas = [casilla for casilla in seguras if casilla not in visitadas]\n",
    "    #print('seguras no visitadas', seguras_no_visitadas)\n",
    "\n",
    "    # Si percibe un brillo, toma el oro y planea su regreso a la salida\n",
    "    if ASK(cods.F(turno, 0), True, Base_wumpus):\n",
    "        #print(\"Aquí está el oro!\")\n",
    "        plan = ['agarrar']\n",
    "        R = rejilla(locacion, (0,0) , seguras)\n",
    "        camino = A_star_search(R)\n",
    "        if camino != None:\n",
    "            camino = solucion(camino)\n",
    "        else:\n",
    "            camino = []\n",
    "        plan += acciones_camino([locacion] + camino, direccion)        \n",
    "        plan += ['salir']\n",
    "\n",
    "    # Planea moverse a una casilla segura no visitada\n",
    "    if (len(plan) == 0) and (len(seguras_no_visitadas) > 0):\n",
    "        #print(\"Voy a una casilla segura no visitada\")\n",
    "        objetivo = choice(seguras_no_visitadas)\n",
    "        R = rejilla(locacion, objetivo, seguras)\n",
    "        camino = A_star_search(R)\n",
    "        if camino != None:\n",
    "            camino = solucion(camino)\n",
    "        else:\n",
    "            camino = []\n",
    "        plan = acciones_camino([locacion] + camino, direccion)\n",
    "    \n",
    "    # Si no hay casillas seguras por visitar, sale de la cueva\n",
    "    elif len(plan) == 0:\n",
    "        #print(\"No hay casillas seguras por visitar. Me voy!\")\n",
    "        objetivo = (0,0)\n",
    "        R = rejilla(locacion, objetivo, seguras)\n",
    "        camino = A_star_search(R)\n",
    "        if camino != None:\n",
    "            camino = solucion(camino)\n",
    "        else:\n",
    "            camino = []\n",
    "        plan = acciones_camino([locacion] + camino, direccion)\n",
    "        plan += ['salir']\n",
    "    \n",
    "    # Decide la acción y actualiza la base de conocimiento\n",
    "    accion = plan.pop(0)\n",
    "    fml = make_action_sentence(accion, turno, cods)\n",
    "    TELL(Base_wumpus, fml)\n",
    "    return accion        "
   ]
  },
  {
   "cell_type": "code",
   "execution_count": 86,
   "metadata": {},
   "outputs": [
    {
     "name": "stdout",
     "output_type": "stream",
     "text": [
      "[None, None, None, None, None]\n"
     ]
    }
   ],
   "source": [
    "# Inicializamos nuevamente el objeto de codificacion\n",
    "cods = codigos(4, 4, 6, 50, 4) # Permitimos máximo 50 turnos\n",
    "# Creamos la lista de fórmulas y con ella la base de conocimiento\n",
    "# Representación del mundo\n",
    "lista_formulas = formulas_brisa(cods) \n",
    "lista_formulas += formulas_hedor(cods)\n",
    "lista_formulas += formulas_segura(cods)\n",
    "lista_formulas.append(tenerFlecha0)\n",
    "# Se inicializa la base de conocimiento\n",
    "Base_wumpus = lp_query(lista_formulas, cods)\n",
    "#Base_wumpus.visualizar()\n",
    "# Se inicializa el mundo\n",
    "W = wumpus()\n",
    "plan = []\n",
    "turno = 0\n",
    "percept = percibir(W)\n",
    "print(percept)"
   ]
  },
  {
   "cell_type": "code",
   "execution_count": 87,
   "metadata": {
    "scrolled": true
   },
   "outputs": [
    {
     "name": "stdout",
     "output_type": "stream",
     "text": [
      "¡Juego terminado!\n",
      "Puntaje: 968\n"
     ]
    },
    {
     "data": {
      "image/png": "[encoded data removed]",
      "text/plain": [
       "<Figure size 576x576 with 1 Axes>"
      ]
     },
     "metadata": {
      "needs_background": "light"
     },
     "output_type": "display_data"
    }
   ],
   "source": [
    "%matplotlib inline\n",
    "plt.rcParams['figure.figsize'] = [5, 5]\n",
    "while W.juego_activo:# and (turno < 20):\n",
    "    clear_output(wait=True)\n",
    "    percept = percibir(W)\n",
    "    #print(\"Percepción en turno\", turno, \":\", percept)\n",
    "    accion = hybrid_wumpus_agent(percept, turno, W.heroe, W.direccion)\n",
    "    #print(accion)\n",
    "    W.transicion(accion)\n",
    "    W.pintar_casilla()\n",
    "    turno += 1\n",
    "    plt.show()\n",
    "    time.sleep(.5)"
   ]
  },
  {
   "cell_type": "markdown",
   "metadata": {},
   "source": [
    "**Ejercicio 6:**\n",
    "\n",
    "Modifique el código para que el héroe realice la toma de decisiones de acuerdo al siguiente pseudocódigo:\n",
    "\n",
    "<img src=\"./imagenes/hybrid-wumpus-agent.png\" width=\"400\">"
   ]
  },
  {
   "cell_type": "markdown",
   "metadata": {},
   "source": [
    "---"
   ]
  },
  {
   "cell_type": "markdown",
   "metadata": {},
   "source": [
    "### En este notebook usted aprendió\n",
    "\n",
    "1. Encontrar las casillas seguras para transitar.\n",
    "* Fluentes y el aspecto dinámico del mundo.\n",
    "* Diseñar un plan para ir de la casilla actual a una casilla objetivo.\n",
    "* Toma de decisiones y planeación para superar el mundo del Wumpus."
   ]
  }
 ],
 "metadata": {
  "colab": {
   "name": "arboles_busqueda.ipynb",
   "provenance": []
  },
  "kernelspec": {
   "display_name": "Python 3",
   "language": "python",
   "name": "python3"
  },
  "language_info": {
   "codemirror_mode": {
    "name": "ipython",
    "version": 3
   },
   "file_extension": ".py",
   "mimetype": "text/x-python",
   "name": "python",
   "nbconvert_exporter": "python",
   "pygments_lexer": "ipython3",
   "version": "3.8.3"
  }
 },
 "nbformat": 4,
 "nbformat_minor": 1
}
