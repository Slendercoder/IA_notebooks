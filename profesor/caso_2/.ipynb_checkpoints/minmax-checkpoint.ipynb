{
 "cells": [
  {
   "cell_type": "markdown",
   "metadata": {},
   "source": [
    "# Búsqueda en juegos competitivos\n",
    "\n",
    "Adaptado de Russell and Norvig (2016), cap. 5.\n",
    "\n",
    "### Problemas de confrontación\n",
    "\n",
    "En clase discutimos la propuesta de Alan Turing frente a la pregunta \"¿Pueden pensar las máquinas?\", según la cual debemos considerar que un computador piensa si logra ganar el *juego de la imitación*. El objetivo de fondo de este juego es que el computador debe demostrar un comportamiento que los humanos juzguamos como inteligente. \n",
    "\n",
    "Existen formas más sencillas del juego de la imitiación, las cuales son  más convienientes para las máquinas que existían en la segunda mitad del siglo XX. Por ejemplo, un computador puede exhibir un comportamiento inteligente si tiene un buen desempeño en los juegos que los humanos juzgamos como desafiantes y que requieren (por lo menos una buena dosis) de inteligencia. Es por eso que el ajedrez computarizado fue tan relevante en los inicios de la IA.\n",
    "\n",
    "\n",
    "### Objetivo\n",
    "\n",
    "Estudiar algunas estrategias para la búsqueda de soluciones en juegos de dos jugadores. Estos escenarios son muy convenientes, toda vez que corresponden a entornos completamente observables, deterministas, discretos y conocidos. El desafío respecto al caso anterior es que ahora el entorno es dinámico, toda vez que este cambiará de acuerdo a las acciones del contrincante. \n",
    "\n",
    "### Secciones\n",
    "\n",
    "Desarrollaremos la explicación de la siguiente manera:\n",
    "\n",
    "1. Definición formal del problema de confrontación del triqui, y su implementación en python.\n",
    "2. Algoritmo minmax para resolver el triqui, y su implementación en python.\n",
    "3. Técnicas de búsqueda imperfecta basada en funciones de evaluación y cutting off."
   ]
  },
  {
   "cell_type": "markdown",
   "metadata": {},
   "source": [
    "### Juegos competitivos\n",
    "\n",
    "La **definición formal** de un juego competitivo se hace con base en las siguientes características:\n",
    "\n",
    "* **Estado inicial:** Situación del entorno desde el cual comienza el juego. En el caso del triqui, el estado inicial es el tablero vacío.\n",
    "\n",
    "* **Jugador(s):** Define cuál jugador tiene el turno en el estado `s`, el cual puede ser `O` o `X`.\n",
    "\n",
    "* **Posibles acciones(s):** Descripción de las posibles acciones del Jugador(`s`), dado un estado `s`. En este caso, poner o bien una `O` o una `X` en una casilla vacía.\n",
    "\n",
    "* **Función de transiciones(s, a):** Descripción del entorno que resulta de la ejecución de la acción `a` por el `Jugador(s)` en el estado `s`. Junto con el estado inicial y las posibles acciones, la función de transiciones define el espacio de estados del juego.\n",
    "\n",
    "* **Prueba de objetivo(s):** Permite determinar si el juego se termina cuando se obtiene el estado `s`. \n",
    "\n",
    "* **Función de utilidad(s):** Definida sólo cuando el juego se termina en el estado `s` y especifica la recompensa de cada jugador en `s`. En el caso del triqui, asumiremos que el ganador obtiene 1, el perdedor 0 y, en caso de empate, ambos jugadores obtienen $\\frac{1}{2}$."
   ]
  },
  {
   "cell_type": "markdown",
   "metadata": {},
   "source": [
    "**Implementación en python**\n",
    "\n",
    "Una posible implementación del juego del triqui en python es la siguiente."
   ]
  },
  {
   "cell_type": "code",
   "execution_count": 5,
   "metadata": {},
   "outputs": [],
   "source": [
    "import matplotlib.pyplot as plt\n",
    "import matplotlib.patches as patches\n",
    "from matplotlib.offsetbox import AnnotationBbox, OffsetImage\n",
    "import numpy as np\n",
    "from random import choice\n",
    "import copy\n",
    "\n",
    "%matplotlib inline"
   ]
  },
  {
   "cell_type": "code",
   "execution_count": 160,
   "metadata": {},
   "outputs": [],
   "source": [
    "class triqui:\n",
    "    \n",
    "    def estado_inicial(self):\n",
    "        return np.matrix([[0]*3]*3)\n",
    "    \n",
    "    def pintar_estado(self, estado):\n",
    "        # Dibuja el tablero correspondiente al estado\n",
    "        # Input: estado, que es una 3-lista de 3-listas\n",
    "        fig, axes = plt.subplots()\n",
    "\n",
    "        # Dibujo el tablero\n",
    "        step = 1./3\n",
    "        offset = 0.001\n",
    "        tangulos = []\n",
    "\n",
    "        # Borde del tablero\n",
    "        tangulos.append(patches.Rectangle((0,0),0.998,0.998,\\\n",
    "                                          facecolor='cornsilk',\\\n",
    "                                         edgecolor='black',\\\n",
    "                                         linewidth=2))\n",
    "\n",
    "        # Creo las líneas del tablero\n",
    "        for j in range(3):\n",
    "            locacion = j * step\n",
    "            # Crea linea horizontal en el rectangulo\n",
    "            tangulos.append(patches.Rectangle(*[(0, locacion), 1, 0.008],\\\n",
    "                    facecolor='black'))\n",
    "            # Crea linea vertical en el rectangulo\n",
    "            tangulos.append(patches.Rectangle(*[(locacion, 0), 0.008, 1],\\\n",
    "                    facecolor='black'))\n",
    "\n",
    "        for t in tangulos:\n",
    "            axes.add_patch(t)\n",
    "\n",
    "        # Cargando imagen de O\n",
    "        arr_img_O = plt.imread(\"./imagenes/O.png\", format='png')\n",
    "        image_O = OffsetImage(arr_img_O, zoom=0.14)\n",
    "        image_O.image.axes = axes\n",
    "\n",
    "        # Cargando imagen de X\n",
    "        arr_img_X = plt.imread(\"./imagenes/X.png\", format='png')\n",
    "        image_X = OffsetImage(arr_img_X, zoom=0.14)\n",
    "        image_X.image.axes = axes\n",
    "\n",
    "\n",
    "        offsetX = 0.15\n",
    "        offsetY = 0.15\n",
    "        for i in range(3):\n",
    "            for j in range(3):\n",
    "                if estado[j, i] == 1:\n",
    "                    # print(\"O en (\" + str(i) + \", \" + str(j) + \")\")\n",
    "                    Y = 2 - j\n",
    "                    X = i\n",
    "                    # print(\"(\" + str(X) + \", \" + str(Y) + \")\")\n",
    "                    ab = AnnotationBbox(\n",
    "                        image_O, \n",
    "                        [(X*step) + offsetX, (Y*step) + offsetY], \n",
    "                        frameon=False)\n",
    "                    axes.add_artist(ab)\n",
    "                if estado[j, i] == 2:\n",
    "                    # print(\"X en (\" + str(i) + \", \" + str(j) + \")\")\n",
    "                    Y = 2 - j\n",
    "                    X = i\n",
    "                    # print(\"(\" + str(X) + \", \" + str(Y) + \")\")\n",
    "                    ab = AnnotationBbox(\n",
    "                        image_X, \n",
    "                        [(X*step) + offsetX, (Y*step) + offsetY], \n",
    "                        frameon=False)\n",
    "                    axes.add_artist(ab)\n",
    "        \n",
    "        axes.axis('off')\n",
    "        return axes\n",
    "    \n",
    "    def jugador(self, estado):\n",
    "        num_Os = np.count_nonzero(estado==1)\n",
    "        num_Xs = np.count_nonzero(estado==2)\n",
    "        # print(\"Cantidad O:\", num_Os, \" Cantidad X:\", num_Xs)\n",
    "        if num_Os < num_Xs:\n",
    "            return 1\n",
    "        else:\n",
    "            return 2\n",
    "    \n",
    "    def acciones_aplicables(self, estado):\n",
    "        # Devuelve una lista de parejas que representan las casillas vacías\n",
    "        indices = []\n",
    "        if np.count_nonzero(estado==0)>0:\n",
    "            for x in range(3):\n",
    "                for y in range(3):\n",
    "                    if estado[y, x] == 0:\n",
    "                        indices.append((x, y))\n",
    "        \n",
    "        return indices\n",
    "\n",
    "    def transicion(self, estado, indice):\n",
    "        # Devuelve el tablero incluyendo una O o X en el indice,\n",
    "        # dependiendo del jugador que tiene el turno\n",
    "        # Input: estado, que es una np.matrix(3x3)\n",
    "        #        indice, de la forma (x,y)\n",
    "        # Output: estado, que es una np.matrix(3x3)\n",
    "        \n",
    "        s = copy.deepcopy(estado)\n",
    "        x = indice[0]\n",
    "        y = indice[1]\n",
    "        s[y, x] = self.jugador(estado)\n",
    "\n",
    "        return s\n",
    "    \n",
    "    def test_objetivo(self, estado):\n",
    "        # Devuelve True/False dependiendo si el juego se acabó\n",
    "        # Input: estado, que es una np.matrix(3x3)\n",
    "        # Output: True/False\n",
    "        # print(\"Determinando si hay casillas vacías...\")\n",
    "        num_reinas = estado.sum()\n",
    "        if np.count_nonzero(estado==0)==0:\n",
    "            return True, None\n",
    "        else:\n",
    "            # print(\"Buscando triqui horizontal...\")\n",
    "            for y in range(3):\n",
    "                num_Os = np.count_nonzero(estado[y,:]==1)\n",
    "                num_Xs = np.count_nonzero(estado[y,:]==2)\n",
    "                # print(\"Cantidad O:\", num_Os, \" Cantidad X:\", num_Xs)\n",
    "                if num_Os==3:\n",
    "                    return True, 1\n",
    "                elif num_Xs==3:\n",
    "                    return True, 2\n",
    "\n",
    "            # print(\"Buscando triqui vertical...\")\n",
    "            for x in range(3):\n",
    "                num_Os = np.count_nonzero(estado[:,x]==1)\n",
    "                num_Xs = np.count_nonzero(estado[:,x]==2)\n",
    "                # print(\"Cantidad O:\", num_Os, \" Cantidad X:\", num_Xs)\n",
    "                if num_Os==3:\n",
    "                    return True, 1\n",
    "                elif num_Xs==3:\n",
    "                    return True, 2\n",
    "\n",
    "            # print(\"Buscando triqui diagonal...\")\n",
    "            if (estado[0,0]==1) and (estado[1,1]==1) and (estado[2,2]==1):\n",
    "                return True, 1\n",
    "            elif (estado[0,0]==2) and (estado[1,1]==2) and (estado[2,2]==2):\n",
    "                return True, 2\n",
    "\n",
    "            # print(\"Buscando triqui transversal...\")\n",
    "            if (estado[2,0]==1) and (estado[1,1]==1) and (estado[0,2]==1):\n",
    "                return True, 1\n",
    "            elif (estado[2,0]==2) and (estado[1,1]==2) and (estado[0,2]==2):\n",
    "                return True, 2\n",
    "        \n",
    "        return None, None\n",
    "\n",
    "    def utilidad(self, estado):\n",
    "        ob, pl = self.test_objetivo(estado)\n",
    "        if ob:\n",
    "            if not pl:\n",
    "                return (0.5, 0.5)\n",
    "            elif pl == 1:\n",
    "                return (1, 0)\n",
    "            else:\n",
    "                return (0, 1)\n",
    "        else:\n",
    "            return None"
   ]
  },
  {
   "cell_type": "code",
   "execution_count": 161,
   "metadata": {},
   "outputs": [
    {
     "name": "stdout",
     "output_type": "stream",
     "text": [
      "Este es el tablero con una X en (1, 1)\n",
      "(None, None)\n",
      "None\n"
     ]
    },
    {
     "data": {
      "image/png": "[encoded data removed]",
      "text/plain": [
       "<Figure size 432x288 with 1 Axes>"
      ]
     },
     "metadata": {
      "needs_background": "light"
     },
     "output_type": "display_data"
    }
   ],
   "source": [
    "T = triqui()\n",
    "s = T.estado_inicial()\n",
    "a = choice(T.acciones_aplicables(s))\n",
    "print(\"Este es el tablero con una X en\", a)\n",
    "s1 = T.transicion(s, a)\n",
    "T.pintar_estado(s1)\n",
    "print(T.test_objetivo(s1))\n",
    "print(T.utilidad(s1))"
   ]
  },
  {
   "cell_type": "markdown",
   "metadata": {},
   "source": [
    "### Árbol de confrontación\n",
    "\n",
    "<img src=\"imagenes/arbol-minmax.png\" width=\"350px\">"
   ]
  },
  {
   "cell_type": "markdown",
   "metadata": {},
   "source": [
    "### Algoritmo minmax\n",
    "\n"
   ]
  },
  {
   "cell_type": "markdown",
   "metadata": {},
   "source": [
    "### Funciones de evaluación"
   ]
  },
  {
   "cell_type": "markdown",
   "metadata": {},
   "source": [
    "### Cutting off search"
   ]
  },
  {
   "cell_type": "code",
   "execution_count": null,
   "metadata": {},
   "outputs": [],
   "source": []
  }
 ],
 "metadata": {
  "kernelspec": {
   "display_name": "Python 3",
   "language": "python",
   "name": "python3"
  },
  "language_info": {
   "codemirror_mode": {
    "name": "ipython",
    "version": 3
   },
   "file_extension": ".py",
   "mimetype": "text/x-python",
   "name": "python",
   "nbconvert_exporter": "python",
   "pygments_lexer": "ipython3",
   "version": "3.8.3"
  }
 },
 "nbformat": 4,
 "nbformat_minor": 4
}
