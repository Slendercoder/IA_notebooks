{
 "cells": [
  {
   "cell_type": "markdown",
   "metadata": {
    "colab_type": "text",
    "id": "TpmFfXsQ0dYI"
   },
   "source": [
    "## Quiz 2: Funciones heurísticas para el 8-puzzle\n",
    "\n",
    "Adaptado de Russell & Norvig (2016), sec. 3.6."
   ]
  },
  {
   "cell_type": "markdown",
   "metadata": {
    "colab_type": "text",
    "id": "S4x5lJfd0dYM"
   },
   "source": [
    "### 8-puzzle\n",
    "\n",
    "El siguiente problema se conoce como el 8-puzzle. En un tablero $3\\times 3$ se ponen ocho fichas, cada una con un número del 1 al 8, dejando un espacio vacío. Partiendo de una configuración aleatoria, el objetivo es encontrar una secuencia de desplazamientos de fichas al espacio vacío hasta llegar a un tablero ordenado, como se muestra en la figura siguiente:\n",
    "\n",
    "\n",
    "<img src=\"./imagenes/8-puzzle.png\" width=\"300\">"
   ]
  },
  {
   "cell_type": "markdown",
   "metadata": {
    "colab_type": "text",
    "id": "vL49lY0r0dYP"
   },
   "source": [
    "**Ejercicio 1:**\n",
    "\n",
    "Proporcione la descripción formal del problema:\n",
    "\n",
    "* **Estado inicial**: \n",
    "\n",
    "* **Posibles acciones**: \n",
    "\n",
    "* **Función de transiciones**: \n",
    "\n",
    "* **Prueba de satisfacción del objetivo**: \n",
    "\n",
    "* **Función de costo**: "
   ]
  },
  {
   "cell_type": "markdown",
   "metadata": {},
   "source": [
    "----"
   ]
  },
  {
   "cell_type": "markdown",
   "metadata": {
    "colab_type": "text",
    "id": "ESao4G9n0dYP"
   },
   "source": [
    "\n",
    "**Implementación del problema**\n",
    "\n",
    "Implementaremos el problema del 8-puzzle."
   ]
  },
  {
   "cell_type": "code",
   "execution_count": 1,
   "metadata": {
    "colab": {},
    "colab_type": "code",
    "id": "73kSrhUo0dYQ"
   },
   "outputs": [],
   "source": [
    "import numpy as np\n",
    "from random import choice\n",
    "import copy"
   ]
  },
  {
   "cell_type": "code",
   "execution_count": 38,
   "metadata": {
    "colab": {},
    "colab_type": "code",
    "id": "p9AyvGbc0dYV"
   },
   "outputs": [],
   "source": [
    "class ocho_puzzle:\n",
    "    \n",
    "    inicial = list(np.random.choice(9, 9, replace=False))\n",
    "    \n",
    "    def estado_inicial(self):\n",
    "        estado = np.reshape(self.inicial, (3,3))\n",
    "        return estado\n",
    "    \n",
    "    def acciones_aplicables(self, estado):\n",
    "        # Devuelve una lista de fichas que es posible mover\n",
    "        # y en qué dirección\n",
    "        # Input: estado, que es una np.matrix(8x8)\n",
    "        # Output: lista de parejas ((x1,y1), (x2,y2))\n",
    "        # Es decir, la ficha en la posición (x1,y1) puede moverse a (x2,y2)\n",
    "        y, x = np.where(estado == 0)\n",
    "        y = y[0]\n",
    "        x = x[0]\n",
    "        if x == 0:\n",
    "            if y == 0:\n",
    "                return [((x + 1, y), (x, y)), \n",
    "                        ((x, y + 1), (x, y))\n",
    "                       ]\n",
    "            elif y == 2:\n",
    "                return [((x + 1, y), (x, y)), \n",
    "                        ((x, y - 1), (x, y))\n",
    "                       ]\n",
    "            else:\n",
    "                return [((x + 1, y), (x, y)), \n",
    "                        ((x, y + 1), (x, y)),\n",
    "                        ((x, y - 1), (x, y))\n",
    "                       ]\n",
    "        if x == 2:\n",
    "            if y == 0:\n",
    "                return [((x - 1, y), (x, y)), \n",
    "                        ((x, y + 1), (x, y))\n",
    "                       ]\n",
    "            elif y == 2:\n",
    "                return [((x - 1, y), (x, y)), \n",
    "                        ((x, y - 1), (x, y))\n",
    "                       ]\n",
    "            else:\n",
    "                return [((x - 1, y), (x, y)), \n",
    "                        ((x, y + 1), (x, y)),\n",
    "                        ((x, y - 1), (x, y))\n",
    "                       ]\n",
    "        else:\n",
    "            if y == 0:\n",
    "                return [((x - 1, y), (x, y)),\n",
    "                        ((x + 1, y), (x, y)),\n",
    "                        ((x, y + 1), (x, y))\n",
    "                       ]\n",
    "            elif y == 2:\n",
    "                return [((x - 1, y), (x, y)),\n",
    "                        ((x + 1, y), (x, y)),\n",
    "                        ((x, y - 1), (x, y))\n",
    "                       ]\n",
    "            else:\n",
    "                return [((x - 1, y), (x, y)), \n",
    "                        ((x + 1, y), (x, y)),\n",
    "                        ((x, y + 1), (x, y)),\n",
    "                        ((x, y - 1), (x, y))\n",
    "                       ]\n",
    "\n",
    "    def transicion(self, estado, indices):\n",
    "        # Devuelve el tablero moviendo la ficha en indice\n",
    "        # Input: estado, que es una np.matrix(8x8)\n",
    "        #        indice, de la forma ((x1,y1), (x2,y2))\n",
    "        # Output: estado, que es una np.matrix(8x8)\n",
    "        \n",
    "        s = copy.deepcopy(estado)\n",
    "        x1, y1 = indices[0]\n",
    "        x2, y2 = indices[1]\n",
    "        s[y2, x2] = estado[y1, x1]\n",
    "        s[y1, x1] = 0\n",
    "        return s\n",
    "    \n",
    "    def test_objetivo(self, estado):\n",
    "        # Devuelve True/False dependiendo si el estado\n",
    "        # resuelve el problema\n",
    "        # Input: estado, que es una np.matrix(8x8)\n",
    "        # Output: True/False\n",
    "        k = list(np.reshape(estado, (9,1)))\n",
    "        k = [x[0] for x in k]\n",
    "        return (k == list(range(9)))\n",
    "        \n",
    "    def costo(self, estado, accion):\n",
    "        return 1"
   ]
  },
  {
   "cell_type": "code",
   "execution_count": 39,
   "metadata": {},
   "outputs": [
    {
     "name": "stdout",
     "output_type": "stream",
     "text": [
      "Estado inicial:\n",
      " [[2 0 8]\n",
      " [4 7 6]\n",
      " [1 3 5]]\n",
      "Objetivo?: False\n",
      "Estado objetivo:\n",
      " [[0 1 2]\n",
      " [3 4 5]\n",
      " [6 7 8]]\n",
      "Objetivo?: True\n"
     ]
    }
   ],
   "source": [
    "P = ocho_puzzle()\n",
    "s1 = P.estado_inicial()\n",
    "print(\"Estado inicial:\\n\", s1)\n",
    "print(\"Objetivo?:\", P.test_objetivo(s1))\n",
    "s = np.reshape(range(9), (3,3))\n",
    "print(\"Estado objetivo:\\n\", s)\n",
    "print(\"Objetivo?:\", P.test_objetivo(s))"
   ]
  },
  {
   "cell_type": "markdown",
   "metadata": {
    "colab_type": "text",
    "id": "ym7uBBHr0dYe"
   },
   "source": [
    "### Funciones heurísticas\n",
    "\n",
    "Heurística es una palabra que viene del griego εὑρίσκειν, y que significa \"hallar\" o \"inventar\". Una función heurística es una manera de usar conocimiento sobre el problema (*domain knowledge*) para buscar una solución de manera más eficiente que las estrategias no informadas.\n",
    "\n",
    "Para el 8-puzzle se han encontrado dos funciones con muy buenos resultados:\n",
    "\n",
    "- $h_1 = $ número de fichas que no corresponden al orden del estado objetivo.\n",
    "\n",
    "- $h_2 = $ suma de la distancia de cada ficha a su lugar en el estado objetivo, usando la distancia Manhattan, también conocida como la [distancia del taxista](https://es.wikipedia.org/wiki/Geometr%C3%ADa_del_taxista). "
   ]
  },
  {
   "cell_type": "markdown",
   "metadata": {},
   "source": [
    "**Ejercicio 2:**\n",
    "\n",
    "Implemente las dos funciones heurísticas, $h_1$ y $h_2$, para el 8-puzzle. "
   ]
  },
  {
   "cell_type": "markdown",
   "metadata": {},
   "source": [
    "**Respuesta:**\n",
    "\n",
    "Una posible implementación es la siguiente:"
   ]
  },
  {
   "cell_type": "code",
   "execution_count": 40,
   "metadata": {},
   "outputs": [],
   "source": [
    "def h1(estado):\n",
    "    distancia = 0\n",
    "    for i in range(1, 3 * 3):\n",
    "        x = i % 3\n",
    "        y = int(i / 3)\n",
    "        if estado[y, x] != i:\n",
    "            distancia += 1\n",
    "\n",
    "    return distancia\n",
    "\n",
    "def h2(estado):\n",
    "    distancia = 0\n",
    "    final = np.reshape(range(9), (3,3))\n",
    "    for i in range(1, 9):\n",
    "        y1, x1 = np.where(estado == i)\n",
    "        y2, x2 = np.where(final == i)\n",
    "        distancia += np.abs(x1 - x2) + np.abs(y1 - y2)\n",
    "\n",
    "    return distancia[0]"
   ]
  },
  {
   "cell_type": "code",
   "execution_count": 41,
   "metadata": {},
   "outputs": [
    {
     "name": "stdout",
     "output_type": "stream",
     "text": [
      "s\n",
      " [[2 0 8]\n",
      " [4 7 6]\n",
      " [1 3 5]]\n",
      "h1(s) = 8\n",
      "h2(s) = 15\n"
     ]
    }
   ],
   "source": [
    "P = ocho_puzzle()\n",
    "s = P.estado_inicial()\n",
    "print(\"s\\n\", s)\n",
    "print(\"h1(s) =\", h1(s))\n",
    "print(\"h2(s) =\", h2(s))"
   ]
  },
  {
   "cell_type": "markdown",
   "metadata": {},
   "source": [
    "---"
   ]
  },
  {
   "cell_type": "markdown",
   "metadata": {
    "colab_type": "text",
    "id": "7KKT2A0G0dYu"
   },
   "source": [
    "**Ejercicio 3:**\n",
    "\n",
    "Lea la sección 3.5.1 del texto guía e implemente el algoritmo *greedy best-first search*. Use este algoritmo para encontrar una solución al 8-puzzle."
   ]
  },
  {
   "cell_type": "markdown",
   "metadata": {},
   "source": [
    "**Respuesta:**\n",
    "\n",
    "Una posible implementación es la siguiente:"
   ]
  },
  {
   "cell_type": "code",
   "execution_count": 42,
   "metadata": {},
   "outputs": [
    {
     "name": "stdout",
     "output_type": "stream",
     "text": [
      "[[2 0 8]\n",
      " [4 7 6]\n",
      " [1 3 5]]\n",
      "208476135\n"
     ]
    }
   ],
   "source": [
    "# Para poder verificar si un estado ya ha sido considerado\n",
    "def codifica_estado(estado):\n",
    "    valores = [str(estado[y, x]) for y in range(3) for x in range(3)]\n",
    "    s = ''.join(str(i) for i in valores)\n",
    "    return s\n",
    "\n",
    "s = P.estado_inicial()\n",
    "print(s)\n",
    "print(codifica_estado(s))"
   ]
  },
  {
   "cell_type": "code",
   "execution_count": 62,
   "metadata": {},
   "outputs": [],
   "source": [
    "class nodo:\n",
    "    \n",
    "    # Clase para crear los nodos\n",
    "    \n",
    "    def __init__(self, estado, madre, accion, costo):\n",
    "        self.estado = estado\n",
    "        self.madre = madre\n",
    "        self.accion = accion\n",
    "        self.costo = costo\n",
    "        \n",
    "def nodo_hijo(problema, madre, accion):\n",
    "    \n",
    "    # Función para crear un nuevo nodo\n",
    "    # Input: problema, que es un objeto de clase ocho_reinas\n",
    "    #        madre, que es un nodo,\n",
    "    #        accion, que es una acción que da lugar al estado del nuevo nodo\n",
    "    # Output: nodo\n",
    "\n",
    "    return nodo(problema.transicion(madre.estado, accion),\n",
    "                madre,\n",
    "                accion,\n",
    "                costo = madre.costo + problema.costo(madre.estado, accion)\n",
    "               )\n",
    "\n",
    "def solucion(n):\n",
    "    \n",
    "    # Devuelve la secuencia de estados que va desde la raíz\n",
    "    # hasta el nodo n\n",
    "    # Input: n, nodo\n",
    "    # Output: l, lista de acciones\n",
    "    \n",
    "    acciones_invertidas = []\n",
    "    m = copy.deepcopy(n)\n",
    "    while m.madre != None:\n",
    "        acciones_invertidas.append(m.accion)\n",
    "        m = m.madre\n",
    "    \n",
    "    num_acciones = len(acciones_invertidas)\n",
    "    acciones = []\n",
    "    for i in range(1, num_acciones + 1):\n",
    "        acciones.append(acciones_invertidas[num_acciones - i])\n",
    "    \n",
    "    return acciones\n",
    "\n",
    "def tree_search(problema, distancia):\n",
    "    \n",
    "    # Función de búsqueda mediante la construcción\n",
    "    # del arbol de búsqueda de manera aleatoria\n",
    "    \n",
    "    raiz = nodo(problema.estado_inicial(), None, None, 0)\n",
    "#    print(\"Estado inicial:\\n\", raiz.estado)\n",
    "    \n",
    "    if problema.test_objetivo(raiz.estado):\n",
    "            return raiz\n",
    "    else:\n",
    "        frontera = {distancia(raiz.estado):[raiz]}\n",
    "        explored = []\n",
    "#        print(\"Frontera:\", frontera.keys())\n",
    "#        print(\"Explored:\", explored)\n",
    "\n",
    "    while (len(frontera) > 0):# and (len(explored) < 4):\n",
    "        n = choice(frontera[min(frontera.keys())]) # Seleccionamos un nodo aleatorio\n",
    "#        print(\"Estado seleccionado:\\n\", n.estado)\n",
    "        frontera[distancia(n.estado)].remove(n)\n",
    "        if len(frontera[distancia(n.estado)]) == 0:\n",
    "            del frontera[distancia(n.estado)]\n",
    "        explored.append(codifica_estado(n.estado))\n",
    "#        print(\"Frontera:\", frontera.keys())\n",
    "#        print(\"Explored:\", explored)\n",
    "        acciones = problema.acciones_aplicables(n.estado)\n",
    "        for a in acciones:\n",
    "            N = nodo_hijo(problema, n, a)\n",
    "#            print(\"Nuevo estado:\\n\", N.estado)\n",
    "            if problema.test_objetivo(N.estado):\n",
    "                return N\n",
    "            elif codifica_estado(N.estado) not in explored:                \n",
    "                try:\n",
    "                    frontera[distancia(N.estado)].append(N)\n",
    "                except:\n",
    "                    frontera[distancia(N.estado)] = [N]\n",
    "    \n",
    "    return None"
   ]
  },
  {
   "cell_type": "code",
   "execution_count": 58,
   "metadata": {},
   "outputs": [
    {
     "name": "stdout",
     "output_type": "stream",
     "text": [
      "Estado encontrado:\n",
      " [[0 1 2]\n",
      " [3 4 5]\n",
      " [6 7 8]]\n"
     ]
    }
   ],
   "source": [
    "r = tree_search(P, h2)\n",
    "print(\"Estado encontrado:\\n\", r.estado)"
   ]
  },
  {
   "cell_type": "code",
   "execution_count": 65,
   "metadata": {},
   "outputs": [
    {
     "name": "stdout",
     "output_type": "stream",
     "text": [
      "La solución tiene 37 pasos.\n",
      "La solución encontrada es:\n",
      "\n",
      " [[2 0 8]\n",
      " [4 7 6]\n",
      " [1 3 5]]\n",
      "\n",
      " [[0 2 8]\n",
      " [4 7 6]\n",
      " [1 3 5]]\n",
      "\n",
      " [[4 2 8]\n",
      " [0 7 6]\n",
      " [1 3 5]]\n",
      "\n",
      " [[4 2 8]\n",
      " [1 7 6]\n",
      " [0 3 5]]\n",
      "\n",
      " [[4 2 8]\n",
      " [1 7 6]\n",
      " [3 0 5]]\n",
      "\n",
      " [[4 2 8]\n",
      " [1 0 6]\n",
      " [3 7 5]]\n",
      "\n",
      " [[4 2 8]\n",
      " [1 6 0]\n",
      " [3 7 5]]\n",
      "\n",
      " [[4 2 0]\n",
      " [1 6 8]\n",
      " [3 7 5]]\n",
      "\n",
      " [[4 0 2]\n",
      " [1 6 8]\n",
      " [3 7 5]]\n",
      "\n",
      " [[0 4 2]\n",
      " [1 6 8]\n",
      " [3 7 5]]\n",
      "\n",
      " [[1 4 2]\n",
      " [0 6 8]\n",
      " [3 7 5]]\n",
      "\n",
      " [[1 4 2]\n",
      " [3 6 8]\n",
      " [0 7 5]]\n",
      "\n",
      " [[1 4 2]\n",
      " [3 6 8]\n",
      " [7 0 5]]\n",
      "\n",
      " [[1 4 2]\n",
      " [3 0 8]\n",
      " [7 6 5]]\n",
      "\n",
      " [[1 0 2]\n",
      " [3 4 8]\n",
      " [7 6 5]]\n",
      "\n",
      " [[0 1 2]\n",
      " [3 4 8]\n",
      " [7 6 5]]\n",
      "\n",
      " [[3 1 2]\n",
      " [0 4 8]\n",
      " [7 6 5]]\n",
      "\n",
      " [[3 1 2]\n",
      " [7 4 8]\n",
      " [0 6 5]]\n",
      "\n",
      " [[3 1 2]\n",
      " [7 4 8]\n",
      " [6 0 5]]\n",
      "\n",
      " [[3 1 2]\n",
      " [7 4 8]\n",
      " [6 5 0]]\n",
      "\n",
      " [[3 1 2]\n",
      " [7 4 0]\n",
      " [6 5 8]]\n",
      "\n",
      " [[3 1 2]\n",
      " [7 0 4]\n",
      " [6 5 8]]\n",
      "\n",
      " [[3 1 2]\n",
      " [7 5 4]\n",
      " [6 0 8]]\n",
      "\n",
      " [[3 1 2]\n",
      " [7 5 4]\n",
      " [6 8 0]]\n",
      "\n",
      " [[3 1 2]\n",
      " [7 5 0]\n",
      " [6 8 4]]\n",
      "\n",
      " [[3 1 2]\n",
      " [7 0 5]\n",
      " [6 8 4]]\n",
      "\n",
      " [[3 1 2]\n",
      " [0 7 5]\n",
      " [6 8 4]]\n",
      "\n",
      " [[0 1 2]\n",
      " [3 7 5]\n",
      " [6 8 4]]\n",
      "\n",
      " [[1 0 2]\n",
      " [3 7 5]\n",
      " [6 8 4]]\n",
      "\n",
      " [[1 2 0]\n",
      " [3 7 5]\n",
      " [6 8 4]]\n",
      "\n",
      " [[1 2 5]\n",
      " [3 7 0]\n",
      " [6 8 4]]\n",
      "\n",
      " [[1 2 5]\n",
      " [3 7 4]\n",
      " [6 8 0]]\n",
      "\n",
      " [[1 2 5]\n",
      " [3 7 4]\n",
      " [6 0 8]]\n",
      "\n",
      " [[1 2 5]\n",
      " [3 0 4]\n",
      " [6 7 8]]\n",
      "\n",
      " [[1 2 5]\n",
      " [3 4 0]\n",
      " [6 7 8]]\n",
      "\n",
      " [[1 2 0]\n",
      " [3 4 5]\n",
      " [6 7 8]]\n",
      "\n",
      " [[1 0 2]\n",
      " [3 4 5]\n",
      " [6 7 8]]\n",
      "\n",
      " [[0 1 2]\n",
      " [3 4 5]\n",
      " [6 7 8]]\n"
     ]
    }
   ],
   "source": [
    "if r:\n",
    "    l = solucion(r)\n",
    "    print(\"La solución tiene \" + str(len(l)) + \" pasos.\")\n",
    "    print(\"La solución encontrada es:\")\n",
    "#    print(l)\n",
    "    s = P.estado_inicial()\n",
    "    for a in l:\n",
    "        print(\"\\n\", s)\n",
    "        s = P.transicion(s, a)\n",
    "    print(\"\\n\", s)\n",
    "else:\n",
    "    \"No se encontró solución\""
   ]
  },
  {
   "cell_type": "markdown",
   "metadata": {},
   "source": [
    "---"
   ]
  },
  {
   "cell_type": "markdown",
   "metadata": {},
   "source": [
    "### En este notebook usted aprendió\n",
    "\n",
    "* El concepto de función heurística en la búsqueda de soluciones para implementar *domain knowledge*.\n",
    "\n",
    "* Implementar el método de búsqueda *greedy best-first search*."
   ]
  }
 ],
 "metadata": {
  "colab": {
   "name": "arboles_busqueda.ipynb",
   "provenance": []
  },
  "kernelspec": {
   "display_name": "Python 3",
   "language": "python",
   "name": "python3"
  },
  "language_info": {
   "codemirror_mode": {
    "name": "ipython",
    "version": 3
   },
   "file_extension": ".py",
   "mimetype": "text/x-python",
   "name": "python",
   "nbconvert_exporter": "python",
   "pygments_lexer": "ipython3",
   "version": "3.8.3"
  }
 },
 "nbformat": 4,
 "nbformat_minor": 1
}
