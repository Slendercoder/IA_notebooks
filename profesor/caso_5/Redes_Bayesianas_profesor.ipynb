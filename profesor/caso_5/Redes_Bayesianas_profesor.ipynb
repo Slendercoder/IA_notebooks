{
 "cells": [
  {
   "cell_type": "markdown",
   "metadata": {},
   "source": [
    "# Redes Bayesianas\n",
    "\n",
    "Adaptado de Russell & Norvig (2016), caps. 13 y 14."
   ]
  },
  {
   "cell_type": "markdown",
   "metadata": {},
   "source": [
    "### Objetivo\n",
    "\n",
    "En este notebook estudiaremos una herramienta muy útil para representar situaciones de incertidumbre, como las que aparecen, por ejemplo, en el mundo del Wumpus, aunque el rango de aplicaciones es muy amplio. Esta herramienta se llama las **redes bayesianas** y está basada, como su nombre lo indica, en la regla de Bayes, pero también en otras nociones fundamentales de la teoría de las probabilidades, como la independencia y la independencia condicional.\n",
    "\n",
    "### Secciones\n",
    "\n",
    "1. Implementación de la estructura de una red bayesiana.\n",
    "* Implementación de las funciones de probabilidad.\n",
    "* Inferencia probabilística y consultas basadas en evidencia.\n",
    "\n",
    "### Estructura de una red bayesiana\n",
    "\n",
    "Una **red bayesiana** está basada en un grafo dirigido, en donde cada vértice está etiquetado con una tabla de probabilidad condicional en función de su ascendencia. Para la implementación aquí realizada, usaremos el paquete igraph (correr en el terminal ``pip install python-igraph`` si aún no tiene instalado igraph). "
   ]
  },
  {
   "cell_type": "code",
   "execution_count": 1,
   "metadata": {},
   "outputs": [],
   "source": [
    "import igraph as ig\n",
    "import itertools\n",
    "import numpy as np"
   ]
  },
  {
   "cell_type": "markdown",
   "metadata": {},
   "source": [
    "El siguiente código crea una clase llamada `RedBayesiana`, la cual tiene 2 atributos y 7 métodos:\n",
    "\n",
    "**Atributos:**\n",
    "\n",
    "1. `.red`: Objeto igraph en donde cada vértice tiene los atributos `nombre`, `valores`, `padres`, `probabilidades`.\n",
    "* `.evidencia`: Diccionario de la forma `{variable:valor}`.\n",
    "\n",
    "**Métodos:**\n",
    "\n",
    "1. `.__init__()`: Inicializa el grafo subyacente a la red.\n",
    "* `.crear_nodo()`: Crea un nuevo vértice y lo adiciona al grafo subyacente.\n",
    "* `.crear_dependencia()`: Crea una arista dirigida, en el grafo subyacente, desde el nodo madre al nodo hijo. Representa la dependencia probabilística entre variables.\n",
    "* `.asignar_probabilidades_m()`: Método para introducir la tabla de probabilidades de un nodo de manera manual. Se considera el número de `padres` que tiene el nodo en el grafo subyacente.\n",
    "* `.asignar_probabilidades()`: Método para introducir la tabla de probabilidades con base en un diccionario de la forma `{(valores_variables_padres):[probabilidades_valores_nodo]}`.\n",
    "* `.ver_nodo()`: Muestra la tabla de probabilidades del nodo.\n",
    "* `.ver_red()`: Muestra el grafo subyacente de la red."
   ]
  },
  {
   "cell_type": "code",
   "execution_count": 2,
   "metadata": {},
   "outputs": [],
   "source": [
    "class RedBayesiana:\n",
    "    '''\n",
    "    Clase para generar una red bayesiana.\n",
    "    Requiere import igraph as ig\n",
    "    '''\n",
    "    def __init__(self):\n",
    "        red = ig.Graph(directed=True)\n",
    "        red.vs['nombre'] = []\n",
    "        red.vs['valores'] = []\n",
    "        red.vs['padres'] = []\n",
    "        red.vs['probabilidades'] = []\n",
    "        self.red = red\n",
    "        self.evidencia = {}\n",
    "        \n",
    "    def crear_nodo(self, nombre, valores):\n",
    "        '''\n",
    "        Crea un nuevo vértice y lo adiciona al grafo subyacente.\n",
    "        Input: nombre, que es el nombre del nodo.\n",
    "               valores, que es una lista de valores que puede tomar la variable.\n",
    "        '''\n",
    "        self.red.add_vertices(1)\n",
    "        self.red.vs[-1]['nombre'] = nombre\n",
    "        self.red.vs[-1]['valores'] = valores\n",
    "        self.red.vs[-1]['padres'] = []\n",
    "        self.red.vs[-1]['probabilidades'] = []\n",
    "    \n",
    "    def crear_dependencia(self, madre, hijo):\n",
    "        '''\n",
    "        Crea una arista dirigida, en el grafo subyacente, desde el nodo madre al nodo hijo. Modifica el atributo `padres`\n",
    "        del nodo hijo para incluir a la madre.\n",
    "        Input: madre, que es el nombre del nodo desde donde parte la arista.\n",
    "               hijo, que es el nombre del nodo al cual llega la arista.\n",
    "        '''\n",
    "        n1 = self.red.vs.find(nombre=madre).index\n",
    "        n2 = self.red.vs.find(nombre=hijo).index\n",
    "        self.red.add_edges([(n1, n2)])\n",
    "        self.red.vs[n2]['padres'] += [madre]\n",
    "        print(f\"Dependencia creada: {madre} --> {hijo}\")\n",
    "        \n",
    "    def asignar_probabilidades_m(self, nombre):\n",
    "        '''\n",
    "        Introducir la tabla de probabilidades de un nodo de manera manual.\n",
    "        Input: nombre, que es el nombre de la variable.\n",
    "        '''\n",
    "        indice = self.red.vs.find(nombre=nombre).index\n",
    "        nodo = self.red.vs[indice]\n",
    "        padres = nodo['padres']\n",
    "        if len(padres) == 0:\n",
    "            print(f\"Introduzca las probabilidades {nodo['valores']} para {nombre}\")\n",
    "            p = input()\n",
    "            p = [float(x) for x in p.split(',')]\n",
    "            if np.sum(p) != 1:\n",
    "                print(\"Error: probabilidades deben sumar 1.\")\n",
    "            else:\n",
    "                nodo['probabilidades'] = p\n",
    "        elif len(padres) == 1:\n",
    "            indices_padres = [self.red.vs.find(nombre=n).index for n in padres]\n",
    "            valores = [self.red.vs[i]['valores'] for i in indices_padres][0]\n",
    "            nodo['probabilidades'] = {}\n",
    "            inicial = True\n",
    "            nodo['probabilidades'] = {}\n",
    "            for t in valores:\n",
    "                print(f\"Introduzca las probabilidades {nodo['valores']} para {nombre}\")\n",
    "                print(f\"dado el valor {t} de {padres[0]}\")\n",
    "                p = input()\n",
    "                p = [float(x) for x in p.split(',')]\n",
    "                if np.sum(p) != 1:\n",
    "                    print(\"Error: probabilidades deben sumar 1.\")\n",
    "                    break\n",
    "                else:\n",
    "                    nodo['probabilidades'][t] = p\n",
    "        else:\n",
    "            indices_padres = [self.red.vs.find(nombre=n).index for n in padres]\n",
    "            valores = [self.red.vs[i]['valores'] for i in indices_padres]\n",
    "            tuplas = list(itertools.product(*valores))\n",
    "            nodo['probabilidades'] = {}\n",
    "            inicial = True\n",
    "            for v in padres:\n",
    "                if inicial:\n",
    "                    cadena = v\n",
    "                    inicial = False\n",
    "                else:\n",
    "                    cadena += \" x \" + v\n",
    "            nodo['probabilidades'] = {}\n",
    "            for t in tuplas:\n",
    "                print(f\"Introduzca las probabilidades {nodo['valores']} para {nombre}\")\n",
    "                print(f\"dados los valores {t} de {padres}\")\n",
    "                p = input()\n",
    "                p = [float(x) for x in p.split(',')]\n",
    "                if np.sum(p) != 1:\n",
    "                    print(\"Error: probabilidades deben sumar 1.\")\n",
    "                    break\n",
    "                else:\n",
    "                    nodo['probabilidades'][t] = p\n",
    "\n",
    "    def asignar_probabilidades(self, nombre, p):\n",
    "        '''\n",
    "        Introducir la tabla de probabilidades para un nodo. \n",
    "        Input: nombre, que es el nombre de la variable.\n",
    "               p, que es un diccionario de la forma {(valores_variables_padres):[probabilidades_valores_nodo]}.\n",
    "        '''\n",
    "        indice = self.red.vs.find(nombre=nombre).index\n",
    "        nodo = self.red.vs[indice]\n",
    "        nodo['probabilidades'] = p\n",
    "\n",
    "    def ver_nodo(self, nombre):\n",
    "        '''\n",
    "        Muestra la tabla de probabilidades del nodo.\n",
    "        Input: nombre, que es el nombre de la variable.\n",
    "        '''\n",
    "        indice = self.red.vs.find(nombre=nombre).index\n",
    "        nodo = self.red.vs[indice]\n",
    "        padres = nodo['padres']\n",
    "        v = len(padres)\n",
    "        probs = [str(p) for p in nodo['probabilidades']]\n",
    "        if len(probs) == 0:\n",
    "            print(f\"Nodo {nombre} no tiene probabilidades asignadas.\")\n",
    "        elif v == 0:\n",
    "            l = len(nodo['valores'])\n",
    "            print(\"-\"*11*l)\n",
    "            print(f\"{nodo['nombre']}\")\n",
    "            print(\"-\"*11*l)\n",
    "            for i in nodo['valores']:\n",
    "                k = len(i)\n",
    "                valor = i + ' '*(9 - k) if k < 10 else i[:10]\n",
    "                print(f\"{valor}\\t\", end=\"\")\n",
    "            print(\"\")\n",
    "            for p in probs:\n",
    "                k = len(p)\n",
    "                valor = p + ' '*(9 - k) if k < 10 else i[:10]\n",
    "                print(f\"{valor}\\t\", end=\"\")\n",
    "            print(\"\\n\"+\"-\"*11*l)\n",
    "        elif v == 1:\n",
    "            l = len(nodo['valores']) + 1\n",
    "            print(\"-\"*13*l)\n",
    "            print(f\"{nodo['nombre']}\")\n",
    "            print(\"-\"*13*l)\n",
    "            k = len(padres[0])\n",
    "            valor = padres[0] + ' '*(9 - k) if k < 10 else padres[0][:10]\n",
    "            print(f\"{valor}\\t\", end=\"\")                \n",
    "            for i in nodo['valores']:\n",
    "                k = len(i)\n",
    "                valor = i + ' '*(9 - k) if k < 10 else i[:10]\n",
    "                print(f\"{valor}\\t\", end=\"\")\n",
    "            print(\"\")\n",
    "            for t in nodo['probabilidades'].keys():\n",
    "                k = len(t)\n",
    "                valor = t + ' '*(9 - k) if k < 10 else t[:10]\n",
    "                print(f\"{valor}\\t\", end=\"\")\n",
    "                prob = [str(p) for p in nodo['probabilidades'][t]]\n",
    "                for p in prob:\n",
    "                    k = len(p)\n",
    "                    valor = p + ' '*(9 - k) if k < 10 else p[:10]\n",
    "                    print(f\"{valor}\\t\", end=\"\")\n",
    "                print(\"\")\n",
    "            print(\"\\n\"+\"-\"*13*l)\n",
    "        elif v > 1:\n",
    "            l = len(nodo['valores']) + 1\n",
    "            print(\"-\"*18*l)\n",
    "            print(f\"{nodo['nombre']}\")\n",
    "            print(\"-\"*18*l)\n",
    "            for i in padres:\n",
    "                k = len(i)\n",
    "                valor = i + ' '*(9 - k) if k < 10 else i[:10]\n",
    "                print(f\"{valor}\\t\", end=\"\")                \n",
    "            for i in nodo['valores']:\n",
    "                k = len(i)\n",
    "                valor = i + ' '*(9 - k) if k < 10 else i[:10]\n",
    "                print(f\"{valor}\\t\", end=\"\")\n",
    "            print(\"\")\n",
    "            for tupla in nodo['probabilidades'].keys():\n",
    "                for t in tupla:\n",
    "                    k = len(t)\n",
    "                    valor = t + ' '*(9 - k) if k < 10 else i[:10]\n",
    "                    print(f\"{valor}\\t\", end=\"\")\n",
    "                prob = [str(p) for p in nodo['probabilidades'][tupla]]\n",
    "                for p in prob:\n",
    "                    k = len(p)\n",
    "                    valor = p + ' '*(9 - k) if k < 10 else i[:10]\n",
    "                    print(f\"{valor}\\t\", end=\"\")\n",
    "                print(\"\")\n",
    "            print(\"\\n\"+\"-\"*18*l)\n",
    "    \n",
    "    def ver_red(self):\n",
    "        '''\n",
    "        Muestra el grafo subyacente de la red.\n",
    "        '''        \n",
    "        return ig.plot(self.red, \n",
    "            layout=self.red.layout(\"kk\"), \n",
    "            vertex_label = [l for l in self.red.vs['nombre']],\n",
    "            bbox = (200, 200), \n",
    "            margin = 50\n",
    "           )"
   ]
  },
  {
   "cell_type": "markdown",
   "metadata": {},
   "source": [
    "**Mi primera red bayesiana**\n",
    "\n",
    "Vamos a implementar la red del ejercicio 1 de las diapositivas:\n",
    "\n",
    "<img src=\"./imagenes/ejercicio1.png\" width=\"600\">\n",
    "\n",
    "Para comenzar, inicializamos una instancia de la red bayesiana:"
   ]
  },
  {
   "cell_type": "code",
   "execution_count": 3,
   "metadata": {},
   "outputs": [],
   "source": [
    "B = RedBayesiana()"
   ]
  },
  {
   "cell_type": "markdown",
   "metadata": {},
   "source": [
    "Creamos los nodos para la lluvia y la manguera:"
   ]
  },
  {
   "cell_type": "code",
   "execution_count": 4,
   "metadata": {},
   "outputs": [],
   "source": [
    "B.crear_nodo(\"Lluvia\", [\"verdadero\", \"falso\"])\n",
    "B.crear_nodo(\"Manguera\", [\"verdadero\", \"falso\"])"
   ]
  },
  {
   "cell_type": "markdown",
   "metadata": {},
   "source": [
    "Creamos la dependencia de la manguera con respecto a la lluvia:"
   ]
  },
  {
   "cell_type": "code",
   "execution_count": 5,
   "metadata": {},
   "outputs": [
    {
     "name": "stdout",
     "output_type": "stream",
     "text": [
      "Dependencia creada: Lluvia --> Manguera\n"
     ]
    }
   ],
   "source": [
    "B.crear_dependencia(\"Lluvia\", \"Manguera\")"
   ]
  },
  {
   "cell_type": "markdown",
   "metadata": {},
   "source": [
    "**Ejercicio 1:**\n",
    "\n",
    "Cree el nodo `JardinMojado` con sus respectivas dependencias."
   ]
  },
  {
   "cell_type": "markdown",
   "metadata": {},
   "source": [
    "**Respuesta:**\n",
    "\n",
    "Una posible implementación es la siguiente:"
   ]
  },
  {
   "cell_type": "code",
   "execution_count": 6,
   "metadata": {},
   "outputs": [
    {
     "name": "stdout",
     "output_type": "stream",
     "text": [
      "Dependencia creada: Lluvia --> JardinMojado\n",
      "Dependencia creada: Manguera --> JardinMojado\n"
     ]
    }
   ],
   "source": [
    "B.crear_nodo(\"JardinMojado\", [\"verdadero\", \"falso\"])\n",
    "B.crear_dependencia(\"Lluvia\", \"JardinMojado\")\n",
    "B.crear_dependencia(\"Manguera\", \"JardinMojado\")"
   ]
  },
  {
   "cell_type": "markdown",
   "metadata": {},
   "source": [
    "----"
   ]
  },
  {
   "cell_type": "markdown",
   "metadata": {},
   "source": [
    "Ya podemos visualizar el grafo subyacente mediante la siguiente instrucción:"
   ]
  },
  {
   "cell_type": "code",
   "execution_count": 7,
   "metadata": {},
   "outputs": [
    {
     "data": {
      "image/svg+xml": [
       "<?xml version=\"1.0\" encoding=\"UTF-8\"?>\n",
       "<svg xmlns=\"http://www.w3.org/2000/svg\" xmlns:xlink=\"http://www.w3.org/1999/xlink\" width=\"200pt\" height=\"200pt\" viewBox=\"0 0 200 200\" version=\"1.1\">\n",
       "<defs>\n",
       "<g>\n",
       "<symbol overflow=\"visible\" id=\"glyph0-0\">\n",
       "<path style=\"stroke:none;\" d=\"M 0.453125 0 L 0.453125 -10.042969 L 8.421875 -10.042969 L 8.421875 0 Z M 7.164062 -1.257812 L 7.164062 -8.785156 L 1.710938 -8.785156 L 1.710938 -1.257812 Z M 7.164062 -1.257812 \"/>\n",
       "</symbol>\n",
       "<symbol overflow=\"visible\" id=\"glyph0-1\">\n",
       "<path style=\"stroke:none;\" d=\"M 1.066406 -10.042969 L 2.425781 -10.042969 L 2.425781 -1.195312 L 7.511719 -1.195312 L 7.511719 0 L 1.066406 0 Z M 1.066406 -10.042969 \"/>\n",
       "</symbol>\n",
       "<symbol overflow=\"visible\" id=\"glyph0-2\">\n",
       "<path style=\"stroke:none;\" d=\"M 0.9375 -10.042969 L 2.167969 -10.042969 L 2.167969 0 L 0.9375 0 Z M 0.9375 -10.042969 \"/>\n",
       "</symbol>\n",
       "<symbol overflow=\"visible\" id=\"glyph0-3\">\n",
       "<path style=\"stroke:none;\" d=\"M 2.132812 -7.320312 L 2.132812 -2.460938 C 2.132812 -2.085938 2.191406 -1.78125 2.3125 -1.546875 C 2.53125 -1.109375 2.9375 -0.890625 3.535156 -0.890625 C 4.390625 -0.890625 4.972656 -1.273438 5.285156 -2.039062 C 5.453125 -2.449219 5.539062 -3.011719 5.539062 -3.726562 L 5.539062 -7.320312 L 6.765625 -7.320312 L 6.765625 0 L 5.605469 0 L 5.617188 -1.078125 C 5.460938 -0.800781 5.261719 -0.566406 5.023438 -0.375 C 4.554688 0.0078125 3.984375 0.199219 3.316406 0.199219 C 2.273438 0.199219 1.5625 -0.148438 1.183594 -0.847656 C 0.976562 -1.222656 0.875 -1.71875 0.875 -2.34375 L 0.875 -7.320312 Z M 2.132812 -7.320312 \"/>\n",
       "</symbol>\n",
       "<symbol overflow=\"visible\" id=\"glyph0-4\">\n",
       "<path style=\"stroke:none;\" d=\"M 1.503906 -7.320312 L 3.460938 -1.359375 L 5.503906 -7.320312 L 6.851562 -7.320312 L 4.085938 0 L 2.773438 0 L 0.0742188 -7.320312 Z M 1.503906 -7.320312 \"/>\n",
       "</symbol>\n",
       "<symbol overflow=\"visible\" id=\"glyph0-5\">\n",
       "<path style=\"stroke:none;\" d=\"M 0.902344 -7.289062 L 2.152344 -7.289062 L 2.152344 0 L 0.902344 0 Z M 0.902344 -10.042969 L 2.152344 -10.042969 L 2.152344 -8.648438 L 0.902344 -8.648438 Z M 0.902344 -10.042969 \"/>\n",
       "</symbol>\n",
       "<symbol overflow=\"visible\" id=\"glyph0-6\">\n",
       "<path style=\"stroke:none;\" d=\"M 1.84375 -1.949219 C 1.84375 -1.59375 1.976562 -1.3125 2.234375 -1.109375 C 2.496094 -0.902344 2.804688 -0.800781 3.15625 -0.800781 C 3.589844 -0.800781 4.011719 -0.898438 4.414062 -1.101562 C 5.097656 -1.433594 5.441406 -1.976562 5.441406 -2.734375 L 5.441406 -3.726562 C 5.289062 -3.628906 5.097656 -3.550781 4.859375 -3.484375 C 4.625 -3.421875 4.390625 -3.375 4.164062 -3.351562 L 3.417969 -3.253906 C 2.972656 -3.195312 2.636719 -3.101562 2.414062 -2.972656 C 2.035156 -2.757812 1.84375 -2.417969 1.84375 -1.949219 Z M 4.828125 -4.4375 C 5.109375 -4.472656 5.296875 -4.589844 5.394531 -4.792969 C 5.449219 -4.902344 5.476562 -5.058594 5.476562 -5.265625 C 5.476562 -5.683594 5.328125 -5.988281 5.027344 -6.175781 C 4.730469 -6.367188 4.300781 -6.460938 3.746094 -6.460938 C 3.101562 -6.460938 2.648438 -6.285156 2.378906 -5.941406 C 2.226562 -5.75 2.128906 -5.464844 2.085938 -5.085938 L 0.9375 -5.085938 C 0.960938 -5.988281 1.253906 -6.617188 1.816406 -6.96875 C 2.378906 -7.320312 3.03125 -7.5 3.773438 -7.5 C 4.632812 -7.5 5.335938 -7.335938 5.871094 -7.007812 C 6.40625 -6.679688 6.671875 -6.167969 6.671875 -5.476562 L 6.671875 -1.257812 C 6.671875 -1.128906 6.699219 -1.027344 6.75 -0.949219 C 6.804688 -0.871094 6.914062 -0.835938 7.082031 -0.835938 C 7.136719 -0.835938 7.199219 -0.835938 7.265625 -0.84375 C 7.335938 -0.851562 7.40625 -0.859375 7.484375 -0.875 L 7.484375 0.0351562 C 7.292969 0.0898438 7.148438 0.125 7.046875 0.136719 C 6.945312 0.148438 6.8125 0.15625 6.636719 0.15625 C 6.214844 0.15625 5.90625 0.0078125 5.714844 -0.292969 C 5.613281 -0.453125 5.542969 -0.679688 5.503906 -0.96875 C 5.253906 -0.640625 4.890625 -0.359375 4.421875 -0.117188 C 3.953125 0.125 3.4375 0.246094 2.871094 0.246094 C 2.191406 0.246094 1.636719 0.0390625 1.207031 -0.371094 C 0.777344 -0.785156 0.5625 -1.300781 0.5625 -1.921875 C 0.5625 -2.601562 0.773438 -3.125 1.195312 -3.5 C 1.621094 -3.875 2.175781 -4.105469 2.863281 -4.191406 Z M 4.828125 -4.4375 \"/>\n",
       "</symbol>\n",
       "<symbol overflow=\"visible\" id=\"glyph0-7\">\n",
       "<path style=\"stroke:none;\" d=\"M 1.03125 -10.042969 L 2.980469 -10.042969 L 5.867188 -1.550781 L 8.730469 -10.042969 L 10.65625 -10.042969 L 10.65625 0 L 9.367188 0 L 9.367188 -5.925781 C 9.367188 -6.132812 9.371094 -6.472656 9.378906 -6.945312 C 9.386719 -7.417969 9.390625 -7.925781 9.390625 -8.46875 L 6.527344 0 L 5.179688 0 L 2.296875 -8.46875 L 2.296875 -8.164062 C 2.296875 -7.917969 2.300781 -7.542969 2.3125 -7.039062 C 2.324219 -6.535156 2.332031 -6.164062 2.332031 -5.925781 L 2.332031 0 L 1.03125 0 Z M 1.03125 -10.042969 \"/>\n",
       "</symbol>\n",
       "<symbol overflow=\"visible\" id=\"glyph0-8\">\n",
       "<path style=\"stroke:none;\" d=\"M 0.902344 -7.320312 L 2.070312 -7.320312 L 2.070312 -6.28125 C 2.417969 -6.710938 2.785156 -7.019531 3.171875 -7.203125 C 3.558594 -7.390625 3.988281 -7.484375 4.464844 -7.484375 C 5.503906 -7.484375 6.203125 -7.125 6.570312 -6.398438 C 6.769531 -6 6.871094 -5.433594 6.871094 -4.695312 L 6.871094 0 L 5.617188 0 L 5.617188 -4.613281 C 5.617188 -5.0625 5.554688 -5.421875 5.421875 -5.695312 C 5.203125 -6.148438 4.804688 -6.378906 4.230469 -6.378906 C 3.9375 -6.378906 3.699219 -6.347656 3.515625 -6.289062 C 3.175781 -6.1875 2.878906 -5.988281 2.625 -5.6875 C 2.421875 -5.445312 2.285156 -5.195312 2.226562 -4.9375 C 2.164062 -4.679688 2.132812 -4.3125 2.132812 -3.835938 L 2.132812 0 L 0.902344 0 Z M 0.902344 -7.320312 \"/>\n",
       "</symbol>\n",
       "<symbol overflow=\"visible\" id=\"glyph0-9\">\n",
       "<path style=\"stroke:none;\" d=\"M 3.484375 -7.453125 C 4.058594 -7.453125 4.5625 -7.308594 4.992188 -7.027344 C 5.222656 -6.867188 5.460938 -6.636719 5.703125 -6.328125 L 5.703125 -7.253906 L 6.835938 -7.253906 L 6.835938 -0.59375 C 6.835938 0.335938 6.699219 1.070312 6.425781 1.605469 C 5.914062 2.601562 4.953125 3.097656 3.535156 3.097656 C 2.746094 3.097656 2.082031 2.921875 1.546875 2.566406 C 1.007812 2.214844 0.707031 1.660156 0.640625 0.910156 L 1.894531 0.910156 C 1.953125 1.238281 2.070312 1.492188 2.25 1.667969 C 2.527344 1.941406 2.964844 2.078125 3.5625 2.078125 C 4.503906 2.078125 5.121094 1.746094 5.414062 1.078125 C 5.585938 0.6875 5.667969 -0.0117188 5.652344 -1.019531 C 5.40625 -0.644531 5.109375 -0.367188 4.765625 -0.183594 C 4.417969 0 3.960938 0.0898438 3.390625 0.0898438 C 2.597656 0.0898438 1.902344 -0.191406 1.308594 -0.753906 C 0.714844 -1.316406 0.417969 -2.25 0.417969 -3.546875 C 0.417969 -4.773438 0.714844 -5.730469 1.316406 -6.417969 C 1.914062 -7.105469 2.640625 -7.453125 3.484375 -7.453125 Z M 5.703125 -3.691406 C 5.703125 -4.597656 5.515625 -5.269531 5.140625 -5.707031 C 4.765625 -6.144531 4.289062 -6.363281 3.710938 -6.363281 C 2.84375 -6.363281 2.253906 -5.957031 1.933594 -5.148438 C 1.765625 -4.714844 1.679688 -4.148438 1.679688 -3.445312 C 1.679688 -2.621094 1.847656 -1.992188 2.183594 -1.5625 C 2.519531 -1.132812 2.96875 -0.914062 3.535156 -0.914062 C 4.417969 -0.914062 5.039062 -1.316406 5.398438 -2.113281 C 5.601562 -2.5625 5.703125 -3.089844 5.703125 -3.691406 Z M 5.703125 -3.691406 \"/>\n",
       "</symbol>\n",
       "<symbol overflow=\"visible\" id=\"glyph0-10\">\n",
       "<path style=\"stroke:none;\" d=\"M 3.953125 -7.484375 C 4.472656 -7.484375 4.972656 -7.363281 5.460938 -7.121094 C 5.949219 -6.875 6.320312 -6.558594 6.578125 -6.171875 C 6.824219 -5.804688 6.984375 -5.375 7.070312 -4.882812 C 7.140625 -4.542969 7.179688 -4.007812 7.179688 -3.265625 L 1.8125 -3.265625 C 1.835938 -2.523438 2.007812 -1.929688 2.335938 -1.480469 C 2.664062 -1.03125 3.175781 -0.804688 3.863281 -0.804688 C 4.503906 -0.804688 5.015625 -1.019531 5.398438 -1.441406 C 5.617188 -1.6875 5.773438 -1.972656 5.867188 -2.296875 L 7.074219 -2.296875 C 7.042969 -2.027344 6.9375 -1.726562 6.757812 -1.398438 C 6.578125 -1.066406 6.375 -0.796875 6.152344 -0.585938 C 5.777344 -0.222656 5.316406 0.0234375 4.765625 0.148438 C 4.46875 0.222656 4.132812 0.257812 3.757812 0.257812 C 2.847656 0.257812 2.074219 -0.0703125 1.441406 -0.734375 C 0.808594 -1.398438 0.492188 -2.328125 0.492188 -3.519531 C 0.492188 -4.695312 0.8125 -5.652344 1.449219 -6.382812 C 2.085938 -7.117188 2.921875 -7.484375 3.953125 -7.484375 Z M 5.914062 -4.246094 C 5.863281 -4.777344 5.746094 -5.203125 5.5625 -5.523438 C 5.226562 -6.117188 4.664062 -6.414062 3.875 -6.414062 C 3.3125 -6.414062 2.835938 -6.207031 2.453125 -5.800781 C 2.070312 -5.390625 1.867188 -4.875 1.84375 -4.246094 Z M 5.914062 -4.246094 \"/>\n",
       "</symbol>\n",
       "<symbol overflow=\"visible\" id=\"glyph0-11\">\n",
       "<path style=\"stroke:none;\" d=\"M 0.9375 -7.320312 L 2.105469 -7.320312 L 2.105469 -6.054688 C 2.203125 -6.300781 2.4375 -6.601562 2.808594 -6.957031 C 3.183594 -7.308594 3.613281 -7.484375 4.101562 -7.484375 C 4.125 -7.484375 4.164062 -7.484375 4.21875 -7.476562 C 4.273438 -7.472656 4.367188 -7.464844 4.5 -7.453125 L 4.5 -6.152344 C 4.425781 -6.164062 4.359375 -6.175781 4.296875 -6.179688 C 4.234375 -6.183594 4.167969 -6.1875 4.09375 -6.1875 C 3.476562 -6.1875 3 -5.988281 2.664062 -5.589844 C 2.332031 -5.191406 2.167969 -4.730469 2.167969 -4.210938 L 2.167969 0 L 0.9375 0 Z M 0.9375 -7.320312 \"/>\n",
       "</symbol>\n",
       "<symbol overflow=\"visible\" id=\"glyph0-12\">\n",
       "<path style=\"stroke:none;\" d=\"M 5.996094 -2.992188 C 5.996094 -2.144531 5.871094 -1.488281 5.617188 -1.019531 C 5.152344 -0.164062 4.269531 0.265625 2.96875 0.265625 C 2.214844 0.265625 1.570312 0.0625 1.039062 -0.34375 C 0.507812 -0.753906 0.238281 -1.480469 0.238281 -2.523438 L 0.238281 -3.242188 L 1.515625 -3.242188 L 1.515625 -2.523438 C 1.515625 -1.976562 1.640625 -1.5625 1.882812 -1.289062 C 2.125 -1.011719 2.507812 -0.875 3.023438 -0.875 C 3.746094 -0.875 4.21875 -1.125 4.445312 -1.621094 C 4.582031 -1.925781 4.648438 -2.5 4.648438 -3.351562 L 4.648438 -10.042969 L 5.996094 -10.042969 Z M 5.996094 -2.992188 \"/>\n",
       "</symbol>\n",
       "<symbol overflow=\"visible\" id=\"glyph0-13\">\n",
       "<path style=\"stroke:none;\" d=\"M 1.679688 -3.574219 C 1.679688 -2.789062 1.847656 -2.136719 2.179688 -1.605469 C 2.511719 -1.078125 3.046875 -0.8125 3.78125 -0.8125 C 4.351562 -0.8125 4.816406 -1.058594 5.183594 -1.546875 C 5.550781 -2.039062 5.734375 -2.742188 5.734375 -3.65625 C 5.734375 -4.582031 5.546875 -5.265625 5.167969 -5.710938 C 4.789062 -6.15625 4.324219 -6.378906 3.765625 -6.378906 C 3.148438 -6.378906 2.644531 -6.140625 2.257812 -5.667969 C 1.875 -5.195312 1.679688 -4.496094 1.679688 -3.574219 Z M 3.535156 -7.453125 C 4.09375 -7.453125 4.5625 -7.332031 4.941406 -7.09375 C 5.160156 -6.957031 5.410156 -6.71875 5.6875 -6.378906 L 5.6875 -10.078125 L 6.871094 -10.078125 L 6.871094 0 L 5.761719 0 L 5.761719 -1.019531 C 5.476562 -0.566406 5.136719 -0.242188 4.742188 -0.0390625 C 4.351562 0.160156 3.902344 0.257812 3.398438 0.257812 C 2.582031 0.257812 1.875 -0.0820312 1.277344 -0.769531 C 0.679688 -1.453125 0.382812 -2.367188 0.382812 -3.507812 C 0.382812 -4.574219 0.65625 -5.496094 1.199219 -6.277344 C 1.742188 -7.058594 2.523438 -7.453125 3.535156 -7.453125 Z M 3.535156 -7.453125 \"/>\n",
       "</symbol>\n",
       "<symbol overflow=\"visible\" id=\"glyph0-14\">\n",
       "<path style=\"stroke:none;\" d=\"M 3.808594 -0.792969 C 4.625 -0.792969 5.183594 -1.101562 5.484375 -1.71875 C 5.789062 -2.335938 5.941406 -3.023438 5.941406 -3.78125 C 5.941406 -4.464844 5.832031 -5.019531 5.613281 -5.449219 C 5.265625 -6.125 4.667969 -6.460938 3.820312 -6.460938 C 3.070312 -6.460938 2.523438 -6.171875 2.179688 -5.597656 C 1.839844 -5.023438 1.667969 -4.332031 1.667969 -3.519531 C 1.667969 -2.742188 1.839844 -2.09375 2.179688 -1.570312 C 2.523438 -1.050781 3.066406 -0.792969 3.808594 -0.792969 Z M 3.855469 -7.53125 C 4.796875 -7.53125 5.597656 -7.21875 6.25 -6.589844 C 6.898438 -5.960938 7.226562 -5.035156 7.226562 -3.8125 C 7.226562 -2.632812 6.9375 -1.660156 6.363281 -0.890625 C 5.789062 -0.117188 4.898438 0.265625 3.691406 0.265625 C 2.683594 0.265625 1.882812 -0.0742188 1.292969 -0.753906 C 0.699219 -1.4375 0.402344 -2.351562 0.402344 -3.5 C 0.402344 -4.730469 0.714844 -5.710938 1.339844 -6.4375 C 1.964844 -7.167969 2.804688 -7.53125 3.855469 -7.53125 Z M 3.855469 -7.53125 \"/>\n",
       "</symbol>\n",
       "<symbol overflow=\"visible\" id=\"glyph0-15\">\n",
       "<path style=\"stroke:none;\" d=\"M 2.132812 -8.621094 L 0.902344 -8.621094 L 0.902344 -10.042969 L 2.132812 -10.042969 Z M -0.257812 1.851562 C 0.292969 1.835938 0.625 1.785156 0.734375 1.707031 C 0.847656 1.625 0.902344 1.375 0.902344 0.957031 L 0.902344 -7.289062 L 2.132812 -7.289062 L 2.132812 1.085938 C 2.132812 1.621094 2.046875 2.019531 1.875 2.28125 C 1.585938 2.730469 1.042969 2.953125 0.238281 2.953125 C 0.179688 2.953125 0.117188 2.949219 0.0507812 2.945312 C -0.015625 2.941406 -0.117188 2.933594 -0.257812 2.917969 Z M -0.257812 1.851562 \"/>\n",
       "</symbol>\n",
       "</g>\n",
       "</defs>\n",
       "<g id=\"surface2\">\n",
       "<rect x=\"0\" y=\"0\" width=\"200\" height=\"200\" style=\"fill:rgb(100%,100%,100%);fill-opacity:1;stroke:none;\"/>\n",
       "<path style=\"fill:none;stroke-width:1;stroke-linecap:butt;stroke-linejoin:miter;stroke:rgb(26.666667%,26.666667%,26.666667%);stroke-opacity:1;stroke-miterlimit:10;\" d=\"M 150 100 L 71.703125 139.148438 \"/>\n",
       "<path style=\" stroke:none;fill-rule:nonzero;fill:rgb(26.666667%,26.666667%,26.666667%);fill-opacity:1;\" d=\"M 58.945312 145.527344 L 69.632812 135.003906 L 73.777344 143.292969 L 58.945312 145.527344 \"/>\n",
       "<path style=\"fill:none;stroke-width:1;stroke-linecap:butt;stroke-linejoin:miter;stroke:rgb(26.666667%,26.666667%,26.666667%);stroke-opacity:1;stroke-miterlimit:10;\" d=\"M 150 100 L 71.703125 60.851562 \"/>\n",
       "<path style=\" stroke:none;fill-rule:nonzero;fill:rgb(26.666667%,26.666667%,26.666667%);fill-opacity:1;\" d=\"M 58.945312 54.472656 L 73.777344 56.707031 L 69.632812 64.996094 L 58.945312 54.472656 \"/>\n",
       "<path style=\"fill:none;stroke-width:1;stroke-linecap:butt;stroke-linejoin:miter;stroke:rgb(26.666667%,26.666667%,26.666667%);stroke-opacity:1;stroke-miterlimit:10;\" d=\"M 50 150 L 50 74.265625 \"/>\n",
       "<path style=\" stroke:none;fill-rule:nonzero;fill:rgb(26.666667%,26.666667%,26.666667%);fill-opacity:1;\" d=\"M 50 60 L 54.636719 74.265625 L 45.363281 74.265625 L 50 60 \"/>\n",
       "<path style=\"fill-rule:nonzero;fill:rgb(100%,0%,0%);fill-opacity:1;stroke-width:1;stroke-linecap:butt;stroke-linejoin:miter;stroke:rgb(0%,0%,0%);stroke-opacity:1;stroke-miterlimit:10;\" d=\"M 160 100 C 160 105.523438 155.523438 110 150 110 C 144.476562 110 140 105.523438 140 100 C 140 94.476562 144.476562 90 150 90 C 155.523438 90 160 94.476562 160 100 \"/>\n",
       "<path style=\"fill-rule:nonzero;fill:rgb(100%,0%,0%);fill-opacity:1;stroke-width:1;stroke-linecap:butt;stroke-linejoin:miter;stroke:rgb(0%,0%,0%);stroke-opacity:1;stroke-miterlimit:10;\" d=\"M 60 150 C 60 155.523438 55.523438 160 50 160 C 44.476562 160 40 155.523438 40 150 C 40 144.476562 44.476562 140 50 140 C 55.523438 140 60 144.476562 60 150 \"/>\n",
       "<path style=\"fill-rule:nonzero;fill:rgb(100%,0%,0%);fill-opacity:1;stroke-width:1;stroke-linecap:butt;stroke-linejoin:miter;stroke:rgb(0%,0%,0%);stroke-opacity:1;stroke-miterlimit:10;\" d=\"M 60 50 C 60 55.523438 55.523438 60 50 60 C 44.476562 60 40 55.523438 40 50 C 40 44.476562 44.476562 40 50 40 C 55.523438 40 60 44.476562 60 50 \"/>\n",
       "<g style=\"fill:rgb(0%,0%,0%);fill-opacity:1;\">\n",
       "  <use xlink:href=\"#glyph0-1\" x=\"131.328125\" y=\"106.628906\"/>\n",
       "  <use xlink:href=\"#glyph0-2\" x=\"139.114258\" y=\"106.628906\"/>\n",
       "  <use xlink:href=\"#glyph0-3\" x=\"142.224609\" y=\"106.628906\"/>\n",
       "  <use xlink:href=\"#glyph0-4\" x=\"150.010742\" y=\"106.628906\"/>\n",
       "  <use xlink:href=\"#glyph0-5\" x=\"157.010742\" y=\"106.628906\"/>\n",
       "  <use xlink:href=\"#glyph0-6\" x=\"160.121094\" y=\"106.628906\"/>\n",
       "</g>\n",
       "<g style=\"fill:rgb(0%,0%,0%);fill-opacity:1;\">\n",
       "  <use xlink:href=\"#glyph0-7\" x=\"18.113281\" y=\"156.632812\"/>\n",
       "  <use xlink:href=\"#glyph0-6\" x=\"29.775391\" y=\"156.632812\"/>\n",
       "  <use xlink:href=\"#glyph0-8\" x=\"37.561523\" y=\"156.632812\"/>\n",
       "  <use xlink:href=\"#glyph0-9\" x=\"45.347656\" y=\"156.632812\"/>\n",
       "  <use xlink:href=\"#glyph0-3\" x=\"53.133789\" y=\"156.632812\"/>\n",
       "  <use xlink:href=\"#glyph0-10\" x=\"60.919922\" y=\"156.632812\"/>\n",
       "  <use xlink:href=\"#glyph0-11\" x=\"68.706055\" y=\"156.632812\"/>\n",
       "  <use xlink:href=\"#glyph0-6\" x=\"73.368164\" y=\"156.632812\"/>\n",
       "</g>\n",
       "<g style=\"fill:rgb(0%,0%,0%);fill-opacity:1;\">\n",
       "  <use xlink:href=\"#glyph0-12\" x=\"8.136719\" y=\"56.648438\"/>\n",
       "  <use xlink:href=\"#glyph0-6\" x=\"15.136719\" y=\"56.648438\"/>\n",
       "  <use xlink:href=\"#glyph0-11\" x=\"22.922852\" y=\"56.648438\"/>\n",
       "  <use xlink:href=\"#glyph0-13\" x=\"27.584961\" y=\"56.648438\"/>\n",
       "  <use xlink:href=\"#glyph0-5\" x=\"35.371094\" y=\"56.648438\"/>\n",
       "  <use xlink:href=\"#glyph0-8\" x=\"38.481445\" y=\"56.648438\"/>\n",
       "  <use xlink:href=\"#glyph0-7\" x=\"46.267578\" y=\"56.648438\"/>\n",
       "  <use xlink:href=\"#glyph0-14\" x=\"57.929688\" y=\"56.648438\"/>\n",
       "  <use xlink:href=\"#glyph0-15\" x=\"65.71582\" y=\"56.648438\"/>\n",
       "  <use xlink:href=\"#glyph0-6\" x=\"68.826172\" y=\"56.648438\"/>\n",
       "  <use xlink:href=\"#glyph0-13\" x=\"76.612305\" y=\"56.648438\"/>\n",
       "  <use xlink:href=\"#glyph0-14\" x=\"84.398438\" y=\"56.648438\"/>\n",
       "</g>\n",
       "</g>\n",
       "</svg>\n"
      ],
      "text/plain": [
       "<igraph.drawing.Plot at 0x10b2d2ca0>"
      ]
     },
     "execution_count": 7,
     "metadata": {
      "image/svg+xml": {
       "isolated": true
      }
     },
     "output_type": "execute_result"
    }
   ],
   "source": [
    "B.ver_red()"
   ]
  },
  {
   "cell_type": "markdown",
   "metadata": {},
   "source": [
    "Ahora debemos asignar las probabilidades. Lo haremos de manera manual, comenzando con la variable `Lluvia`. Corra la siguiente celda e incluya los valores de acuerdo al ejercicio (observe que esta variable no depende de ninguna otra):"
   ]
  },
  {
   "cell_type": "code",
   "execution_count": 9,
   "metadata": {},
   "outputs": [
    {
     "name": "stdout",
     "output_type": "stream",
     "text": [
      "Introduzca las probabilidades ['verdadero', 'falso'] para Lluvia\n",
      ".2, .8\n"
     ]
    }
   ],
   "source": [
    "B.asignar_probabilidades_m(\"Lluvia\")"
   ]
  },
  {
   "cell_type": "code",
   "execution_count": 10,
   "metadata": {},
   "outputs": [
    {
     "name": "stdout",
     "output_type": "stream",
     "text": [
      "----------------------\n",
      "Lluvia\n",
      "----------------------\n",
      "verdadero\tfalso    \t\n",
      "0.2      \t0.8      \t\n",
      "----------------------\n"
     ]
    }
   ],
   "source": [
    "B.ver_nodo(\"Lluvia\")"
   ]
  },
  {
   "cell_type": "markdown",
   "metadata": {},
   "source": [
    "**Ejercicio 2:**\n",
    "\n",
    "Corra las dos celdas siguientes para introducir manualmente las probabilidades de las variables `Manguera` y `JardinMojado`."
   ]
  },
  {
   "cell_type": "code",
   "execution_count": 8,
   "metadata": {},
   "outputs": [
    {
     "name": "stdout",
     "output_type": "stream",
     "text": [
      "Introduzca las probabilidades ['verdadero', 'falso'] para Manguera\n",
      "dado el valor verdadero de Lluvia\n",
      "0.01, 0.99\n",
      "Introduzca las probabilidades ['verdadero', 'falso'] para Manguera\n",
      "dado el valor falso de Lluvia\n",
      "0.4, 0.6\n"
     ]
    }
   ],
   "source": [
    "B.asignar_probabilidades_m(\"Manguera\")"
   ]
  },
  {
   "cell_type": "code",
   "execution_count": 12,
   "metadata": {},
   "outputs": [
    {
     "name": "stdout",
     "output_type": "stream",
     "text": [
      "Introduzca las probabilidades ['verdadero', 'falso'] para JardinMojado\n",
      "dados los valores ('verdadero', 'verdadero') de ['Lluvia', 'Manguera']\n",
      ".99, .01\n",
      "Introduzca las probabilidades ['verdadero', 'falso'] para JardinMojado\n",
      "dados los valores ('verdadero', 'falso') de ['Lluvia', 'Manguera']\n",
      ".9, .1\n",
      "Introduzca las probabilidades ['verdadero', 'falso'] para JardinMojado\n",
      "dados los valores ('falso', 'verdadero') de ['Lluvia', 'Manguera']\n",
      ".8, .2\n",
      "Introduzca las probabilidades ['verdadero', 'falso'] para JardinMojado\n",
      "dados los valores ('falso', 'falso') de ['Lluvia', 'Manguera']\n",
      "0, 1\n"
     ]
    }
   ],
   "source": [
    "B.asignar_probabilidades_m(\"JardinMojado\")"
   ]
  },
  {
   "cell_type": "markdown",
   "metadata": {},
   "source": [
    "Corra las siguientes dos celdas para comprobar las tablas de probabilidad respectivas."
   ]
  },
  {
   "cell_type": "code",
   "execution_count": 12,
   "metadata": {},
   "outputs": [
    {
     "name": "stdout",
     "output_type": "stream",
     "text": [
      "---------------------------------------\n",
      "Manguera\n",
      "---------------------------------------\n",
      "Lluvia   \tverdadero\tfalso    \t\n",
      "verdadero\t0.01     \t0.99     \t\n",
      "falso    \t0.4      \t0.6      \t\n",
      "\n",
      "---------------------------------------\n"
     ]
    }
   ],
   "source": [
    "B.ver_nodo(\"Manguera\")"
   ]
  },
  {
   "cell_type": "code",
   "execution_count": 13,
   "metadata": {},
   "outputs": [
    {
     "name": "stdout",
     "output_type": "stream",
     "text": [
      "------------------------------------------------------\n",
      "JardinMojado\n",
      "------------------------------------------------------\n",
      "Manguera \tLluvia   \tverdadero\tfalso    \t\n",
      "verdadero\tverdadero\t0.99     \t0.01     \t\n",
      "verdadero\tfalso    \t0.9      \t0.1      \t\n",
      "falso    \tverdadero\t0.8      \t0.2      \t\n",
      "falso    \tfalso    \t0.0      \t1.0      \t\n",
      "\n",
      "------------------------------------------------------\n"
     ]
    }
   ],
   "source": [
    "B.ver_nodo(\"JardinMojado\")"
   ]
  },
  {
   "cell_type": "code",
   "execution_count": 9,
   "metadata": {},
   "outputs": [
    {
     "name": "stdout",
     "output_type": "stream",
     "text": [
      "Dependencia creada: Lluvia --> Manguera\n",
      "Dependencia creada: Manguera --> JardinMojado\n",
      "Dependencia creada: Lluvia --> JardinMojado\n"
     ]
    },
    {
     "data": {
      "image/svg+xml": [
       "<?xml version=\"1.0\" encoding=\"UTF-8\"?>\n",
       "<svg xmlns=\"http://www.w3.org/2000/svg\" xmlns:xlink=\"http://www.w3.org/1999/xlink\" width=\"200pt\" height=\"200pt\" viewBox=\"0 0 200 200\" version=\"1.1\">\n",
       "<defs>\n",
       "<g>\n",
       "<symbol overflow=\"visible\" id=\"glyph0-0\">\n",
       "<path style=\"stroke:none;\" d=\"M 0.453125 0 L 0.453125 -10.042969 L 8.421875 -10.042969 L 8.421875 0 Z M 7.164062 -1.257812 L 7.164062 -8.785156 L 1.710938 -8.785156 L 1.710938 -1.257812 Z M 7.164062 -1.257812 \"/>\n",
       "</symbol>\n",
       "<symbol overflow=\"visible\" id=\"glyph0-1\">\n",
       "<path style=\"stroke:none;\" d=\"M 1.066406 -10.042969 L 2.425781 -10.042969 L 2.425781 -1.195312 L 7.511719 -1.195312 L 7.511719 0 L 1.066406 0 Z M 1.066406 -10.042969 \"/>\n",
       "</symbol>\n",
       "<symbol overflow=\"visible\" id=\"glyph0-2\">\n",
       "<path style=\"stroke:none;\" d=\"M 0.9375 -10.042969 L 2.167969 -10.042969 L 2.167969 0 L 0.9375 0 Z M 0.9375 -10.042969 \"/>\n",
       "</symbol>\n",
       "<symbol overflow=\"visible\" id=\"glyph0-3\">\n",
       "<path style=\"stroke:none;\" d=\"M 2.132812 -7.320312 L 2.132812 -2.460938 C 2.132812 -2.085938 2.191406 -1.78125 2.3125 -1.546875 C 2.53125 -1.109375 2.9375 -0.890625 3.535156 -0.890625 C 4.390625 -0.890625 4.972656 -1.273438 5.285156 -2.039062 C 5.453125 -2.449219 5.539062 -3.011719 5.539062 -3.726562 L 5.539062 -7.320312 L 6.765625 -7.320312 L 6.765625 0 L 5.605469 0 L 5.617188 -1.078125 C 5.460938 -0.800781 5.261719 -0.566406 5.023438 -0.375 C 4.554688 0.0078125 3.984375 0.199219 3.316406 0.199219 C 2.273438 0.199219 1.5625 -0.148438 1.183594 -0.847656 C 0.976562 -1.222656 0.875 -1.71875 0.875 -2.34375 L 0.875 -7.320312 Z M 2.132812 -7.320312 \"/>\n",
       "</symbol>\n",
       "<symbol overflow=\"visible\" id=\"glyph0-4\">\n",
       "<path style=\"stroke:none;\" d=\"M 1.503906 -7.320312 L 3.460938 -1.359375 L 5.503906 -7.320312 L 6.851562 -7.320312 L 4.085938 0 L 2.773438 0 L 0.0742188 -7.320312 Z M 1.503906 -7.320312 \"/>\n",
       "</symbol>\n",
       "<symbol overflow=\"visible\" id=\"glyph0-5\">\n",
       "<path style=\"stroke:none;\" d=\"M 0.902344 -7.289062 L 2.152344 -7.289062 L 2.152344 0 L 0.902344 0 Z M 0.902344 -10.042969 L 2.152344 -10.042969 L 2.152344 -8.648438 L 0.902344 -8.648438 Z M 0.902344 -10.042969 \"/>\n",
       "</symbol>\n",
       "<symbol overflow=\"visible\" id=\"glyph0-6\">\n",
       "<path style=\"stroke:none;\" d=\"M 1.84375 -1.949219 C 1.84375 -1.59375 1.976562 -1.3125 2.234375 -1.109375 C 2.496094 -0.902344 2.804688 -0.800781 3.15625 -0.800781 C 3.589844 -0.800781 4.011719 -0.898438 4.414062 -1.101562 C 5.097656 -1.433594 5.441406 -1.976562 5.441406 -2.734375 L 5.441406 -3.726562 C 5.289062 -3.628906 5.097656 -3.550781 4.859375 -3.484375 C 4.625 -3.421875 4.390625 -3.375 4.164062 -3.351562 L 3.417969 -3.253906 C 2.972656 -3.195312 2.636719 -3.101562 2.414062 -2.972656 C 2.035156 -2.757812 1.84375 -2.417969 1.84375 -1.949219 Z M 4.828125 -4.4375 C 5.109375 -4.472656 5.296875 -4.589844 5.394531 -4.792969 C 5.449219 -4.902344 5.476562 -5.058594 5.476562 -5.265625 C 5.476562 -5.683594 5.328125 -5.988281 5.027344 -6.175781 C 4.730469 -6.367188 4.300781 -6.460938 3.746094 -6.460938 C 3.101562 -6.460938 2.648438 -6.285156 2.378906 -5.941406 C 2.226562 -5.75 2.128906 -5.464844 2.085938 -5.085938 L 0.9375 -5.085938 C 0.960938 -5.988281 1.253906 -6.617188 1.816406 -6.96875 C 2.378906 -7.320312 3.03125 -7.5 3.773438 -7.5 C 4.632812 -7.5 5.335938 -7.335938 5.871094 -7.007812 C 6.40625 -6.679688 6.671875 -6.167969 6.671875 -5.476562 L 6.671875 -1.257812 C 6.671875 -1.128906 6.699219 -1.027344 6.75 -0.949219 C 6.804688 -0.871094 6.914062 -0.835938 7.082031 -0.835938 C 7.136719 -0.835938 7.199219 -0.835938 7.265625 -0.84375 C 7.335938 -0.851562 7.40625 -0.859375 7.484375 -0.875 L 7.484375 0.0351562 C 7.292969 0.0898438 7.148438 0.125 7.046875 0.136719 C 6.945312 0.148438 6.8125 0.15625 6.636719 0.15625 C 6.214844 0.15625 5.90625 0.0078125 5.714844 -0.292969 C 5.613281 -0.453125 5.542969 -0.679688 5.503906 -0.96875 C 5.253906 -0.640625 4.890625 -0.359375 4.421875 -0.117188 C 3.953125 0.125 3.4375 0.246094 2.871094 0.246094 C 2.191406 0.246094 1.636719 0.0390625 1.207031 -0.371094 C 0.777344 -0.785156 0.5625 -1.300781 0.5625 -1.921875 C 0.5625 -2.601562 0.773438 -3.125 1.195312 -3.5 C 1.621094 -3.875 2.175781 -4.105469 2.863281 -4.191406 Z M 4.828125 -4.4375 \"/>\n",
       "</symbol>\n",
       "<symbol overflow=\"visible\" id=\"glyph0-7\">\n",
       "<path style=\"stroke:none;\" d=\"M 1.03125 -10.042969 L 2.980469 -10.042969 L 5.867188 -1.550781 L 8.730469 -10.042969 L 10.65625 -10.042969 L 10.65625 0 L 9.367188 0 L 9.367188 -5.925781 C 9.367188 -6.132812 9.371094 -6.472656 9.378906 -6.945312 C 9.386719 -7.417969 9.390625 -7.925781 9.390625 -8.46875 L 6.527344 0 L 5.179688 0 L 2.296875 -8.46875 L 2.296875 -8.164062 C 2.296875 -7.917969 2.300781 -7.542969 2.3125 -7.039062 C 2.324219 -6.535156 2.332031 -6.164062 2.332031 -5.925781 L 2.332031 0 L 1.03125 0 Z M 1.03125 -10.042969 \"/>\n",
       "</symbol>\n",
       "<symbol overflow=\"visible\" id=\"glyph0-8\">\n",
       "<path style=\"stroke:none;\" d=\"M 0.902344 -7.320312 L 2.070312 -7.320312 L 2.070312 -6.28125 C 2.417969 -6.710938 2.785156 -7.019531 3.171875 -7.203125 C 3.558594 -7.390625 3.988281 -7.484375 4.464844 -7.484375 C 5.503906 -7.484375 6.203125 -7.125 6.570312 -6.398438 C 6.769531 -6 6.871094 -5.433594 6.871094 -4.695312 L 6.871094 0 L 5.617188 0 L 5.617188 -4.613281 C 5.617188 -5.0625 5.554688 -5.421875 5.421875 -5.695312 C 5.203125 -6.148438 4.804688 -6.378906 4.230469 -6.378906 C 3.9375 -6.378906 3.699219 -6.347656 3.515625 -6.289062 C 3.175781 -6.1875 2.878906 -5.988281 2.625 -5.6875 C 2.421875 -5.445312 2.285156 -5.195312 2.226562 -4.9375 C 2.164062 -4.679688 2.132812 -4.3125 2.132812 -3.835938 L 2.132812 0 L 0.902344 0 Z M 0.902344 -7.320312 \"/>\n",
       "</symbol>\n",
       "<symbol overflow=\"visible\" id=\"glyph0-9\">\n",
       "<path style=\"stroke:none;\" d=\"M 3.484375 -7.453125 C 4.058594 -7.453125 4.5625 -7.308594 4.992188 -7.027344 C 5.222656 -6.867188 5.460938 -6.636719 5.703125 -6.328125 L 5.703125 -7.253906 L 6.835938 -7.253906 L 6.835938 -0.59375 C 6.835938 0.335938 6.699219 1.070312 6.425781 1.605469 C 5.914062 2.601562 4.953125 3.097656 3.535156 3.097656 C 2.746094 3.097656 2.082031 2.921875 1.546875 2.566406 C 1.007812 2.214844 0.707031 1.660156 0.640625 0.910156 L 1.894531 0.910156 C 1.953125 1.238281 2.070312 1.492188 2.25 1.667969 C 2.527344 1.941406 2.964844 2.078125 3.5625 2.078125 C 4.503906 2.078125 5.121094 1.746094 5.414062 1.078125 C 5.585938 0.6875 5.667969 -0.0117188 5.652344 -1.019531 C 5.40625 -0.644531 5.109375 -0.367188 4.765625 -0.183594 C 4.417969 0 3.960938 0.0898438 3.390625 0.0898438 C 2.597656 0.0898438 1.902344 -0.191406 1.308594 -0.753906 C 0.714844 -1.316406 0.417969 -2.25 0.417969 -3.546875 C 0.417969 -4.773438 0.714844 -5.730469 1.316406 -6.417969 C 1.914062 -7.105469 2.640625 -7.453125 3.484375 -7.453125 Z M 5.703125 -3.691406 C 5.703125 -4.597656 5.515625 -5.269531 5.140625 -5.707031 C 4.765625 -6.144531 4.289062 -6.363281 3.710938 -6.363281 C 2.84375 -6.363281 2.253906 -5.957031 1.933594 -5.148438 C 1.765625 -4.714844 1.679688 -4.148438 1.679688 -3.445312 C 1.679688 -2.621094 1.847656 -1.992188 2.183594 -1.5625 C 2.519531 -1.132812 2.96875 -0.914062 3.535156 -0.914062 C 4.417969 -0.914062 5.039062 -1.316406 5.398438 -2.113281 C 5.601562 -2.5625 5.703125 -3.089844 5.703125 -3.691406 Z M 5.703125 -3.691406 \"/>\n",
       "</symbol>\n",
       "<symbol overflow=\"visible\" id=\"glyph0-10\">\n",
       "<path style=\"stroke:none;\" d=\"M 3.953125 -7.484375 C 4.472656 -7.484375 4.972656 -7.363281 5.460938 -7.121094 C 5.949219 -6.875 6.320312 -6.558594 6.578125 -6.171875 C 6.824219 -5.804688 6.984375 -5.375 7.070312 -4.882812 C 7.140625 -4.542969 7.179688 -4.007812 7.179688 -3.265625 L 1.8125 -3.265625 C 1.835938 -2.523438 2.007812 -1.929688 2.335938 -1.480469 C 2.664062 -1.03125 3.175781 -0.804688 3.863281 -0.804688 C 4.503906 -0.804688 5.015625 -1.019531 5.398438 -1.441406 C 5.617188 -1.6875 5.773438 -1.972656 5.867188 -2.296875 L 7.074219 -2.296875 C 7.042969 -2.027344 6.9375 -1.726562 6.757812 -1.398438 C 6.578125 -1.066406 6.375 -0.796875 6.152344 -0.585938 C 5.777344 -0.222656 5.316406 0.0234375 4.765625 0.148438 C 4.46875 0.222656 4.132812 0.257812 3.757812 0.257812 C 2.847656 0.257812 2.074219 -0.0703125 1.441406 -0.734375 C 0.808594 -1.398438 0.492188 -2.328125 0.492188 -3.519531 C 0.492188 -4.695312 0.8125 -5.652344 1.449219 -6.382812 C 2.085938 -7.117188 2.921875 -7.484375 3.953125 -7.484375 Z M 5.914062 -4.246094 C 5.863281 -4.777344 5.746094 -5.203125 5.5625 -5.523438 C 5.226562 -6.117188 4.664062 -6.414062 3.875 -6.414062 C 3.3125 -6.414062 2.835938 -6.207031 2.453125 -5.800781 C 2.070312 -5.390625 1.867188 -4.875 1.84375 -4.246094 Z M 5.914062 -4.246094 \"/>\n",
       "</symbol>\n",
       "<symbol overflow=\"visible\" id=\"glyph0-11\">\n",
       "<path style=\"stroke:none;\" d=\"M 0.9375 -7.320312 L 2.105469 -7.320312 L 2.105469 -6.054688 C 2.203125 -6.300781 2.4375 -6.601562 2.808594 -6.957031 C 3.183594 -7.308594 3.613281 -7.484375 4.101562 -7.484375 C 4.125 -7.484375 4.164062 -7.484375 4.21875 -7.476562 C 4.273438 -7.472656 4.367188 -7.464844 4.5 -7.453125 L 4.5 -6.152344 C 4.425781 -6.164062 4.359375 -6.175781 4.296875 -6.179688 C 4.234375 -6.183594 4.167969 -6.1875 4.09375 -6.1875 C 3.476562 -6.1875 3 -5.988281 2.664062 -5.589844 C 2.332031 -5.191406 2.167969 -4.730469 2.167969 -4.210938 L 2.167969 0 L 0.9375 0 Z M 0.9375 -7.320312 \"/>\n",
       "</symbol>\n",
       "<symbol overflow=\"visible\" id=\"glyph0-12\">\n",
       "<path style=\"stroke:none;\" d=\"M 5.996094 -2.992188 C 5.996094 -2.144531 5.871094 -1.488281 5.617188 -1.019531 C 5.152344 -0.164062 4.269531 0.265625 2.96875 0.265625 C 2.214844 0.265625 1.570312 0.0625 1.039062 -0.34375 C 0.507812 -0.753906 0.238281 -1.480469 0.238281 -2.523438 L 0.238281 -3.242188 L 1.515625 -3.242188 L 1.515625 -2.523438 C 1.515625 -1.976562 1.640625 -1.5625 1.882812 -1.289062 C 2.125 -1.011719 2.507812 -0.875 3.023438 -0.875 C 3.746094 -0.875 4.21875 -1.125 4.445312 -1.621094 C 4.582031 -1.925781 4.648438 -2.5 4.648438 -3.351562 L 4.648438 -10.042969 L 5.996094 -10.042969 Z M 5.996094 -2.992188 \"/>\n",
       "</symbol>\n",
       "<symbol overflow=\"visible\" id=\"glyph0-13\">\n",
       "<path style=\"stroke:none;\" d=\"M 1.679688 -3.574219 C 1.679688 -2.789062 1.847656 -2.136719 2.179688 -1.605469 C 2.511719 -1.078125 3.046875 -0.8125 3.78125 -0.8125 C 4.351562 -0.8125 4.816406 -1.058594 5.183594 -1.546875 C 5.550781 -2.039062 5.734375 -2.742188 5.734375 -3.65625 C 5.734375 -4.582031 5.546875 -5.265625 5.167969 -5.710938 C 4.789062 -6.15625 4.324219 -6.378906 3.765625 -6.378906 C 3.148438 -6.378906 2.644531 -6.140625 2.257812 -5.667969 C 1.875 -5.195312 1.679688 -4.496094 1.679688 -3.574219 Z M 3.535156 -7.453125 C 4.09375 -7.453125 4.5625 -7.332031 4.941406 -7.09375 C 5.160156 -6.957031 5.410156 -6.71875 5.6875 -6.378906 L 5.6875 -10.078125 L 6.871094 -10.078125 L 6.871094 0 L 5.761719 0 L 5.761719 -1.019531 C 5.476562 -0.566406 5.136719 -0.242188 4.742188 -0.0390625 C 4.351562 0.160156 3.902344 0.257812 3.398438 0.257812 C 2.582031 0.257812 1.875 -0.0820312 1.277344 -0.769531 C 0.679688 -1.453125 0.382812 -2.367188 0.382812 -3.507812 C 0.382812 -4.574219 0.65625 -5.496094 1.199219 -6.277344 C 1.742188 -7.058594 2.523438 -7.453125 3.535156 -7.453125 Z M 3.535156 -7.453125 \"/>\n",
       "</symbol>\n",
       "<symbol overflow=\"visible\" id=\"glyph0-14\">\n",
       "<path style=\"stroke:none;\" d=\"M 3.808594 -0.792969 C 4.625 -0.792969 5.183594 -1.101562 5.484375 -1.71875 C 5.789062 -2.335938 5.941406 -3.023438 5.941406 -3.78125 C 5.941406 -4.464844 5.832031 -5.019531 5.613281 -5.449219 C 5.265625 -6.125 4.667969 -6.460938 3.820312 -6.460938 C 3.070312 -6.460938 2.523438 -6.171875 2.179688 -5.597656 C 1.839844 -5.023438 1.667969 -4.332031 1.667969 -3.519531 C 1.667969 -2.742188 1.839844 -2.09375 2.179688 -1.570312 C 2.523438 -1.050781 3.066406 -0.792969 3.808594 -0.792969 Z M 3.855469 -7.53125 C 4.796875 -7.53125 5.597656 -7.21875 6.25 -6.589844 C 6.898438 -5.960938 7.226562 -5.035156 7.226562 -3.8125 C 7.226562 -2.632812 6.9375 -1.660156 6.363281 -0.890625 C 5.789062 -0.117188 4.898438 0.265625 3.691406 0.265625 C 2.683594 0.265625 1.882812 -0.0742188 1.292969 -0.753906 C 0.699219 -1.4375 0.402344 -2.351562 0.402344 -3.5 C 0.402344 -4.730469 0.714844 -5.710938 1.339844 -6.4375 C 1.964844 -7.167969 2.804688 -7.53125 3.855469 -7.53125 Z M 3.855469 -7.53125 \"/>\n",
       "</symbol>\n",
       "<symbol overflow=\"visible\" id=\"glyph0-15\">\n",
       "<path style=\"stroke:none;\" d=\"M 2.132812 -8.621094 L 0.902344 -8.621094 L 0.902344 -10.042969 L 2.132812 -10.042969 Z M -0.257812 1.851562 C 0.292969 1.835938 0.625 1.785156 0.734375 1.707031 C 0.847656 1.625 0.902344 1.375 0.902344 0.957031 L 0.902344 -7.289062 L 2.132812 -7.289062 L 2.132812 1.085938 C 2.132812 1.621094 2.046875 2.019531 1.875 2.28125 C 1.585938 2.730469 1.042969 2.953125 0.238281 2.953125 C 0.179688 2.953125 0.117188 2.949219 0.0507812 2.945312 C -0.015625 2.941406 -0.117188 2.933594 -0.257812 2.917969 Z M -0.257812 1.851562 \"/>\n",
       "</symbol>\n",
       "</g>\n",
       "</defs>\n",
       "<g id=\"surface8\">\n",
       "<rect x=\"0\" y=\"0\" width=\"200\" height=\"200\" style=\"fill:rgb(100%,100%,100%);fill-opacity:1;stroke:none;\"/>\n",
       "<path style=\"fill:none;stroke-width:1;stroke-linecap:butt;stroke-linejoin:miter;stroke:rgb(26.666667%,26.666667%,26.666667%);stroke-opacity:1;stroke-miterlimit:10;\" d=\"M 150 100 L 71.703125 139.148438 \"/>\n",
       "<path style=\" stroke:none;fill-rule:nonzero;fill:rgb(26.666667%,26.666667%,26.666667%);fill-opacity:1;\" d=\"M 58.945312 145.527344 L 69.632812 135.003906 L 73.777344 143.292969 L 58.945312 145.527344 \"/>\n",
       "<path style=\"fill:none;stroke-width:1;stroke-linecap:butt;stroke-linejoin:miter;stroke:rgb(26.666667%,26.666667%,26.666667%);stroke-opacity:1;stroke-miterlimit:10;\" d=\"M 50 150 L 50 74.265625 \"/>\n",
       "<path style=\" stroke:none;fill-rule:nonzero;fill:rgb(26.666667%,26.666667%,26.666667%);fill-opacity:1;\" d=\"M 50 60 L 54.636719 74.265625 L 45.363281 74.265625 L 50 60 \"/>\n",
       "<path style=\"fill:none;stroke-width:1;stroke-linecap:butt;stroke-linejoin:miter;stroke:rgb(26.666667%,26.666667%,26.666667%);stroke-opacity:1;stroke-miterlimit:10;\" d=\"M 150 100 L 71.703125 60.851562 \"/>\n",
       "<path style=\" stroke:none;fill-rule:nonzero;fill:rgb(26.666667%,26.666667%,26.666667%);fill-opacity:1;\" d=\"M 58.945312 54.472656 L 73.777344 56.707031 L 69.632812 64.996094 L 58.945312 54.472656 \"/>\n",
       "<path style=\"fill-rule:nonzero;fill:rgb(100%,0%,0%);fill-opacity:1;stroke-width:1;stroke-linecap:butt;stroke-linejoin:miter;stroke:rgb(0%,0%,0%);stroke-opacity:1;stroke-miterlimit:10;\" d=\"M 160 100 C 160 105.523438 155.523438 110 150 110 C 144.476562 110 140 105.523438 140 100 C 140 94.476562 144.476562 90 150 90 C 155.523438 90 160 94.476562 160 100 \"/>\n",
       "<path style=\"fill-rule:nonzero;fill:rgb(100%,0%,0%);fill-opacity:1;stroke-width:1;stroke-linecap:butt;stroke-linejoin:miter;stroke:rgb(0%,0%,0%);stroke-opacity:1;stroke-miterlimit:10;\" d=\"M 60 150 C 60 155.523438 55.523438 160 50 160 C 44.476562 160 40 155.523438 40 150 C 40 144.476562 44.476562 140 50 140 C 55.523438 140 60 144.476562 60 150 \"/>\n",
       "<path style=\"fill-rule:nonzero;fill:rgb(100%,0%,0%);fill-opacity:1;stroke-width:1;stroke-linecap:butt;stroke-linejoin:miter;stroke:rgb(0%,0%,0%);stroke-opacity:1;stroke-miterlimit:10;\" d=\"M 60 50 C 60 55.523438 55.523438 60 50 60 C 44.476562 60 40 55.523438 40 50 C 40 44.476562 44.476562 40 50 40 C 55.523438 40 60 44.476562 60 50 \"/>\n",
       "<g style=\"fill:rgb(0%,0%,0%);fill-opacity:1;\">\n",
       "  <use xlink:href=\"#glyph0-1\" x=\"131.328125\" y=\"106.628906\"/>\n",
       "  <use xlink:href=\"#glyph0-2\" x=\"139.114258\" y=\"106.628906\"/>\n",
       "  <use xlink:href=\"#glyph0-3\" x=\"142.224609\" y=\"106.628906\"/>\n",
       "  <use xlink:href=\"#glyph0-4\" x=\"150.010742\" y=\"106.628906\"/>\n",
       "  <use xlink:href=\"#glyph0-5\" x=\"157.010742\" y=\"106.628906\"/>\n",
       "  <use xlink:href=\"#glyph0-6\" x=\"160.121094\" y=\"106.628906\"/>\n",
       "</g>\n",
       "<g style=\"fill:rgb(0%,0%,0%);fill-opacity:1;\">\n",
       "  <use xlink:href=\"#glyph0-7\" x=\"18.113281\" y=\"156.632812\"/>\n",
       "  <use xlink:href=\"#glyph0-6\" x=\"29.775391\" y=\"156.632812\"/>\n",
       "  <use xlink:href=\"#glyph0-8\" x=\"37.561523\" y=\"156.632812\"/>\n",
       "  <use xlink:href=\"#glyph0-9\" x=\"45.347656\" y=\"156.632812\"/>\n",
       "  <use xlink:href=\"#glyph0-3\" x=\"53.133789\" y=\"156.632812\"/>\n",
       "  <use xlink:href=\"#glyph0-10\" x=\"60.919922\" y=\"156.632812\"/>\n",
       "  <use xlink:href=\"#glyph0-11\" x=\"68.706055\" y=\"156.632812\"/>\n",
       "  <use xlink:href=\"#glyph0-6\" x=\"73.368164\" y=\"156.632812\"/>\n",
       "</g>\n",
       "<g style=\"fill:rgb(0%,0%,0%);fill-opacity:1;\">\n",
       "  <use xlink:href=\"#glyph0-12\" x=\"8.136719\" y=\"56.648438\"/>\n",
       "  <use xlink:href=\"#glyph0-6\" x=\"15.136719\" y=\"56.648438\"/>\n",
       "  <use xlink:href=\"#glyph0-11\" x=\"22.922852\" y=\"56.648438\"/>\n",
       "  <use xlink:href=\"#glyph0-13\" x=\"27.584961\" y=\"56.648438\"/>\n",
       "  <use xlink:href=\"#glyph0-5\" x=\"35.371094\" y=\"56.648438\"/>\n",
       "  <use xlink:href=\"#glyph0-8\" x=\"38.481445\" y=\"56.648438\"/>\n",
       "  <use xlink:href=\"#glyph0-7\" x=\"46.267578\" y=\"56.648438\"/>\n",
       "  <use xlink:href=\"#glyph0-14\" x=\"57.929688\" y=\"56.648438\"/>\n",
       "  <use xlink:href=\"#glyph0-15\" x=\"65.71582\" y=\"56.648438\"/>\n",
       "  <use xlink:href=\"#glyph0-6\" x=\"68.826172\" y=\"56.648438\"/>\n",
       "  <use xlink:href=\"#glyph0-13\" x=\"76.612305\" y=\"56.648438\"/>\n",
       "  <use xlink:href=\"#glyph0-14\" x=\"84.398438\" y=\"56.648438\"/>\n",
       "</g>\n",
       "</g>\n",
       "</svg>\n"
      ],
      "text/plain": [
       "<igraph.drawing.Plot at 0x110dea760>"
      ]
     },
     "execution_count": 9,
     "metadata": {
      "image/svg+xml": {
       "isolated": true
      }
     },
     "output_type": "execute_result"
    }
   ],
   "source": [
    "B = RedBayesiana()\n",
    "B.crear_nodo(\"Lluvia\", [\"verdadero\", \"falso\"])\n",
    "B.crear_nodo(\"Manguera\", [\"verdadero\", \"falso\"])\n",
    "B.crear_nodo(\"JardinMojado\", [\"verdadero\", \"falso\"])\n",
    "B.crear_dependencia(\"Lluvia\", \"Manguera\")\n",
    "B.crear_dependencia(\"Manguera\", \"JardinMojado\")\n",
    "B.crear_dependencia(\"Lluvia\", \"JardinMojado\")\n",
    "B.asignar_probabilidades(\"Lluvia\", [0.2, 0.8])\n",
    "B.asignar_probabilidades(\"Manguera\", {'verdadero': [0.01, 0.99], 'falso': [0.4, 0.6]})\n",
    "B.asignar_probabilidades(\"JardinMojado\", {('verdadero', 'verdadero'): [0.99, 0.01], ('verdadero', 'falso'): [0.9, 0.1], ('falso', 'verdadero'): [0.8, 0.2], ('falso', 'falso'): [0.0, 1.0]})\n",
    "B.ver_red()"
   ]
  },
  {
   "cell_type": "markdown",
   "metadata": {},
   "source": [
    "---"
   ]
  },
  {
   "cell_type": "markdown",
   "metadata": {},
   "source": [
    "Para que se familiarice un poco con el atributo `.red`, el cual es un objeto igraph que representa el grafo subyacente, se sugiere realizar el siguiente ejercicio.\n",
    "\n",
    "**Ejercicio 3:**\n",
    "\n",
    "Complete la siguiente implementación de la función `clausura_ascendencia`, la cual toma una lista de variables y retorna una lista sin repeticiones que incluye tanto estas variables como todos sus respectivos padres y los padres de sus padres, etc. Por ejemplo, `clausura_ascendencia([JardinMojado])=[Lluvia, Manguera, JardinMojado]`. "
   ]
  },
  {
   "cell_type": "code",
   "execution_count": 13,
   "metadata": {},
   "outputs": [],
   "source": [
    "def clausura_ascendencia(self, variables):\n",
    "    lista = []\n",
    "    for variable in variables:\n",
    "        indice = self.red.vs.find(nombre=variable).index\n",
    "        nodo = self.red.vs[indice]\n",
    "        padres = nodo['padres']\n",
    "        if len(padres) > 0:\n",
    "            lista += self.clausura_ascendencia(padres) # EJERCICIO\n",
    "            lista = list(set(lista)) # EJERCICIO\n",
    "    return lista + variables\n",
    "\n",
    "# Se incluye esta función como método de la clase `red_bayesiana`.\n",
    "setattr(RedBayesiana, \"clausura_ascendencia\", clausura_ascendencia)"
   ]
  },
  {
   "cell_type": "code",
   "execution_count": 15,
   "metadata": {},
   "outputs": [
    {
     "data": {
      "text/plain": [
       "['Lluvia', 'Manguera', 'JardinMojado']"
      ]
     },
     "execution_count": 15,
     "metadata": {},
     "output_type": "execute_result"
    }
   ],
   "source": [
    "B.clausura_ascendencia([\"JardinMojado\"])"
   ]
  },
  {
   "cell_type": "markdown",
   "metadata": {},
   "source": [
    "---"
   ]
  },
  {
   "cell_type": "markdown",
   "metadata": {},
   "source": [
    "### Implementación de las funciones de probabilidad\n",
    "\n",
    "En este momento ya tenemos la estructura de la red lista. Ahora la tarea es implementar las funciones de probabilidad. La primera de ellas es la probabilidad de que una variable tome un valor específico, dados los valores de todos sus padres (y de los padres de sus padres, etc.). Para ello, primero implementaremos una función muy útil, cuya tarea será determinar si un diccionario de la forma `{variable:valor}` incluye valores para toda la ascendencia (padres, los padres de los padres, etc.) de una variable dada.\n",
    "\n",
    "**Ejercicio 4:**\n",
    "\n",
    "Implemente la función `contiene_ascendencia`, la cual toma una `variable` y una lista de `variables` y verifica que incluye todos sus padres (y los padres de sus padres, etc.). "
   ]
  },
  {
   "cell_type": "markdown",
   "metadata": {},
   "source": [
    "**Respuesta:**\n",
    "\n",
    "Una posible implementación es la siguiente:"
   ]
  },
  {
   "cell_type": "code",
   "execution_count": 11,
   "metadata": {},
   "outputs": [],
   "source": [
    "def contiene_ascendencia(self, variable, variables):\n",
    "    ascendencia = self.clausura_ascendencia([variable])\n",
    "    ascendencia.remove(variable)\n",
    "    return set(ascendencia).issubset(set(variables))\n",
    "\n",
    "setattr(RedBayesiana, \"contiene_ascendencia\", contiene_ascendencia)"
   ]
  },
  {
   "cell_type": "code",
   "execution_count": 20,
   "metadata": {},
   "outputs": [
    {
     "data": {
      "text/plain": [
       "False"
      ]
     },
     "execution_count": 20,
     "metadata": {},
     "output_type": "execute_result"
    }
   ],
   "source": [
    "B.contiene_ascendencia(\"JardinMojado\", [\"Manguera\"])"
   ]
  },
  {
   "cell_type": "code",
   "execution_count": 19,
   "metadata": {},
   "outputs": [
    {
     "data": {
      "text/plain": [
       "True"
      ]
     },
     "execution_count": 19,
     "metadata": {},
     "output_type": "execute_result"
    }
   ],
   "source": [
    "B.contiene_ascendencia(\"JardinMojado\", [\"Manguera\", \"Lluvia\"])"
   ]
  },
  {
   "cell_type": "markdown",
   "metadata": {},
   "source": [
    "---"
   ]
  },
  {
   "cell_type": "markdown",
   "metadata": {},
   "source": [
    "La primera función que implementaremos consiste en devolver la probabilidad de que `variable` tome un valor específico, dados los valores de todos sus padres. La implementación es un poco intrincada, debido a los tres tipos posibles de tablas de verdad, basados en si la variable no tiene padres, uno solo, o varios. Se presenta completa en la siguiente celda."
   ]
  },
  {
   "cell_type": "code",
   "execution_count": 16,
   "metadata": {},
   "outputs": [],
   "source": [
    "def P_cond(self, variable, valor, variables_valores):\n",
    "    if self.contiene_ascendencia(variable, variables_valores.keys()):\n",
    "        indice = self.red.vs.find(nombre=variable).index\n",
    "        nodo = self.red.vs[indice]\n",
    "        padres = nodo['padres']\n",
    "        indice_valor = nodo['valores'].index(valor)\n",
    "        if len(padres) == 0:\n",
    "            return nodo['probabilidades'][indice_valor]\n",
    "        elif len(padres) == 1:\n",
    "            madre = padres[0]\n",
    "            valor_madre = variables_valores[madre]\n",
    "            return nodo['probabilidades'][valor_madre][indice_valor]\n",
    "        else:\n",
    "            valor = tuple([variables_valores[v] for v in nodo['padres']])\n",
    "            return nodo['probabilidades'][valor][indice_valor]\n",
    "    else:\n",
    "        print(\"Faltan valores de variables. Una alternativa que puede usar es el método consulta().\")\n",
    "        raise\n",
    "\n",
    "setattr(RedBayesiana, \"P_cond\", P_cond)"
   ]
  },
  {
   "cell_type": "code",
   "execution_count": 17,
   "metadata": {},
   "outputs": [
    {
     "data": {
      "text/plain": [
       "0.4"
      ]
     },
     "execution_count": 17,
     "metadata": {},
     "output_type": "execute_result"
    }
   ],
   "source": [
    "B.P_cond(\"Manguera\", \"verdadero\", {\"Lluvia\":\"falso\"})"
   ]
  },
  {
   "cell_type": "code",
   "execution_count": 22,
   "metadata": {},
   "outputs": [
    {
     "data": {
      "text/plain": [
       "1.0"
      ]
     },
     "execution_count": 22,
     "metadata": {},
     "output_type": "execute_result"
    }
   ],
   "source": [
    "B.P_cond(\"JardinMojado\", \"falso\", {\"Lluvia\":\"falso\", \"Manguera\":\"falso\"})"
   ]
  },
  {
   "cell_type": "markdown",
   "metadata": {},
   "source": [
    "La tarea ahora es implementar la función semántica de las redes bayesianas. Recuerde que la estructura de este tipo de redes permite determinar cualquier **probabilidad conjunta** de una serie de variables. Comenzaremos con la suposición de que dicha serie es cerrada bajo ascendencia:\n",
    "\n",
    "$P(X_1,\\ldots,X_n)=\\Pi_{i_1}^n P(X_i|Padres(X_i))$, donde $Padres(X_i)\\subseteq\\{X_1,\\ldots,X_n\\}$.\n",
    "\n",
    "**Ejercicio 5:**\n",
    "\n",
    "Use el método `P_cond` para implementar la función `P_conj`, la cual devuelve **la probabilidad conjunta** de los valores de una serie de variables. Se asume que estos valores vienen como un diccionario de la forma `{variable:valor}`. "
   ]
  },
  {
   "cell_type": "markdown",
   "metadata": {},
   "source": [
    "**Respuesta:**\n",
    "\n",
    "Una posible implementación es la siguiente:"
   ]
  },
  {
   "cell_type": "code",
   "execution_count": 23,
   "metadata": {},
   "outputs": [],
   "source": [
    "def P_conj(self, variables_valores):\n",
    "    p = 1\n",
    "    for variable in variables_valores.keys():\n",
    "        valor = variables_valores[variable]\n",
    "        p *= self.P_cond(variable, valor, variables_valores)\n",
    "    return p\n",
    "\n",
    "setattr(RedBayesiana, \"P_conj\", P_conj)"
   ]
  },
  {
   "cell_type": "code",
   "execution_count": 24,
   "metadata": {},
   "outputs": [
    {
     "data": {
      "text/plain": [
       "0.198"
      ]
     },
     "execution_count": 24,
     "metadata": {},
     "output_type": "execute_result"
    }
   ],
   "source": [
    "B.P_conj({\"Lluvia\":\"verdadero\", \"Manguera\":\"falso\"})"
   ]
  },
  {
   "cell_type": "markdown",
   "metadata": {},
   "source": [
    "---"
   ]
  },
  {
   "cell_type": "markdown",
   "metadata": {},
   "source": [
    "La tercera función de probabilidad que implementaremos es la de **probabilidad marginal**, la cual devuelve la probabilidad conjunta de una lista de variables, pero en la cual falta información (valores para alguno de los ascendientes de las variables). Estas variables faltantes las simbolizaremos por $Y$, de tal manera que la probabilidad marginal la obtenemos mediante la siguiente fórmula:\n",
    "\n",
    "$P(X_1,\\ldots,X_n)=\\sum_Y P(X_1,\\ldots,X_n,Y)$\n",
    "\n",
    "La implementación de esta función también es un poco intrincada, así que presentamos el código completo en la siguiente celda:"
   ]
  },
  {
   "cell_type": "code",
   "execution_count": 25,
   "metadata": {},
   "outputs": [],
   "source": [
    "def P_marg(self, variables_valores):\n",
    "    variables = self.red.vs['nombre']\n",
    "    variables_consulta = list(variables_valores.keys())\n",
    "    variables_ocultas = self.clausura_ascendencia(variables_consulta)\n",
    "    variables_ocultas = [v for v in variables_ocultas if v not in variables_consulta]\n",
    "    indices = [self.red.vs.find(nombre=n).index for n in variables_ocultas]\n",
    "    valores = [self.red.vs[i]['valores'] for i in indices]\n",
    "    tuplas = list(itertools.product(*valores))\n",
    "    suma = 0\n",
    "    for tupla in tuplas:\n",
    "        dict_aux = variables_valores.copy()\n",
    "        for i in range(len(tupla)):\n",
    "            dict_aux[self.red.vs['nombre'][indices[i]]] = tupla[i]\n",
    "        p = self.P_conj(dict_aux)\n",
    "        suma += p\n",
    "    return suma\n",
    "\n",
    "setattr(RedBayesiana, \"P_marg\", P_marg)"
   ]
  },
  {
   "cell_type": "code",
   "execution_count": 26,
   "metadata": {},
   "outputs": [
    {
     "data": {
      "text/plain": [
       "0.32200000000000006"
      ]
     },
     "execution_count": 26,
     "metadata": {},
     "output_type": "execute_result"
    }
   ],
   "source": [
    "B.P_marg({\"Manguera\":\"verdadero\"})"
   ]
  },
  {
   "cell_type": "code",
   "execution_count": 28,
   "metadata": {},
   "outputs": [
    {
     "data": {
      "text/plain": [
       "0.44838"
      ]
     },
     "execution_count": 28,
     "metadata": {},
     "output_type": "execute_result"
    }
   ],
   "source": [
    "B.P_marg({\"JardinMojado\":\"verdadero\"})"
   ]
  },
  {
   "cell_type": "markdown",
   "metadata": {},
   "source": [
    "### Consultas\n",
    "\n",
    "Tenemos ya todas las herramientas para calcular cualquier consulta que se nos presente. Las consultas consisten en saber cuál es la probabilidad de que una variable o variables tomen un valor o valores determinados. Consideraremos dos tipos de consultas, aunque ambas irán en la misma función. \n",
    "\n",
    "El primero es cuando no hay evidencia disponible. En este caso, la respuesta a la consulta es simplemente la probabilidad **marginal** de que las variables tomen los valores respectivos. \n",
    "\n",
    "El segundo tipo es cuando hay evidencia disponible $E$ (que viene dada en forma de un diccionario `{variable:valor}`). Aquí, la respuesta a la consulta es la probabilidad **condicional** de que las variables tomen los valores respectivos dada la evidencia. Para encontrar esta probabilidad con base en las funciones ya definidas mediante la fórmula `P_marg(variables_valores + evidencia)`/`P_marg(evidencia)`.\n",
    "\n",
    "La evidencia se guardará en el atributo `.evidencia` del objeto `red_bayesiana`."
   ]
  },
  {
   "cell_type": "code",
   "execution_count": 29,
   "metadata": {},
   "outputs": [],
   "source": [
    "def incluir_evidencia(self, nombre, valor):\n",
    "    self.evidencia[nombre] = valor\n",
    "    \n",
    "setattr(RedBayesiana, \"incluir_evidencia\", incluir_evidencia)"
   ]
  },
  {
   "cell_type": "code",
   "execution_count": 30,
   "metadata": {},
   "outputs": [],
   "source": [
    "B.incluir_evidencia(\"JardinMojado\", \"verdadero\")"
   ]
  },
  {
   "cell_type": "markdown",
   "metadata": {},
   "source": [
    "**Ejercicio 6:**\n",
    "\n",
    "Implemente la función `consulta` la cual toma un diccionario de variables con sus respectivos valores y calcula la consulta, teniendo en cuenta si hay evidencia disponible o no."
   ]
  },
  {
   "cell_type": "markdown",
   "metadata": {},
   "source": [
    "**Respuesta:**\n",
    "\n",
    "Una posible implementación es la siguiente:"
   ]
  },
  {
   "cell_type": "code",
   "execution_count": 52,
   "metadata": {},
   "outputs": [],
   "source": [
    "def consulta(self, variables_valores):\n",
    "    if len(self.evidencia.keys()) > 0:\n",
    "        aux = variables_valores.copy()\n",
    "        aux.update(self.evidencia)\n",
    "        p_numerador = self.P_marg(aux)\n",
    "        p_denominador = self.P_marg(self.evidencia)\n",
    "        p = p_numerador / p_denominador\n",
    "        print(f\" La probabilidad de {variables_valores}\\n dada la evidencia {self.evidencia}\\n es: {p}\")\n",
    "        return p\n",
    "    else:\n",
    "        p = self.P_marg(variables_valores)\n",
    "        print(f\" La probabilidad de {variables_valores}\\n es: {p}\")\n",
    "        return p\n",
    "    \n",
    "setattr(red_bayesiana, \"consulta\", consulta)"
   ]
  },
  {
   "cell_type": "code",
   "execution_count": 53,
   "metadata": {},
   "outputs": [
    {
     "name": "stdout",
     "output_type": "stream",
     "text": [
      " La probabilidad de {'Lluvia': 'verdadero'}\n",
      " dada la evidencia {'JardinMojado': 'verdadero'}\n",
      " es: 0.3576876756322762\n"
     ]
    },
    {
     "data": {
      "text/plain": [
       "0.3576876756322762"
      ]
     },
     "execution_count": 53,
     "metadata": {},
     "output_type": "execute_result"
    }
   ],
   "source": [
    "B.consulta({\"Lluvia\":\"verdadero\"})"
   ]
  },
  {
   "cell_type": "markdown",
   "metadata": {},
   "source": [
    "**Ejercicio 7:**\n",
    "\n",
    "Implemente la red bayesiana del ejercicio 2 de las diapositivas y determine la probabilidad de robo dado que John y Mary llaman.\n",
    "\n",
    "<img src=\"./imagenes/ejercicio2.png\" width=\"600\">"
   ]
  },
  {
   "cell_type": "markdown",
   "metadata": {},
   "source": [
    "**Respuesta:**\n",
    "\n",
    "Una posible implementación es la siguiente:"
   ]
  },
  {
   "cell_type": "code",
   "execution_count": 54,
   "metadata": {},
   "outputs": [
    {
     "name": "stdout",
     "output_type": "stream",
     "text": [
      "Dependencia creada: Burglary --> Alarm\n",
      "Dependencia creada: Earthquake --> Alarm\n",
      "Dependencia creada: Alarm --> JohnCalls\n",
      "Dependencia creada: Alarm --> MaryCalls\n"
     ]
    },
    {
     "data": {
      "image/svg+xml": [
       "<?xml version=\"1.0\" encoding=\"UTF-8\"?>\n",
       "<svg xmlns=\"http://www.w3.org/2000/svg\" xmlns:xlink=\"http://www.w3.org/1999/xlink\" width=\"200pt\" height=\"200pt\" viewBox=\"0 0 200 200\" version=\"1.1\">\n",
       "<defs>\n",
       "<g>\n",
       "<symbol overflow=\"visible\" id=\"glyph0-0\">\n",
       "<path style=\"stroke:none;\" d=\"M 0.453125 0 L 0.453125 -10.042969 L 8.421875 -10.042969 L 8.421875 0 Z M 7.164062 -1.257812 L 7.164062 -8.785156 L 1.710938 -8.785156 L 1.710938 -1.257812 Z M 7.164062 -1.257812 \"/>\n",
       "</symbol>\n",
       "<symbol overflow=\"visible\" id=\"glyph0-1\">\n",
       "<path style=\"stroke:none;\" d=\"M 4.839844 -5.796875 C 5.414062 -5.796875 5.859375 -5.875 6.179688 -6.035156 C 6.679688 -6.285156 6.929688 -6.738281 6.929688 -7.390625 C 6.929688 -8.046875 6.664062 -8.488281 6.132812 -8.714844 C 5.832031 -8.84375 5.382812 -8.90625 4.792969 -8.90625 L 2.367188 -8.90625 L 2.367188 -5.796875 Z M 5.296875 -1.164062 C 6.132812 -1.164062 6.726562 -1.402344 7.082031 -1.886719 C 7.304688 -2.191406 7.417969 -2.5625 7.417969 -2.992188 C 7.417969 -3.722656 7.089844 -4.21875 6.4375 -4.484375 C 6.09375 -4.625 5.636719 -4.695312 5.066406 -4.695312 L 2.367188 -4.695312 L 2.367188 -1.164062 Z M 1.03125 -10.042969 L 5.34375 -10.042969 C 6.519531 -10.042969 7.359375 -9.691406 7.855469 -8.988281 C 8.148438 -8.574219 8.292969 -8.097656 8.292969 -7.554688 C 8.292969 -6.921875 8.113281 -6.402344 7.75 -5.996094 C 7.5625 -5.78125 7.296875 -5.585938 6.945312 -5.40625 C 7.460938 -5.210938 7.84375 -4.992188 8.101562 -4.742188 C 8.550781 -4.304688 8.777344 -3.703125 8.777344 -2.933594 C 8.777344 -2.285156 8.574219 -1.699219 8.167969 -1.175781 C 7.5625 -0.390625 6.597656 0 5.277344 0 L 1.03125 0 Z M 1.03125 -10.042969 \"/>\n",
       "</symbol>\n",
       "<symbol overflow=\"visible\" id=\"glyph0-2\">\n",
       "<path style=\"stroke:none;\" d=\"M 2.132812 -7.320312 L 2.132812 -2.460938 C 2.132812 -2.085938 2.191406 -1.78125 2.3125 -1.546875 C 2.53125 -1.109375 2.9375 -0.890625 3.535156 -0.890625 C 4.390625 -0.890625 4.972656 -1.273438 5.285156 -2.039062 C 5.453125 -2.449219 5.539062 -3.011719 5.539062 -3.726562 L 5.539062 -7.320312 L 6.765625 -7.320312 L 6.765625 0 L 5.605469 0 L 5.617188 -1.078125 C 5.460938 -0.800781 5.261719 -0.566406 5.023438 -0.375 C 4.554688 0.0078125 3.984375 0.199219 3.316406 0.199219 C 2.273438 0.199219 1.5625 -0.148438 1.183594 -0.847656 C 0.976562 -1.222656 0.875 -1.71875 0.875 -2.34375 L 0.875 -7.320312 Z M 2.132812 -7.320312 \"/>\n",
       "</symbol>\n",
       "<symbol overflow=\"visible\" id=\"glyph0-3\">\n",
       "<path style=\"stroke:none;\" d=\"M 0.9375 -7.320312 L 2.105469 -7.320312 L 2.105469 -6.054688 C 2.203125 -6.300781 2.4375 -6.601562 2.808594 -6.957031 C 3.183594 -7.308594 3.613281 -7.484375 4.101562 -7.484375 C 4.125 -7.484375 4.164062 -7.484375 4.21875 -7.476562 C 4.273438 -7.472656 4.367188 -7.464844 4.5 -7.453125 L 4.5 -6.152344 C 4.425781 -6.164062 4.359375 -6.175781 4.296875 -6.179688 C 4.234375 -6.183594 4.167969 -6.1875 4.09375 -6.1875 C 3.476562 -6.1875 3 -5.988281 2.664062 -5.589844 C 2.332031 -5.191406 2.167969 -4.730469 2.167969 -4.210938 L 2.167969 0 L 0.9375 0 Z M 0.9375 -7.320312 \"/>\n",
       "</symbol>\n",
       "<symbol overflow=\"visible\" id=\"glyph0-4\">\n",
       "<path style=\"stroke:none;\" d=\"M 3.484375 -7.453125 C 4.058594 -7.453125 4.5625 -7.308594 4.992188 -7.027344 C 5.222656 -6.867188 5.460938 -6.636719 5.703125 -6.328125 L 5.703125 -7.253906 L 6.835938 -7.253906 L 6.835938 -0.59375 C 6.835938 0.335938 6.699219 1.070312 6.425781 1.605469 C 5.914062 2.601562 4.953125 3.097656 3.535156 3.097656 C 2.746094 3.097656 2.082031 2.921875 1.546875 2.566406 C 1.007812 2.214844 0.707031 1.660156 0.640625 0.910156 L 1.894531 0.910156 C 1.953125 1.238281 2.070312 1.492188 2.25 1.667969 C 2.527344 1.941406 2.964844 2.078125 3.5625 2.078125 C 4.503906 2.078125 5.121094 1.746094 5.414062 1.078125 C 5.585938 0.6875 5.667969 -0.0117188 5.652344 -1.019531 C 5.40625 -0.644531 5.109375 -0.367188 4.765625 -0.183594 C 4.417969 0 3.960938 0.0898438 3.390625 0.0898438 C 2.597656 0.0898438 1.902344 -0.191406 1.308594 -0.753906 C 0.714844 -1.316406 0.417969 -2.25 0.417969 -3.546875 C 0.417969 -4.773438 0.714844 -5.730469 1.316406 -6.417969 C 1.914062 -7.105469 2.640625 -7.453125 3.484375 -7.453125 Z M 5.703125 -3.691406 C 5.703125 -4.597656 5.515625 -5.269531 5.140625 -5.707031 C 4.765625 -6.144531 4.289062 -6.363281 3.710938 -6.363281 C 2.84375 -6.363281 2.253906 -5.957031 1.933594 -5.148438 C 1.765625 -4.714844 1.679688 -4.148438 1.679688 -3.445312 C 1.679688 -2.621094 1.847656 -1.992188 2.183594 -1.5625 C 2.519531 -1.132812 2.96875 -0.914062 3.535156 -0.914062 C 4.417969 -0.914062 5.039062 -1.316406 5.398438 -2.113281 C 5.601562 -2.5625 5.703125 -3.089844 5.703125 -3.691406 Z M 5.703125 -3.691406 \"/>\n",
       "</symbol>\n",
       "<symbol overflow=\"visible\" id=\"glyph0-5\">\n",
       "<path style=\"stroke:none;\" d=\"M 0.9375 -10.042969 L 2.167969 -10.042969 L 2.167969 0 L 0.9375 0 Z M 0.9375 -10.042969 \"/>\n",
       "</symbol>\n",
       "<symbol overflow=\"visible\" id=\"glyph0-6\">\n",
       "<path style=\"stroke:none;\" d=\"M 1.84375 -1.949219 C 1.84375 -1.59375 1.976562 -1.3125 2.234375 -1.109375 C 2.496094 -0.902344 2.804688 -0.800781 3.15625 -0.800781 C 3.589844 -0.800781 4.011719 -0.898438 4.414062 -1.101562 C 5.097656 -1.433594 5.441406 -1.976562 5.441406 -2.734375 L 5.441406 -3.726562 C 5.289062 -3.628906 5.097656 -3.550781 4.859375 -3.484375 C 4.625 -3.421875 4.390625 -3.375 4.164062 -3.351562 L 3.417969 -3.253906 C 2.972656 -3.195312 2.636719 -3.101562 2.414062 -2.972656 C 2.035156 -2.757812 1.84375 -2.417969 1.84375 -1.949219 Z M 4.828125 -4.4375 C 5.109375 -4.472656 5.296875 -4.589844 5.394531 -4.792969 C 5.449219 -4.902344 5.476562 -5.058594 5.476562 -5.265625 C 5.476562 -5.683594 5.328125 -5.988281 5.027344 -6.175781 C 4.730469 -6.367188 4.300781 -6.460938 3.746094 -6.460938 C 3.101562 -6.460938 2.648438 -6.285156 2.378906 -5.941406 C 2.226562 -5.75 2.128906 -5.464844 2.085938 -5.085938 L 0.9375 -5.085938 C 0.960938 -5.988281 1.253906 -6.617188 1.816406 -6.96875 C 2.378906 -7.320312 3.03125 -7.5 3.773438 -7.5 C 4.632812 -7.5 5.335938 -7.335938 5.871094 -7.007812 C 6.40625 -6.679688 6.671875 -6.167969 6.671875 -5.476562 L 6.671875 -1.257812 C 6.671875 -1.128906 6.699219 -1.027344 6.75 -0.949219 C 6.804688 -0.871094 6.914062 -0.835938 7.082031 -0.835938 C 7.136719 -0.835938 7.199219 -0.835938 7.265625 -0.84375 C 7.335938 -0.851562 7.40625 -0.859375 7.484375 -0.875 L 7.484375 0.0351562 C 7.292969 0.0898438 7.148438 0.125 7.046875 0.136719 C 6.945312 0.148438 6.8125 0.15625 6.636719 0.15625 C 6.214844 0.15625 5.90625 0.0078125 5.714844 -0.292969 C 5.613281 -0.453125 5.542969 -0.679688 5.503906 -0.96875 C 5.253906 -0.640625 4.890625 -0.359375 4.421875 -0.117188 C 3.953125 0.125 3.4375 0.246094 2.871094 0.246094 C 2.191406 0.246094 1.636719 0.0390625 1.207031 -0.371094 C 0.777344 -0.785156 0.5625 -1.300781 0.5625 -1.921875 C 0.5625 -2.601562 0.773438 -3.125 1.195312 -3.5 C 1.621094 -3.875 2.175781 -4.105469 2.863281 -4.191406 Z M 4.828125 -4.4375 \"/>\n",
       "</symbol>\n",
       "<symbol overflow=\"visible\" id=\"glyph0-7\">\n",
       "<path style=\"stroke:none;\" d=\"M 5.476562 -7.320312 L 6.835938 -7.320312 C 6.664062 -6.851562 6.277344 -5.78125 5.679688 -4.109375 C 5.234375 -2.851562 4.859375 -1.824219 4.558594 -1.03125 C 3.847656 0.835938 3.347656 1.976562 3.054688 2.386719 C 2.765625 2.796875 2.261719 3 1.550781 3 C 1.378906 3 1.246094 2.992188 1.152344 2.980469 C 1.058594 2.96875 0.945312 2.941406 0.804688 2.90625 L 0.804688 1.785156 C 1.019531 1.84375 1.175781 1.878906 1.273438 1.894531 C 1.367188 1.90625 1.453125 1.914062 1.523438 1.914062 C 1.75 1.914062 1.917969 1.875 2.027344 1.800781 C 2.132812 1.726562 2.222656 1.632812 2.296875 1.523438 C 2.320312 1.488281 2.402344 1.300781 2.542969 0.964844 C 2.683594 0.625 2.785156 0.375 2.851562 0.210938 L 0.144531 -7.320312 L 1.539062 -7.320312 L 3.5 -1.359375 Z M 5.476562 -7.320312 \"/>\n",
       "</symbol>\n",
       "<symbol overflow=\"visible\" id=\"glyph0-8\">\n",
       "<path style=\"stroke:none;\" d=\"M 1.195312 -10.042969 L 8.515625 -10.042969 L 8.515625 -8.8125 L 2.523438 -8.8125 L 2.523438 -5.761719 L 8.066406 -5.761719 L 8.066406 -4.601562 L 2.523438 -4.601562 L 2.523438 -1.195312 L 8.621094 -1.195312 L 8.621094 0 L 1.195312 0 Z M 1.195312 -10.042969 \"/>\n",
       "</symbol>\n",
       "<symbol overflow=\"visible\" id=\"glyph0-9\">\n",
       "<path style=\"stroke:none;\" d=\"M 1.148438 -9.367188 L 2.390625 -9.367188 L 2.390625 -7.320312 L 3.5625 -7.320312 L 3.5625 -6.316406 L 2.390625 -6.316406 L 2.390625 -1.539062 C 2.390625 -1.28125 2.480469 -1.113281 2.652344 -1.023438 C 2.75 -0.976562 2.90625 -0.949219 3.132812 -0.949219 C 3.191406 -0.949219 3.253906 -0.953125 3.320312 -0.953125 C 3.390625 -0.957031 3.46875 -0.960938 3.5625 -0.96875 L 3.5625 0 C 3.421875 0.0390625 3.273438 0.0703125 3.121094 0.0898438 C 2.96875 0.109375 2.804688 0.117188 2.625 0.117188 C 2.050781 0.117188 1.660156 -0.03125 1.457031 -0.324219 C 1.25 -0.617188 1.148438 -1 1.148438 -1.46875 L 1.148438 -6.316406 L 0.15625 -6.316406 L 0.15625 -7.320312 L 1.148438 -7.320312 Z M 1.148438 -9.367188 \"/>\n",
       "</symbol>\n",
       "<symbol overflow=\"visible\" id=\"glyph0-10\">\n",
       "<path style=\"stroke:none;\" d=\"M 0.902344 -10.078125 L 2.132812 -10.078125 L 2.132812 -6.328125 C 2.425781 -6.699219 2.6875 -6.960938 2.917969 -7.109375 C 3.316406 -7.367188 3.808594 -7.5 4.402344 -7.5 C 5.464844 -7.5 6.183594 -7.128906 6.5625 -6.382812 C 6.765625 -5.976562 6.871094 -5.417969 6.871094 -4.695312 L 6.871094 0 L 5.605469 0 L 5.605469 -4.613281 C 5.605469 -5.152344 5.539062 -5.546875 5.398438 -5.796875 C 5.175781 -6.199219 4.757812 -6.398438 4.140625 -6.398438 C 3.632812 -6.398438 3.167969 -6.222656 2.753906 -5.871094 C 2.339844 -5.519531 2.132812 -4.859375 2.132812 -3.882812 L 2.132812 0 L 0.902344 0 Z M 0.902344 -10.078125 \"/>\n",
       "</symbol>\n",
       "<symbol overflow=\"visible\" id=\"glyph0-11\">\n",
       "<path style=\"stroke:none;\" d=\"M 1.695312 -3.5625 C 1.695312 -2.929688 1.785156 -2.398438 1.960938 -1.96875 C 2.277344 -1.207031 2.839844 -0.828125 3.648438 -0.828125 C 4.507812 -0.828125 5.097656 -1.226562 5.421875 -2.03125 C 5.597656 -2.472656 5.6875 -3.039062 5.6875 -3.726562 C 5.6875 -4.359375 5.589844 -4.886719 5.394531 -5.3125 C 5.0625 -6.035156 4.476562 -6.398438 3.636719 -6.398438 C 3.101562 -6.398438 2.648438 -6.167969 2.265625 -5.703125 C 1.886719 -5.242188 1.695312 -4.527344 1.695312 -3.5625 Z M 3.515625 -7.484375 C 4.121094 -7.484375 4.628906 -7.332031 5.046875 -7.027344 C 5.273438 -6.863281 5.492188 -6.621094 5.703125 -6.304688 L 5.703125 -7.320312 L 6.871094 -7.320312 L 6.871094 2.917969 L 5.632812 2.917969 L 5.632812 -0.839844 C 5.429688 -0.511719 5.144531 -0.25 4.78125 -0.0585938 C 4.417969 0.136719 3.96875 0.234375 3.425781 0.234375 C 2.644531 0.234375 1.949219 -0.0742188 1.332031 -0.683594 C 0.71875 -1.292969 0.410156 -2.222656 0.410156 -3.472656 C 0.410156 -4.644531 0.699219 -5.605469 1.273438 -6.359375 C 1.851562 -7.109375 2.597656 -7.484375 3.515625 -7.484375 Z M 3.515625 -7.484375 \"/>\n",
       "</symbol>\n",
       "<symbol overflow=\"visible\" id=\"glyph0-12\">\n",
       "<path style=\"stroke:none;\" d=\"M 0.875 -10.042969 L 2.058594 -10.042969 L 2.058594 -4.210938 L 5.214844 -7.320312 L 6.789062 -7.320312 L 3.984375 -4.578125 L 6.945312 0 L 5.375 0 L 3.089844 -3.691406 L 2.058594 -2.75 L 2.058594 0 L 0.875 0 Z M 0.875 -10.042969 \"/>\n",
       "</symbol>\n",
       "<symbol overflow=\"visible\" id=\"glyph0-13\">\n",
       "<path style=\"stroke:none;\" d=\"M 3.953125 -7.484375 C 4.472656 -7.484375 4.972656 -7.363281 5.460938 -7.121094 C 5.949219 -6.875 6.320312 -6.558594 6.578125 -6.171875 C 6.824219 -5.804688 6.984375 -5.375 7.070312 -4.882812 C 7.140625 -4.542969 7.179688 -4.007812 7.179688 -3.265625 L 1.8125 -3.265625 C 1.835938 -2.523438 2.007812 -1.929688 2.335938 -1.480469 C 2.664062 -1.03125 3.175781 -0.804688 3.863281 -0.804688 C 4.503906 -0.804688 5.015625 -1.019531 5.398438 -1.441406 C 5.617188 -1.6875 5.773438 -1.972656 5.867188 -2.296875 L 7.074219 -2.296875 C 7.042969 -2.027344 6.9375 -1.726562 6.757812 -1.398438 C 6.578125 -1.066406 6.375 -0.796875 6.152344 -0.585938 C 5.777344 -0.222656 5.316406 0.0234375 4.765625 0.148438 C 4.46875 0.222656 4.132812 0.257812 3.757812 0.257812 C 2.847656 0.257812 2.074219 -0.0703125 1.441406 -0.734375 C 0.808594 -1.398438 0.492188 -2.328125 0.492188 -3.519531 C 0.492188 -4.695312 0.8125 -5.652344 1.449219 -6.382812 C 2.085938 -7.117188 2.921875 -7.484375 3.953125 -7.484375 Z M 5.914062 -4.246094 C 5.863281 -4.777344 5.746094 -5.203125 5.5625 -5.523438 C 5.226562 -6.117188 4.664062 -6.414062 3.875 -6.414062 C 3.3125 -6.414062 2.835938 -6.207031 2.453125 -5.800781 C 2.070312 -5.390625 1.867188 -4.875 1.84375 -4.246094 Z M 5.914062 -4.246094 \"/>\n",
       "</symbol>\n",
       "<symbol overflow=\"visible\" id=\"glyph0-14\">\n",
       "<path style=\"stroke:none;\" d=\"M 6.21875 -4.117188 L 4.695312 -8.550781 L 3.078125 -4.117188 Z M 3.984375 -10.042969 L 5.523438 -10.042969 L 9.167969 0 L 7.675781 0 L 6.65625 -3.007812 L 2.6875 -3.007812 L 1.601562 0 L 0.203125 0 Z M 3.984375 -10.042969 \"/>\n",
       "</symbol>\n",
       "<symbol overflow=\"visible\" id=\"glyph0-15\">\n",
       "<path style=\"stroke:none;\" d=\"M 0.902344 -7.320312 L 2.117188 -7.320312 L 2.117188 -6.28125 C 2.410156 -6.640625 2.675781 -6.90625 2.914062 -7.070312 C 3.320312 -7.347656 3.777344 -7.484375 4.292969 -7.484375 C 4.875 -7.484375 5.34375 -7.34375 5.703125 -7.054688 C 5.902344 -6.890625 6.085938 -6.648438 6.25 -6.328125 C 6.523438 -6.722656 6.84375 -7.011719 7.210938 -7.203125 C 7.582031 -7.390625 7.996094 -7.484375 8.457031 -7.484375 C 9.441406 -7.484375 10.109375 -7.128906 10.464844 -6.417969 C 10.65625 -6.035156 10.753906 -5.519531 10.753906 -4.875 L 10.753906 0 L 9.476562 0 L 9.476562 -5.085938 C 9.476562 -5.574219 9.351562 -5.910156 9.109375 -6.089844 C 8.867188 -6.273438 8.566406 -6.363281 8.21875 -6.363281 C 7.734375 -6.363281 7.316406 -6.203125 6.96875 -5.878906 C 6.621094 -5.554688 6.445312 -5.015625 6.445312 -4.257812 L 6.445312 0 L 5.195312 0 L 5.195312 -4.777344 C 5.195312 -5.273438 5.136719 -5.636719 5.015625 -5.867188 C 4.828125 -6.207031 4.480469 -6.378906 3.972656 -6.378906 C 3.507812 -6.378906 3.085938 -6.199219 2.703125 -5.835938 C 2.324219 -5.476562 2.132812 -4.828125 2.132812 -3.882812 L 2.132812 0 L 0.902344 0 Z M 0.902344 -7.320312 \"/>\n",
       "</symbol>\n",
       "<symbol overflow=\"visible\" id=\"glyph0-16\">\n",
       "<path style=\"stroke:none;\" d=\"M 5.996094 -2.992188 C 5.996094 -2.144531 5.871094 -1.488281 5.617188 -1.019531 C 5.152344 -0.164062 4.269531 0.265625 2.96875 0.265625 C 2.214844 0.265625 1.570312 0.0625 1.039062 -0.34375 C 0.507812 -0.753906 0.238281 -1.480469 0.238281 -2.523438 L 0.238281 -3.242188 L 1.515625 -3.242188 L 1.515625 -2.523438 C 1.515625 -1.976562 1.640625 -1.5625 1.882812 -1.289062 C 2.125 -1.011719 2.507812 -0.875 3.023438 -0.875 C 3.746094 -0.875 4.21875 -1.125 4.445312 -1.621094 C 4.582031 -1.925781 4.648438 -2.5 4.648438 -3.351562 L 4.648438 -10.042969 L 5.996094 -10.042969 Z M 5.996094 -2.992188 \"/>\n",
       "</symbol>\n",
       "<symbol overflow=\"visible\" id=\"glyph0-17\">\n",
       "<path style=\"stroke:none;\" d=\"M 3.808594 -0.792969 C 4.625 -0.792969 5.183594 -1.101562 5.484375 -1.71875 C 5.789062 -2.335938 5.941406 -3.023438 5.941406 -3.78125 C 5.941406 -4.464844 5.832031 -5.019531 5.613281 -5.449219 C 5.265625 -6.125 4.667969 -6.460938 3.820312 -6.460938 C 3.070312 -6.460938 2.523438 -6.171875 2.179688 -5.597656 C 1.839844 -5.023438 1.667969 -4.332031 1.667969 -3.519531 C 1.667969 -2.742188 1.839844 -2.09375 2.179688 -1.570312 C 2.523438 -1.050781 3.066406 -0.792969 3.808594 -0.792969 Z M 3.855469 -7.53125 C 4.796875 -7.53125 5.597656 -7.21875 6.25 -6.589844 C 6.898438 -5.960938 7.226562 -5.035156 7.226562 -3.8125 C 7.226562 -2.632812 6.9375 -1.660156 6.363281 -0.890625 C 5.789062 -0.117188 4.898438 0.265625 3.691406 0.265625 C 2.683594 0.265625 1.882812 -0.0742188 1.292969 -0.753906 C 0.699219 -1.4375 0.402344 -2.351562 0.402344 -3.5 C 0.402344 -4.730469 0.714844 -5.710938 1.339844 -6.4375 C 1.964844 -7.167969 2.804688 -7.53125 3.855469 -7.53125 Z M 3.855469 -7.53125 \"/>\n",
       "</symbol>\n",
       "<symbol overflow=\"visible\" id=\"glyph0-18\">\n",
       "<path style=\"stroke:none;\" d=\"M 0.902344 -7.320312 L 2.070312 -7.320312 L 2.070312 -6.28125 C 2.417969 -6.710938 2.785156 -7.019531 3.171875 -7.203125 C 3.558594 -7.390625 3.988281 -7.484375 4.464844 -7.484375 C 5.503906 -7.484375 6.203125 -7.125 6.570312 -6.398438 C 6.769531 -6 6.871094 -5.433594 6.871094 -4.695312 L 6.871094 0 L 5.617188 0 L 5.617188 -4.613281 C 5.617188 -5.0625 5.554688 -5.421875 5.421875 -5.695312 C 5.203125 -6.148438 4.804688 -6.378906 4.230469 -6.378906 C 3.9375 -6.378906 3.699219 -6.347656 3.515625 -6.289062 C 3.175781 -6.1875 2.878906 -5.988281 2.625 -5.6875 C 2.421875 -5.445312 2.285156 -5.195312 2.226562 -4.9375 C 2.164062 -4.679688 2.132812 -4.3125 2.132812 -3.835938 L 2.132812 0 L 0.902344 0 Z M 0.902344 -7.320312 \"/>\n",
       "</symbol>\n",
       "<symbol overflow=\"visible\" id=\"glyph0-19\">\n",
       "<path style=\"stroke:none;\" d=\"M 5.296875 -10.316406 C 6.570312 -10.316406 7.554688 -9.980469 8.257812 -9.3125 C 8.960938 -8.640625 9.347656 -7.878906 9.425781 -7.027344 L 8.101562 -7.027344 C 7.949219 -7.675781 7.652344 -8.1875 7.203125 -8.566406 C 6.753906 -8.945312 6.121094 -9.132812 5.3125 -9.132812 C 4.324219 -9.132812 3.523438 -8.785156 2.914062 -8.089844 C 2.304688 -7.394531 2.003906 -6.328125 2.003906 -4.894531 C 2.003906 -3.71875 2.277344 -2.765625 2.828125 -2.035156 C 3.375 -1.304688 4.195312 -0.9375 5.285156 -0.9375 C 6.289062 -0.9375 7.050781 -1.320312 7.574219 -2.09375 C 7.851562 -2.5 8.058594 -3.03125 8.195312 -3.691406 L 9.523438 -3.691406 C 9.40625 -2.632812 9.011719 -1.746094 8.347656 -1.03125 C 7.550781 -0.171875 6.472656 0.257812 5.121094 0.257812 C 3.953125 0.257812 2.972656 -0.09375 2.179688 -0.800781 C 1.136719 -1.734375 0.617188 -3.175781 0.617188 -5.125 C 0.617188 -6.609375 1.007812 -7.824219 1.789062 -8.769531 C 2.636719 -9.800781 3.808594 -10.316406 5.296875 -10.316406 Z M 5.296875 -10.316406 \"/>\n",
       "</symbol>\n",
       "<symbol overflow=\"visible\" id=\"glyph0-20\">\n",
       "<path style=\"stroke:none;\" d=\"M 1.632812 -2.296875 C 1.671875 -1.886719 1.773438 -1.570312 1.941406 -1.351562 C 2.25 -0.957031 2.789062 -0.757812 3.554688 -0.757812 C 4.011719 -0.757812 4.410156 -0.859375 4.757812 -1.054688 C 5.105469 -1.253906 5.277344 -1.5625 5.277344 -1.976562 C 5.277344 -2.289062 5.136719 -2.53125 4.859375 -2.695312 C 4.683594 -2.792969 4.332031 -2.910156 3.808594 -3.042969 L 2.828125 -3.289062 C 2.203125 -3.445312 1.746094 -3.617188 1.449219 -3.808594 C 0.921875 -4.140625 0.65625 -4.601562 0.65625 -5.1875 C 0.65625 -5.882812 0.90625 -6.441406 1.40625 -6.871094 C 1.90625 -7.296875 2.574219 -7.511719 3.417969 -7.511719 C 4.519531 -7.511719 5.316406 -7.1875 5.804688 -6.542969 C 6.109375 -6.132812 6.257812 -5.691406 6.25 -5.214844 L 5.085938 -5.214844 C 5.0625 -5.492188 4.964844 -5.746094 4.792969 -5.976562 C 4.507812 -6.296875 4.019531 -6.460938 3.320312 -6.460938 C 2.855469 -6.460938 2.503906 -6.371094 2.265625 -6.195312 C 2.027344 -6.015625 1.90625 -5.78125 1.90625 -5.488281 C 1.90625 -5.171875 2.0625 -4.914062 2.378906 -4.722656 C 2.5625 -4.609375 2.828125 -4.507812 3.1875 -4.421875 L 4 -4.226562 C 4.882812 -4.011719 5.476562 -3.804688 5.777344 -3.601562 C 6.253906 -3.289062 6.492188 -2.792969 6.492188 -2.117188 C 6.492188 -1.46875 6.246094 -0.90625 5.753906 -0.429688 C 5.257812 0.0429688 4.503906 0.28125 3.492188 0.28125 C 2.402344 0.28125 1.632812 0.03125 1.179688 -0.460938 C 0.726562 -0.957031 0.484375 -1.566406 0.453125 -2.296875 Z M 1.632812 -2.296875 \"/>\n",
       "</symbol>\n",
       "<symbol overflow=\"visible\" id=\"glyph0-21\">\n",
       "<path style=\"stroke:none;\" d=\"M 1.03125 -10.042969 L 2.980469 -10.042969 L 5.867188 -1.550781 L 8.730469 -10.042969 L 10.65625 -10.042969 L 10.65625 0 L 9.367188 0 L 9.367188 -5.925781 C 9.367188 -6.132812 9.371094 -6.472656 9.378906 -6.945312 C 9.386719 -7.417969 9.390625 -7.925781 9.390625 -8.46875 L 6.527344 0 L 5.179688 0 L 2.296875 -8.46875 L 2.296875 -8.164062 C 2.296875 -7.917969 2.300781 -7.542969 2.3125 -7.039062 C 2.324219 -6.535156 2.332031 -6.164062 2.332031 -5.925781 L 2.332031 0 L 1.03125 0 Z M 1.03125 -10.042969 \"/>\n",
       "</symbol>\n",
       "</g>\n",
       "</defs>\n",
       "<g id=\"surface14\">\n",
       "<rect x=\"0\" y=\"0\" width=\"200\" height=\"200\" style=\"fill:rgb(100%,100%,100%);fill-opacity:1;stroke:none;\"/>\n",
       "<path style=\"fill:none;stroke-width:1;stroke-linecap:butt;stroke-linejoin:miter;stroke:rgb(26.666667%,26.666667%,26.666667%);stroke-opacity:1;stroke-miterlimit:10;\" d=\"M 150 85.578125 L 123.316406 93.273438 \"/>\n",
       "<path style=\" stroke:none;fill-rule:nonzero;fill:rgb(26.666667%,26.666667%,26.666667%);fill-opacity:1;\" d=\"M 109.609375 97.230469 L 122.03125 88.820312 L 124.601562 97.730469 L 109.609375 97.230469 \"/>\n",
       "<path style=\"fill:none;stroke-width:1;stroke-linecap:butt;stroke-linejoin:miter;stroke:rgb(26.666667%,26.666667%,26.666667%);stroke-opacity:1;stroke-miterlimit:10;\" d=\"M 114.421875 150 L 106.726562 123.316406 \"/>\n",
       "<path style=\" stroke:none;fill-rule:nonzero;fill:rgb(26.666667%,26.666667%,26.666667%);fill-opacity:1;\" d=\"M 102.769531 109.609375 L 111.179688 122.03125 L 102.269531 124.601562 L 102.769531 109.609375 \"/>\n",
       "<path style=\"fill:none;stroke-width:1;stroke-linecap:butt;stroke-linejoin:miter;stroke:rgb(26.666667%,26.666667%,26.666667%);stroke-opacity:1;stroke-miterlimit:10;\" d=\"M 100 100 L 73.316406 107.695312 \"/>\n",
       "<path style=\" stroke:none;fill-rule:nonzero;fill:rgb(26.666667%,26.666667%,26.666667%);fill-opacity:1;\" d=\"M 59.609375 111.648438 L 72.03125 103.242188 L 74.601562 112.148438 L 59.609375 111.648438 \"/>\n",
       "<path style=\"fill:none;stroke-width:1;stroke-linecap:butt;stroke-linejoin:miter;stroke:rgb(26.666667%,26.666667%,26.666667%);stroke-opacity:1;stroke-miterlimit:10;\" d=\"M 100 100 L 92.304688 73.316406 \"/>\n",
       "<path style=\" stroke:none;fill-rule:nonzero;fill:rgb(26.666667%,26.666667%,26.666667%);fill-opacity:1;\" d=\"M 88.351562 59.609375 L 96.757812 72.03125 L 87.851562 74.601562 L 88.351562 59.609375 \"/>\n",
       "<path style=\"fill-rule:nonzero;fill:rgb(100%,0%,0%);fill-opacity:1;stroke-width:1;stroke-linecap:butt;stroke-linejoin:miter;stroke:rgb(0%,0%,0%);stroke-opacity:1;stroke-miterlimit:10;\" d=\"M 160 85.578125 C 160 91.101562 155.523438 95.578125 150 95.578125 C 144.476562 95.578125 140 91.101562 140 85.578125 C 140 80.054688 144.476562 75.578125 150 75.578125 C 155.523438 75.578125 160 80.054688 160 85.578125 \"/>\n",
       "<path style=\"fill-rule:nonzero;fill:rgb(100%,0%,0%);fill-opacity:1;stroke-width:1;stroke-linecap:butt;stroke-linejoin:miter;stroke:rgb(0%,0%,0%);stroke-opacity:1;stroke-miterlimit:10;\" d=\"M 124.421875 150 C 124.421875 155.523438 119.945312 160 114.421875 160 C 108.898438 160 104.421875 155.523438 104.421875 150 C 104.421875 144.476562 108.898438 140 114.421875 140 C 119.945312 140 124.421875 144.476562 124.421875 150 \"/>\n",
       "<path style=\"fill-rule:nonzero;fill:rgb(100%,0%,0%);fill-opacity:1;stroke-width:1;stroke-linecap:butt;stroke-linejoin:miter;stroke:rgb(0%,0%,0%);stroke-opacity:1;stroke-miterlimit:10;\" d=\"M 110 100 C 110 105.523438 105.523438 110 100 110 C 94.476562 110 90 105.523438 90 100 C 90 94.476562 94.476562 90 100 90 C 105.523438 90 110 94.476562 110 100 \"/>\n",
       "<path style=\"fill-rule:nonzero;fill:rgb(100%,0%,0%);fill-opacity:1;stroke-width:1;stroke-linecap:butt;stroke-linejoin:miter;stroke:rgb(0%,0%,0%);stroke-opacity:1;stroke-miterlimit:10;\" d=\"M 60 114.421875 C 60 119.945312 55.523438 124.421875 50 124.421875 C 44.476562 124.421875 40 119.945312 40 114.421875 C 40 108.898438 44.476562 104.421875 50 104.421875 C 55.523438 104.421875 60 108.898438 60 114.421875 \"/>\n",
       "<path style=\"fill-rule:nonzero;fill:rgb(100%,0%,0%);fill-opacity:1;stroke-width:1;stroke-linecap:butt;stroke-linejoin:miter;stroke:rgb(0%,0%,0%);stroke-opacity:1;stroke-miterlimit:10;\" d=\"M 95.578125 50 C 95.578125 55.523438 91.101562 60 85.578125 60 C 80.054688 60 75.578125 55.523438 75.578125 50 C 75.578125 44.476562 80.054688 40 85.578125 40 C 91.101562 40 95.578125 44.476562 95.578125 50 \"/>\n",
       "<g style=\"fill:rgb(0%,0%,0%);fill-opacity:1;\">\n",
       "  <use xlink:href=\"#glyph0-1\" x=\"123.5\" y=\"92.210938\"/>\n",
       "  <use xlink:href=\"#glyph0-2\" x=\"132.837891\" y=\"92.210938\"/>\n",
       "  <use xlink:href=\"#glyph0-3\" x=\"140.624023\" y=\"92.210938\"/>\n",
       "  <use xlink:href=\"#glyph0-4\" x=\"145.286133\" y=\"92.210938\"/>\n",
       "  <use xlink:href=\"#glyph0-5\" x=\"153.072266\" y=\"92.210938\"/>\n",
       "  <use xlink:href=\"#glyph0-6\" x=\"156.182617\" y=\"92.210938\"/>\n",
       "  <use xlink:href=\"#glyph0-3\" x=\"163.96875\" y=\"92.210938\"/>\n",
       "  <use xlink:href=\"#glyph0-7\" x=\"168.630859\" y=\"92.210938\"/>\n",
       "</g>\n",
       "<g style=\"fill:rgb(0%,0%,0%);fill-opacity:1;\">\n",
       "  <use xlink:href=\"#glyph0-8\" x=\"78.324219\" y=\"156.648438\"/>\n",
       "  <use xlink:href=\"#glyph0-6\" x=\"87.662109\" y=\"156.648438\"/>\n",
       "  <use xlink:href=\"#glyph0-3\" x=\"95.448242\" y=\"156.648438\"/>\n",
       "  <use xlink:href=\"#glyph0-9\" x=\"100.110352\" y=\"156.648438\"/>\n",
       "  <use xlink:href=\"#glyph0-10\" x=\"104\" y=\"156.648438\"/>\n",
       "  <use xlink:href=\"#glyph0-11\" x=\"111.786133\" y=\"156.648438\"/>\n",
       "  <use xlink:href=\"#glyph0-2\" x=\"119.572266\" y=\"156.648438\"/>\n",
       "  <use xlink:href=\"#glyph0-6\" x=\"127.358398\" y=\"156.648438\"/>\n",
       "  <use xlink:href=\"#glyph0-12\" x=\"135.144531\" y=\"156.648438\"/>\n",
       "  <use xlink:href=\"#glyph0-13\" x=\"142.144531\" y=\"156.648438\"/>\n",
       "</g>\n",
       "<g style=\"fill:rgb(0%,0%,0%);fill-opacity:1;\">\n",
       "  <use xlink:href=\"#glyph0-14\" x=\"82.074219\" y=\"106.632812\"/>\n",
       "  <use xlink:href=\"#glyph0-5\" x=\"91.412109\" y=\"106.632812\"/>\n",
       "  <use xlink:href=\"#glyph0-6\" x=\"94.522461\" y=\"106.632812\"/>\n",
       "  <use xlink:href=\"#glyph0-3\" x=\"102.308594\" y=\"106.632812\"/>\n",
       "  <use xlink:href=\"#glyph0-15\" x=\"106.970703\" y=\"106.632812\"/>\n",
       "</g>\n",
       "<g style=\"fill:rgb(0%,0%,0%);fill-opacity:1;\">\n",
       "  <use xlink:href=\"#glyph0-16\" x=\"19.394531\" y=\"121.1875\"/>\n",
       "  <use xlink:href=\"#glyph0-17\" x=\"26.394531\" y=\"121.1875\"/>\n",
       "  <use xlink:href=\"#glyph0-10\" x=\"34.180664\" y=\"121.1875\"/>\n",
       "  <use xlink:href=\"#glyph0-18\" x=\"41.966797\" y=\"121.1875\"/>\n",
       "  <use xlink:href=\"#glyph0-19\" x=\"49.75293\" y=\"121.1875\"/>\n",
       "  <use xlink:href=\"#glyph0-6\" x=\"59.863281\" y=\"121.1875\"/>\n",
       "  <use xlink:href=\"#glyph0-5\" x=\"67.649414\" y=\"121.1875\"/>\n",
       "  <use xlink:href=\"#glyph0-5\" x=\"70.759766\" y=\"121.1875\"/>\n",
       "  <use xlink:href=\"#glyph0-20\" x=\"73.870117\" y=\"121.1875\"/>\n",
       "</g>\n",
       "<g style=\"fill:rgb(0%,0%,0%);fill-opacity:1;\">\n",
       "  <use xlink:href=\"#glyph0-21\" x=\"54.203125\" y=\"56.765625\"/>\n",
       "  <use xlink:href=\"#glyph0-6\" x=\"65.865234\" y=\"56.765625\"/>\n",
       "  <use xlink:href=\"#glyph0-3\" x=\"73.651367\" y=\"56.765625\"/>\n",
       "  <use xlink:href=\"#glyph0-7\" x=\"78.313477\" y=\"56.765625\"/>\n",
       "  <use xlink:href=\"#glyph0-19\" x=\"85.313477\" y=\"56.765625\"/>\n",
       "  <use xlink:href=\"#glyph0-6\" x=\"95.423828\" y=\"56.765625\"/>\n",
       "  <use xlink:href=\"#glyph0-5\" x=\"103.209961\" y=\"56.765625\"/>\n",
       "  <use xlink:href=\"#glyph0-5\" x=\"106.320312\" y=\"56.765625\"/>\n",
       "  <use xlink:href=\"#glyph0-20\" x=\"109.430664\" y=\"56.765625\"/>\n",
       "</g>\n",
       "</g>\n",
       "</svg>\n"
      ],
      "text/plain": [
       "<igraph.drawing.Plot at 0x11138f070>"
      ]
     },
     "execution_count": 54,
     "metadata": {
      "image/svg+xml": {
       "isolated": true
      }
     },
     "output_type": "execute_result"
    }
   ],
   "source": [
    "B = red_bayesiana()\n",
    "B.crear_nodo(\"Burglary\", [\"verdadero\", \"falso\"])\n",
    "B.crear_nodo(\"Earthquake\", [\"verdadero\", \"falso\"])\n",
    "B.crear_nodo(\"Alarm\", [\"verdadero\", \"falso\"])\n",
    "B.crear_nodo(\"JohnCalls\", [\"verdadero\", \"falso\"])\n",
    "B.crear_nodo(\"MaryCalls\", [\"verdadero\", \"falso\"])\n",
    "B.crear_dependencia(\"Burglary\", \"Alarm\")\n",
    "B.crear_dependencia(\"Earthquake\", \"Alarm\")\n",
    "B.crear_dependencia(\"Alarm\", \"JohnCalls\")\n",
    "B.crear_dependencia(\"Alarm\", \"MaryCalls\")\n",
    "B.asignar_probabilidades(\"Burglary\", [0.001, 0.999])\n",
    "B.asignar_probabilidades(\"Earthquake\", [0.002, 0.998])\n",
    "B.asignar_probabilidades(\"Alarm\", {('verdadero', 'verdadero'): [0.95, 0.05], ('verdadero', 'falso'): [0.94, 0.06], ('falso', 'verdadero'): [0.29, 0.71], ('falso', 'falso'): [0.001, 0.999]})\n",
    "B.asignar_probabilidades(\"JohnCalls\", {'verdadero': [0.9, 0.1], 'falso': [0.05, 0.95]})\n",
    "B.asignar_probabilidades(\"MaryCalls\", {'verdadero': [0.7, 0.3], 'falso': [0.01, 0.99]})\n",
    "B.ver_red()"
   ]
  },
  {
   "cell_type": "code",
   "execution_count": 56,
   "metadata": {},
   "outputs": [
    {
     "name": "stdout",
     "output_type": "stream",
     "text": [
      " La probabilidad de {'Burglary': 'verdadero'}\n",
      " dada la evidencia {'JohnCalls': 'verdadero', 'MaryCalls': 'verdadero'}\n",
      " es: 0.2841718353643929\n"
     ]
    },
    {
     "data": {
      "text/plain": [
       "0.2841718353643929"
      ]
     },
     "execution_count": 56,
     "metadata": {},
     "output_type": "execute_result"
    }
   ],
   "source": [
    "B.incluir_evidencia(\"JohnCalls\", \"verdadero\")\n",
    "B.incluir_evidencia(\"MaryCalls\", \"verdadero\")\n",
    "B.consulta({\"Burglary\":\"verdadero\"})"
   ]
  },
  {
   "cell_type": "markdown",
   "metadata": {},
   "source": [
    "---"
   ]
  },
  {
   "cell_type": "markdown",
   "metadata": {},
   "source": [
    "**Ejercicio 8:**\n",
    "\n",
    "Implemente la red bayesiana del ejercicio 3 de las diapositivas y determine la probabilidad de haya un pozo en $(0,2)$ dado que hay brisa en $(1,0)$ y en $(0,1)$.\n",
    "\n",
    "<img src=\"./imagenes/ejercicio3.png\" width=\"600\">"
   ]
  },
  {
   "cell_type": "markdown",
   "metadata": {},
   "source": [
    "**Respuesta:**\n",
    "\n",
    "Una posible implementación es la siguiente:"
   ]
  },
  {
   "cell_type": "code",
   "execution_count": null,
   "metadata": {},
   "outputs": [],
   "source": []
  }
 ],
 "metadata": {
  "kernelspec": {
   "display_name": "Python 3",
   "language": "python",
   "name": "python3"
  },
  "language_info": {
   "codemirror_mode": {
    "name": "ipython",
    "version": 3
   },
   "file_extension": ".py",
   "mimetype": "text/x-python",
   "name": "python",
   "nbconvert_exporter": "python",
   "pygments_lexer": "ipython3",
   "version": "3.8.3"
  }
 },
 "nbformat": 4,
 "nbformat_minor": 4
}
