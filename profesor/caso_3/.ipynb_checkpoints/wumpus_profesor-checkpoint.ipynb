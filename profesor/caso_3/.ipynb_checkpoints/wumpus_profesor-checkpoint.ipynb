{
 "cells": [
  {
   "cell_type": "markdown",
   "metadata": {
    "colab_type": "text",
    "id": "TpmFfXsQ0dYI"
   },
   "source": [
    "## El mundo del Wumpus (1/2)\n",
    "\n",
    "Adaptado de Russell & Norvig (2016), cap. 7."
   ]
  },
  {
   "cell_type": "markdown",
   "metadata": {
    "colab_type": "text",
    "id": "V3SkDSWJ0dYJ"
   },
   "source": [
    "### Objetivo\n",
    "\n",
    "Continuamos con el enfoque basado en agentes de la Inteligencia Artificial. Ahora usaremos la representación de conocimiento para construir programas de agentes más sofisticados. En este notebook y el siguiente usaremos la lógica proposicional para mantener una base de conocimiento y un estado de creencias que permita a un agente superar el reto de encontrar el oro en la cueva del Wumpus (sin morir en el intento)."
   ]
  },
  {
   "cell_type": "markdown",
   "metadata": {
    "colab_type": "text",
    "id": "5HnQ_gA70dYL"
   },
   "source": [
    "### Secciones\n",
    "\n",
    "En este notebook desarrollaremos los siguientes aspectos del problema:\n",
    "\n",
    "1. Presentación del mundo del Wumpus.\n",
    "* Uso de la lógica proposicional para representar conocimiento.\n",
    "* Estructura de una base de conocimiento.\n",
    "* Resolver queries."
   ]
  },
  {
   "cell_type": "markdown",
   "metadata": {
    "colab_type": "text",
    "id": "S4x5lJfd0dYM"
   },
   "source": [
    "### Problema de ejemplo\n",
    "\n",
    "El siguiente problema se conoce como *El mundo del Wumpus* (Yob, 1975), el cual consiste en una caverna muy oscura, representada por una rejilla de $4\\times 4$ rodeada de muros. El agente puede entrar y salir de la caberna por la casilla (0,0) y puede percibir solamente lo que hay en cada casilla en la que se encuentre. En la cueva hay pozos muy profundos, en los que puede caer y morir. Lo peor de todo es que hay un mounstro, conocido como el Wumpus, el cual se comerá vivo al agente si este entra a su casilla. ¿Por qué el agente entraría a un lugar como este? ¡Porque en alguna casilla de la cueva hay un montón de oro!\n",
    "\n",
    "<img src=\"./imagenes/ejemplo.png\" width=\"250\">"
   ]
  },
  {
   "cell_type": "markdown",
   "metadata": {
    "colab_type": "text",
    "id": "4601LZmB0dYN"
   },
   "source": [
    "El agente puede guiarse por sus sentidos para navegar en la caberna. En cualquier casilla adyacente (no diagonalmente) a un pozo se percibe una brisa; en cualquier casilla adyacente (no diagonalmente) al Wumpus se percibe un hedor; en la casilla donde se encuentra el oro se percibe un brillo. Además, el agente tiene un arco y (lamentablemente) solo una flecha, con la cual puede matar al Wumpus. Cuando se dispare la flecha, esta seguirá en la dirección en que esté mirando el agente hasta golpear un muro o clavarse en el Wumpus, quien morirá arrojando un desgarrador grito \"Aaaaaaarrrrgghhhhh\"."
   ]
  },
  {
   "cell_type": "markdown",
   "metadata": {
    "colab_type": "text",
    "id": "P60dU8Mg0dYO"
   },
   "source": [
    "**Ejercicio 1:**\n",
    "\n",
    "De acuerdo con la formulación de entornos hecha durante la clase, ¿cuáles características considera usted que  tiene el *entorno* en este problema?\n",
    "\n",
    "**Ayuda:** Puede usar el comando `$\\checkmark$` para poner un chulito en la opción que desee marcar. \n",
    "\n",
    "| Opción 1 | Opción 2 |\n",
    "| :---: | :---: |\n",
    "| Completamente observable | $\\checkmark$ Parcialmente observable|\n",
    "| $\\checkmark$ Agente único | Multiagente |\n",
    "| $\\checkmark$ Determinista | Estocástico |\n",
    "| Episódico    | $\\checkmark$ secuencial  |\n",
    "| $\\checkmark$ Estático     | dinámico    |\n",
    "| $\\checkmark$ Discreto     | continuo    |\n",
    "| $\\checkmark$ Conocido     | desconocido |"
   ]
  },
  {
   "cell_type": "markdown",
   "metadata": {},
   "source": [
    "----"
   ]
  },
  {
   "cell_type": "markdown",
   "metadata": {
    "colab_type": "text",
    "id": "vL49lY0r0dYP"
   },
   "source": [
    "La **definición formal del entorno** se hace con base en la definición de las siguientes características:\n",
    "\n",
    "* **Entorno**: Una cueva representada por una rejilla $4\\times 4$ bordeada por muros. El agente siempre comienza en (0, 0) mirando a la derecha. La ubicación del Wumpus se escoge arbitrariamente de manera uniforme en casillas distintas a la inicial. Cualquier casilla distinta de la inicial puede ser un pozo con probabilidad 0.2.\n",
    "\n",
    "* **Actuadores**: El heroe puede moverse `adelante` por una casilla (no es posible moverse adelante cuando hay un muro), `voltearIzquierda` por 90º, o `voltearDerecha` por 90º. Es posible `agarrar` el oro cuando este está en la casilla ocupada por el heroe. También puede `disparar` la flecha en la dirección en que está mirando, la cual seguirá en linea recta hasta golpear un muro. Finalmente, el agente puede `salir` de la cueva, pero solo desde la casilla inicial.\n",
    "\n",
    "* **Sensores**: El heroe percibe un `hedor` cuando llega a la casilla donde está el Wumpus o cuando llega a una de las casillas adjacentes (diagonalmente). En las casillas adjacentes a un pozo, percibe una `brisa`. En el cuadro donde está el oro, percibe un `brillo`. Cuando se topa con un muro, percibe un `batacazo`. Finalmente, si el Wumpus muere, el heroe percibe un `grito` desde cualquier casilla.\n",
    "\n",
    "* **Medida de desempeño**: +1000 por salir de la cueva con el oro; -1000 por caer en un pozo o ser comido por el Wumpus; -1 por cada acción y -10 por usar la flecha. El juego termina cuando el heroe muere o sale de la cueva."
   ]
  },
  {
   "cell_type": "markdown",
   "metadata": {
    "colab_type": "text",
    "id": "ESao4G9n0dYP"
   },
   "source": [
    "\n",
    "**Implementación del entorno**\n",
    "\n",
    "Implementaremos el mundo del Wumpus mediante una clase en Python.\n",
    "\n",
    "Primero cargar librerías y definir unas funciones auxiliares útiles:"
   ]
  },
  {
   "cell_type": "code",
   "execution_count": 42,
   "metadata": {
    "colab": {},
    "colab_type": "code",
    "id": "73kSrhUo0dYQ"
   },
   "outputs": [],
   "source": [
    "import matplotlib.pyplot as plt\n",
    "import matplotlib.patches as patches\n",
    "from matplotlib.offsetbox import AnnotationBbox, OffsetImage\n",
    "import numpy as np\n",
    "from random import choice, sample\n",
    "\n",
    "%matplotlib inline\n",
    "\n",
    "def truncar(x):\n",
    "    if x < 0:\n",
    "        return 0\n",
    "    elif x > 3:\n",
    "        return 3\n",
    "    else:\n",
    "        return x\n",
    "\n",
    "def adyacentes(casilla):\n",
    "    x, y = casilla\n",
    "    adyacentes = [\n",
    "        (truncar(x - 1), y), (truncar(x + 1), y),\n",
    "        (x, truncar(y - 1)), (x, truncar(y + 1))\n",
    "    ]\n",
    "    adyacentes = [c for c in adyacentes if c != casilla]\n",
    "    return adyacentes"
   ]
  },
  {
   "cell_type": "markdown",
   "metadata": {},
   "source": [
    "Aquí va la clase del mundo del Wumpus:"
   ]
  },
  {
   "cell_type": "code",
   "execution_count": 43,
   "metadata": {},
   "outputs": [],
   "source": [
    "class wumpus:\n",
    "    \n",
    "    def __init__(self):\n",
    "        casillas = [(x, y) for x in range(4) for y in range(4)]\n",
    "        casillas_sin_inicial = [casilla for casilla in casillas if casilla != (0,0)]\n",
    "        self.wumpus = choice(casillas_sin_inicial)\n",
    "        self.wumpus_vivo = True\n",
    "        self.hedor = adyacentes(self.wumpus)\n",
    "        self.oro = choice(casillas)\n",
    "        self.oro_tomado = False\n",
    "        self.pozos = sample(casillas_sin_inicial, int(len(casillas_sin_inicial)*0.2))\n",
    "        aux = []\n",
    "        for c in self.pozos:\n",
    "            aux += adyacentes(c)\n",
    "        self.brisa = aux\n",
    "        self.heroe = (0, 0)\n",
    "        self.flecha = True\n",
    "        self.direccion = 'este'\n",
    "        self.puntaje = 0\n",
    "        self.juego_activo = True\n",
    "        self.grito = False # para determinar cuándo el wumpus grita de agonía\n",
    "        self.bump = False # para determinar cuándo el agente golpea un muro\n",
    "    \n",
    "    def pintar_todo(self):\n",
    "        # Dibuja el tablero correspondiente al estado\n",
    "        fig, axes = plt.subplots(figsize=(8, 8))\n",
    "\n",
    "        # Dibujo el tablero\n",
    "        step = 1./4\n",
    "        offset = 0.001\n",
    "        tangulos = []\n",
    "\n",
    "        # Borde del tablero\n",
    "        tangulos.append(patches.Rectangle((0,0),0.998,0.998,\\\n",
    "                                          facecolor='cornsilk',\\\n",
    "                                         edgecolor='black',\\\n",
    "                                         linewidth=2))\n",
    "\n",
    "        # Creo las líneas del tablero\n",
    "        for j in range(4):\n",
    "            locacion = j * step\n",
    "            # Crea linea horizontal en el rectangulo\n",
    "            tangulos.append(patches.Rectangle(*[(0, locacion), 1, 0.008],\\\n",
    "                    facecolor='black'))\n",
    "            # Crea linea vertical en el rectangulo\n",
    "            tangulos.append(patches.Rectangle(*[(locacion, 0), 0.008, 1],\\\n",
    "                    facecolor='black'))\n",
    "\n",
    "        for t in tangulos:\n",
    "            axes.add_patch(t)\n",
    "\n",
    "        # Cargando imagen del heroe\n",
    "        arr_img_hero = plt.imread(\"./imagenes/hero_\" + self.direccion + \".png\", format='png')\n",
    "        image_hero = OffsetImage(arr_img_hero, zoom=0.3)\n",
    "        image_hero.image.axes = axes\n",
    "\n",
    "        # Cargando imagen del Wumpus\n",
    "        arr_img_wumpus = plt.imread(\"./imagenes/wumpus.png\", format='png')\n",
    "        image_wumpus = OffsetImage(arr_img_wumpus, zoom=0.45)\n",
    "        image_wumpus.image.axes = axes\n",
    "\n",
    "        # Cargando imagen del hedor\n",
    "        arr_img_stench = plt.imread(\"./imagenes/stench.png\", format='png')\n",
    "        image_stench = OffsetImage(arr_img_stench, zoom=0.35)\n",
    "        image_stench.image.axes = axes\n",
    "\n",
    "        # Cargando imagen del oro\n",
    "        arr_img_gold = plt.imread(\"./imagenes/gold.png\", format='png')\n",
    "        image_gold = OffsetImage(arr_img_gold, zoom=0.25)\n",
    "        image_gold.image.axes = axes\n",
    "\n",
    "        # Cargando imagen del pozo\n",
    "        arr_img_pit = plt.imread(\"./imagenes/pit.png\", format='png')\n",
    "        image_pit = OffsetImage(arr_img_pit, zoom=0.35)\n",
    "        image_pit.image.axes = axes\n",
    "\n",
    "        # Cargando imagen de la brisa\n",
    "        arr_img_breeze = plt.imread(\"./imagenes/breeze.png\", format='png')\n",
    "        image_breeze = OffsetImage(arr_img_breeze, zoom=0.35)\n",
    "        image_breeze.image.axes = axes\n",
    "\n",
    "        offsetX = 0.125\n",
    "        offsetY = 0.125\n",
    "\n",
    "        for casilla in self.pozos:\n",
    "            # Pintando un pozo\n",
    "            X, Y = casilla\n",
    "            ab = AnnotationBbox(\n",
    "                image_pit, \n",
    "                [(X*step) + offsetX, (Y*step) + offsetY], \n",
    "                frameon=False)\n",
    "            axes.add_artist(ab)\n",
    "\n",
    "        for casilla in self.hedor:\n",
    "            # Pintando el hedor\n",
    "            X, Y = casilla\n",
    "            ab = AnnotationBbox(\n",
    "                image_stench, \n",
    "                [(X*step) + offsetX, (Y*step) + offsetY - 0.075], \n",
    "                frameon=False)\n",
    "            axes.add_artist(ab)\n",
    "\n",
    "        for casilla in self.brisa:\n",
    "            # Pintando la brisa\n",
    "            X, Y = casilla\n",
    "            ab = AnnotationBbox(\n",
    "                image_breeze, \n",
    "                [(X*step) + offsetX, (Y*step) + offsetY + 0.075], \n",
    "                frameon=False)\n",
    "            axes.add_artist(ab)\n",
    "\n",
    "        # Pintando el wumpus\n",
    "        X, Y = self.wumpus\n",
    "        ab = AnnotationBbox(\n",
    "            image_wumpus, \n",
    "            [(X*step) + offsetX, (Y*step) + offsetY], \n",
    "            frameon=False)\n",
    "        axes.add_artist(ab)\n",
    "\n",
    "        # Pintando el heroe\n",
    "        X, Y = self.heroe\n",
    "        ab = AnnotationBbox(\n",
    "            image_hero, \n",
    "            [(X*step) + offsetX, (Y*step) + offsetY], \n",
    "            frameon=False)\n",
    "        axes.add_artist(ab)\n",
    "\n",
    "        # Pintando el oro\n",
    "        if not self.oro_tomado:\n",
    "            X, Y = self.oro\n",
    "            ab = AnnotationBbox(\n",
    "                image_gold, \n",
    "                [(X*step) + offsetX, (Y*step) + offsetY], \n",
    "                frameon=False)\n",
    "            axes.add_artist(ab)\n",
    "\n",
    "        axes.axis('off')\n",
    "        return axes\n",
    "        \n",
    "    def pintar_casilla(self):\n",
    "        if self.juego_activo:\n",
    "            # Dibuja el tablero correspondiente al estado\n",
    "            fig, axes = plt.subplots(figsize=(8, 8))\n",
    "\n",
    "            # Dibujo el tablero\n",
    "            step = 1./4\n",
    "            offset = 0.001\n",
    "            tangulos = []\n",
    "\n",
    "            # Borde del tablero\n",
    "            tangulos.append(patches.Rectangle((0,0),0.998,0.998,\\\n",
    "                                              facecolor='cornsilk',\\\n",
    "                                             edgecolor='black',\\\n",
    "                                             linewidth=2))\n",
    "\n",
    "            # Creo las líneas del tablero\n",
    "            for j in range(4):\n",
    "                locacion = j * step\n",
    "                # Crea linea horizontal en el rectangulo\n",
    "                tangulos.append(patches.Rectangle(*[(0, locacion), 1, 0.008],\\\n",
    "                        facecolor='black'))\n",
    "                # Crea linea vertical en el rectangulo\n",
    "                tangulos.append(patches.Rectangle(*[(locacion, 0), 0.008, 1],\\\n",
    "                        facecolor='black'))\n",
    "\n",
    "            for t in tangulos:\n",
    "                axes.add_patch(t)\n",
    "\n",
    "            # Cargando imagen del heroe\n",
    "            arr_img_hero = plt.imread(\"./imagenes/hero_\" + self.direccion + \".png\", format='png')\n",
    "            image_hero = OffsetImage(arr_img_hero, zoom=0.3)\n",
    "            image_hero.image.axes = axes\n",
    "\n",
    "            # Cargando imagen del Wumpus\n",
    "            arr_img_wumpus = plt.imread(\"./imagenes/wumpus.png\", format='png')\n",
    "            image_wumpus = OffsetImage(arr_img_wumpus, zoom=0.45)\n",
    "            image_wumpus.image.axes = axes\n",
    "\n",
    "            # Cargando imagen del hedor\n",
    "            arr_img_stench = plt.imread(\"./imagenes/stench.png\", format='png')\n",
    "            image_stench = OffsetImage(arr_img_stench, zoom=0.35)\n",
    "            image_stench.image.axes = axes\n",
    "\n",
    "            # Cargando imagen del oro\n",
    "            arr_img_gold = plt.imread(\"./imagenes/gold.png\", format='png')\n",
    "            image_gold = OffsetImage(arr_img_gold, zoom=0.25)\n",
    "            image_gold.image.axes = axes\n",
    "\n",
    "            # Cargando imagen del pozo\n",
    "            arr_img_pit = plt.imread(\"./imagenes/pit.png\", format='png')\n",
    "            image_pit = OffsetImage(arr_img_pit, zoom=0.35)\n",
    "            image_pit.image.axes = axes\n",
    "\n",
    "            # Cargando imagen de la brisa\n",
    "            arr_img_breeze = plt.imread(\"./imagenes/breeze.png\", format='png')\n",
    "            image_breeze = OffsetImage(arr_img_breeze, zoom=0.35)\n",
    "            image_breeze.image.axes = axes\n",
    "\n",
    "            offsetX = 0.125\n",
    "            offsetY = 0.125\n",
    "            \n",
    "            casilla = self.heroe\n",
    "\n",
    "            if casilla in self.pozos:\n",
    "                # Pintando un pozo\n",
    "                X, Y = casilla\n",
    "                ab = AnnotationBbox(\n",
    "                    image_pit, \n",
    "                    [(X*step) + offsetX, (Y*step) + offsetY], \n",
    "                    frameon=False)\n",
    "                axes.add_artist(ab)\n",
    "\n",
    "            if casilla in self.hedor:\n",
    "                # Pintando el hedor\n",
    "                X, Y = casilla\n",
    "                ab = AnnotationBbox(\n",
    "                    image_stench, \n",
    "                    [(X*step) + offsetX, (Y*step) + offsetY - 0.075], \n",
    "                    frameon=False)\n",
    "                axes.add_artist(ab)\n",
    "\n",
    "            if casilla in self.brisa:\n",
    "                # Pintando la brisa\n",
    "                X, Y = casilla\n",
    "                ab = AnnotationBbox(\n",
    "                    image_breeze, \n",
    "                    [(X*step) + offsetX, (Y*step) + offsetY + 0.075], \n",
    "                    frameon=False)\n",
    "                axes.add_artist(ab)\n",
    "\n",
    "            if casilla == self.wumpus:\n",
    "                # Pintando el wumpus\n",
    "                X, Y = self.wumpus\n",
    "                ab = AnnotationBbox(\n",
    "                    image_wumpus, \n",
    "                    [(X*step) + offsetX, (Y*step) + offsetY], \n",
    "                    frameon=False)\n",
    "                axes.add_artist(ab)\n",
    "\n",
    "            # Pintando el heroe\n",
    "            X, Y = casilla\n",
    "            ab = AnnotationBbox(\n",
    "                image_hero, \n",
    "                [(X*step) + offsetX, (Y*step) + offsetY], \n",
    "                frameon=False)\n",
    "            axes.add_artist(ab)\n",
    "\n",
    "            if casilla == self.oro:\n",
    "                # Pintando el oro\n",
    "                if not self.oro_tomado:\n",
    "                    X, Y = self.oro\n",
    "                    ab = AnnotationBbox(\n",
    "                        image_gold, \n",
    "                        [(X*step) + offsetX, (Y*step) + offsetY], \n",
    "                        frameon=False)\n",
    "                    axes.add_artist(ab)\n",
    "\n",
    "            axes.axis('off')\n",
    "            return axes\n",
    "        else:\n",
    "            return None\n",
    "    \n",
    "    def transicion(self, accion):\n",
    "        if self.juego_activo:\n",
    "            self.grito = False\n",
    "            self.bump = False\n",
    "            self.puntaje -= 1\n",
    "            if accion == 'agarrar':\n",
    "                if (self.oro == self.heroe) and (self.oro_tomado == False):\n",
    "                    self.puntaje += 1000\n",
    "                    self.oro_tomado = True\n",
    "            elif accion == 'adelante':\n",
    "                x, y = self.heroe \n",
    "                if self.direccion == 'este':\n",
    "                    self.heroe = (truncar(x + 1), y)\n",
    "                    self.bump = True if truncar(x + 1) == x else False\n",
    "                if self.direccion == 'oeste':\n",
    "                    self.heroe = (truncar(x - 1), y)\n",
    "                    self.bump = True if truncar(x - 1) == x else False\n",
    "                if self.direccion == 'norte':\n",
    "                    self.heroe = (x, truncar(y + 1))\n",
    "                    self.bump = True if truncar(y + 1) == y else False\n",
    "                if self.direccion == 'sur':\n",
    "                    self.heroe = (x, truncar(y - 1))\n",
    "                    self.bump = True if truncar(y - 1) == y else False\n",
    "            elif accion == 'salir':\n",
    "                if self.heroe == (0, 0):\n",
    "                    self.juego_activo = False\n",
    "                    print(\"¡Juego terminado!\")\n",
    "                    print(\"Puntaje:\", self.puntaje)\n",
    "                    self.pintar_todo()\n",
    "            elif accion == 'voltearIzquierda':\n",
    "                if self.direccion == 'este':\n",
    "                    self.direccion = 'norte'\n",
    "                elif self.direccion == 'oeste':\n",
    "                    self.direccion = 'sur'\n",
    "                elif self.direccion == 'norte':\n",
    "                    self.direccion = 'oeste'\n",
    "                elif self.direccion == 'sur':\n",
    "                    self.direccion = 'este'\n",
    "            elif accion == 'voltearDerecha':\n",
    "                if self.direccion == 'este':\n",
    "                    self.direccion = 'sur'\n",
    "                elif self.direccion == 'oeste':\n",
    "                    self.direccion = 'norte'\n",
    "                elif self.direccion == 'norte':\n",
    "                    self.direccion = 'este'\n",
    "                elif self.direccion == 'sur':\n",
    "                    self.direccion = 'oeste'\n",
    "            elif accion == 'disparar':\n",
    "                if self.flecha:\n",
    "                    self.flecha = False\n",
    "                    if self.wumpus_vivo:\n",
    "                        x_wumpus, y_wumpus = self.wumpus\n",
    "                        x_heroe, y_heroe = self.heroe\n",
    "                        if (self.direccion == 'este') and ((x_heroe < x_wumpus) and (y_heroe == y_wumpus)):\n",
    "                            self.wumpus_vivo = False\n",
    "                            self.grito = True\n",
    "                        if (self.direccion == 'oeste') and ((x_heroe > x_wumpus) and (y_heroe == y_wumpus)):\n",
    "                            self.wumpus_vivo = False\n",
    "                            self.grito = True\n",
    "                        if (self.direccion == 'norte') and ((y_heroe < y_wumpus) and (x_heroe == x_wumpus)):\n",
    "                            self.wumpus_vivo = False\n",
    "                            self.grito = True\n",
    "                        if (self.direccion == 'sur') and ((y_heroe > y_wumpus) and (x_heroe == x_wumpus)):\n",
    "                            self.wumpus_vivo = False\n",
    "                            self.grito = True\n",
    "            else:\n",
    "                print('¡Acción incorrecta!')\n",
    "            if self.heroe in self.pozos:\n",
    "                self.puntaje -= 1000\n",
    "                self.juego_activo = False\n",
    "                print(\"¡Juego terminado!\")\n",
    "                print(\"El héroe a caido en un pozo\")\n",
    "                print(\"Puntaje:\", self.puntaje)\n",
    "                self.pintar_todo()\n",
    "            elif (self.heroe == self.wumpus) and self.wumpus_vivo:\n",
    "                self.puntaje -= 1000\n",
    "                self.juego_activo = False\n",
    "                print(\"¡Juego terminado!\")\n",
    "                print(\"El héroe ha sido devorado por el Wumpus\")\n",
    "                print(\"Puntaje:\", self.puntaje)\n",
    "                self.pintar_todo()\n",
    "        else:\n",
    "            print(\"El juego ha terminado.\")\n"
   ]
  },
  {
   "cell_type": "markdown",
   "metadata": {},
   "source": [
    "Ahora la función para recibir la información sensorial de la casilla en la cual se encuentra el héroe:"
   ]
  },
  {
   "cell_type": "code",
   "execution_count": 44,
   "metadata": {},
   "outputs": [],
   "source": [
    "def percibir(mundo):\n",
    "    \n",
    "    # Lista de sensores [hedor, brisa, brillo, batacazo, grito]\n",
    "    hedor = 'hedor' if mundo.heroe in mundo.hedor else None\n",
    "    brisa = 'brisa' if mundo.heroe in mundo.brisa else None\n",
    "    brillo = 'brillo' if ((mundo.heroe == mundo.oro) and not mundo.oro_tomado) else None\n",
    "    batacazo = 'batacazo' if mundo.bump else None\n",
    "    grito = 'grito' if mundo.grito else None\n",
    "    return [hedor, brisa, brillo, batacazo, grito]"
   ]
  },
  {
   "cell_type": "markdown",
   "metadata": {},
   "source": [
    "Inicializamos el mundo y percibimos lo que hay en la primera casilla:"
   ]
  },
  {
   "cell_type": "code",
   "execution_count": 45,
   "metadata": {},
   "outputs": [
    {
     "data": {
      "text/plain": [
       "[None, None, None, None, None]"
      ]
     },
     "execution_count": 45,
     "metadata": {},
     "output_type": "execute_result"
    },
    {
     "data": {
      "image/png": "[encoded data removed]",
      "text/plain": [
       "<Figure size 576x576 with 1 Axes>"
      ]
     },
     "metadata": {
      "needs_background": "light"
     },
     "output_type": "display_data"
    }
   ],
   "source": [
    "W = wumpus()\n",
    "W.pintar_casilla()\n",
    "percibir(W)"
   ]
  },
  {
   "cell_type": "markdown",
   "metadata": {},
   "source": [
    "Un paso arriesgado en la oscuridad:"
   ]
  },
  {
   "cell_type": "code",
   "execution_count": 46,
   "metadata": {},
   "outputs": [
    {
     "data": {
      "text/plain": [
       "[None, None, None, None, None]"
      ]
     },
     "execution_count": 46,
     "metadata": {},
     "output_type": "execute_result"
    },
    {
     "data": {
      "image/png": "[encoded data removed]",
      "text/plain": [
       "<Figure size 576x576 with 1 Axes>"
      ]
     },
     "metadata": {
      "needs_background": "light"
     },
     "output_type": "display_data"
    }
   ],
   "source": [
    "W.transicion('voltearIzquierda')\n",
    "W.transicion('adelante')\n",
    "W.pintar_casilla()\n",
    "percibir(W)"
   ]
  },
  {
   "cell_type": "markdown",
   "metadata": {},
   "source": [
    "**Ejercicio 2:**\n",
    "\n",
    "Escriba el código para que el héroe avance dos casillas a la derecha y una arriba, percibiendo el entorno a cada paso."
   ]
  },
  {
   "cell_type": "markdown",
   "metadata": {},
   "source": [
    "**Respuesta:**"
   ]
  },
  {
   "cell_type": "code",
   "execution_count": 47,
   "metadata": {},
   "outputs": [
    {
     "name": "stdout",
     "output_type": "stream",
     "text": [
      "[None, None, None, None, None]\n",
      "[None, 'brisa', None, None, None]\n",
      "[None, 'brisa', None, None, None]\n"
     ]
    },
    {
     "data": {
      "text/plain": [
       "<matplotlib.axes._subplots.AxesSubplot at 0x11c6473a0>"
      ]
     },
     "execution_count": 47,
     "metadata": {},
     "output_type": "execute_result"
    },
    {
     "data": {
      "image/png": "[encoded data removed]",
      "text/plain": [
       "<Figure size 576x576 with 1 Axes>"
      ]
     },
     "metadata": {
      "needs_background": "light"
     },
     "output_type": "display_data"
    }
   ],
   "source": [
    "W.transicion('voltearDerecha')\n",
    "W.transicion('adelante')\n",
    "print(percibir(W))\n",
    "W.transicion('adelante')\n",
    "print(percibir(W))\n",
    "W.transicion('voltearIzquierda')\n",
    "W.transicion('adelante')\n",
    "print(percibir(W))\n",
    "W.pintar_casilla()"
   ]
  },
  {
   "cell_type": "markdown",
   "metadata": {},
   "source": [
    "---"
   ]
  },
  {
   "cell_type": "markdown",
   "metadata": {},
   "source": [
    "## Agentes basados en el conocimiento\n",
    "\n",
    "Lo primero que necesita el agente es poder decidir, con base en la información sensorial a su disposición, cuáles casillas son seguras para transitar. Para lograr esto es necesario que el agente sea capaz de:\n",
    "\n",
    "1. Representar las reglas del mundo del Wumpus.\n",
    "* Hacer inferencias para combinar la información sensorial con las reglas del mundo.\n",
    "\n",
    "En este notebook nuestro objetivo es definir una función `ASK(KB, Segura(x, y), True)` que nos permita determinar si a partir de la base de conocimiento `KB`, es posible afirmar que la casilla $(x,y)$ es segura. En el siguiente notebook completaremos la definición del agente para solucionar el mundo del Wumpus.\n",
    "\n",
    "### Representación del mundo del Wumpus en lógica proposicional\n",
    "\n",
    "Debemos representar las letras proposicionales, las cuales cruzan la información sobre cada casilla. En nuestro problema esta información consistirá en: la columna (`x`), la fila (`y`), y el tipo de información. Definimos:\n",
    "\n",
    "* `P(x, y, 0)` es verdadero sii el agente cree que la casilla $(x,y)$ es segura para transitar.\n",
    "* `P(x, y, 1)` es verdadero sii en la casilla $(x,y)$ se percibe una brisa.\n",
    "* `P(x, y, 2)` es verdadero sii el agente cree que en la casilla $(x,y)$ hay un pozo.\n",
    "\n",
    "**Importante:** Se ha omitido mucha información del mundo con el propósito de llegar a una función `ASK` mínimamente funcional en el tiempo previsto para la clase.\n",
    "\n",
    "La siguiente tabla puede ser útil para futuras referencias y puede irse completando a medida que se vaya avanzando en la representación:\n",
    "\n",
    "| Información | Número de codificación |\n",
    "| :---: | :---: |\n",
    "| Casilla segura     | 0    |\n",
    "| Casilla con brisa     | 1 |\n",
    "| Casilla con pozo     | 2 |\n",
    "\n",
    "Para representar una letra proposicional mediante un solo caracter, usaremos las siguientes funciones:"
   ]
  },
  {
   "cell_type": "code",
   "execution_count": 7,
   "metadata": {},
   "outputs": [],
   "source": [
    "class codigos:\n",
    "    \n",
    "    # Clase para agrupar las funciones de codificación\n",
    "    # de letras proposicionales\n",
    "    \n",
    "    def __init__(self, Nf, Nc, No):\n",
    "        self.Nf = Nf # Número de filas\n",
    "        self.Nc = Nc # Número de columnas\n",
    "        self.No = No # Número de opciones de información\n",
    "        \n",
    "    def codifica(self, f, c, Nf, Nc):\n",
    "        # Funcion que codifica la fila f y columna c\n",
    "        assert((f >= 0) and (f <= Nf - 1)), 'Primer argumento incorrecto! Debe ser un numero entre 0 y ' + str(Nf) - 1  + \"\\nSe recibio \" + str(f)\n",
    "        assert((c >= 0) and (c <= Nc - 1)), 'Segundo argumento incorrecto! Debe ser un numero entre 0 y ' + str(Nc - 1)  + \"\\nSe recibio \" + str(c)\n",
    "        n = Nc * f + c\n",
    "        # print(u'Número a codificar:', n)\n",
    "        return n\n",
    "\n",
    "    def decodifica(self, n, Nf, Nc):\n",
    "        # Funcion que codifica un caracter en su respectiva fila f y columna c de la tabla\n",
    "        assert((n >= 0) and (n <= Nf * Nc - 1)), 'Codigo incorrecto! Debe estar entre 0 y ' + str(Nf * Nc - 1) + \"\\nSe recibio \" + str(n)\n",
    "        f = int(n / Nc)\n",
    "        c = n % Nc\n",
    "        return f, c\n",
    "\n",
    "    def P(self, f, c, o):\n",
    "        # Funcion que codifica tres argumentos\n",
    "        assert((f >= 0) and (f <= self.Nf - 1)), 'Primer argumento incorrecto! Debe ser un numero entre 0 y ' + str(Nf - 1) + \"\\nSe recibio \" + str(f)\n",
    "        assert((c >= 0) and (c <= self.Nc - 1)), 'Segundo argumento incorrecto! Debe ser un numero entre 0 y ' + str(Nc - 1) + \"\\nSe recibio \" + str(c)\n",
    "        assert((o >= 0) and (o <= self.No - 1)), 'Tercer argumento incorrecto! Debe ser un numero entre 0 y ' + str(No - 1)  + \"\\nSe recibio \" + str(o)\n",
    "        v1 = self.codifica(f, c, self.Nf, self.Nc)\n",
    "        v2 = self.codifica(v1, o, self.Nf * self.Nc, self.No)\n",
    "        codigo = chr(256 + v2)\n",
    "        return codigo\n",
    "\n",
    "    def Pinv(self, codigo):\n",
    "        # Funcion que codifica un caracter en su respectiva fila f, columna c y objeto o\n",
    "        x = ord(codigo) - 256\n",
    "        v1, o = self.decodifica(x, self.Nf * self.Nc, self.No)\n",
    "        f, c = self.decodifica(v1, self.Nf, self.Nc)\n",
    "        return f, c, o\n",
    "    \n",
    "    def imprime_formula(self, fml):\n",
    "        for c in fml:\n",
    "            if c in ['Y', '>', '-']:\n",
    "                print(c, end=\"\")\n",
    "            else:\n",
    "                x, y, o = self.Pinv(c)\n",
    "                if o == 0:\n",
    "                    print(\"Segura\" + str((x, y)), end=\"\")\n",
    "                if o == 1:\n",
    "                    print(\"Brisa\" + str((x, y)), end=\"\")\n",
    "                if o == 2:\n",
    "                    print(\"Pozo\" + str((x, y)), end=\"\")\n",
    "                if o == 3:\n",
    "                    print(\"Hedor\" + str((x, y)), end=\"\")\n",
    "                if o == 4:\n",
    "                    print(\"Wumpus\" + str((x, y)), end=\"\")"
   ]
  },
  {
   "cell_type": "markdown",
   "metadata": {},
   "source": [
    "El caracter de la letra proposicional la cual representa el hecho de que en la casilla $(1,2)$ se percibe una brisa es:"
   ]
  },
  {
   "cell_type": "code",
   "execution_count": 8,
   "metadata": {},
   "outputs": [
    {
     "data": {
      "text/plain": [
       "'ē'"
      ]
     },
     "execution_count": 8,
     "metadata": {},
     "output_type": "execute_result"
    }
   ],
   "source": [
    "# Se crea objeto de codificación\n",
    "cods = codigos(4, 4, 3)\n",
    "# Se imprime el caracter de la casilla (1,2) sobre percibir brisa\n",
    "cods.P(1, 2, 1)"
   ]
  },
  {
   "cell_type": "markdown",
   "metadata": {},
   "source": [
    "**Ejercicio 3:**\n",
    "\n",
    "Encuentre los caracteres de las letras proposicionales para la siguiente información:\n",
    "\n",
    "* En la casilla $(1, 0)$ se percibe una brisa.\n",
    "* El agente cree que la casilla $(1, 1)$ tiene un pozo.\n",
    "* El agente cree que la casilla $(0, 1)$ es segura."
   ]
  },
  {
   "cell_type": "markdown",
   "metadata": {},
   "source": [
    "**Respuesta:**"
   ]
  },
  {
   "cell_type": "code",
   "execution_count": 9,
   "metadata": {},
   "outputs": [
    {
     "name": "stdout",
     "output_type": "stream",
     "text": [
      "č\n",
      "đ\n",
      "ă\n"
     ]
    }
   ],
   "source": [
    "print(cods.P(1, 0, 1)) # En la casilla (1,0) se percibe una brisa\n",
    "print(cods.P(1, 1, 2)) # La casilla (1,1) tiene un pozo\n",
    "print(cods.P(0, 1, 0)) # La casilla (0,1) es segura"
   ]
  },
  {
   "cell_type": "markdown",
   "metadata": {},
   "source": [
    "---"
   ]
  },
  {
   "cell_type": "markdown",
   "metadata": {},
   "source": [
    "Ahora usamos fórmulas de la lógica proposicional para representar aspectos del mundo. Comenzamos con una parte de la información sobre la relación entre los pozos y la brisa. Necesitamos incluir en la base de conocimiento las siguientes fórmulas:\n",
    "\n",
    "1. $P(3,3,2) \\to \\bigl(P(2,3,1)\\wedge P(3,2,1)\\bigr)$ (*si hay un  pozo en $(3,3)$, se percibe una brisa en $(2,3)$ y en $(3,2)$*)\n",
    "* $P(1,1,2) \\to \\bigl( P(0,1,1)\\wedge P(2,1,1)\\wedge P(1,0,1)\\wedge P(1,2,1)\\bigr)$ (*si hay un  pozo en $(1,1)$, se percibe una brisa en $(0,1)$, en $(2,1)$, en $(1,0)$ y en $(1,2)$*)\n",
    "* $\\vdots$\n",
    "\n",
    "Con el fin de implementar los algoritmos de búsqueda, usaremos fórmulas en forma 'pseudo' cláusulas de Horn (ver diapositivas sesión 7), por lo que reescribimos las anteriores fórmulas así:\n",
    "\n",
    "*Conjunto de fórmulas que expresan la fórmula (1) arriba:*\n",
    "* $\\neg P(2,3,1)\\to \\neg P(3,3,2)$\n",
    "* $\\neg P(3,2,1)\\to \\neg P(3,3,2)$\n",
    "\n",
    "*Conjunto de fórmulas que expresan la fórmula (2) arriba:*\n",
    "* $\\neg P(0,1,1)\\to \\neg P(1,1,2)$\n",
    "* $\\neg P(2,1,1)\\to \\neg P(1,1,2)$\n",
    "* $\\neg P(1,0,1)\\to \\neg P(1,1,2)$\n",
    "* $\\neg P(2,1,1)\\to \\neg P(1,1,2)$\n",
    "\n",
    "**Nota:** Sobre la otra parte de la información sobre la relación entre los pozos y la brisa, ver ejercicio 7 más abajo."
   ]
  },
  {
   "cell_type": "markdown",
   "metadata": {},
   "source": [
    "**Ejercicio 4:**\n",
    "\n",
    "Escriba un código que genere una lista `formulas_brisa` que contenga todas las implicaciones sobre pozos."
   ]
  },
  {
   "cell_type": "markdown",
   "metadata": {},
   "source": [
    "**Respuesta:**\n",
    "\n",
    "Una posible respuesta es la siguiente:"
   ]
  },
  {
   "cell_type": "code",
   "execution_count": 10,
   "metadata": {},
   "outputs": [
    {
     "name": "stdout",
     "output_type": "stream",
     "text": [
      "['-č>-Ă', '-Ą>-Ă']\n",
      "-Brisa(1, 0)>-Pozo(0, 0)\n",
      "-Brisa(0, 1)>-Pozo(0, 0)\n"
     ]
    }
   ],
   "source": [
    "n = 1\n",
    "formulas_brisa = []\n",
    "for x in range(n):\n",
    "    for y in range(n):\n",
    "        for p in adyacentes((x,y)):\n",
    "            i, j = p\n",
    "            formulas_brisa.append(\"-\" + cods.P(i, j, 1) + \">-\" + cods.P(x, y, 2))\n",
    "\n",
    "print(formulas_brisa)\n",
    "for fml in formulas_brisa:\n",
    "    cods.imprime_formula(fml)\n",
    "    print(\"\")"
   ]
  },
  {
   "cell_type": "markdown",
   "metadata": {},
   "source": [
    "---"
   ]
  },
  {
   "cell_type": "markdown",
   "metadata": {},
   "source": [
    "**Ejercicio 5:**\n",
    "\n",
    "Escriba un código para representar que si en una casilla no hay un pozo, entonces es segura. "
   ]
  },
  {
   "cell_type": "markdown",
   "metadata": {},
   "source": [
    "**Respuesta:**\n",
    "\n",
    "Una posible manera de hacer eso es la siguiente:"
   ]
  },
  {
   "cell_type": "code",
   "execution_count": 11,
   "metadata": {},
   "outputs": [
    {
     "name": "stdout",
     "output_type": "stream",
     "text": [
      "['-č>-Ă', '-Ą>-Ă', '-Ă>Ā']\n",
      "-Brisa(1, 0)>-Pozo(0, 0)\n",
      "-Brisa(0, 1)>-Pozo(0, 0)\n",
      "-Pozo(0, 0)>Segura(0, 0)\n"
     ]
    }
   ],
   "source": [
    "for x in range(n):\n",
    "    for y in range(n):\n",
    "        formulas_brisa.append(\"-\" + cods.P(x, y, 2) + \">\" + cods.P(x, y, 0))\n",
    "\n",
    "print(formulas_brisa)\n",
    "for fml in formulas_brisa:\n",
    "    cods.imprime_formula(fml)\n",
    "    print(\"\")"
   ]
  },
  {
   "cell_type": "markdown",
   "metadata": {},
   "source": [
    "---"
   ]
  },
  {
   "cell_type": "markdown",
   "metadata": {},
   "source": [
    "**Nota 1:** Si desea repasar bien este tipo de codificación y su uso en la implementación de fórmulas de la lógica proposicional, puede consultar el notebook `Codificacion_letras`.\n",
    "\n",
    "**Nota 2:** Ver diapositivas de la sesión 7 sobre fórmulas en forma 'pseudo' cláusulas de Horn y estructura de una base de conocimiento.\n",
    "\n",
    "\n",
    "### Base de conocimiento para el mundo del Wumpus\n",
    "\n",
    "Una base de conocimiento es una estructura sobre la cual se pueden hacer consultas de objetivos. En un momento volveremos sobre el procedimiento usado para las consultas. Por ahora presentaremos la base de conocimiento. Esta tiene dos partes: los datos, que son una lista de literales; y las reglas, que son fórmulas en forma 'pseudo' cláusulas de Horn (ver diapositivas sesión 7). Sobre estas dos partes montaremos una estructura de **problema**, como el que hemos visto en sesiones anteriores, la cual incluye las `acciones_aplicables` (en este caso las `reglas_aplicables`), la `transicion` y el `test_objetivo`."
   ]
  },
  {
   "cell_type": "code",
   "execution_count": 12,
   "metadata": {
    "colab": {},
    "colab_type": "code",
    "id": "p9AyvGbc0dYV"
   },
   "outputs": [],
   "source": [
    "class lp_query:\n",
    "    \n",
    "    def __init__(self, base_conocimiento_lista, cods):\n",
    "   \n",
    "        # Con base en la lista de cláusulas en la base de \n",
    "        # conocimiento, crea un diccionario optimizado para \n",
    "        # la búsqueda\n",
    "        # Input: base_conocimiento_lista, que es una lista de fórmulas 'pseudo' cláusulas de Horn\n",
    "        #        cods, un objeto de clase codigos\n",
    "        self.base_conocimiento = {'datos':[], 'reglas':{}}\n",
    "        for formula in base_conocimiento_lista:\n",
    "            indice_conectivo = formula.find('>')\n",
    "            if indice_conectivo > 0:\n",
    "                cuerpo = formula[:indice_conectivo]\n",
    "                cabeza = formula[indice_conectivo + 1:]\n",
    "                try: \n",
    "                    self.base_conocimiento['reglas'][cabeza].append(cuerpo)        \n",
    "                except:\n",
    "                    self.base_conocimiento['reglas'][cabeza] = [cuerpo]\n",
    "            else:\n",
    "                try:\n",
    "                    if formula not in base.base_conocimiento['datos']:\n",
    "                        base.base_conocimiento['datos'].append(formula)\n",
    "                except:\n",
    "                    self.base_conocimiento['datos'] = [formula]\n",
    "        self.cods = cods\n",
    "    \n",
    "    def visualizar(self):\n",
    "        print(\"Datos:\")\n",
    "        for l in self.base_conocimiento['datos']:\n",
    "            self.cods.imprime_formula(l)\n",
    "            print('')\n",
    "        print(\"\\nReglas:\")\n",
    "        for k in self.base_conocimiento['reglas'].keys():\n",
    "            for c in self.base_conocimiento['reglas'][k]:\n",
    "                self.cods.imprime_formula(c)\n",
    "                print(\">\", end=\"\")\n",
    "                self.cods.imprime_formula(k)\n",
    "                print(\" \")\n",
    "        \n",
    "    def reglas_aplicables(self, head):\n",
    "        # Devuelve una lista de cláusulas de Horn cuya cabeza\n",
    "        # es el estado/literal\n",
    "        # Input: head, que es un literal\n",
    "        # Output: lista de cláusulas de Horn\n",
    "        try: \n",
    "            cuerpo = self.base_conocimiento['reglas'][head]\n",
    "        except:\n",
    "            cuerpo = []\n",
    "\n",
    "        return cuerpo\n",
    "\n",
    "    def transicion(self, head, body):\n",
    "        # Devuelve una lista con los literales en la clausula\n",
    "        # Input: head, que es un literal se asume que head:- body es una regla\n",
    "        #        body, que es una lista de cláusulas de Horn\n",
    "        return body.split('Y')\n",
    "    \n",
    "    def test_objetivo(self, literal):\n",
    "        # Devuelve True/False dependiendo si el literal\n",
    "        # está en la base de datos\n",
    "        # Input: literal\n",
    "        # Output: True/False\n",
    "        literales = self.base_conocimiento['datos']\n",
    "        return True if literal in literales else False"
   ]
  },
  {
   "cell_type": "code",
   "execution_count": 13,
   "metadata": {},
   "outputs": [
    {
     "name": "stdout",
     "output_type": "stream",
     "text": [
      "{'datos': [], 'reglas': {'-Ă': ['-č', '-Ą'], 'Ā': ['-Ă']}}\n",
      "****************\n",
      "Misma base de conocimiento pero más legible:\n",
      "Datos:\n",
      "\n",
      "Reglas:\n",
      "-Brisa(1, 0)>-Pozo(0, 0) \n",
      "-Brisa(0, 1)>-Pozo(0, 0) \n",
      "-Pozo(0, 0)>Segura(0, 0) \n"
     ]
    }
   ],
   "source": [
    "Base_wumpus = lp_query(formulas_brisa, cods)\n",
    "print(Base_wumpus.base_conocimiento)\n",
    "print(\"****************\")\n",
    "print(\"Misma base de conocimiento pero más legible:\")\n",
    "Base_wumpus.visualizar()"
   ]
  },
  {
   "cell_type": "markdown",
   "metadata": {},
   "source": [
    "Definimos una función para actualizar una base de conocimiento con una fórmula:"
   ]
  },
  {
   "cell_type": "code",
   "execution_count": 14,
   "metadata": {},
   "outputs": [],
   "source": [
    "def TELL(base, formula):\n",
    "    indice_conectivo = formula.find('>')\n",
    "    if indice_conectivo > 0:\n",
    "        cuerpo = formula[:indice_conectivo]\n",
    "        cabeza = formula[indice_conectivo + 1:]\n",
    "        try:\n",
    "            if cuerpo not in base.base_conocimiento['reglas'][cabeza]:\n",
    "                base.base_conocimiento['reglas'][cabeza].append(cuerpo)\n",
    "        except:\n",
    "            base.base_conocimiento['reglas'][cabeza] = [cuerpo]\n",
    "    else:\n",
    "        lista_hechos = formula.split('Y')\n",
    "        for literal in lista_hechos:\n",
    "            try:\n",
    "                if literal not in base.base_conocimiento['datos']:\n",
    "                    base.base_conocimiento['datos'].append(literal)\n",
    "            except:\n",
    "                base.base_conocimiento['datos'] = [literal]"
   ]
  },
  {
   "cell_type": "code",
   "execution_count": 18,
   "metadata": {},
   "outputs": [
    {
     "name": "stdout",
     "output_type": "stream",
     "text": [
      "Datos:\n",
      "-Brisa(0, 1)\n",
      "-Brisa(0, 0)\n",
      "\n",
      "Reglas:\n",
      "-Brisa(1, 0)>-Pozo(0, 0) \n",
      "-Brisa(0, 1)>-Pozo(0, 0) \n",
      "-Pozo(0, 0)>Segura(0, 0) \n"
     ]
    }
   ],
   "source": [
    "literal = '-' + cods.P(0,0,1)\n",
    "TELL(Base_wumpus, literal)\n",
    "Base_wumpus.visualizar()"
   ]
  },
  {
   "cell_type": "markdown",
   "metadata": {},
   "source": [
    "### Inferencias y queries\n",
    "\n",
    "Ya estamos casi listos para ayudarle al héroe a determinar si una casilla es segura para transitar o no. Todo lo que debemos hacer es implementar el algoritmo de backward chaining, mediante el cual se construye la función `ASK`."
   ]
  },
  {
   "cell_type": "markdown",
   "metadata": {},
   "source": [
    "**Ejercicio 6:**\n",
    "\n",
    "Implemente la función `ASK` usando el pseudo código de las diapositivas de la sesión 7."
   ]
  },
  {
   "cell_type": "markdown",
   "metadata": {},
   "source": [
    "**Respuesta:**\n",
    "\n",
    "Una posible implementación es al siguiente:"
   ]
  },
  {
   "cell_type": "code",
   "execution_count": 19,
   "metadata": {},
   "outputs": [],
   "source": [
    "def ASK(objetivo, valor:bool, base):\n",
    "    print(\"Se pregunta por: \", end=\"\")\n",
    "    cods.imprime_formula(objetivo)\n",
    "    print(\" es\", valor)\n",
    "    ask = True if (and_or_graph_search(objetivo, base) != 'failure') else False\n",
    "    return (ask == valor)\n",
    "\n",
    "def and_or_graph_search(objetivo, base):\n",
    "    return or_search(objetivo, base, [])\n",
    "\n",
    "def or_search(head, base, camino):\n",
    "    if base.test_objetivo(head):\n",
    "        return 'success'\n",
    "    elif head in camino:\n",
    "        return 'failure'\n",
    "    reglas = base.reglas_aplicables(head)\n",
    "    if not reglas:\n",
    "        return 'failure'\n",
    "    for regla in reglas:\n",
    "        plan = and_search(base.transicion(head, regla), base, [head] + camino)\n",
    "        if plan != 'failure':\n",
    "            return 'success'    \n",
    "    return 'failure'\n",
    "\n",
    "def and_search(literales, base, camino):\n",
    "    for literal in literales:\n",
    "        plan = or_search(literal, base, camino)\n",
    "        if plan == 'failure':\n",
    "            return 'failure'\n",
    "    return 'success'"
   ]
  },
  {
   "cell_type": "code",
   "execution_count": 21,
   "metadata": {},
   "outputs": [
    {
     "name": "stdout",
     "output_type": "stream",
     "text": [
      "Se pregunta por: Segura(0, 0) es True\n"
     ]
    },
    {
     "data": {
      "text/plain": [
       "True"
      ]
     },
     "execution_count": 21,
     "metadata": {},
     "output_type": "execute_result"
    }
   ],
   "source": [
    "# Pruebe su código con el siguiente query\n",
    "ASK(cods.P(0,0,0), True, Base_wumpus) # Debe responder True"
   ]
  },
  {
   "cell_type": "code",
   "execution_count": 23,
   "metadata": {},
   "outputs": [
    {
     "name": "stdout",
     "output_type": "stream",
     "text": [
      "Se pregunta por: -Segura(1, 1) es False\n"
     ]
    },
    {
     "data": {
      "text/plain": [
       "True"
      ]
     },
     "execution_count": 23,
     "metadata": {},
     "output_type": "execute_result"
    }
   ],
   "source": [
    "# Pruebe su código con el siguiente query\n",
    "ASK(\"-\" + cods.P(1,1,0), False, Base_wumpus) # Debe responder True"
   ]
  },
  {
   "cell_type": "markdown",
   "metadata": {},
   "source": [
    "---"
   ]
  },
  {
   "cell_type": "markdown",
   "metadata": {},
   "source": [
    "**Ejercicio 7:**\n",
    "\n",
    "Vuelva a la diapositiva 5 de la sesión 7 y considere nuevamente el razonamiento hecho por el agente para determinar que el Wumpus está en la casilla $(0,2)$. Observe que para lograr hacer esta inferencia se requiere usar la siguiente regla:\n",
    "\n",
    "(1) $Hedor(0,1)\\to\\bigl(Wumpus(0,0)\\vee Wumpus(1,1)\\vee Wumpus(0,2)\\bigr)$\n",
    "\n",
    "Esta fórmula se combina con los datos $\\neg Wumpus(0,0)$ y $\\neg Wumpus(1,1)$ para deducir $Wumpus(0,2)$.\n",
    "\n",
    "Ahora, recuerde que en la base de conocimiento usamos solo fórmulas en forma 'pseudo' cláusulas de Horn, y (1) no está en el formato adecuado. Para poder implementar el razonamiento, es necesario usar las siguientes fórmulas:\n",
    "\n",
    "(2) $\\bigl(Hedor(0,1)\\wedge\\neg Wumpus(0,0)\\wedge\\neg Wumpus(1,1)\\bigr)\\to Wumpus(0,2)$\n",
    "\n",
    "(3) $\\bigl(Hedor(0,1)\\wedge\\neg Wumpus(1,1)\\wedge\\neg Wumpus(0,2)\\bigr)\\to Wumpus(0,0)$\n",
    "\n",
    "(4) $\\bigl(Hedor(0,1)\\wedge\\neg Wumpus(0,0)\\wedge\\neg Wumpus(0,2)\\bigr)\\to Wumpus(1,1)$\n",
    "\n",
    "Implemente las fórmulas (2)-(4) e inclúyalas en la base de conocimiento. Luego incluya solo los datos que se obtienen de las percepciones consideradas en la diapositiva 5 de la sesión 7. Corra la función `ASK` para determinar si el Wumpus está en la casilla $(0,2)$."
   ]
  },
  {
   "cell_type": "markdown",
   "metadata": {},
   "source": [
    "**Respuesta:**\n",
    "\n",
    "Requerimos extender la codificiación inicial a esta:\n",
    "\n",
    "| Información | Número de codificación |\n",
    "| :---: | :---: |\n",
    "| Casilla segura     | 0    |\n",
    "| Casilla con brisa     | 1 |\n",
    "| Casilla con pozo     | 2 |\n",
    "| Casilla con hedor     | 3 |\n",
    "| Casilla con Wumpus     | 4 |\n",
    "\n",
    "También hay que modificar el método `imprime_formula` de la clase codificación para visualizar correctamente la información.\n",
    "\n",
    "Una posible implementación es la siguiente:"
   ]
  },
  {
   "cell_type": "code",
   "execution_count": 24,
   "metadata": {},
   "outputs": [
    {
     "name": "stdout",
     "output_type": "stream",
     "text": [
      "Datos:\n",
      "\n",
      "Reglas:\n",
      "Hedor(0, 1)Y-Wumpus(0, 0)Y-Wumpus(1, 1)>Wumpus(0, 2) \n",
      "Hedor(0, 1)Y-Wumpus(1, 1)Y-Wumpus(0, 2)>Wumpus(0, 0) \n",
      "Hedor(0, 1)Y-Wumpus(0, 0)Y-Wumpus(0, 2)>Wumpus(1, 1) \n"
     ]
    }
   ],
   "source": [
    "cods = codigos(4,4,5) # Observe que se cambia el número de tipos de información a 5\n",
    "formulas = []\n",
    "f2 = cods.P(0,1,3) + \"Y-\" + cods.P(0,0,4) + \"Y-\" + cods.P(1,1,4) + \">\" + cods.P(0,2,4)\n",
    "formulas.append(f2)\n",
    "f3 = cods.P(0,1,3) + \"Y-\" + cods.P(1,1,4) + \"Y-\" + cods.P(0,2,4) + \">\" + cods.P(0,0,4)\n",
    "formulas.append(f3)\n",
    "f4 = cods.P(0,1,3) + \"Y-\" + cods.P(0,0,4) + \"Y-\" + cods.P(0,2,4) + \">\" + cods.P(1,1,4)\n",
    "formulas.append(f4)\n",
    "Base_wumpus = lp_query(formulas, cods)\n",
    "Base_wumpus.visualizar()"
   ]
  },
  {
   "cell_type": "markdown",
   "metadata": {},
   "source": [
    "Se incluyen las fórmulas de Wumpus:"
   ]
  },
  {
   "cell_type": "code",
   "execution_count": 25,
   "metadata": {},
   "outputs": [
    {
     "name": "stdout",
     "output_type": "stream",
     "text": [
      "Datos:\n",
      "\n",
      "Reglas:\n",
      "Hedor(0, 1)Y-Wumpus(0, 0)Y-Wumpus(1, 1)>Wumpus(0, 2) \n",
      "Hedor(0, 1)Y-Wumpus(1, 1)Y-Wumpus(0, 2)>Wumpus(0, 0) \n",
      "Hedor(0, 1)Y-Wumpus(0, 0)Y-Wumpus(0, 2)>Wumpus(1, 1) \n",
      "-Hedor(1, 0)>-Wumpus(0, 0) \n",
      "-Hedor(0, 1)>-Wumpus(0, 0) \n",
      "-Hedor(1, 1)>-Wumpus(0, 1) \n",
      "-Hedor(0, 0)>-Wumpus(0, 1) \n",
      "-Hedor(0, 2)>-Wumpus(0, 1) \n",
      "-Hedor(0, 0)>-Wumpus(1, 0) \n",
      "-Hedor(2, 0)>-Wumpus(1, 0) \n",
      "-Hedor(1, 1)>-Wumpus(1, 0) \n",
      "-Hedor(0, 1)>-Wumpus(1, 1) \n",
      "-Hedor(2, 1)>-Wumpus(1, 1) \n",
      "-Hedor(1, 0)>-Wumpus(1, 1) \n",
      "-Hedor(1, 2)>-Wumpus(1, 1) \n"
     ]
    }
   ],
   "source": [
    "n = 2\n",
    "formulas_wumpus = []\n",
    "for x in range(n):\n",
    "    for y in range(n):\n",
    "        for p in adyacentes((x,y)):\n",
    "            i, j = p\n",
    "            formulas_wumpus.append(\"-\" + cods.P(i, j, 3) + \">-\" + cods.P(x, y, 4))\n",
    "\n",
    "Base_wumpus = lp_query(formulas + formulas_wumpus, cods)\n",
    "Base_wumpus.visualizar()"
   ]
  },
  {
   "cell_type": "markdown",
   "metadata": {},
   "source": [
    "Se incluyen los hechos:"
   ]
  },
  {
   "cell_type": "code",
   "execution_count": 26,
   "metadata": {},
   "outputs": [
    {
     "name": "stdout",
     "output_type": "stream",
     "text": [
      "Datos:\n",
      "-Brisa(0, 0)\n",
      "-Pozo(0, 0)\n",
      "-Hedor(0, 0)\n",
      "Brisa(1, 0)\n",
      "-Pozo(1, 0)\n",
      "-Hedor(1, 0)\n",
      "-Brisa(0, 1)\n",
      "-Pozo(0, 1)\n",
      "Hedor(0, 1)\n",
      "\n",
      "Reglas:\n",
      "Hedor(0, 1)Y-Wumpus(0, 0)Y-Wumpus(1, 1)>Wumpus(0, 2) \n",
      "Hedor(0, 1)Y-Wumpus(1, 1)Y-Wumpus(0, 2)>Wumpus(0, 0) \n",
      "Hedor(0, 1)Y-Wumpus(0, 0)Y-Wumpus(0, 2)>Wumpus(1, 1) \n",
      "-Hedor(1, 0)>-Wumpus(0, 0) \n",
      "-Hedor(0, 1)>-Wumpus(0, 0) \n",
      "-Hedor(1, 1)>-Wumpus(0, 1) \n",
      "-Hedor(0, 0)>-Wumpus(0, 1) \n",
      "-Hedor(0, 2)>-Wumpus(0, 1) \n",
      "-Hedor(0, 0)>-Wumpus(1, 0) \n",
      "-Hedor(2, 0)>-Wumpus(1, 0) \n",
      "-Hedor(1, 1)>-Wumpus(1, 0) \n",
      "-Hedor(0, 1)>-Wumpus(1, 1) \n",
      "-Hedor(2, 1)>-Wumpus(1, 1) \n",
      "-Hedor(1, 0)>-Wumpus(1, 1) \n",
      "-Hedor(1, 2)>-Wumpus(1, 1) \n"
     ]
    }
   ],
   "source": [
    "# Datos sobre la casilla inicial\n",
    "TELL(Base_wumpus, \"-\" + cods.P(0,0,1))\n",
    "TELL(Base_wumpus, \"-\" + cods.P(0,0,2))\n",
    "TELL(Base_wumpus, \"-\" + cods.P(0,0,3))\n",
    "# Datos sobre la casilla (1,0)\n",
    "TELL(Base_wumpus, cods.P(1,0,1))\n",
    "TELL(Base_wumpus, \"-\" + cods.P(1,0,2))\n",
    "TELL(Base_wumpus, \"-\" + cods.P(1,0,3))\n",
    "# Datos sobre la casilla (0,1)\n",
    "TELL(Base_wumpus, \"-\" + cods.P(0,1,1))\n",
    "TELL(Base_wumpus, \"-\" + cods.P(0,1,2))\n",
    "TELL(Base_wumpus, cods.P(0,1,3))\n",
    "Base_wumpus.visualizar()"
   ]
  },
  {
   "cell_type": "code",
   "execution_count": 27,
   "metadata": {},
   "outputs": [
    {
     "name": "stdout",
     "output_type": "stream",
     "text": [
      "Se pregunta por: Wumpus(0, 2) es True\n"
     ]
    },
    {
     "data": {
      "text/plain": [
       "True"
      ]
     },
     "execution_count": 27,
     "metadata": {},
     "output_type": "execute_result"
    }
   ],
   "source": [
    "ASK(cods.P(0,2,4), True, Base_wumpus)"
   ]
  },
  {
   "cell_type": "markdown",
   "metadata": {},
   "source": [
    "---"
   ]
  },
  {
   "cell_type": "markdown",
   "metadata": {},
   "source": [
    "### En este notebook usted aprendió\n",
    "\n",
    "* El mundo del Wumpus.\n",
    "* Uso de la lógica proposicional para representar conocimiento.\n",
    "* Estructura de una base de conocimiento.\n",
    "* Resolver queries mediante backward chaining sobre pseudo cláusulas de Horn."
   ]
  }
 ],
 "metadata": {
  "colab": {
   "name": "arboles_busqueda.ipynb",
   "provenance": []
  },
  "kernelspec": {
   "display_name": "Python 3",
   "language": "python",
   "name": "python3"
  },
  "language_info": {
   "codemirror_mode": {
    "name": "ipython",
    "version": 3
   },
   "file_extension": ".py",
   "mimetype": "text/x-python",
   "name": "python",
   "nbconvert_exporter": "python",
   "pygments_lexer": "ipython3",
   "version": "3.8.3"
  }
 },
 "nbformat": 4,
 "nbformat_minor": 1
}
